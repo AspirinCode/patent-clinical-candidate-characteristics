{
 "cells": [
  {
   "cell_type": "markdown",
   "id": "fdcade73",
   "metadata": {},
   "source": [
    "# Import modules"
   ]
  },
  {
   "cell_type": "code",
   "execution_count": null,
   "id": "a4f92715",
   "metadata": {},
   "outputs": [],
   "source": [
    "import pandas as pd\n",
    "from tqdm import tqdm\n",
    "\n",
    "from sklearn.manifold import TSNE\n",
    "\n",
    "import seaborn as sns\n",
    "import matplotlib.pyplot as plt\n",
    "\n",
    "from rdkit.Chem import MolFromSmiles\n",
    "from rdkit.Chem.rdMolDescriptors import GetMorganFingerprintAsBitVect\n",
    "tqdm.pandas()"
   ]
  },
  {
   "cell_type": "code",
   "execution_count": null,
   "id": "d3e6ef29",
   "metadata": {},
   "outputs": [],
   "source": [
    "surechem_df = pd.read_csv('data/EDA_df.txt.gz', sep='\\t', compression='gzip')\n",
    "surechem_df.drop_duplicates(subset=['InChIKey'], inplace=True)\n",
    "surechem_df.head(2)"
   ]
  },
  {
   "cell_type": "markdown",
   "id": "09ad6807",
   "metadata": {},
   "source": [
    "# Load surechembl data"
   ]
  },
  {
   "cell_type": "code",
   "execution_count": null,
   "id": "16d4499f",
   "metadata": {},
   "outputs": [],
   "source": [
    "# Subset the data to only approved patents\n",
    "surechem_df = surechem_df[surechem_df['PATENT_ID'].str.contains('B')]\n",
    "smiles_df = pd.DataFrame(surechem_df['SMILES'].unique(), columns=['SMILES'])\n",
    "smiles_df['label'] = 'Patented drugs'\n",
    "smiles_df.head(2)"
   ]
  },
  {
   "cell_type": "markdown",
   "id": "068ec112",
   "metadata": {},
   "source": [
    "# Load approved drugbank data"
   ]
  },
  {
   "cell_type": "code",
   "execution_count": null,
   "id": "20e52a9c",
   "metadata": {},
   "outputs": [],
   "source": [
    "approved_drugs_df = pd.read_csv(\n",
    "    'data/drugbank_approved_structure_links.csv.zip', compression='zip',\n",
    "    usecols=['SMILES']\n",
    ")\n",
    "approved_drugs_df['label'] = 'Approved drugs'\n",
    "approved_drugs_df.drop_duplicates(inplace=True)\n",
    "approved_drugs_df.head(2)"
   ]
  },
  {
   "cell_type": "markdown",
   "id": "f3752f19",
   "metadata": {},
   "source": [
    "# Load withdrawn drugbank data"
   ]
  },
  {
   "cell_type": "code",
   "execution_count": null,
   "id": "23c583ef",
   "metadata": {},
   "outputs": [],
   "source": [
    "withdrawn_drugs_df = pd.read_csv(\n",
    "    'data/drugbank_withdrawn_structure_links.csv.zip', compression='zip',\n",
    "    usecols=['SMILES']\n",
    ")\n",
    "withdrawn_drugs_df['label'] = 'Withdrawn drugs'\n",
    "withdrawn_drugs_df.drop_duplicates(inplace=True)\n",
    "withdrawn_drugs_df.head(2)"
   ]
  },
  {
   "cell_type": "markdown",
   "id": "ab99c1f3",
   "metadata": {},
   "source": [
    "# Merge the two data sources"
   ]
  },
  {
   "cell_type": "code",
   "execution_count": null,
   "id": "a3f3ef2a",
   "metadata": {},
   "outputs": [],
   "source": [
    "combined_df = pd.concat(\n",
    "    [smiles_df, approved_drugs_df, withdrawn_drugs_df], \n",
    "    ignore_index=True\n",
    ")\n",
    "combined_df.drop_duplicates(subset=['SMILES'], inplace=True)\n",
    "combined_df.head(2)"
   ]
  },
  {
   "cell_type": "code",
   "execution_count": null,
   "id": "1407a65b",
   "metadata": {},
   "outputs": [],
   "source": [
    "combined_df['label'].value_counts()"
   ]
  },
  {
   "cell_type": "markdown",
   "id": "bb05eade",
   "metadata": {},
   "source": [
    "# Get ECFP4 fingerprints for the compounds"
   ]
  },
  {
   "cell_type": "code",
   "execution_count": null,
   "id": "457247d5",
   "metadata": {
    "scrolled": true
   },
   "outputs": [],
   "source": [
    "skipped_smiles = 0\n",
    "\n",
    "fingerprint_list = []\n",
    "fingerprint_labels = []\n",
    "\n",
    "for smiles, label in tqdm(combined_df.values):\n",
    "    try:\n",
    "        molecule = MolFromSmiles(smiles)\n",
    "        if molecule is None:\n",
    "            skipped_smiles += 1\n",
    "            continue\n",
    "        \n",
    "        fingerprint_list.append(GetMorganFingerprintAsBitVect(molecule, 4))\n",
    "        fingerprint_labels.append(label)\n",
    "        \n",
    "    except:\n",
    "        skipped_smiles += 1\n",
    "        continue"
   ]
  },
  {
   "cell_type": "code",
   "execution_count": null,
   "id": "15251703",
   "metadata": {},
   "outputs": [],
   "source": [
    "skipped_smiles, len(fingerprint_list)"
   ]
  },
  {
   "cell_type": "code",
   "execution_count": null,
   "id": "58de16aa",
   "metadata": {},
   "outputs": [],
   "source": [
    "fingerprint_df = pd.DataFrame()\n",
    "fingerprint_df['fingerprint'] = fingerprint_list\n",
    "fingerprint_df['label'] = fingerprint_labels\n",
    "fingerprint_df.head(2)"
   ]
  },
  {
   "cell_type": "markdown",
   "id": "c8c02c17",
   "metadata": {},
   "source": [
    "# Visualize using tSNE plot"
   ]
  },
  {
   "cell_type": "raw",
   "id": "206ceca3",
   "metadata": {},
   "source": [
    "fingerprint = fingerprint_df['fingerprint'].values.tolist()"
   ]
  },
  {
   "cell_type": "raw",
   "id": "4784c8dc",
   "metadata": {},
   "source": [
    "fingerprints =[[x] for x in fingerprint]"
   ]
  },
  {
   "cell_type": "code",
   "execution_count": null,
   "id": "064786ea",
   "metadata": {},
   "outputs": [],
   "source": [
    "fingerprints_array = numpy.array(fingerprints)"
   ]
  },
  {
   "cell_type": "raw",
   "id": "2192017b",
   "metadata": {},
   "source": [
    "# Sklearn TSNE model\n",
    "model = TSNE(verbose=1, n_components=2, random_state=0, perplexity=30, n_iter=250)\n",
    "tsne_result = model.fit_transform(fingerprints)"
   ]
  },
  {
   "cell_type": "raw",
   "id": "fc451c75",
   "metadata": {},
   "source": [
    "tsne_df = pd.DataFrame()\n",
    "tsne_df['TSNE_C1'] = tsne_result.T[0]\n",
    "tsne_df['TSNE_C2'] = tsne_result.T[1]\n",
    "tsne_df['label'] = fingerprint_labels"
   ]
  },
  {
   "cell_type": "raw",
   "id": "c9626d11",
   "metadata": {},
   "source": [
    "sns.scatterplot(\n",
    "    data=tsne_df,\n",
    "    x='TSNE_C1'\n",
    "    y='TSNE_C2',\n",
    "    s=22, \n",
    "    hue='label',\n",
    "    linewidth=0.2,\n",
    "    alpha=1\n",
    ")\n",
    "plt.set_xlabel('TSNE Component 1')\n",
    "plt.set_ylabel('TSNE Component 2')\n",
    "\n",
    "lim = (tsne_df.min()-5, tsne_result.max()+5)\n",
    "\n",
    "plt.set_xlim(lim)\n",
    "plt.set_ylim(lim)\n",
    "plt.set_aspect('equal')\n",
    "plt.legend(bbox_to_anchor=(1.05, 1), loc=2, borderaxespad=0.0)\n",
    "plt.show()"
   ]
  }
 ],
 "metadata": {
  "kernelspec": {
   "display_name": "Python 3 (ipykernel)",
   "language": "python",
   "name": "python3"
  },
  "language_info": {
   "codemirror_mode": {
    "name": "ipython",
    "version": 3
   },
   "file_extension": ".py",
   "mimetype": "text/x-python",
   "name": "python",
   "nbconvert_exporter": "python",
   "pygments_lexer": "ipython3",
   "version": "3.9.13"
  }
 },
 "nbformat": 4,
 "nbformat_minor": 5
}
