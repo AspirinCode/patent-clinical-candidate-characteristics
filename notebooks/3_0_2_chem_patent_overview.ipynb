{
 "cells": [
  {
   "attachments": {},
   "cell_type": "markdown",
   "metadata": {},
   "source": [
    "# Chemical-patent distribution plot"
   ]
  },
  {
   "cell_type": "code",
   "execution_count": 1,
   "metadata": {},
   "outputs": [],
   "source": [
    "import os\n",
    "import pandas as pd\n",
    "from tqdm import tqdm\n",
    "from collections import defaultdict\n",
    "\n",
    "tqdm.pandas()"
   ]
  },
  {
   "attachments": {},
   "cell_type": "markdown",
   "metadata": {},
   "source": [
    "# Add path constants"
   ]
  },
  {
   "cell_type": "code",
   "execution_count": 2,
   "metadata": {},
   "outputs": [],
   "source": [
    "FIG_DIR = \"../data/figures\"\n",
    "DATA_DIR = \"../data/raw\"\n",
    "os.makedirs(FIG_DIR, exist_ok=True)"
   ]
  },
  {
   "attachments": {},
   "cell_type": "markdown",
   "metadata": {},
   "source": [
    "# Load data file"
   ]
  },
  {
   "cell_type": "code",
   "execution_count": 3,
   "metadata": {},
   "outputs": [
    {
     "data": {
      "text/html": [
       "<div>\n",
       "<style scoped>\n",
       "    .dataframe tbody tr th:only-of-type {\n",
       "        vertical-align: middle;\n",
       "    }\n",
       "\n",
       "    .dataframe tbody tr th {\n",
       "        vertical-align: top;\n",
       "    }\n",
       "\n",
       "    .dataframe thead th {\n",
       "        text-align: right;\n",
       "    }\n",
       "</style>\n",
       "<table border=\"1\" class=\"dataframe\">\n",
       "  <thead>\n",
       "    <tr style=\"text-align: right;\">\n",
       "      <th></th>\n",
       "      <th>SureChEMBL_ID</th>\n",
       "      <th>SMILES</th>\n",
       "      <th>InChIKey</th>\n",
       "      <th>PATENT_ID</th>\n",
       "      <th>PUBLICATION_DATE</th>\n",
       "      <th>Field</th>\n",
       "    </tr>\n",
       "  </thead>\n",
       "  <tbody>\n",
       "    <tr>\n",
       "      <th>0</th>\n",
       "      <td>SCHEMBL4</td>\n",
       "      <td>C[C@H](CS)C(=O)N1CCC[C@H]1C(O)=O</td>\n",
       "      <td>FAKRSMQSSFJEIM-RQJHMYQMSA-N</td>\n",
       "      <td>EP-2842582-A2</td>\n",
       "      <td>2015-03-04</td>\n",
       "      <td>Description</td>\n",
       "    </tr>\n",
       "    <tr>\n",
       "      <th>1</th>\n",
       "      <td>SCHEMBL4</td>\n",
       "      <td>C[C@H](CS)C(=O)N1CCC[C@H]1C(O)=O</td>\n",
       "      <td>FAKRSMQSSFJEIM-RQJHMYQMSA-N</td>\n",
       "      <td>EP-2838373-A2</td>\n",
       "      <td>2015-02-25</td>\n",
       "      <td>Description</td>\n",
       "    </tr>\n",
       "  </tbody>\n",
       "</table>\n",
       "</div>"
      ],
      "text/plain": [
       "  SureChEMBL_ID                            SMILES  \\\n",
       "0      SCHEMBL4  C[C@H](CS)C(=O)N1CCC[C@H]1C(O)=O   \n",
       "1      SCHEMBL4  C[C@H](CS)C(=O)N1CCC[C@H]1C(O)=O   \n",
       "\n",
       "                      InChIKey      PATENT_ID PUBLICATION_DATE        Field  \n",
       "0  FAKRSMQSSFJEIM-RQJHMYQMSA-N  EP-2842582-A2       2015-03-04  Description  \n",
       "1  FAKRSMQSSFJEIM-RQJHMYQMSA-N  EP-2838373-A2       2015-02-25  Description  "
      ]
     },
     "execution_count": 3,
     "metadata": {},
     "output_type": "execute_result"
    }
   ],
   "source": [
    "df = pd.read_parquet(f\"{DATA_DIR}/surechembl_dump.pq\")\n",
    "df.head(2)"
   ]
  },
  {
   "attachments": {},
   "cell_type": "markdown",
   "metadata": {},
   "source": [
    "# Create chemical-patent counters"
   ]
  },
  {
   "cell_type": "code",
   "execution_count": 4,
   "metadata": {},
   "outputs": [
    {
     "name": "stderr",
     "output_type": "stream",
     "text": [
      "100%|██████████| 133512452/133512452 [04:37<00:00, 480945.14it/s]\n"
     ]
    },
    {
     "data": {
      "text/plain": [
       "10686744"
      ]
     },
     "execution_count": 4,
     "metadata": {},
     "output_type": "execute_result"
    }
   ],
   "source": [
    "chemical_counter = defaultdict(set)\n",
    "\n",
    "for chem_idx, patent_id in tqdm(df[[\"InChIKey\", \"PATENT_ID\"]].values):\n",
    "    chemical_counter[chem_idx].add(patent_id)\n",
    "\n",
    "len(chemical_counter)"
   ]
  },
  {
   "cell_type": "code",
   "execution_count": 5,
   "metadata": {},
   "outputs": [
    {
     "name": "stderr",
     "output_type": "stream",
     "text": [
      "100%|██████████| 133512452/133512452 [04:38<00:00, 479438.72it/s]\n"
     ]
    },
    {
     "data": {
      "text/plain": [
       "10718652"
      ]
     },
     "execution_count": 5,
     "metadata": {},
     "output_type": "execute_result"
    }
   ],
   "source": [
    "schembl_chemical_counter = defaultdict(set)\n",
    "\n",
    "for chem_idx, patent_id in tqdm(df[[\"SureChEMBL_ID\", \"PATENT_ID\"]].values):\n",
    "    schembl_chemical_counter[chem_idx].add(patent_id)\n",
    "\n",
    "len(schembl_chemical_counter)"
   ]
  },
  {
   "cell_type": "code",
   "execution_count": 6,
   "metadata": {},
   "outputs": [
    {
     "name": "stderr",
     "output_type": "stream",
     "text": [
      "100%|██████████| 10686744/10686744 [00:18<00:00, 582967.99it/s]\n"
     ]
    }
   ],
   "source": [
    "chem_pat_counts = {\n",
    "    \"< 5\": 0,\n",
    "    \"10 - 50\": 0,\n",
    "    \"50 - 100\": 0,\n",
    "    \"100 - 500\": 0,\n",
    "    \"500 - 1000\": 0,\n",
    "    \"> 1000\": 0,\n",
    "}\n",
    "\n",
    "for chem_idx, patent_ids in tqdm(chemical_counter.items()):\n",
    "    if len(patent_ids) > 1000:\n",
    "        chem_pat_counts[\"> 1000\"] += 1\n",
    "    elif len(patent_ids) > 500:\n",
    "        chem_pat_counts[\"500 - 1000\"] += 1\n",
    "    elif len(patent_ids) > 100:\n",
    "        chem_pat_counts[\"100 - 500\"] += 1\n",
    "    elif len(patent_ids) > 50:\n",
    "        chem_pat_counts[\"50 - 100\"] += 1\n",
    "    elif len(patent_ids) > 10:\n",
    "        chem_pat_counts[\"10 - 50\"] += 1\n",
    "    else:\n",
    "        chem_pat_counts[\"< 5\"] += 1"
   ]
  },
  {
   "cell_type": "code",
   "execution_count": 8,
   "metadata": {},
   "outputs": [
    {
     "data": {
      "text/html": [
       "<div>\n",
       "<style scoped>\n",
       "    .dataframe tbody tr th:only-of-type {\n",
       "        vertical-align: middle;\n",
       "    }\n",
       "\n",
       "    .dataframe tbody tr th {\n",
       "        vertical-align: top;\n",
       "    }\n",
       "\n",
       "    .dataframe thead th {\n",
       "        text-align: right;\n",
       "    }\n",
       "</style>\n",
       "<table border=\"1\" class=\"dataframe\">\n",
       "  <thead>\n",
       "    <tr style=\"text-align: right;\">\n",
       "      <th></th>\n",
       "      <th>patents</th>\n",
       "      <th>count</th>\n",
       "    </tr>\n",
       "  </thead>\n",
       "  <tbody>\n",
       "    <tr>\n",
       "      <th>0</th>\n",
       "      <td>&lt; 5</td>\n",
       "      <td>10148500</td>\n",
       "    </tr>\n",
       "    <tr>\n",
       "      <th>1</th>\n",
       "      <td>10 - 50</td>\n",
       "      <td>445227</td>\n",
       "    </tr>\n",
       "    <tr>\n",
       "      <th>2</th>\n",
       "      <td>50 - 100</td>\n",
       "      <td>37247</td>\n",
       "    </tr>\n",
       "    <tr>\n",
       "      <th>3</th>\n",
       "      <td>100 - 500</td>\n",
       "      <td>37157</td>\n",
       "    </tr>\n",
       "    <tr>\n",
       "      <th>4</th>\n",
       "      <td>500 - 1000</td>\n",
       "      <td>7000</td>\n",
       "    </tr>\n",
       "    <tr>\n",
       "      <th>5</th>\n",
       "      <td>&gt; 1000</td>\n",
       "      <td>11613</td>\n",
       "    </tr>\n",
       "  </tbody>\n",
       "</table>\n",
       "</div>"
      ],
      "text/plain": [
       "      patents     count\n",
       "0         < 5  10148500\n",
       "1     10 - 50    445227\n",
       "2    50 - 100     37247\n",
       "3   100 - 500     37157\n",
       "4  500 - 1000      7000\n",
       "5      > 1000     11613"
      ]
     },
     "execution_count": 8,
     "metadata": {},
     "output_type": "execute_result"
    }
   ],
   "source": [
    "count_df = pd.DataFrame.from_dict(chem_pat_counts, orient=\"index\", columns=[\"count\"])\n",
    "count_df.reset_index(inplace=True)\n",
    "count_df.rename(columns={\"index\": \"patents\"}, inplace=True)\n",
    "count_df"
   ]
  },
  {
   "cell_type": "code",
   "execution_count": 9,
   "metadata": {},
   "outputs": [
    {
     "data": {
      "text/plain": [
       "10686744"
      ]
     },
     "execution_count": 9,
     "metadata": {},
     "output_type": "execute_result"
    }
   ],
   "source": [
    "count_df[\"count\"].sum()"
   ]
  },
  {
   "attachments": {},
   "cell_type": "markdown",
   "metadata": {},
   "source": [
    "# Get information on patent countries"
   ]
  },
  {
   "cell_type": "code",
   "execution_count": 10,
   "metadata": {},
   "outputs": [],
   "source": [
    "filtered_df = df.drop_duplicates(subset=[\"InChIKey\", \"PATENT_ID\"])"
   ]
  },
  {
   "cell_type": "code",
   "execution_count": 11,
   "metadata": {},
   "outputs": [
    {
     "name": "stderr",
     "output_type": "stream",
     "text": [
      "100%|██████████| 115511729/115511729 [03:17<00:00, 583689.51it/s]\n"
     ]
    }
   ],
   "source": [
    "pd.options.mode.chained_assignment = None  # default='warn'\n",
    "filtered_df[\"country\"] = filtered_df[\"PATENT_ID\"].progress_apply(\n",
    "    lambda x: x.split(\"-\")[0]\n",
    ")"
   ]
  },
  {
   "cell_type": "code",
   "execution_count": 12,
   "metadata": {},
   "outputs": [
    {
     "name": "stdout",
     "output_type": "stream",
     "text": [
      "US: 57.29%\n",
      "EP: 26.58%\n",
      "WO: 16.12%\n",
      "JP: 0.00%\n"
     ]
    }
   ],
   "source": [
    "total = sum(filtered_df[\"country\"].value_counts())\n",
    "\n",
    "for country, count in filtered_df[\"country\"].value_counts().items():\n",
    "    print(f\"{country}: {count / total * 100:.2f}%\")"
   ]
  },
  {
   "cell_type": "code",
   "execution_count": 13,
   "metadata": {},
   "outputs": [
    {
     "name": "stderr",
     "output_type": "stream",
     "text": [
      "100%|██████████| 115511729/115511729 [04:04<00:00, 472739.34it/s]\n"
     ]
    }
   ],
   "source": [
    "filtered_df[\"country_pattype\"] = filtered_df[\"PATENT_ID\"].progress_apply(\n",
    "    lambda x: f\"{x.split('-')[0]}-{x.split('-')[-1]}\"\n",
    ")"
   ]
  },
  {
   "cell_type": "code",
   "execution_count": 14,
   "metadata": {},
   "outputs": [
    {
     "name": "stderr",
     "output_type": "stream",
     "text": [
      "100%|██████████| 115511729/115511729 [02:49<00:00, 681567.03it/s]\n"
     ]
    }
   ],
   "source": [
    "filtered_df[\"country_pattype_2\"] = filtered_df[\"country_pattype\"].progress_apply(\n",
    "    lambda x: x[:-1]\n",
    ")"
   ]
  },
  {
   "cell_type": "code",
   "execution_count": 15,
   "metadata": {},
   "outputs": [
    {
     "name": "stdout",
     "output_type": "stream",
     "text": [
      "US-A: 33.59%\n",
      "US-B: 23.64%\n",
      "WO-A: 16.12%\n",
      "EP-A: 15.59%\n",
      "EP-B: 10.99%\n",
      "US-E: 0.06%\n",
      "US-P: 0.00%\n",
      "JP-: 0.00%\n",
      "JP-A: 0.00%\n",
      "JP-B: 0.00%\n",
      "US-S: 0.00%\n"
     ]
    }
   ],
   "source": [
    "total = sum(filtered_df[\"country_pattype_2\"].value_counts())\n",
    "\n",
    "for country, count in filtered_df[\"country_pattype_2\"].value_counts().items():\n",
    "    print(f\"{country}: {count / total * 100:.2f}%\")"
   ]
  },
  {
   "cell_type": "code",
   "execution_count": null,
   "metadata": {},
   "outputs": [],
   "source": []
  }
 ],
 "metadata": {
  "kernelspec": {
   "display_name": "patent_kg",
   "language": "python",
   "name": "patent_kg"
  },
  "language_info": {
   "codemirror_mode": {
    "name": "ipython",
    "version": 3
   },
   "file_extension": ".py",
   "mimetype": "text/x-python",
   "name": "python",
   "nbconvert_exporter": "python",
   "pygments_lexer": "ipython3",
   "version": "3.9.16"
  },
  "orig_nbformat": 4
 },
 "nbformat": 4,
 "nbformat_minor": 2
}
