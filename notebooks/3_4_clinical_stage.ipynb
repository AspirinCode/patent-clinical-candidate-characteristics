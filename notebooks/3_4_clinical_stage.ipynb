{
 "cells": [
  {
   "cell_type": "markdown",
   "id": "51aa653a",
   "metadata": {},
   "source": [
    "# Clinical annotation for compounds found in patents\n",
    "This notebook shows the overview on the FDA annotations for the compounds found in patents using DrugBank and clinical reserach annotation from ChEMBL"
   ]
  },
  {
   "cell_type": "markdown",
   "id": "d2ad2d03",
   "metadata": {},
   "source": [
    "# Import Modules"
   ]
  },
  {
   "cell_type": "code",
   "execution_count": 1,
   "id": "51883005",
   "metadata": {},
   "outputs": [],
   "source": [
    "import pandas as pd\n",
    "import numpy as np\n",
    "import string\n",
    "import seaborn as sns\n",
    "import matplotlib.pyplot as plt\n",
    "from matplotlib_venn import venn3_unweighted"
   ]
  },
  {
   "cell_type": "markdown",
   "id": "ea8d326f",
   "metadata": {},
   "source": [
    "# Load data file"
   ]
  },
  {
   "cell_type": "code",
   "execution_count": 2,
   "id": "693d39fb",
   "metadata": {},
   "outputs": [],
   "source": [
    "DATA_DIR = '../data/raw'\n",
    "PROCESSED_DIR = '../data/processed/'\n",
    "FIGURE_DIR = '../data/figures'"
   ]
  },
  {
   "cell_type": "code",
   "execution_count": 3,
   "id": "5eeb732e",
   "metadata": {},
   "outputs": [
    {
     "data": {
      "text/html": [
       "<div>\n",
       "<style scoped>\n",
       "    .dataframe tbody tr th:only-of-type {\n",
       "        vertical-align: middle;\n",
       "    }\n",
       "\n",
       "    .dataframe tbody tr th {\n",
       "        vertical-align: top;\n",
       "    }\n",
       "\n",
       "    .dataframe thead th {\n",
       "        text-align: right;\n",
       "    }\n",
       "</style>\n",
       "<table border=\"1\" class=\"dataframe\">\n",
       "  <thead>\n",
       "    <tr style=\"text-align: right;\">\n",
       "      <th></th>\n",
       "      <th>SureChEMBL_ID</th>\n",
       "      <th>SMILES</th>\n",
       "      <th>InChIKey</th>\n",
       "      <th>PATENT_ID</th>\n",
       "      <th>PUBLICATION_DATE</th>\n",
       "      <th>Field</th>\n",
       "    </tr>\n",
       "  </thead>\n",
       "  <tbody>\n",
       "    <tr>\n",
       "      <th>0</th>\n",
       "      <td>SCHEMBL4</td>\n",
       "      <td>C[C@H](CS)C(=O)N1CCC[C@H]1C(O)=O</td>\n",
       "      <td>FAKRSMQSSFJEIM-RQJHMYQMSA-N</td>\n",
       "      <td>EP-2842582-A2</td>\n",
       "      <td>2015-03-04</td>\n",
       "      <td>Description</td>\n",
       "    </tr>\n",
       "    <tr>\n",
       "      <th>1</th>\n",
       "      <td>SCHEMBL4</td>\n",
       "      <td>C[C@H](CS)C(=O)N1CCC[C@H]1C(O)=O</td>\n",
       "      <td>FAKRSMQSSFJEIM-RQJHMYQMSA-N</td>\n",
       "      <td>EP-2838373-A2</td>\n",
       "      <td>2015-02-25</td>\n",
       "      <td>Description</td>\n",
       "    </tr>\n",
       "  </tbody>\n",
       "</table>\n",
       "</div>"
      ],
      "text/plain": [
       "  SureChEMBL_ID                            SMILES  \\\n",
       "0      SCHEMBL4  C[C@H](CS)C(=O)N1CCC[C@H]1C(O)=O   \n",
       "1      SCHEMBL4  C[C@H](CS)C(=O)N1CCC[C@H]1C(O)=O   \n",
       "\n",
       "                      InChIKey      PATENT_ID PUBLICATION_DATE        Field  \n",
       "0  FAKRSMQSSFJEIM-RQJHMYQMSA-N  EP-2842582-A2       2015-03-04  Description  \n",
       "1  FAKRSMQSSFJEIM-RQJHMYQMSA-N  EP-2838373-A2       2015-02-25  Description  "
      ]
     },
     "execution_count": 3,
     "metadata": {},
     "output_type": "execute_result"
    }
   ],
   "source": [
    "surechembl_df = pd.read_parquet(f'{DATA_DIR}/surechembl_dump.pq')\n",
    "surechembl_df.head(2)"
   ]
  },
  {
   "cell_type": "code",
   "execution_count": 4,
   "id": "023d8788",
   "metadata": {},
   "outputs": [
    {
     "data": {
      "text/plain": [
       "10686744"
      ]
     },
     "execution_count": 4,
     "metadata": {},
     "output_type": "execute_result"
    }
   ],
   "source": [
    "patent_cmps = set(surechembl_df['InChIKey'].unique())\n",
    "len(patent_cmps)"
   ]
  },
  {
   "cell_type": "code",
   "execution_count": 5,
   "id": "183481b0",
   "metadata": {},
   "outputs": [
    {
     "data": {
      "text/html": [
       "<div>\n",
       "<style scoped>\n",
       "    .dataframe tbody tr th:only-of-type {\n",
       "        vertical-align: middle;\n",
       "    }\n",
       "\n",
       "    .dataframe tbody tr th {\n",
       "        vertical-align: top;\n",
       "    }\n",
       "\n",
       "    .dataframe thead th {\n",
       "        text-align: right;\n",
       "    }\n",
       "</style>\n",
       "<table border=\"1\" class=\"dataframe\">\n",
       "  <thead>\n",
       "    <tr style=\"text-align: right;\">\n",
       "      <th></th>\n",
       "      <th>DrugBank ID</th>\n",
       "      <th>Name</th>\n",
       "      <th>InChIKey</th>\n",
       "    </tr>\n",
       "  </thead>\n",
       "  <tbody>\n",
       "    <tr>\n",
       "      <th>0</th>\n",
       "      <td>DB00106</td>\n",
       "      <td>Abarelix</td>\n",
       "      <td>AIWRTTMUVOZGPW-HSPKUQOVSA-N</td>\n",
       "    </tr>\n",
       "    <tr>\n",
       "      <th>1</th>\n",
       "      <td>DB00131</td>\n",
       "      <td>Adenosine phosphate</td>\n",
       "      <td>UDMBCSSLTHHNCD-KQYNXXCUSA-N</td>\n",
       "    </tr>\n",
       "  </tbody>\n",
       "</table>\n",
       "</div>"
      ],
      "text/plain": [
       "  DrugBank ID                 Name                     InChIKey\n",
       "0     DB00106             Abarelix  AIWRTTMUVOZGPW-HSPKUQOVSA-N\n",
       "1     DB00131  Adenosine phosphate  UDMBCSSLTHHNCD-KQYNXXCUSA-N"
      ]
     },
     "execution_count": 5,
     "metadata": {},
     "output_type": "execute_result"
    }
   ],
   "source": [
    "# Withdrawn drugs\n",
    "drugbank_withdrawn_df = pd.read_csv(\n",
    "    f'{DATA_DIR}/drugbank_withdrawn_structure_links.csv.zip', compression='zip',\n",
    ")\n",
    "\n",
    "groupd_to_remove = [\n",
    "    'illicit; withdrawn',\n",
    "    'vet_approved; withdrawn'\n",
    "]\n",
    "\n",
    "mask = drugbank_withdrawn_df['Drug Groups'].isin(groupd_to_remove)\n",
    "drugbank_withdrawn_df = drugbank_withdrawn_df[~mask][['DrugBank ID', 'Name', 'InChIKey']]\n",
    "\n",
    "drugbank_withdrawn_df.head(2)"
   ]
  },
  {
   "cell_type": "code",
   "execution_count": 6,
   "id": "a711ad5e",
   "metadata": {},
   "outputs": [
    {
     "data": {
      "text/html": [
       "<div>\n",
       "<style scoped>\n",
       "    .dataframe tbody tr th:only-of-type {\n",
       "        vertical-align: middle;\n",
       "    }\n",
       "\n",
       "    .dataframe tbody tr th {\n",
       "        vertical-align: top;\n",
       "    }\n",
       "\n",
       "    .dataframe thead th {\n",
       "        text-align: right;\n",
       "    }\n",
       "</style>\n",
       "<table border=\"1\" class=\"dataframe\">\n",
       "  <thead>\n",
       "    <tr style=\"text-align: right;\">\n",
       "      <th></th>\n",
       "      <th>DrugBank ID</th>\n",
       "      <th>Name</th>\n",
       "      <th>InChIKey</th>\n",
       "    </tr>\n",
       "  </thead>\n",
       "  <tbody>\n",
       "    <tr>\n",
       "      <th>0</th>\n",
       "      <td>DB00006</td>\n",
       "      <td>Bivalirudin</td>\n",
       "      <td>OIRCOABEOLEUMC-GEJPAHFPSA-N</td>\n",
       "    </tr>\n",
       "    <tr>\n",
       "      <th>1</th>\n",
       "      <td>DB00007</td>\n",
       "      <td>Leuprolide</td>\n",
       "      <td>GFIJNRVAKGFPGQ-LIJARHBVSA-N</td>\n",
       "    </tr>\n",
       "  </tbody>\n",
       "</table>\n",
       "</div>"
      ],
      "text/plain": [
       "  DrugBank ID         Name                     InChIKey\n",
       "0     DB00006  Bivalirudin  OIRCOABEOLEUMC-GEJPAHFPSA-N\n",
       "1     DB00007   Leuprolide  GFIJNRVAKGFPGQ-LIJARHBVSA-N"
      ]
     },
     "execution_count": 6,
     "metadata": {},
     "output_type": "execute_result"
    }
   ],
   "source": [
    "# Investigational drugs\n",
    "drugbank_investigational_df = pd.read_csv(\n",
    "    f'{DATA_DIR}/drugbank_investigational_structure_links.csv.zip', compression='zip',\n",
    "    usecols=['DrugBank ID', 'Name', 'InChIKey']\n",
    ")\n",
    "drugbank_investigational_df.head(2)"
   ]
  },
  {
   "cell_type": "code",
   "execution_count": 7,
   "id": "e35bfe79",
   "metadata": {},
   "outputs": [
    {
     "data": {
      "text/html": [
       "<div>\n",
       "<style scoped>\n",
       "    .dataframe tbody tr th:only-of-type {\n",
       "        vertical-align: middle;\n",
       "    }\n",
       "\n",
       "    .dataframe tbody tr th {\n",
       "        vertical-align: top;\n",
       "    }\n",
       "\n",
       "    .dataframe thead th {\n",
       "        text-align: right;\n",
       "    }\n",
       "</style>\n",
       "<table border=\"1\" class=\"dataframe\">\n",
       "  <thead>\n",
       "    <tr style=\"text-align: right;\">\n",
       "      <th></th>\n",
       "      <th>chembl_id</th>\n",
       "      <th>clinical_phase</th>\n",
       "      <th>inchikey</th>\n",
       "    </tr>\n",
       "  </thead>\n",
       "  <tbody>\n",
       "    <tr>\n",
       "      <th>12</th>\n",
       "      <td>CHEMBL6206</td>\n",
       "      <td>Preclinical</td>\n",
       "      <td>BYUCSFWXCMTYOI-ZRDIBKRKSA-N</td>\n",
       "    </tr>\n",
       "    <tr>\n",
       "      <th>24</th>\n",
       "      <td>CHEMBL6354</td>\n",
       "      <td>Preclinical</td>\n",
       "      <td>CKEYKKQODPYQPS-UHFFFAOYSA-P</td>\n",
       "    </tr>\n",
       "  </tbody>\n",
       "</table>\n",
       "</div>"
      ],
      "text/plain": [
       "     chembl_id clinical_phase                     inchikey\n",
       "12  CHEMBL6206    Preclinical  BYUCSFWXCMTYOI-ZRDIBKRKSA-N\n",
       "24  CHEMBL6354    Preclinical  CKEYKKQODPYQPS-UHFFFAOYSA-P"
      ]
     },
     "execution_count": 7,
     "metadata": {},
     "output_type": "execute_result"
    }
   ],
   "source": [
    "chembl_phase_df = pd.read_parquet(f'{PROCESSED_DIR}/chembl.pq.gzip')\n",
    "\n",
    "chembl_phase_df['clinical_phase'] = chembl_phase_df['clinical_phase'].map({\n",
    "    np.nan: 'Preclinical',\n",
    "    0.5: 'Phase 1',\n",
    "    1: 'Phase 1',\n",
    "    2: 'Phase 2',\n",
    "    3: 'Phase 3',\n",
    "    4: 'Approved',\n",
    "    -1: 'Unknown'\n",
    "})\n",
    "\n",
    "mask = chembl_phase_df['inchikey'].isin(patent_cmps)\n",
    "chembl_phase_df = chembl_phase_df[mask]\n",
    "\n",
    "chembl_phase_df.head(2)"
   ]
  },
  {
   "cell_type": "markdown",
   "id": "66a993e7",
   "metadata": {},
   "source": [
    "# Get unique compounds"
   ]
  },
  {
   "cell_type": "code",
   "execution_count": 8,
   "id": "959a5b46",
   "metadata": {},
   "outputs": [
    {
     "data": {
      "text/plain": [
       "270"
      ]
     },
     "execution_count": 8,
     "metadata": {},
     "output_type": "execute_result"
    }
   ],
   "source": [
    "withdrawn_drugs = set(drugbank_withdrawn_df['InChIKey'].unique())\n",
    "len(withdrawn_drugs)"
   ]
  },
  {
   "cell_type": "code",
   "execution_count": 9,
   "id": "6dd43ddc",
   "metadata": {},
   "outputs": [
    {
     "data": {
      "text/plain": [
       "3918"
      ]
     },
     "execution_count": 9,
     "metadata": {},
     "output_type": "execute_result"
    }
   ],
   "source": [
    "investigational_drugs = set(drugbank_investigational_df['InChIKey'].unique())\n",
    "len(investigational_drugs)"
   ]
  },
  {
   "cell_type": "code",
   "execution_count": 10,
   "id": "81d2e791",
   "metadata": {},
   "outputs": [
    {
     "data": {
      "text/html": [
       "<div>\n",
       "<style scoped>\n",
       "    .dataframe tbody tr th:only-of-type {\n",
       "        vertical-align: middle;\n",
       "    }\n",
       "\n",
       "    .dataframe tbody tr th {\n",
       "        vertical-align: top;\n",
       "    }\n",
       "\n",
       "    .dataframe thead th {\n",
       "        text-align: right;\n",
       "    }\n",
       "</style>\n",
       "<table border=\"1\" class=\"dataframe\">\n",
       "  <thead>\n",
       "    <tr style=\"text-align: right;\">\n",
       "      <th></th>\n",
       "      <th>Phase</th>\n",
       "      <th>Count</th>\n",
       "    </tr>\n",
       "  </thead>\n",
       "  <tbody>\n",
       "    <tr>\n",
       "      <th>0</th>\n",
       "      <td>Preclinical</td>\n",
       "      <td>307349</td>\n",
       "    </tr>\n",
       "    <tr>\n",
       "      <th>1</th>\n",
       "      <td>Unknown</td>\n",
       "      <td>5083</td>\n",
       "    </tr>\n",
       "    <tr>\n",
       "      <th>2</th>\n",
       "      <td>Approved</td>\n",
       "      <td>2929</td>\n",
       "    </tr>\n",
       "    <tr>\n",
       "      <th>3</th>\n",
       "      <td>Phase 2</td>\n",
       "      <td>1264</td>\n",
       "    </tr>\n",
       "    <tr>\n",
       "      <th>4</th>\n",
       "      <td>Phase 3</td>\n",
       "      <td>859</td>\n",
       "    </tr>\n",
       "    <tr>\n",
       "      <th>5</th>\n",
       "      <td>Phase 1</td>\n",
       "      <td>655</td>\n",
       "    </tr>\n",
       "  </tbody>\n",
       "</table>\n",
       "</div>"
      ],
      "text/plain": [
       "         Phase   Count\n",
       "0  Preclinical  307349\n",
       "1      Unknown    5083\n",
       "2     Approved    2929\n",
       "3      Phase 2    1264\n",
       "4      Phase 3     859\n",
       "5      Phase 1     655"
      ]
     },
     "execution_count": 10,
     "metadata": {},
     "output_type": "execute_result"
    }
   ],
   "source": [
    "clincal_stage_df = pd.DataFrame(chembl_phase_df['clinical_phase'].value_counts()).reset_index()\n",
    "clincal_stage_df.columns = ['Phase', 'Count']\n",
    "clincal_stage_df"
   ]
  },
  {
   "cell_type": "markdown",
   "id": "d541319f",
   "metadata": {},
   "source": [
    "# Visualisation"
   ]
  },
  {
   "cell_type": "code",
   "execution_count": 11,
   "id": "68cf010f",
   "metadata": {},
   "outputs": [
    {
     "data": {
      "image/png": "[encoded data removed]",
      "text/plain": [
       "<Figure size 2500x1000 with 2 Axes>"
      ]
     },
     "metadata": {},
     "output_type": "display_data"
    }
   ],
   "source": [
    "plt.figure(figsize = (25, 10))\n",
    "\n",
    "plt.subplot(1, 2, 1)\n",
    "v = venn3_unweighted(\n",
    "    [patent_cmps, investigational_drugs, withdrawn_drugs], \n",
    "    set_labels = ('Patent', 'Investigational', 'Withdrawn'), \n",
    "    set_colors=('#c83576', '#76c835', '#3576c8')\n",
    ")\n",
    "for text in v.set_labels:  # External labels\n",
    "    text.set_fontsize(18)\n",
    "for text in v.subset_labels: # Internal labels in Venn\n",
    "    text.set_fontsize(16)\n",
    "\n",
    "plt.text(\n",
    "    -0.1, 1.1, string.ascii_uppercase[0],\n",
    "    size=24, weight='bold', horizontalalignment='center',\n",
    "    verticalalignment='center', transform = plt.gca().transAxes\n",
    ")\n",
    "\n",
    "plt.subplot(1, 2, 2)\n",
    "order = ['Unknown', 'Preclinical', 'Phase 1', 'Phase 2', 'Phase 3', 'Approved']\n",
    "ax = sns.barplot(\n",
    "    data=clincal_stage_df, \n",
    "    x= 'Phase',\n",
    "    y= 'Count',\n",
    "    order=order,\n",
    "    color='#f3d3b0'\n",
    ")\n",
    "\n",
    "for p in ax.patches:\n",
    "    _x = p.get_x() + p.get_width() / 2\n",
    "    _y = p.get_y() + p.get_height() + 80\n",
    "    value = int(p.get_height())\n",
    "    ax.text(_x, _y, value, ha=\"center\", fontsize=12)\n",
    "\n",
    "plt.xticks(fontsize=15)\n",
    "plt.ylabel('Number of compounds', fontsize=18)\n",
    "plt.yscale('log')\n",
    "plt.xlabel('Clinical Phase', fontsize=18)\n",
    "plt.text(\n",
    "    -0.1, 1.1, string.ascii_uppercase[1],\n",
    "    size=24, weight='bold', horizontalalignment='center',\n",
    "    verticalalignment='center', transform = plt.gca().transAxes\n",
    ")\n",
    "\n",
    "plt.tight_layout()\n",
    "plt.savefig(f'{FIGURE_DIR}/figure_7.png', dpi=400)\n",
    "\n",
    "plt.show()"
   ]
  },
  {
   "cell_type": "markdown",
   "id": "b4dcfce9",
   "metadata": {},
   "source": [
    "# Statistics"
   ]
  },
  {
   "cell_type": "code",
   "execution_count": 12,
   "id": "3db6a406",
   "metadata": {},
   "outputs": [],
   "source": [
    "total_compounds = patent_cmps.union(investigational_drugs).union(withdrawn_drugs)"
   ]
  },
  {
   "cell_type": "code",
   "execution_count": 13,
   "id": "bf1471cd",
   "metadata": {},
   "outputs": [
    {
     "name": "stdout",
     "output_type": "stream",
     "text": [
      "Drugbank investigational overlap: 3235 (0.030269155954644734)\n"
     ]
    }
   ],
   "source": [
    "drugbank_investigational_overlap = len(patent_cmps.intersection(investigational_drugs))\n",
    "investigation_overlap_percent = (drugbank_investigational_overlap/len(total_compounds)) * 100\n",
    "print(f'Drugbank investigational overlap: {drugbank_investigational_overlap} ({investigation_overlap_percent})')"
   ]
  },
  {
   "cell_type": "code",
   "execution_count": 14,
   "id": "2cf4e436",
   "metadata": {},
   "outputs": [
    {
     "name": "stdout",
     "output_type": "stream",
     "text": [
      "drugbank withdrawn overlap : 245 (0.002292409029022553)\n"
     ]
    }
   ],
   "source": [
    "drugbank_withdrawn_overlap = len(patent_cmps.intersection(withdrawn_drugs))\n",
    "withdrawn_overlap = (drugbank_withdrawn_overlap/len(total_compounds)) * 100\n",
    "print(f'drugbank withdrawn overlap : {drugbank_withdrawn_overlap} ({withdrawn_overlap})')"
   ]
  },
  {
   "cell_type": "code",
   "execution_count": 15,
   "id": "62a73127",
   "metadata": {},
   "outputs": [
    {
     "data": {
      "text/html": [
       "<div>\n",
       "<style scoped>\n",
       "    .dataframe tbody tr th:only-of-type {\n",
       "        vertical-align: middle;\n",
       "    }\n",
       "\n",
       "    .dataframe tbody tr th {\n",
       "        vertical-align: top;\n",
       "    }\n",
       "\n",
       "    .dataframe thead th {\n",
       "        text-align: right;\n",
       "    }\n",
       "</style>\n",
       "<table border=\"1\" class=\"dataframe\">\n",
       "  <thead>\n",
       "    <tr style=\"text-align: right;\">\n",
       "      <th></th>\n",
       "      <th>Phase</th>\n",
       "      <th>Count</th>\n",
       "      <th>percent</th>\n",
       "    </tr>\n",
       "  </thead>\n",
       "  <tbody>\n",
       "    <tr>\n",
       "      <th>0</th>\n",
       "      <td>Preclinical</td>\n",
       "      <td>307349</td>\n",
       "      <td>96.608401</td>\n",
       "    </tr>\n",
       "    <tr>\n",
       "      <th>1</th>\n",
       "      <td>Unknown</td>\n",
       "      <td>5083</td>\n",
       "      <td>1.597729</td>\n",
       "    </tr>\n",
       "    <tr>\n",
       "      <th>2</th>\n",
       "      <td>Approved</td>\n",
       "      <td>2929</td>\n",
       "      <td>0.920667</td>\n",
       "    </tr>\n",
       "    <tr>\n",
       "      <th>3</th>\n",
       "      <td>Phase 2</td>\n",
       "      <td>1264</td>\n",
       "      <td>0.397311</td>\n",
       "    </tr>\n",
       "    <tr>\n",
       "      <th>4</th>\n",
       "      <td>Phase 3</td>\n",
       "      <td>859</td>\n",
       "      <td>0.270008</td>\n",
       "    </tr>\n",
       "    <tr>\n",
       "      <th>5</th>\n",
       "      <td>Phase 1</td>\n",
       "      <td>655</td>\n",
       "      <td>0.205885</td>\n",
       "    </tr>\n",
       "  </tbody>\n",
       "</table>\n",
       "</div>"
      ],
      "text/plain": [
       "         Phase   Count    percent\n",
       "0  Preclinical  307349  96.608401\n",
       "1      Unknown    5083   1.597729\n",
       "2     Approved    2929   0.920667\n",
       "3      Phase 2    1264   0.397311\n",
       "4      Phase 3     859   0.270008\n",
       "5      Phase 1     655   0.205885"
      ]
     },
     "execution_count": 15,
     "metadata": {},
     "output_type": "execute_result"
    }
   ],
   "source": [
    "clincal_stage_df['percent'] = (clincal_stage_df['Count'] / clincal_stage_df['Count'].sum()) * 100\n",
    "clincal_stage_df"
   ]
  },
  {
   "cell_type": "code",
   "execution_count": null,
   "id": "1b0420a5",
   "metadata": {},
   "outputs": [],
   "source": []
  }
 ],
 "metadata": {
  "kernelspec": {
   "display_name": "patent_kg",
   "language": "python",
   "name": "patent_kg"
  },
  "language_info": {
   "codemirror_mode": {
    "name": "ipython",
    "version": 3
   },
   "file_extension": ".py",
   "mimetype": "text/x-python",
   "name": "python",
   "nbconvert_exporter": "python",
   "pygments_lexer": "ipython3",
   "version": "3.9.16"
  }
 },
 "nbformat": 4,
 "nbformat_minor": 5
}
