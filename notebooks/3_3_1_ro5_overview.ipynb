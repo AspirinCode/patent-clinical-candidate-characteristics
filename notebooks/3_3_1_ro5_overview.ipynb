{
 "cells": [
  {
   "cell_type": "markdown",
   "metadata": {},
   "source": [
    "# Ro5 and beyond Ro5 overview of compounds\n",
    "This notebook calculates the distribution of compounds following the Ro5 and bRo5 properties."
   ]
  },
  {
   "cell_type": "markdown",
   "metadata": {},
   "source": [
    "# Import Modules"
   ]
  },
  {
   "cell_type": "code",
   "execution_count": 1,
   "metadata": {},
   "outputs": [],
   "source": [
    "import json\n",
    "from collections import defaultdict\n",
    "import pandas as pd\n",
    "from tqdm import tqdm\n",
    "\n",
    "from rdkit.Chem import Draw\n",
    "from rdkit import Chem\n",
    "\n",
    "tqdm.pandas()"
   ]
  },
  {
   "cell_type": "markdown",
   "metadata": {},
   "source": [
    "# Add path constants"
   ]
  },
  {
   "cell_type": "code",
   "execution_count": 2,
   "metadata": {},
   "outputs": [],
   "source": [
    "DATA_DIR = \"../data/processed\"\n",
    "MAPPING_DIR = \"../data/mappings\"\n",
    "FIGURE_DIR = \"../data/figures\""
   ]
  },
  {
   "cell_type": "markdown",
   "metadata": {},
   "source": [
    "# Load data file"
   ]
  },
  {
   "cell_type": "code",
   "execution_count": 3,
   "metadata": {},
   "outputs": [
    {
     "data": {
      "text/html": [
       "<div>\n",
       "<style scoped>\n",
       "    .dataframe tbody tr th:only-of-type {\n",
       "        vertical-align: middle;\n",
       "    }\n",
       "\n",
       "    .dataframe tbody tr th {\n",
       "        vertical-align: top;\n",
       "    }\n",
       "\n",
       "    .dataframe thead th {\n",
       "        text-align: right;\n",
       "    }\n",
       "</style>\n",
       "<table border=\"1\" class=\"dataframe\">\n",
       "  <thead>\n",
       "    <tr style=\"text-align: right;\">\n",
       "      <th></th>\n",
       "      <th>SureChEMBL_ID</th>\n",
       "      <th>SMILES</th>\n",
       "      <th>InChIKey</th>\n",
       "      <th>PATENT_ID</th>\n",
       "      <th>PUBLICATION_DATE</th>\n",
       "      <th>Field</th>\n",
       "      <th>year</th>\n",
       "    </tr>\n",
       "  </thead>\n",
       "  <tbody>\n",
       "    <tr>\n",
       "      <th>0</th>\n",
       "      <td>SCHEMBL4</td>\n",
       "      <td>C[C@H](CS)C(=O)N1CCC[C@H]1C(O)=O</td>\n",
       "      <td>FAKRSMQSSFJEIM-RQJHMYQMSA-N</td>\n",
       "      <td>EP-2842582-A2</td>\n",
       "      <td>2015-03-04</td>\n",
       "      <td>Description</td>\n",
       "      <td>2015</td>\n",
       "    </tr>\n",
       "    <tr>\n",
       "      <th>1757</th>\n",
       "      <td>SCHEMBL9</td>\n",
       "      <td>O=C(O)\\C=C/C(=O)O.CCOC(=O)[C@H](CCC1=CC=CC=C1)...</td>\n",
       "      <td>OYFJQPXVCSSHAI-QFPUQLAESA-N</td>\n",
       "      <td>EP-2838373-A2</td>\n",
       "      <td>2015-02-25</td>\n",
       "      <td>Description</td>\n",
       "      <td>2015</td>\n",
       "    </tr>\n",
       "  </tbody>\n",
       "</table>\n",
       "</div>"
      ],
      "text/plain": [
       "     SureChEMBL_ID                                             SMILES  \\\n",
       "0         SCHEMBL4                   C[C@H](CS)C(=O)N1CCC[C@H]1C(O)=O   \n",
       "1757      SCHEMBL9  O=C(O)\\C=C/C(=O)O.CCOC(=O)[C@H](CCC1=CC=CC=C1)...   \n",
       "\n",
       "                         InChIKey      PATENT_ID PUBLICATION_DATE  \\\n",
       "0     FAKRSMQSSFJEIM-RQJHMYQMSA-N  EP-2842582-A2       2015-03-04   \n",
       "1757  OYFJQPXVCSSHAI-QFPUQLAESA-N  EP-2838373-A2       2015-02-25   \n",
       "\n",
       "            Field  year  \n",
       "0     Description  2015  \n",
       "1757  Description  2015  "
      ]
     },
     "execution_count": 3,
     "metadata": {},
     "output_type": "execute_result"
    }
   ],
   "source": [
    "surechembl_df = pd.read_parquet(f\"{DATA_DIR}/surechembl_unique_inchikey_dump.pq.gzip\")\n",
    "surechembl_df.head(2)"
   ]
  },
  {
   "cell_type": "markdown",
   "metadata": {},
   "source": [
    "# Filtering unique compounds per year"
   ]
  },
  {
   "cell_type": "code",
   "execution_count": 4,
   "metadata": {},
   "outputs": [],
   "source": [
    "year_df = surechembl_df[[\"SMILES\", \"year\"]].copy()\n",
    "year_df.drop_duplicates(subset=[\"SMILES\"], keep=\"first\", inplace=True)"
   ]
  },
  {
   "cell_type": "markdown",
   "metadata": {},
   "source": [
    "# Removal of salts from the compound list"
   ]
  },
  {
   "cell_type": "code",
   "execution_count": 5,
   "metadata": {},
   "outputs": [
    {
     "name": "stderr",
     "output_type": "stream",
     "text": [
      "100%|██████████| 10695979/10695979 [00:09<00:00, 1154810.55it/s]\n"
     ]
    },
    {
     "data": {
      "text/plain": [
       "(328882, 10367097)"
      ]
     },
     "execution_count": 5,
     "metadata": {},
     "output_type": "execute_result"
    }
   ],
   "source": [
    "compounds_with_salt = set()\n",
    "compounds_without_salt = set()\n",
    "\n",
    "for smile in tqdm(year_df[\"SMILES\"].unique()):\n",
    "    if \".\" in smile:\n",
    "        compounds_with_salt.add(smile)\n",
    "    else:\n",
    "        compounds_without_salt.add(smile)\n",
    "\n",
    "len(compounds_with_salt), len(compounds_without_salt)"
   ]
  },
  {
   "cell_type": "markdown",
   "metadata": {},
   "source": [
    "# Load properties data dump"
   ]
  },
  {
   "cell_type": "code",
   "execution_count": 6,
   "metadata": {},
   "outputs": [],
   "source": [
    "properties_dict = json.load(open(f\"{MAPPING_DIR}/properties.json\"))"
   ]
  },
  {
   "cell_type": "code",
   "execution_count": 7,
   "metadata": {},
   "outputs": [
    {
     "data": {
      "text/html": [
       "<div>\n",
       "<style scoped>\n",
       "    .dataframe tbody tr th:only-of-type {\n",
       "        vertical-align: middle;\n",
       "    }\n",
       "\n",
       "    .dataframe tbody tr th {\n",
       "        vertical-align: top;\n",
       "    }\n",
       "\n",
       "    .dataframe thead th {\n",
       "        text-align: right;\n",
       "    }\n",
       "</style>\n",
       "<table border=\"1\" class=\"dataframe\">\n",
       "  <thead>\n",
       "    <tr style=\"text-align: right;\">\n",
       "      <th></th>\n",
       "      <th>SMILES</th>\n",
       "      <th>mw</th>\n",
       "      <th>logp</th>\n",
       "      <th>n_hba</th>\n",
       "      <th>n_hbd</th>\n",
       "      <th>rot_bonds</th>\n",
       "      <th>tpsa</th>\n",
       "      <th>fsp3</th>\n",
       "      <th>n_chiral</th>\n",
       "      <th>n_ring</th>\n",
       "      <th>n_heteroatoms</th>\n",
       "      <th>so_atoms</th>\n",
       "    </tr>\n",
       "  </thead>\n",
       "  <tbody>\n",
       "    <tr>\n",
       "      <th>0</th>\n",
       "      <td>C[C@H](CS)C(=O)N1CCC[C@H]1C(O)=O</td>\n",
       "      <td>217.077264</td>\n",
       "      <td>0.6279</td>\n",
       "      <td>3</td>\n",
       "      <td>2</td>\n",
       "      <td>3</td>\n",
       "      <td>57.61</td>\n",
       "      <td>0.777778</td>\n",
       "      <td>1</td>\n",
       "      <td>1</td>\n",
       "      <td>5</td>\n",
       "      <td>False</td>\n",
       "    </tr>\n",
       "    <tr>\n",
       "      <th>1</th>\n",
       "      <td>O=C(O)\\C=C/C(=O)O.CCOC(=O)[C@H](CCC1=CC=CC=C1)...</td>\n",
       "      <td>492.210781</td>\n",
       "      <td>1.3164</td>\n",
       "      <td>7</td>\n",
       "      <td>4</td>\n",
       "      <td>11</td>\n",
       "      <td>170.54</td>\n",
       "      <td>0.458333</td>\n",
       "      <td>1</td>\n",
       "      <td>2</td>\n",
       "      <td>11</td>\n",
       "      <td>False</td>\n",
       "    </tr>\n",
       "  </tbody>\n",
       "</table>\n",
       "</div>"
      ],
      "text/plain": [
       "                                              SMILES          mw    logp  \\\n",
       "0                   C[C@H](CS)C(=O)N1CCC[C@H]1C(O)=O  217.077264  0.6279   \n",
       "1  O=C(O)\\C=C/C(=O)O.CCOC(=O)[C@H](CCC1=CC=CC=C1)...  492.210781  1.3164   \n",
       "\n",
       "  n_hba n_hbd rot_bonds    tpsa      fsp3 n_chiral n_ring n_heteroatoms  \\\n",
       "0     3     2         3   57.61  0.777778        1      1             5   \n",
       "1     7     4        11  170.54  0.458333        1      2            11   \n",
       "\n",
       "  so_atoms  \n",
       "0    False  \n",
       "1    False  "
      ]
     },
     "execution_count": 7,
     "metadata": {},
     "output_type": "execute_result"
    }
   ],
   "source": [
    "properties_df = pd.DataFrame(properties_dict)\n",
    "properties_df = properties_df.T\n",
    "properties_df.reset_index(inplace=True)\n",
    "properties_df.rename(columns={\"index\": \"SMILES\"}, inplace=True)\n",
    "properties_df.head(2)"
   ]
  },
  {
   "cell_type": "code",
   "execution_count": 9,
   "metadata": {},
   "outputs": [
    {
     "data": {
      "text/plain": [
       "10695979"
      ]
     },
     "execution_count": 9,
     "metadata": {},
     "output_type": "execute_result"
    }
   ],
   "source": [
    "len(properties_df)"
   ]
  },
  {
   "cell_type": "markdown",
   "metadata": {},
   "source": [
    "# Subset to non-salt compounds"
   ]
  },
  {
   "cell_type": "code",
   "execution_count": 10,
   "metadata": {},
   "outputs": [
    {
     "data": {
      "text/html": [
       "<div>\n",
       "<style scoped>\n",
       "    .dataframe tbody tr th:only-of-type {\n",
       "        vertical-align: middle;\n",
       "    }\n",
       "\n",
       "    .dataframe tbody tr th {\n",
       "        vertical-align: top;\n",
       "    }\n",
       "\n",
       "    .dataframe thead th {\n",
       "        text-align: right;\n",
       "    }\n",
       "</style>\n",
       "<table border=\"1\" class=\"dataframe\">\n",
       "  <thead>\n",
       "    <tr style=\"text-align: right;\">\n",
       "      <th></th>\n",
       "      <th>SMILES</th>\n",
       "      <th>mw</th>\n",
       "      <th>logp</th>\n",
       "      <th>n_hba</th>\n",
       "      <th>n_hbd</th>\n",
       "      <th>rot_bonds</th>\n",
       "      <th>tpsa</th>\n",
       "      <th>fsp3</th>\n",
       "      <th>n_chiral</th>\n",
       "      <th>n_ring</th>\n",
       "      <th>n_heteroatoms</th>\n",
       "      <th>so_atoms</th>\n",
       "    </tr>\n",
       "  </thead>\n",
       "  <tbody>\n",
       "    <tr>\n",
       "      <th>0</th>\n",
       "      <td>C[C@H](CS)C(=O)N1CCC[C@H]1C(O)=O</td>\n",
       "      <td>217.077264</td>\n",
       "      <td>0.6279</td>\n",
       "      <td>3</td>\n",
       "      <td>2</td>\n",
       "      <td>3</td>\n",
       "      <td>57.61</td>\n",
       "      <td>0.777778</td>\n",
       "      <td>1</td>\n",
       "      <td>1</td>\n",
       "      <td>5</td>\n",
       "      <td>False</td>\n",
       "    </tr>\n",
       "    <tr>\n",
       "      <th>3</th>\n",
       "      <td>CCOC(=O)[C@H](CCC1=CC=CC=C1)N[C@@H](C)C(=O)N1C...</td>\n",
       "      <td>376.199822</td>\n",
       "      <td>1.6046</td>\n",
       "      <td>5</td>\n",
       "      <td>2</td>\n",
       "      <td>9</td>\n",
       "      <td>95.94</td>\n",
       "      <td>0.55</td>\n",
       "      <td>1</td>\n",
       "      <td>2</td>\n",
       "      <td>7</td>\n",
       "      <td>False</td>\n",
       "    </tr>\n",
       "  </tbody>\n",
       "</table>\n",
       "</div>"
      ],
      "text/plain": [
       "                                              SMILES          mw    logp  \\\n",
       "0                   C[C@H](CS)C(=O)N1CCC[C@H]1C(O)=O  217.077264  0.6279   \n",
       "3  CCOC(=O)[C@H](CCC1=CC=CC=C1)N[C@@H](C)C(=O)N1C...  376.199822  1.6046   \n",
       "\n",
       "  n_hba n_hbd rot_bonds   tpsa      fsp3 n_chiral n_ring n_heteroatoms  \\\n",
       "0     3     2         3  57.61  0.777778        1      1             5   \n",
       "3     5     2         9  95.94      0.55        1      2             7   \n",
       "\n",
       "  so_atoms  \n",
       "0    False  \n",
       "3    False  "
      ]
     },
     "execution_count": 10,
     "metadata": {},
     "output_type": "execute_result"
    }
   ],
   "source": [
    "property_annotated_smiles_df = properties_df[\n",
    "    properties_df[\"SMILES\"].isin(compounds_without_salt)\n",
    "]\n",
    "property_annotated_smiles_df.head(2)"
   ]
  },
  {
   "cell_type": "code",
   "execution_count": 11,
   "metadata": {},
   "outputs": [
    {
     "data": {
      "text/plain": [
       "10367097"
      ]
     },
     "execution_count": 11,
     "metadata": {},
     "output_type": "execute_result"
    }
   ],
   "source": [
    "len(property_annotated_smiles_df)"
   ]
  },
  {
   "cell_type": "code",
   "execution_count": 12,
   "metadata": {},
   "outputs": [
    {
     "data": {
      "text/html": [
       "<div>\n",
       "<style scoped>\n",
       "    .dataframe tbody tr th:only-of-type {\n",
       "        vertical-align: middle;\n",
       "    }\n",
       "\n",
       "    .dataframe tbody tr th {\n",
       "        vertical-align: top;\n",
       "    }\n",
       "\n",
       "    .dataframe thead th {\n",
       "        text-align: right;\n",
       "    }\n",
       "</style>\n",
       "<table border=\"1\" class=\"dataframe\">\n",
       "  <thead>\n",
       "    <tr style=\"text-align: right;\">\n",
       "      <th></th>\n",
       "      <th>SMILES</th>\n",
       "      <th>mw</th>\n",
       "      <th>logp</th>\n",
       "      <th>n_hba</th>\n",
       "      <th>n_hbd</th>\n",
       "      <th>rot_bonds</th>\n",
       "      <th>tpsa</th>\n",
       "      <th>fsp3</th>\n",
       "      <th>n_chiral</th>\n",
       "      <th>n_ring</th>\n",
       "      <th>n_heteroatoms</th>\n",
       "      <th>so_atoms</th>\n",
       "      <th>year</th>\n",
       "    </tr>\n",
       "  </thead>\n",
       "  <tbody>\n",
       "    <tr>\n",
       "      <th>0</th>\n",
       "      <td>C[C@H](CS)C(=O)N1CCC[C@H]1C(O)=O</td>\n",
       "      <td>217.077264</td>\n",
       "      <td>0.6279</td>\n",
       "      <td>3</td>\n",
       "      <td>2</td>\n",
       "      <td>3</td>\n",
       "      <td>57.61</td>\n",
       "      <td>0.777778</td>\n",
       "      <td>1</td>\n",
       "      <td>1</td>\n",
       "      <td>5</td>\n",
       "      <td>False</td>\n",
       "      <td>2015</td>\n",
       "    </tr>\n",
       "    <tr>\n",
       "      <th>1</th>\n",
       "      <td>CCOC(=O)[C@H](CCC1=CC=CC=C1)N[C@@H](C)C(=O)N1C...</td>\n",
       "      <td>376.199822</td>\n",
       "      <td>1.6046</td>\n",
       "      <td>5</td>\n",
       "      <td>2</td>\n",
       "      <td>9</td>\n",
       "      <td>95.94</td>\n",
       "      <td>0.55</td>\n",
       "      <td>1</td>\n",
       "      <td>2</td>\n",
       "      <td>7</td>\n",
       "      <td>False</td>\n",
       "      <td>2015</td>\n",
       "    </tr>\n",
       "  </tbody>\n",
       "</table>\n",
       "</div>"
      ],
      "text/plain": [
       "                                              SMILES          mw    logp  \\\n",
       "0                   C[C@H](CS)C(=O)N1CCC[C@H]1C(O)=O  217.077264  0.6279   \n",
       "1  CCOC(=O)[C@H](CCC1=CC=CC=C1)N[C@@H](C)C(=O)N1C...  376.199822  1.6046   \n",
       "\n",
       "  n_hba n_hbd rot_bonds   tpsa      fsp3 n_chiral n_ring n_heteroatoms  \\\n",
       "0     3     2         3  57.61  0.777778        1      1             5   \n",
       "1     5     2         9  95.94      0.55        1      2             7   \n",
       "\n",
       "  so_atoms  year  \n",
       "0    False  2015  \n",
       "1    False  2015  "
      ]
     },
     "execution_count": 12,
     "metadata": {},
     "output_type": "execute_result"
    }
   ],
   "source": [
    "property_combined_df = pd.merge(\n",
    "    property_annotated_smiles_df, year_df, how=\"left\", on=[\"SMILES\"]\n",
    ")\n",
    "property_combined_df.head(2)"
   ]
  },
  {
   "cell_type": "code",
   "execution_count": 13,
   "metadata": {},
   "outputs": [],
   "source": [
    "property_combined_df.to_parquet(\n",
    "    f\"{DATA_DIR}/property_annotated_smiles.pq.gzip\", compression=\"gzip\"\n",
    ")"
   ]
  },
  {
   "cell_type": "markdown",
   "metadata": {},
   "source": [
    "# Calculating Ro5 critera for compounds"
   ]
  },
  {
   "cell_type": "code",
   "execution_count": 14,
   "metadata": {},
   "outputs": [],
   "source": [
    "def is_ro5_compliant(row):\n",
    "    \"\"\"Check if a molecule is Ro5 or bRo5 compliant.\"\"\"\n",
    "    if pd.isna(row.mw):\n",
    "        return None\n",
    "\n",
    "    if (\n",
    "        row.mw <= 500\n",
    "        and row.n_hba <= 10\n",
    "        and row.n_hbd <= 5\n",
    "        and row.logp <= 5\n",
    "        and row.rot_bonds <= 10\n",
    "        and row.tpsa <= 140\n",
    "    ):\n",
    "        return \"Ro5\"\n",
    "\n",
    "    elif row.mw > 500:\n",
    "        if (\n",
    "            row.n_hba > 10\n",
    "            or row.n_hbd > 5\n",
    "            or row.logp > 7\n",
    "            or row.rot_bonds > 20\n",
    "            or row.tpsa > 200\n",
    "        ):\n",
    "            return \"bRo5\"\n",
    "        else:\n",
    "            return None\n",
    "\n",
    "    return None"
   ]
  },
  {
   "cell_type": "code",
   "execution_count": 15,
   "metadata": {},
   "outputs": [
    {
     "name": "stderr",
     "output_type": "stream",
     "text": [
      "100%|██████████| 10367097/10367097 [10:32<00:00, 16378.66it/s]\n"
     ]
    }
   ],
   "source": [
    "ro5_annotation = property_combined_df.progress_apply(is_ro5_compliant, axis=1)"
   ]
  },
  {
   "cell_type": "code",
   "execution_count": 15,
   "metadata": {},
   "outputs": [
    {
     "name": "stdout",
     "output_type": "stream",
     "text": [
      "Ro5: 5677233 (75.94%)\n",
      "bRo5: 1799063 (24.06%)\n"
     ]
    }
   ],
   "source": [
    "ro5_counts = ro5_annotation.value_counts().to_dict()\n",
    "total = sum(ro5_counts.values())\n",
    "\n",
    "for i in ro5_counts:\n",
    "    print(f\"{i}: {ro5_counts[i]} ({ro5_counts[i]/total*100:.2f}%)\")"
   ]
  },
  {
   "cell_type": "markdown",
   "metadata": {},
   "source": [
    "# Looking into the top 5 compounds within each category\n",
    "\n",
    "The top five compounds were selected based on their number of patents"
   ]
  },
  {
   "cell_type": "code",
   "execution_count": 16,
   "metadata": {},
   "outputs": [
    {
     "name": "stderr",
     "output_type": "stream",
     "text": [
      "/var/folders/61/bn_r735d70z03hg56wh7hsg80000gn/T/ipykernel_28338/703675761.py:1: SettingWithCopyWarning: \n",
      "A value is trying to be set on a copy of a slice from a DataFrame.\n",
      "Try using .loc[row_indexer,col_indexer] = value instead\n",
      "\n",
      "See the caveats in the documentation: https://pandas.pydata.org/pandas-docs/stable/user_guide/indexing.html#returning-a-view-versus-a-copy\n",
      "  property_annotated_smiles_df['ro5'] = ro5_annotation\n"
     ]
    }
   ],
   "source": [
    "property_annotated_smiles_df[\"ro5\"] = ro5_annotation"
   ]
  },
  {
   "cell_type": "code",
   "execution_count": 17,
   "metadata": {},
   "outputs": [
    {
     "name": "stderr",
     "output_type": "stream",
     "text": [
      "100%|██████████| 21857225/21857225 [01:21<00:00, 267075.95it/s]\n"
     ]
    }
   ],
   "source": [
    "patent_counter_dict = defaultdict(set)\n",
    "\n",
    "for smile, patent_idx in tqdm(surechembl_df[[\"SMILES\", \"PATENT_ID\"]].values):\n",
    "    patent_counter_dict[smile].add(patent_idx)\n",
    "\n",
    "patent_counter_dict = {k: len(v) for k, v in patent_counter_dict.items()}"
   ]
  },
  {
   "cell_type": "code",
   "execution_count": 18,
   "metadata": {},
   "outputs": [
    {
     "name": "stderr",
     "output_type": "stream",
     "text": [
      "/var/folders/61/bn_r735d70z03hg56wh7hsg80000gn/T/ipykernel_28338/4238674.py:1: SettingWithCopyWarning: \n",
      "A value is trying to be set on a copy of a slice from a DataFrame.\n",
      "Try using .loc[row_indexer,col_indexer] = value instead\n",
      "\n",
      "See the caveats in the documentation: https://pandas.pydata.org/pandas-docs/stable/user_guide/indexing.html#returning-a-view-versus-a-copy\n",
      "  property_annotated_smiles_df['patent_count'] = property_annotated_smiles_df['SMILES'].map(patent_counter_dict)\n"
     ]
    }
   ],
   "source": [
    "property_annotated_smiles_df[\"patent_count\"] = property_annotated_smiles_df[\n",
    "    \"SMILES\"\n",
    "].map(patent_counter_dict)"
   ]
  },
  {
   "cell_type": "code",
   "execution_count": 19,
   "metadata": {},
   "outputs": [
    {
     "name": "stderr",
     "output_type": "stream",
     "text": [
      "100%|██████████| 21857225/21857225 [00:47<00:00, 464397.73it/s]\n"
     ]
    }
   ],
   "source": [
    "surechembl_map = defaultdict(str)\n",
    "\n",
    "for idx, smile in tqdm(surechembl_df[[\"SureChEMBL_ID\", \"SMILES\"]].values):\n",
    "    surechembl_map[smile] = idx"
   ]
  },
  {
   "cell_type": "code",
   "execution_count": 20,
   "metadata": {},
   "outputs": [
    {
     "data": {
      "text/html": [
       "<div>\n",
       "<style scoped>\n",
       "    .dataframe tbody tr th:only-of-type {\n",
       "        vertical-align: middle;\n",
       "    }\n",
       "\n",
       "    .dataframe tbody tr th {\n",
       "        vertical-align: top;\n",
       "    }\n",
       "\n",
       "    .dataframe thead th {\n",
       "        text-align: right;\n",
       "    }\n",
       "</style>\n",
       "<table border=\"1\" class=\"dataframe\">\n",
       "  <thead>\n",
       "    <tr style=\"text-align: right;\">\n",
       "      <th></th>\n",
       "      <th>SMILES</th>\n",
       "      <th>ro5</th>\n",
       "      <th>patent_count</th>\n",
       "      <th>schembl</th>\n",
       "    </tr>\n",
       "  </thead>\n",
       "  <tbody>\n",
       "    <tr>\n",
       "      <th>0</th>\n",
       "      <td>C[C@H](CS)C(=O)N1CCC[C@H]1C(O)=O</td>\n",
       "      <td>Ro5</td>\n",
       "      <td>8</td>\n",
       "      <td>SCHEMBL4</td>\n",
       "    </tr>\n",
       "    <tr>\n",
       "      <th>3</th>\n",
       "      <td>CCOC(=O)[C@H](CCC1=CC=CC=C1)N[C@@H](C)C(=O)N1C...</td>\n",
       "      <td>Ro5</td>\n",
       "      <td>8</td>\n",
       "      <td>SCHEMBL18</td>\n",
       "    </tr>\n",
       "    <tr>\n",
       "      <th>4</th>\n",
       "      <td>CNCC(=O)N[C@@H](CCCNC(N)=N)C(=O)N[C@@H](C(C)C)...</td>\n",
       "      <td>bRo5</td>\n",
       "      <td>8</td>\n",
       "      <td>SCHEMBL23</td>\n",
       "    </tr>\n",
       "    <tr>\n",
       "      <th>5</th>\n",
       "      <td>CC1=CC=C(C=C1)S(O)(=O)=O</td>\n",
       "      <td>Ro5</td>\n",
       "      <td>8</td>\n",
       "      <td>SCHEMBL34</td>\n",
       "    </tr>\n",
       "    <tr>\n",
       "      <th>6</th>\n",
       "      <td>CCCCC1=NC(Cl)=C(CO)N1CC1=CC=C(C=C1)C1=C(C=CC=C...</td>\n",
       "      <td>Ro5</td>\n",
       "      <td>8</td>\n",
       "      <td>SCHEMBL60</td>\n",
       "    </tr>\n",
       "  </tbody>\n",
       "</table>\n",
       "</div>"
      ],
      "text/plain": [
       "                                              SMILES   ro5  patent_count  \\\n",
       "0                   C[C@H](CS)C(=O)N1CCC[C@H]1C(O)=O   Ro5             8   \n",
       "3  CCOC(=O)[C@H](CCC1=CC=CC=C1)N[C@@H](C)C(=O)N1C...   Ro5             8   \n",
       "4  CNCC(=O)N[C@@H](CCCNC(N)=N)C(=O)N[C@@H](C(C)C)...  bRo5             8   \n",
       "5                           CC1=CC=C(C=C1)S(O)(=O)=O   Ro5             8   \n",
       "6  CCCCC1=NC(Cl)=C(CO)N1CC1=CC=C(C=C1)C1=C(C=CC=C...   Ro5             8   \n",
       "\n",
       "     schembl  \n",
       "0   SCHEMBL4  \n",
       "3  SCHEMBL18  \n",
       "4  SCHEMBL23  \n",
       "5  SCHEMBL34  \n",
       "6  SCHEMBL60  "
      ]
     },
     "execution_count": 20,
     "metadata": {},
     "output_type": "execute_result"
    }
   ],
   "source": [
    "subset_df = property_annotated_smiles_df[[\"SMILES\", \"ro5\", \"patent_count\"]].copy()\n",
    "subset_df[\"schembl\"] = subset_df[\"SMILES\"].map(surechembl_map)\n",
    "subset_df.head()"
   ]
  },
  {
   "cell_type": "code",
   "execution_count": 21,
   "metadata": {},
   "outputs": [
    {
     "data": {
      "text/plain": [
       "1    5384506\n",
       "2    2395460\n",
       "3    1193340\n",
       "4     614292\n",
       "5     314066\n",
       "6     201698\n",
       "8     141859\n",
       "7     121876\n",
       "Name: patent_count, dtype: int64"
      ]
     },
     "execution_count": 21,
     "metadata": {},
     "output_type": "execute_result"
    }
   ],
   "source": [
    "subset_df[\"patent_count\"].value_counts()"
   ]
  },
  {
   "cell_type": "markdown",
   "metadata": {},
   "source": [
    "# Get the top compound hits"
   ]
  },
  {
   "cell_type": "code",
   "execution_count": 22,
   "metadata": {},
   "outputs": [],
   "source": [
    "k = (\n",
    "    subset_df[subset_df[\"ro5\"] == \"Ro5\"]\n",
    "    .sort_values(by=\"patent_count\", ascending=False)\n",
    "    .head(5)\n",
    ")\n",
    "mols = [Chem.MolFromSmiles(s) for s in k[\"SMILES\"]]\n",
    "\n",
    "for idx, mol in enumerate(mols):\n",
    "    Draw.MolToFile(mol, f\"{FIGURE_DIR}/ro5_mol{idx}.png\", size=(600, 600))"
   ]
  },
  {
   "cell_type": "code",
   "execution_count": 23,
   "metadata": {},
   "outputs": [],
   "source": [
    "m = (\n",
    "    subset_df[subset_df[\"ro5\"] == \"bRo5\"]\n",
    "    .sort_values(by=\"patent_count\", ascending=False)\n",
    "    .head(5)\n",
    ")\n",
    "mols_2 = [Chem.MolFromSmiles(s) for s in m[\"SMILES\"]]\n",
    "\n",
    "for idx, mol in enumerate(mols_2):\n",
    "    Draw.MolToFile(mol, f\"{FIGURE_DIR}/bro5_mol{idx}.png\", size=(600, 600))"
   ]
  },
  {
   "cell_type": "code",
   "execution_count": null,
   "metadata": {},
   "outputs": [],
   "source": []
  }
 ],
 "metadata": {
  "kernelspec": {
   "display_name": "patent_kg",
   "language": "python",
   "name": "patent_kg"
  },
  "language_info": {
   "codemirror_mode": {
    "name": "ipython",
    "version": 3
   },
   "file_extension": ".py",
   "mimetype": "text/x-python",
   "name": "python",
   "nbconvert_exporter": "python",
   "pygments_lexer": "ipython3",
   "version": "3.9.16"
  },
  "orig_nbformat": 4
 },
 "nbformat": 4,
 "nbformat_minor": 2
}
