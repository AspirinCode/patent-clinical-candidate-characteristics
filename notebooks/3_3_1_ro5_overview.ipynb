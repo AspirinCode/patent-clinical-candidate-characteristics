{
 "cells": [
  {
   "cell_type": "markdown",
   "metadata": {},
   "source": [
    "# Ro5 and beyond Ro5 overview of compounds\n",
    "This notebook calculates the distribution of compounds following the Ro5 and bRo5 properties."
   ]
  },
  {
   "cell_type": "markdown",
   "metadata": {},
   "source": [
    "# Import Modules"
   ]
  },
  {
   "cell_type": "code",
   "execution_count": 1,
   "metadata": {},
   "outputs": [],
   "source": [
    "from collections import defaultdict\n",
    "import pandas as pd\n",
    "from tqdm import tqdm\n",
    "\n",
    "from rdkit import Chem, RDLogger\n",
    "from rdkit.Chem.EnumerateStereoisomers import GetStereoisomerCount\n",
    "from rdkit.Chem import Draw, Descriptors\n",
    "\n",
    "import seaborn as sns\n",
    "import matplotlib.pyplot as plt\n",
    "\n",
    "tqdm.pandas()"
   ]
  },
  {
   "cell_type": "code",
   "execution_count": 2,
   "metadata": {},
   "outputs": [],
   "source": [
    "RDLogger.DisableLog(\"rdApp.*\")\n",
    "pd.options.mode.chained_assignment = None  # default='warn'"
   ]
  },
  {
   "cell_type": "markdown",
   "metadata": {},
   "source": [
    "# Add path constants"
   ]
  },
  {
   "cell_type": "code",
   "execution_count": 3,
   "metadata": {},
   "outputs": [],
   "source": [
    "DATA_DIR = \"../data/raw\"\n",
    "PROCESSED_DIR = \"../data/processed\"\n",
    "MAPPING_DIR = \"../data/mappings\"\n",
    "FIGURE_DIR = \"../data/figures\""
   ]
  },
  {
   "cell_type": "markdown",
   "metadata": {},
   "source": [
    "# Load data file\n",
    "\n",
    "We generated a smiles dataframe with desalting smiles. The code block below can help replicate the steps. "
   ]
  },
  {
   "cell_type": "raw",
   "metadata": {},
   "source": [
    "surechembl_df = pd.read_parquet(f\"{DATA_DIR}/surechembl_dump.pq\")\n",
    "\n",
    "# Filtering unique compounds per year\n",
    "surechembl_df[\"year\"] = surechembl_df[\"PUBLICATION_DATE\"].progress_apply(\n",
    "    lambda x: x.split(\"-\")[0]\n",
    ")\n",
    "\n",
    "year_df = surechembl_df[[\"SMILES\", \"year\"]].copy()\n",
    "year_df.drop_duplicates(subset=[\"SMILES\"], keep=\"first\", inplace=True)\n",
    "\n",
    "# cleaning up compounds with salts - takes 30 minutes\n",
    "cleaned_smiles = []\n",
    "\n",
    "skipped = []\n",
    "\n",
    "cleaned_salt = 0\n",
    "for smiles in tqdm(year_df[\"SMILES\"]):\n",
    "    smiles_components = smiles.split(\".\")\n",
    "\n",
    "    # retrieve the largest component\n",
    "    smiles_components.sort(key=len)\n",
    "\n",
    "    mol = Chem.MolFromSmiles(smiles_components[-1])\n",
    "    if mol is not None:\n",
    "        cleaned_salt += 1\n",
    "        cleaned_smiles.append(Chem.MolToSmiles(mol))\n",
    "    else:\n",
    "        skipped.append(smiles)\n",
    "        cleaned_smiles.append(None)\n",
    "\n",
    "year_df[\"cleaned_smiles\"] = cleaned_smiles\n",
    "year_df.to_parquet(f\"{PROCESSED_DIR}/patent_data_desalted.pq\")"
   ]
  },
  {
   "cell_type": "code",
   "execution_count": 4,
   "metadata": {},
   "outputs": [],
   "source": [
    "surechembl_df = pd.read_parquet(f\"{DATA_DIR}/surechembl_dump.pq\")\n",
    "unique_cmpd_df = surechembl_df.drop_duplicates(subset=[\"SMILES\"])"
   ]
  },
  {
   "cell_type": "code",
   "execution_count": 5,
   "metadata": {},
   "outputs": [
    {
     "data": {
      "text/html": [
       "<div>\n",
       "<style scoped>\n",
       "    .dataframe tbody tr th:only-of-type {\n",
       "        vertical-align: middle;\n",
       "    }\n",
       "\n",
       "    .dataframe tbody tr th {\n",
       "        vertical-align: top;\n",
       "    }\n",
       "\n",
       "    .dataframe thead th {\n",
       "        text-align: right;\n",
       "    }\n",
       "</style>\n",
       "<table border=\"1\" class=\"dataframe\">\n",
       "  <thead>\n",
       "    <tr style=\"text-align: right;\">\n",
       "      <th></th>\n",
       "      <th>SMILES</th>\n",
       "      <th>year</th>\n",
       "      <th>cleaned_smiles</th>\n",
       "    </tr>\n",
       "  </thead>\n",
       "  <tbody>\n",
       "    <tr>\n",
       "      <th>0</th>\n",
       "      <td>C[C@H](CS)C(=O)N1CCC[C@H]1C(O)=O</td>\n",
       "      <td>2015</td>\n",
       "      <td>C[C@H](CS)C(=O)N1CCC[C@H]1C(=O)O</td>\n",
       "    </tr>\n",
       "    <tr>\n",
       "      <th>1757</th>\n",
       "      <td>O=C(O)\\C=C/C(=O)O.CCOC(=O)[C@H](CCC1=CC=CC=C1)...</td>\n",
       "      <td>2015</td>\n",
       "      <td>CCOC(=O)[C@H](CCc1ccccc1)N[C@@H](C)C(=O)N1CCC[...</td>\n",
       "    </tr>\n",
       "  </tbody>\n",
       "</table>\n",
       "</div>"
      ],
      "text/plain": [
       "                                                 SMILES  year  \\\n",
       "0                      C[C@H](CS)C(=O)N1CCC[C@H]1C(O)=O  2015   \n",
       "1757  O=C(O)\\C=C/C(=O)O.CCOC(=O)[C@H](CCC1=CC=CC=C1)...  2015   \n",
       "\n",
       "                                         cleaned_smiles  \n",
       "0                      C[C@H](CS)C(=O)N1CCC[C@H]1C(=O)O  \n",
       "1757  CCOC(=O)[C@H](CCc1ccccc1)N[C@@H](C)C(=O)N1CCC[...  "
      ]
     },
     "execution_count": 5,
     "metadata": {},
     "output_type": "execute_result"
    }
   ],
   "source": [
    "year_df = pd.read_parquet(f\"{PROCESSED_DIR}/patent_data_desalted.pq\")\n",
    "year_df.head(2)"
   ]
  },
  {
   "cell_type": "markdown",
   "metadata": {},
   "source": [
    "# Load properties data dump"
   ]
  },
  {
   "cell_type": "raw",
   "metadata": {},
   "source": [
    "# Generate the property data\n",
    "mol_compounds = set(year_df[\"cleaned_smiles\"].unique())\n",
    "\n",
    "property_data = []\n",
    "\n",
    "for smiles in tqdm(mol_compounds):\n",
    "    if smiles is None:\n",
    "        continue\n",
    "\n",
    "    mol = Chem.MolFromSmiles(smiles)\n",
    "    if not mol:\n",
    "        continue\n",
    "\n",
    "    property_data.append(\n",
    "        {\n",
    "            \"SMILES\": smiles,\n",
    "            \"MW\": Descriptors.ExactMolWt(mol),\n",
    "            \"LogP\": Chem.Crippen.MolLogP(mol),\n",
    "            \"HBA\": Chem.Lipinski.NumHAcceptors(mol),\n",
    "            \"HBD\": Chem.Lipinski.NumHDonors(mol),\n",
    "            \"TPSA\": Chem.rdMolDescriptors.CalcTPSA(mol),\n",
    "            \"RB\": Chem.Lipinski.NumRotatableBonds(mol),\n",
    "            \"FSP3\": Chem.Lipinski.FractionCSP3(mol),\n",
    "            \"RINGS\": Chem.rdMolDescriptors.CalcNumRings(mol),\n",
    "            \"Heteroatoms\": Chem.Lipinski.NumHeteroatoms(mol),\n",
    "            \"Steroisomers\": GetStereoisomerCount(mol),\n",
    "        }\n",
    "    )\n",
    "\n",
    "property_df = pd.DataFrame(property_data)\n",
    "\n",
    "property_df.rename(\n",
    "    columns={\n",
    "        \"MW\": \"mw\",\n",
    "        \"LogP\": \"logp\",\n",
    "        \"HBA\": \"n_hba\",\n",
    "        \"HBD\": \"n_hbd\",\n",
    "        \"RB\": \"rot_bonds\",\n",
    "        \"FSP3\": \"fsp3\",\n",
    "        \"RINGS\": \"n_ring\",\n",
    "        \"TPSA\": \"tpsa\",\n",
    "        \"Heteroatoms\": \"n_heteroatoms\",\n",
    "        \"Steroisomers\": \"n_chiral\",\n",
    "    },\n",
    "    inplace=True,\n",
    ")\n",
    "\n",
    "property_df.to_csv(f\"{MAPPING_DIR}/property_data.tsv\", sep=\"\\t\", index=False)"
   ]
  },
  {
   "cell_type": "code",
   "execution_count": 6,
   "metadata": {},
   "outputs": [],
   "source": [
    "property_df = pd.read_csv(\n",
    "    f\"{MAPPING_DIR}/property_data.tsv\", sep=\"\\t\", low_memory=False\n",
    ")"
   ]
  },
  {
   "cell_type": "code",
   "execution_count": 7,
   "metadata": {},
   "outputs": [
    {
     "data": {
      "text/html": [
       "<div>\n",
       "<style scoped>\n",
       "    .dataframe tbody tr th:only-of-type {\n",
       "        vertical-align: middle;\n",
       "    }\n",
       "\n",
       "    .dataframe tbody tr th {\n",
       "        vertical-align: top;\n",
       "    }\n",
       "\n",
       "    .dataframe thead th {\n",
       "        text-align: right;\n",
       "    }\n",
       "</style>\n",
       "<table border=\"1\" class=\"dataframe\">\n",
       "  <thead>\n",
       "    <tr style=\"text-align: right;\">\n",
       "      <th></th>\n",
       "      <th>desalted_SMILES</th>\n",
       "      <th>mw</th>\n",
       "      <th>logp</th>\n",
       "      <th>n_hba</th>\n",
       "      <th>n_hbd</th>\n",
       "      <th>tpsa</th>\n",
       "      <th>rot_bonds</th>\n",
       "      <th>fsp3</th>\n",
       "      <th>n_ring</th>\n",
       "      <th>n_heteroatoms</th>\n",
       "      <th>n_chiral</th>\n",
       "      <th>SMILES</th>\n",
       "      <th>year</th>\n",
       "    </tr>\n",
       "  </thead>\n",
       "  <tbody>\n",
       "    <tr>\n",
       "      <th>0</th>\n",
       "      <td>C1=C2C(c3ccc(-c4cccc5ccccc45)cc3)=NC(n3c4ccccc...</td>\n",
       "      <td>604.226312</td>\n",
       "      <td>9.5483</td>\n",
       "      <td>5</td>\n",
       "      <td>0</td>\n",
       "      <td>43.81</td>\n",
       "      <td>3</td>\n",
       "      <td>0.047619</td>\n",
       "      <td>10</td>\n",
       "      <td>5</td>\n",
       "      <td>2</td>\n",
       "      <td>C1OC=C2C1N=C(N=C2C1=CC=C(C=C1)C1=CC=CC2=C1C=CC...</td>\n",
       "      <td>2015</td>\n",
       "    </tr>\n",
       "    <tr>\n",
       "      <th>1</th>\n",
       "      <td>C=CCOC(=O)[C@@H]1C[C@]2(C(C)Cc3ccc(OC)c(C=O)c3...</td>\n",
       "      <td>400.152203</td>\n",
       "      <td>2.6315</td>\n",
       "      <td>7</td>\n",
       "      <td>0</td>\n",
       "      <td>88.13</td>\n",
       "      <td>8</td>\n",
       "      <td>0.409091</td>\n",
       "      <td>3</td>\n",
       "      <td>7</td>\n",
       "      <td>2</td>\n",
       "      <td>COC1=C(C=O)C=C(CC(C)[C@]23C[C@@H](C(=O)OCC=C)C...</td>\n",
       "      <td>2017</td>\n",
       "    </tr>\n",
       "  </tbody>\n",
       "</table>\n",
       "</div>"
      ],
      "text/plain": [
       "                                     desalted_SMILES          mw    logp  \\\n",
       "0  C1=C2C(c3ccc(-c4cccc5ccccc45)cc3)=NC(n3c4ccccc...  604.226312  9.5483   \n",
       "1  C=CCOC(=O)[C@@H]1C[C@]2(C(C)Cc3ccc(OC)c(C=O)c3...  400.152203  2.6315   \n",
       "\n",
       "   n_hba  n_hbd   tpsa  rot_bonds      fsp3  n_ring  n_heteroatoms n_chiral  \\\n",
       "0      5      0  43.81          3  0.047619      10              5        2   \n",
       "1      7      0  88.13          8  0.409091       3              7        2   \n",
       "\n",
       "                                              SMILES  year  \n",
       "0  C1OC=C2C1N=C(N=C2C1=CC=C(C=C1)C1=CC=CC2=C1C=CC...  2015  \n",
       "1  COC1=C(C=O)C=C(CC(C)[C@]23C[C@@H](C(=O)OCC=C)C...  2017  "
      ]
     },
     "execution_count": 7,
     "metadata": {},
     "output_type": "execute_result"
    }
   ],
   "source": [
    "property_combined_df = pd.merge(\n",
    "    property_df, year_df, how=\"left\", left_on=\"SMILES\", right_on=\"cleaned_smiles\"\n",
    ")\n",
    "property_combined_df.drop(columns=[\"cleaned_smiles\"], inplace=True)\n",
    "property_combined_df.rename(\n",
    "    columns={\"SMILES_x\": \"desalted_SMILES\", \"SMILES_y\": \"SMILES\"}, inplace=True\n",
    ")\n",
    "property_combined_df.head(2)"
   ]
  },
  {
   "cell_type": "markdown",
   "metadata": {},
   "source": [
    "# Calculating Ro5 critera for compounds"
   ]
  },
  {
   "cell_type": "code",
   "execution_count": 8,
   "metadata": {},
   "outputs": [],
   "source": [
    "def is_ro5_compliant(row):\n",
    "    \"\"\"Check if a molecule is Ro5 or bRo5 compliant.\"\"\"\n",
    "    # All properties need compliance\n",
    "    if (\n",
    "        row.mw <= 500\n",
    "        and row.n_hba <= 10\n",
    "        and row.n_hbd <= 5\n",
    "        and row.logp <= 5\n",
    "        and row.rot_bonds <= 10\n",
    "        and row.tpsa <= 140\n",
    "    ):\n",
    "        return \"Ro5\"\n",
    "\n",
    "    # Only MW + one other property needs compliance\n",
    "    if 500 < row.mw < 3000:\n",
    "        if (\n",
    "            row.n_hba > 10\n",
    "            or row.n_hbd > 5\n",
    "            or row.logp > 7.5\n",
    "            or row.logp < 0\n",
    "            or row.rot_bonds > 20\n",
    "            or row.tpsa > 200\n",
    "        ):\n",
    "            return \"bRo5\"\n",
    "\n",
    "    return \"Neither\""
   ]
  },
  {
   "cell_type": "code",
   "execution_count": 9,
   "metadata": {},
   "outputs": [
    {
     "name": "stderr",
     "output_type": "stream",
     "text": [
      "100%|██████████| 10695537/10695537 [02:09<00:00, 82428.48it/s]\n"
     ]
    }
   ],
   "source": [
    "ro5_annotation = property_combined_df.progress_apply(is_ro5_compliant, axis=1)\n",
    "property_combined_df[\"ro5\"] = ro5_annotation"
   ]
  },
  {
   "cell_type": "code",
   "execution_count": 10,
   "metadata": {},
   "outputs": [
    {
     "name": "stdout",
     "output_type": "stream",
     "text": [
      "Ro5: 5931716 (55.46%)\n",
      "Neither: 3040517 (28.43%)\n",
      "bRo5: 1723304 (16.11%)\n"
     ]
    }
   ],
   "source": [
    "ro5_counts = ro5_annotation.value_counts().to_dict()\n",
    "total = sum(ro5_counts.values())\n",
    "\n",
    "for i in ro5_counts:\n",
    "    print(f\"{i}: {ro5_counts[i]} ({ro5_counts[i]/total*100:.2f}%)\")"
   ]
  },
  {
   "cell_type": "markdown",
   "metadata": {},
   "source": [
    "# Looking into proprotion of approved drugs with the drug-likeness rules"
   ]
  },
  {
   "cell_type": "code",
   "execution_count": 11,
   "metadata": {},
   "outputs": [],
   "source": [
    "smiles_to_inchikey_dict = dict(\n",
    "    zip(unique_cmpd_df[\"SMILES\"], unique_cmpd_df[\"InChIKey\"])\n",
    ")"
   ]
  },
  {
   "cell_type": "code",
   "execution_count": 12,
   "metadata": {},
   "outputs": [],
   "source": [
    "property_combined_df[\"inchikey\"] = property_combined_df[\"SMILES\"].map(\n",
    "    smiles_to_inchikey_dict\n",
    ")"
   ]
  },
  {
   "cell_type": "code",
   "execution_count": 13,
   "metadata": {},
   "outputs": [],
   "source": [
    "drugbank_df = pd.read_csv(f\"{DATA_DIR}/drugbank_approved_structure_links.csv.zip\")"
   ]
  },
  {
   "cell_type": "code",
   "execution_count": 14,
   "metadata": {},
   "outputs": [],
   "source": [
    "approved_patented_drugs = property_combined_df[\n",
    "    property_combined_df[\"inchikey\"].isin(drugbank_df[\"InChIKey\"])\n",
    "]\n",
    "\n",
    "non_approved_patented_drugs = property_combined_df[\n",
    "    ~property_combined_df[\"inchikey\"].isin(drugbank_df[\"InChIKey\"])\n",
    "]"
   ]
  },
  {
   "cell_type": "code",
   "execution_count": 15,
   "metadata": {},
   "outputs": [],
   "source": [
    "t = approved_patented_drugs[\"ro5\"].value_counts(normalize=True).to_dict()\n",
    "k = non_approved_patented_drugs[\"ro5\"].value_counts(normalize=True).to_dict()\n",
    "\n",
    "df = pd.DataFrame([t, k]).T\n",
    "df.columns = [\"Approved\", \"Non-approved\"]\n",
    "df[\"Approved\"] = df[\"Approved\"].apply(lambda x: x * 100)\n",
    "df[\"Non-approved\"] = df[\"Non-approved\"].apply(lambda x: x * 100)\n",
    "df.drop(index=\"Neither\", inplace=True)"
   ]
  },
  {
   "cell_type": "code",
   "execution_count": 16,
   "metadata": {},
   "outputs": [
    {
     "data": {
      "image/png": "[encoded data removed]",
      "text/plain": [
       "<Figure size 1000x500 with 2 Axes>"
      ]
     },
     "metadata": {},
     "output_type": "display_data"
    }
   ],
   "source": [
    "plt.figure(figsize=(10, 5))\n",
    "sns.set(font_scale=1.2)\n",
    "\n",
    "plt.subplot(1, 2, 1)\n",
    "ax = sns.heatmap(df, annot=True, fmt=\".1f\", square=True, cbar=False, linewidth=0.5)\n",
    "for t in ax.texts:\n",
    "    t.set_text(t.get_text() + \" %\")\n",
    "plt.title(\"Ro5 and bRo5 compliance of approved drugs\", fontweight=\"bold\")\n",
    "\n",
    "plt.subplot(1, 2, 2)\n",
    "plt.pie(\n",
    "    [55.46, 28.43, 16.11],\n",
    "    autopct=\"%1.1f%%\",\n",
    "    labels=[\"Ro5\", \"Neither\", \"bRo5\"],\n",
    "    colors=[\"#47B39C\", \"#FFC154\", \"#EC6B56\"],\n",
    "    explode=(0.01, 0.05, 0.05),\n",
    ")\n",
    "plt.title(\"Drug-like spaces in patent data\", fontweight=\"bold\")\n",
    "plt.tight_layout()\n",
    "plt.savefig(f\"{FIGURE_DIR}/figure_4.png\", dpi=400)\n",
    "plt.show()"
   ]
  },
  {
   "cell_type": "markdown",
   "metadata": {},
   "source": [
    "# Looking into the top 5 compounds within each category\n",
    "\n",
    "The top five compounds were selected based on their number of patents"
   ]
  },
  {
   "cell_type": "code",
   "execution_count": 17,
   "metadata": {},
   "outputs": [
    {
     "name": "stderr",
     "output_type": "stream",
     "text": [
      "100%|██████████| 133512452/133512452 [02:57<00:00, 751320.78it/s] \n"
     ]
    }
   ],
   "source": [
    "patent_counter_dict = defaultdict(set)\n",
    "surechembl_map = defaultdict(str)\n",
    "\n",
    "for idx, smile, patent_idx in tqdm(\n",
    "    surechembl_df[[\"SureChEMBL_ID\", \"SMILES\", \"PATENT_ID\"]].values\n",
    "):\n",
    "    patent_counter_dict[smile].add(patent_idx)\n",
    "    surechembl_map[smile] = idx\n",
    "\n",
    "patent_counter_dict = {k: len(v) for k, v in patent_counter_dict.items()}"
   ]
  },
  {
   "cell_type": "code",
   "execution_count": 18,
   "metadata": {},
   "outputs": [],
   "source": [
    "property_combined_df[\"patent_count\"] = property_combined_df[\"SMILES\"].map(\n",
    "    patent_counter_dict\n",
    ")"
   ]
  },
  {
   "cell_type": "code",
   "execution_count": 19,
   "metadata": {},
   "outputs": [
    {
     "data": {
      "text/html": [
       "<div>\n",
       "<style scoped>\n",
       "    .dataframe tbody tr th:only-of-type {\n",
       "        vertical-align: middle;\n",
       "    }\n",
       "\n",
       "    .dataframe tbody tr th {\n",
       "        vertical-align: top;\n",
       "    }\n",
       "\n",
       "    .dataframe thead th {\n",
       "        text-align: right;\n",
       "    }\n",
       "</style>\n",
       "<table border=\"1\" class=\"dataframe\">\n",
       "  <thead>\n",
       "    <tr style=\"text-align: right;\">\n",
       "      <th></th>\n",
       "      <th>SMILES</th>\n",
       "      <th>ro5</th>\n",
       "      <th>patent_count</th>\n",
       "      <th>schembl</th>\n",
       "    </tr>\n",
       "  </thead>\n",
       "  <tbody>\n",
       "    <tr>\n",
       "      <th>0</th>\n",
       "      <td>C1OC=C2C1N=C(N=C2C1=CC=C(C=C1)C1=CC=CC2=C1C=CC...</td>\n",
       "      <td>bRo5</td>\n",
       "      <td>1</td>\n",
       "      <td>SCHEMBL16613280</td>\n",
       "    </tr>\n",
       "    <tr>\n",
       "      <th>1</th>\n",
       "      <td>COC1=C(C=O)C=C(CC(C)[C@]23C[C@@H](C(=O)OCC=C)C...</td>\n",
       "      <td>Ro5</td>\n",
       "      <td>1</td>\n",
       "      <td>SCHEMBL18466885</td>\n",
       "    </tr>\n",
       "    <tr>\n",
       "      <th>2</th>\n",
       "      <td>CCCCCC1=CC=C(C=C1)C1=CC=CN=C1</td>\n",
       "      <td>Ro5</td>\n",
       "      <td>2</td>\n",
       "      <td>SCHEMBL15060898</td>\n",
       "    </tr>\n",
       "    <tr>\n",
       "      <th>3</th>\n",
       "      <td>CCC1CNCCC2=C1C=C(Cl)C(F)=C2</td>\n",
       "      <td>Ro5</td>\n",
       "      <td>7</td>\n",
       "      <td>SCHEMBL1095696</td>\n",
       "    </tr>\n",
       "    <tr>\n",
       "      <th>4</th>\n",
       "      <td>CC1=C(O)C(=O)C=C2C1=CC=C1[C@@]2(C)CC[C@@]2(C)[...</td>\n",
       "      <td>Neither</td>\n",
       "      <td>1</td>\n",
       "      <td>SCHEMBL24297572</td>\n",
       "    </tr>\n",
       "  </tbody>\n",
       "</table>\n",
       "</div>"
      ],
      "text/plain": [
       "                                              SMILES      ro5  patent_count  \\\n",
       "0  C1OC=C2C1N=C(N=C2C1=CC=C(C=C1)C1=CC=CC2=C1C=CC...     bRo5             1   \n",
       "1  COC1=C(C=O)C=C(CC(C)[C@]23C[C@@H](C(=O)OCC=C)C...      Ro5             1   \n",
       "2                      CCCCCC1=CC=C(C=C1)C1=CC=CN=C1      Ro5             2   \n",
       "3                        CCC1CNCCC2=C1C=C(Cl)C(F)=C2      Ro5             7   \n",
       "4  CC1=C(O)C(=O)C=C2C1=CC=C1[C@@]2(C)CC[C@@]2(C)[...  Neither             1   \n",
       "\n",
       "           schembl  \n",
       "0  SCHEMBL16613280  \n",
       "1  SCHEMBL18466885  \n",
       "2  SCHEMBL15060898  \n",
       "3   SCHEMBL1095696  \n",
       "4  SCHEMBL24297572  "
      ]
     },
     "execution_count": 19,
     "metadata": {},
     "output_type": "execute_result"
    }
   ],
   "source": [
    "subset_df = property_combined_df[[\"SMILES\", \"ro5\", \"patent_count\"]].copy()\n",
    "subset_df[\"schembl\"] = subset_df[\"SMILES\"].map(surechembl_map)\n",
    "subset_df.head()"
   ]
  },
  {
   "cell_type": "markdown",
   "metadata": {},
   "source": [
    "# Get the top compound hits"
   ]
  },
  {
   "cell_type": "code",
   "execution_count": 20,
   "metadata": {},
   "outputs": [],
   "source": [
    "k = (\n",
    "    subset_df[subset_df[\"ro5\"] == \"Ro5\"]\n",
    "    .sort_values(by=\"patent_count\", ascending=False)\n",
    "    .head(5)\n",
    ")\n",
    "mols = [Chem.MolFromSmiles(s) for s in k[\"SMILES\"]]\n",
    "\n",
    "for idx, mol in enumerate(mols):\n",
    "    idx = idx + 1\n",
    "    Draw.MolToFile(mol, f\"{FIGURE_DIR}/ro5_mol{idx}.png\", size=(600, 600))"
   ]
  },
  {
   "cell_type": "code",
   "execution_count": 21,
   "metadata": {},
   "outputs": [
    {
     "data": {
      "text/html": [
       "<div>\n",
       "<style scoped>\n",
       "    .dataframe tbody tr th:only-of-type {\n",
       "        vertical-align: middle;\n",
       "    }\n",
       "\n",
       "    .dataframe tbody tr th {\n",
       "        vertical-align: top;\n",
       "    }\n",
       "\n",
       "    .dataframe thead th {\n",
       "        text-align: right;\n",
       "    }\n",
       "</style>\n",
       "<table border=\"1\" class=\"dataframe\">\n",
       "  <thead>\n",
       "    <tr style=\"text-align: right;\">\n",
       "      <th></th>\n",
       "      <th>SMILES</th>\n",
       "      <th>ro5</th>\n",
       "      <th>patent_count</th>\n",
       "      <th>schembl</th>\n",
       "    </tr>\n",
       "  </thead>\n",
       "  <tbody>\n",
       "    <tr>\n",
       "      <th>1057377</th>\n",
       "      <td>OC[C@@H](O)[C@H](O)[C@@H](O)C(=O)CO</td>\n",
       "      <td>Ro5</td>\n",
       "      <td>242495</td>\n",
       "      <td>SCHEMBL762</td>\n",
       "    </tr>\n",
       "    <tr>\n",
       "      <th>2950679</th>\n",
       "      <td>NC(CCCNC(N)=N)C(O)=O</td>\n",
       "      <td>Ro5</td>\n",
       "      <td>196444</td>\n",
       "      <td>SCHEMBL1790</td>\n",
       "    </tr>\n",
       "    <tr>\n",
       "      <th>3558655</th>\n",
       "      <td>OC(=O)C1=CC=CC=C1</td>\n",
       "      <td>Ro5</td>\n",
       "      <td>188165</td>\n",
       "      <td>SCHEMBL1378</td>\n",
       "    </tr>\n",
       "    <tr>\n",
       "      <th>6185255</th>\n",
       "      <td>OCC(O)C(O)C(O)C(O)C=O</td>\n",
       "      <td>Ro5</td>\n",
       "      <td>176495</td>\n",
       "      <td>SCHEMBL1812</td>\n",
       "    </tr>\n",
       "    <tr>\n",
       "      <th>4495640</th>\n",
       "      <td>N[C@@H](CC1=CNC=N1)C(O)=O</td>\n",
       "      <td>Ro5</td>\n",
       "      <td>163871</td>\n",
       "      <td>SCHEMBL3259</td>\n",
       "    </tr>\n",
       "  </tbody>\n",
       "</table>\n",
       "</div>"
      ],
      "text/plain": [
       "                                      SMILES  ro5  patent_count      schembl\n",
       "1057377  OC[C@@H](O)[C@H](O)[C@@H](O)C(=O)CO  Ro5        242495   SCHEMBL762\n",
       "2950679                 NC(CCCNC(N)=N)C(O)=O  Ro5        196444  SCHEMBL1790\n",
       "3558655                    OC(=O)C1=CC=CC=C1  Ro5        188165  SCHEMBL1378\n",
       "6185255                OCC(O)C(O)C(O)C(O)C=O  Ro5        176495  SCHEMBL1812\n",
       "4495640            N[C@@H](CC1=CNC=N1)C(O)=O  Ro5        163871  SCHEMBL3259"
      ]
     },
     "execution_count": 21,
     "metadata": {},
     "output_type": "execute_result"
    }
   ],
   "source": [
    "k"
   ]
  },
  {
   "cell_type": "code",
   "execution_count": 22,
   "metadata": {},
   "outputs": [],
   "source": [
    "m = (\n",
    "    subset_df[subset_df[\"ro5\"] == \"bRo5\"]\n",
    "    .sort_values(by=\"patent_count\", ascending=False)\n",
    "    .head(5)\n",
    ")\n",
    "mols_2 = [Chem.MolFromSmiles(s) for s in m[\"SMILES\"]]\n",
    "\n",
    "for idx, mol in enumerate(mols_2):\n",
    "    idx = idx + 1\n",
    "    Draw.MolToFile(mol, f\"{FIGURE_DIR}/bro5_mol{idx}.png\", size=(600, 600))"
   ]
  },
  {
   "cell_type": "code",
   "execution_count": 23,
   "metadata": {},
   "outputs": [
    {
     "data": {
      "text/html": [
       "<div>\n",
       "<style scoped>\n",
       "    .dataframe tbody tr th:only-of-type {\n",
       "        vertical-align: middle;\n",
       "    }\n",
       "\n",
       "    .dataframe tbody tr th {\n",
       "        vertical-align: top;\n",
       "    }\n",
       "\n",
       "    .dataframe thead th {\n",
       "        text-align: right;\n",
       "    }\n",
       "</style>\n",
       "<table border=\"1\" class=\"dataframe\">\n",
       "  <thead>\n",
       "    <tr style=\"text-align: right;\">\n",
       "      <th></th>\n",
       "      <th>SMILES</th>\n",
       "      <th>ro5</th>\n",
       "      <th>patent_count</th>\n",
       "      <th>schembl</th>\n",
       "    </tr>\n",
       "  </thead>\n",
       "  <tbody>\n",
       "    <tr>\n",
       "      <th>1554474</th>\n",
       "      <td>CC(=O)N[C@H]1[C@H](O)O[C@@H](COS(O)(=O)=O)[C@@...</td>\n",
       "      <td>bRo5</td>\n",
       "      <td>97039</td>\n",
       "      <td>SCHEMBL11557</td>\n",
       "    </tr>\n",
       "    <tr>\n",
       "      <th>7820557</th>\n",
       "      <td>CC(=O)O[C@@H]1C2=C(C)[C@H](C[C@@](O)([C@@H](OC...</td>\n",
       "      <td>bRo5</td>\n",
       "      <td>95174</td>\n",
       "      <td>SCHEMBL3976</td>\n",
       "    </tr>\n",
       "    <tr>\n",
       "      <th>5678486</th>\n",
       "      <td>COC1=CC=CC2=C1C(=O)C1=C(O)C3=C(C[C@](O)(C[C@@H...</td>\n",
       "      <td>bRo5</td>\n",
       "      <td>92479</td>\n",
       "      <td>SCHEMBL3243</td>\n",
       "    </tr>\n",
       "    <tr>\n",
       "      <th>1604274</th>\n",
       "      <td>CN[C@H]1[C@H](O)[C@@H](O)[C@H](CO)O[C@H]1O[C@H...</td>\n",
       "      <td>bRo5</td>\n",
       "      <td>90734</td>\n",
       "      <td>SCHEMBL3276</td>\n",
       "    </tr>\n",
       "    <tr>\n",
       "      <th>10289385</th>\n",
       "      <td>C[C@@H](O)[C@H](NC(=O)[C@@H](C)[C@H](O)[C@@H](...</td>\n",
       "      <td>bRo5</td>\n",
       "      <td>73429</td>\n",
       "      <td>SCHEMBL1599</td>\n",
       "    </tr>\n",
       "  </tbody>\n",
       "</table>\n",
       "</div>"
      ],
      "text/plain": [
       "                                                     SMILES   ro5  \\\n",
       "1554474   CC(=O)N[C@H]1[C@H](O)O[C@@H](COS(O)(=O)=O)[C@@...  bRo5   \n",
       "7820557   CC(=O)O[C@@H]1C2=C(C)[C@H](C[C@@](O)([C@@H](OC...  bRo5   \n",
       "5678486   COC1=CC=CC2=C1C(=O)C1=C(O)C3=C(C[C@](O)(C[C@@H...  bRo5   \n",
       "1604274   CN[C@H]1[C@H](O)[C@@H](O)[C@H](CO)O[C@H]1O[C@H...  bRo5   \n",
       "10289385  C[C@@H](O)[C@H](NC(=O)[C@@H](C)[C@H](O)[C@@H](...  bRo5   \n",
       "\n",
       "          patent_count       schembl  \n",
       "1554474          97039  SCHEMBL11557  \n",
       "7820557          95174   SCHEMBL3976  \n",
       "5678486          92479   SCHEMBL3243  \n",
       "1604274          90734   SCHEMBL3276  \n",
       "10289385         73429   SCHEMBL1599  "
      ]
     },
     "execution_count": 23,
     "metadata": {},
     "output_type": "execute_result"
    }
   ],
   "source": [
    "m"
   ]
  },
  {
   "cell_type": "code",
   "execution_count": null,
   "metadata": {},
   "outputs": [],
   "source": []
  }
 ],
 "metadata": {
  "kernelspec": {
   "display_name": "patent",
   "language": "python",
   "name": "python3"
  },
  "language_info": {
   "codemirror_mode": {
    "name": "ipython",
    "version": 3
   },
   "file_extension": ".py",
   "mimetype": "text/x-python",
   "name": "python",
   "nbconvert_exporter": "python",
   "pygments_lexer": "ipython3",
   "version": "3.9.18"
  },
  "orig_nbformat": 4
 },
 "nbformat": 4,
 "nbformat_minor": 2
}
