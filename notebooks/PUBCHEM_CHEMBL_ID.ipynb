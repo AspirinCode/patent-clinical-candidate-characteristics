{
 "cells": [
  {
   "cell_type": "code",
   "execution_count": 1,
   "id": "e3fd280e",
   "metadata": {},
   "outputs": [],
   "source": [
    "import logging\n",
    "import time\n",
    "from tqdm import tqdm\n",
    "import pandas as pd\n",
    "import os\n",
    "from pubchempy import get_compounds, BadRequestError, get_synonyms, PubChemHTTPError\n",
    "from rdkit.Chem import CanonSmiles"
   ]
  },
  {
   "cell_type": "code",
   "execution_count": 2,
   "id": "e6a7885b",
   "metadata": {},
   "outputs": [],
   "source": [
    "logger = logging.getLogger('__name__')\n",
    "logger.setLevel('INFO')"
   ]
  },
  {
   "cell_type": "code",
   "execution_count": 3,
   "id": "d19479e1",
   "metadata": {},
   "outputs": [],
   "source": [
    "cols = ['SureChEMBL_ID', 'InChIKey']"
   ]
  },
  {
   "cell_type": "code",
   "execution_count": 4,
   "id": "347c290d",
   "metadata": {},
   "outputs": [
    {
     "data": {
      "text/html": [
       "<div>\n",
       "<style scoped>\n",
       "    .dataframe tbody tr th:only-of-type {\n",
       "        vertical-align: middle;\n",
       "    }\n",
       "\n",
       "    .dataframe tbody tr th {\n",
       "        vertical-align: top;\n",
       "    }\n",
       "\n",
       "    .dataframe thead th {\n",
       "        text-align: right;\n",
       "    }\n",
       "</style>\n",
       "<table border=\"1\" class=\"dataframe\">\n",
       "  <thead>\n",
       "    <tr style=\"text-align: right;\">\n",
       "      <th></th>\n",
       "      <th>SureChEMBL_ID</th>\n",
       "      <th>InChIKey</th>\n",
       "    </tr>\n",
       "  </thead>\n",
       "  <tbody>\n",
       "    <tr>\n",
       "      <th>0</th>\n",
       "      <td>SCHEMBL4</td>\n",
       "      <td>FAKRSMQSSFJEIM-RQJHMYQMSA-N</td>\n",
       "    </tr>\n",
       "    <tr>\n",
       "      <th>1</th>\n",
       "      <td>SCHEMBL9</td>\n",
       "      <td>OYFJQPXVCSSHAI-QFPUQLAESA-N</td>\n",
       "    </tr>\n",
       "    <tr>\n",
       "      <th>2</th>\n",
       "      <td>SCHEMBL10</td>\n",
       "      <td>OYFJQPXVCSSHAI-BDURURIASA-N</td>\n",
       "    </tr>\n",
       "    <tr>\n",
       "      <th>3</th>\n",
       "      <td>SCHEMBL18</td>\n",
       "      <td>GBXSMTUPTTWBMN-XIRDDKMYSA-N</td>\n",
       "    </tr>\n",
       "    <tr>\n",
       "      <th>4</th>\n",
       "      <td>SCHEMBL23</td>\n",
       "      <td>PFGWGEPQIUAZME-NXSMLHPHSA-N</td>\n",
       "    </tr>\n",
       "    <tr>\n",
       "      <th>...</th>\n",
       "      <td>...</td>\n",
       "      <td>...</td>\n",
       "    </tr>\n",
       "    <tr>\n",
       "      <th>10718647</th>\n",
       "      <td>SCHEMBL24857923</td>\n",
       "      <td>RIJGJCBKSVIKAE-UHFFFAOYSA-N</td>\n",
       "    </tr>\n",
       "    <tr>\n",
       "      <th>10718648</th>\n",
       "      <td>SCHEMBL24863986</td>\n",
       "      <td>JTODHWHVVNHORP-UHFFFAOYSA-N</td>\n",
       "    </tr>\n",
       "    <tr>\n",
       "      <th>10718649</th>\n",
       "      <td>SCHEMBL24864054</td>\n",
       "      <td>KRZVSGUGLUVZPC-UHFFFAOYSA-N</td>\n",
       "    </tr>\n",
       "    <tr>\n",
       "      <th>10718650</th>\n",
       "      <td>SCHEMBL24869491</td>\n",
       "      <td>BRTUPHCRUZUMIG-UHFFFAOYSA-N</td>\n",
       "    </tr>\n",
       "    <tr>\n",
       "      <th>10718651</th>\n",
       "      <td>SCHEMBL24869756</td>\n",
       "      <td>SDNRDEFZHRKREV-FVSAXJQNSA-N</td>\n",
       "    </tr>\n",
       "  </tbody>\n",
       "</table>\n",
       "<p>10718652 rows × 2 columns</p>\n",
       "</div>"
      ],
      "text/plain": [
       "            SureChEMBL_ID                     InChIKey\n",
       "0                SCHEMBL4  FAKRSMQSSFJEIM-RQJHMYQMSA-N\n",
       "1                SCHEMBL9  OYFJQPXVCSSHAI-QFPUQLAESA-N\n",
       "2               SCHEMBL10  OYFJQPXVCSSHAI-BDURURIASA-N\n",
       "3               SCHEMBL18  GBXSMTUPTTWBMN-XIRDDKMYSA-N\n",
       "4               SCHEMBL23  PFGWGEPQIUAZME-NXSMLHPHSA-N\n",
       "...                   ...                          ...\n",
       "10718647  SCHEMBL24857923  RIJGJCBKSVIKAE-UHFFFAOYSA-N\n",
       "10718648  SCHEMBL24863986  JTODHWHVVNHORP-UHFFFAOYSA-N\n",
       "10718649  SCHEMBL24864054  KRZVSGUGLUVZPC-UHFFFAOYSA-N\n",
       "10718650  SCHEMBL24869491  BRTUPHCRUZUMIG-UHFFFAOYSA-N\n",
       "10718651  SCHEMBL24869756  SDNRDEFZHRKREV-FVSAXJQNSA-N\n",
       "\n",
       "[10718652 rows x 2 columns]"
      ]
     },
     "execution_count": 4,
     "metadata": {},
     "output_type": "execute_result"
    }
   ],
   "source": [
    "total_inchi_df = pd.read_csv('Inchikeys_10718652.tsv', sep=',', usecols = cols)\n",
    "total_inchi_df"
   ]
  },
  {
   "cell_type": "code",
   "execution_count": 5,
   "id": "42d90d82",
   "metadata": {},
   "outputs": [],
   "source": [
    "def check_smiles(smile: str):\n",
    "    \"\"\"Method to canonicalize the smiles string\"\"\"\n",
    "    try:\n",
    "        return CanonSmiles(smi=smile)\n",
    "    except Exception:\n",
    "        logger.info(f'Cannot canonicalize {smile}')\n",
    "        return None"
   ]
  },
  {
   "cell_type": "code",
   "execution_count": 6,
   "id": "e06c837d",
   "metadata": {},
   "outputs": [],
   "source": [
    "def get_cid_from_data(idx: str, idx_type: str):\n",
    "    \"\"\"Get PubChem ID from any query.\n",
    "\n",
    "    Potential curies include : smiles, inchikey, inchi, name\n",
    "    \"\"\"\n",
    "    if idx_type.lower() == 'smiles':\n",
    "        idx = check_smiles(idx)\n",
    "\n",
    "    if not idx:\n",
    "        return None\n",
    "\n",
    "    try:\n",
    "        return get_compounds(idx, idx_type.lower())[0].cid\n",
    "    except BadRequestError:\n",
    "        logger.info(f'Issue with {idx}')\n",
    "        return None\n",
    "    except IndexError:\n",
    "        return None"
   ]
  },
  {
   "cell_type": "code",
   "execution_count": 7,
   "id": "97e96f0a",
   "metadata": {},
   "outputs": [],
   "source": [
    "def get_chembl_id(pubchem_idx: str):\n",
    "    \"\"\"Map Pubchem CID to ChEMBL id\"\"\"\n",
    "    try:\n",
    "        other_identifiers = get_synonyms(identifier=pubchem_idx)\n",
    "    except (PubChemHTTPError, BadRequestError):  # too many request\n",
    "        time.sleep(3)\n",
    "        try:\n",
    "            other_identifiers = get_synonyms(identifier=pubchem_idx)\n",
    "        except BadRequestError:  # incorrect pubchem id\n",
    "            return None\n",
    "\n",
    "    if len(other_identifiers) < 1:\n",
    "        return None\n",
    "\n",
    "    other_identifiers = other_identifiers[0]\n",
    "\n",
    "    for idx in other_identifiers['Synonym']:\n",
    "        if idx.startswith('CHEMBL'):\n",
    "            return idx\n",
    "\n",
    "    return None"
   ]
  },
  {
   "cell_type": "code",
   "execution_count": null,
   "id": "6b14f2bf",
   "metadata": {},
   "outputs": [
    {
     "name": "stderr",
     "output_type": "stream",
     "text": [
      "  0%|          | 938/10718652 [25:20<5002:25:58,  1.68s/it]"
     ]
    }
   ],
   "source": [
    "if os.path.exists('PUBCHEM_CID_CHEMBL_ID.tsv'):\n",
    "    df = pd.read_csv('PUBCHEM_CID_CHEMBL_ID.tsv', sep='\\t')\n",
    "else:\n",
    "    df = pd.DataFrame(columns=['SureChEMBL_ID', 'InChIKey', 'PUBCHEM_CID', 'CHEMBL_ID'])\n",
    "    \n",
    "\n",
    "\n",
    "for index, row in tqdm(total_inchi_df.iterrows(), total=total_inchi_df.shape[0]):\n",
    "    data=[]\n",
    "    SCHEMBL_ID_ = total_inchi_df.iloc[index]['SureChEMBL_ID']\n",
    "    inchikey_ = total_inchi_df.iloc[index]['InChIKey']\n",
    "\n",
    "    if inchikey_ in df['InChIKey'].values.tolist() and SCHEMBL_ID_ in df['SureChEMBL_ID'].values.tolist():\n",
    "        continue\n",
    "\n",
    "    pubchem_cid = get_cid_from_data(inchikey_, 'inchikey')\n",
    "    if pubchem_cid:\n",
    "        chembl_id = get_chembl_id(pubchem_cid)\n",
    "    else:\n",
    "        chembl_id = None\n",
    "\n",
    "    data.append({'SureChEMBL_ID': SCHEMBL_ID_, 'InChIKey': inchikey_, 'PUBCHEM_CID': pubchem_cid, 'CHEMBL_ID': chembl_id})\n",
    "\n",
    "   \n",
    "    data_df = pd.DataFrame(data)\n",
    "    df = pd.concat([df, data_df], ignore_index=True)\n",
    "    df['PUBCHEM_CID'] = df['PUBCHEM_CID'].astype(str).apply(lambda x: x.replace('.0', ''))\n",
    "    df.to_csv('PUBCHEM_CID_CHEMBL_ID.tsv', index=False, sep='\\t')"
   ]
  },
  {
   "cell_type": "code",
   "execution_count": null,
   "id": "073f9358",
   "metadata": {},
   "outputs": [],
   "source": [
    "df.to_csv('PUBCHEM_CID_CHEMBL_ID.tsv', index=False, sep='\\t')"
   ]
  }
 ],
 "metadata": {
  "kernelspec": {
   "display_name": "Python 3 (ipykernel)",
   "language": "python",
   "name": "python3"
  },
  "language_info": {
   "codemirror_mode": {
    "name": "ipython",
    "version": 3
   },
   "file_extension": ".py",
   "mimetype": "text/x-python",
   "name": "python",
   "nbconvert_exporter": "python",
   "pygments_lexer": "ipython3",
   "version": "3.9.13"
  }
 },
 "nbformat": 4,
 "nbformat_minor": 5
}
