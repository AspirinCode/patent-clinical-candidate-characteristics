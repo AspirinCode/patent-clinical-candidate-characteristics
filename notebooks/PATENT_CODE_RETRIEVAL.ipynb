{
 "cells": [
  {
   "cell_type": "code",
   "execution_count": 1,
   "id": "1c9367fc",
   "metadata": {},
   "outputs": [],
   "source": [
    "import pandas as pd\n",
    "import numpy as np\n",
    "import time\n",
    "import os\n",
    "import pandas as pd\n",
    "from selenium import webdriver\n",
    "from selenium.webdriver.common.by import By\n",
    "from selenium.common.exceptions import NoSuchElementException\n",
    "from tqdm import tqdm"
   ]
  },
  {
   "cell_type": "code",
   "execution_count": 2,
   "id": "348a28ef",
   "metadata": {},
   "outputs": [
    {
     "name": "stderr",
     "output_type": "stream",
     "text": [
      "C:\\Users\\Shantanu Shetty\\AppData\\Local\\Temp\\ipykernel_16324\\1326500500.py:2: DeprecationWarning: executable_path has been deprecated, please pass in a Service object\n",
      "  driver = webdriver.Chrome(executable_path=DRIVER_PATH)\n"
     ]
    }
   ],
   "source": [
    "DRIVER_PATH = '/path/to/chromedriver'\n",
    "driver = webdriver.Chrome(executable_path=DRIVER_PATH)"
   ]
  },
  {
   "cell_type": "code",
   "execution_count": 3,
   "id": "bd86889c",
   "metadata": {},
   "outputs": [
    {
     "data": {
      "text/html": [
       "<div>\n",
       "<style scoped>\n",
       "    .dataframe tbody tr th:only-of-type {\n",
       "        vertical-align: middle;\n",
       "    }\n",
       "\n",
       "    .dataframe tbody tr th {\n",
       "        vertical-align: top;\n",
       "    }\n",
       "\n",
       "    .dataframe thead th {\n",
       "        text-align: right;\n",
       "    }\n",
       "</style>\n",
       "<table border=\"1\" class=\"dataframe\">\n",
       "  <thead>\n",
       "    <tr style=\"text-align: right;\">\n",
       "      <th></th>\n",
       "      <th>SureChEMBL_ID</th>\n",
       "      <th>SMILES</th>\n",
       "      <th>InChIKey</th>\n",
       "      <th>PATENT_ID</th>\n",
       "      <th>PUBLICATION_DATE</th>\n",
       "      <th>Field</th>\n",
       "    </tr>\n",
       "  </thead>\n",
       "  <tbody>\n",
       "    <tr>\n",
       "      <th>0</th>\n",
       "      <td>SCHEMBL4</td>\n",
       "      <td>C[C@H](CS)C(=O)N1CCC[C@H]1C(O)=O</td>\n",
       "      <td>FAKRSMQSSFJEIM-RQJHMYQMSA-N</td>\n",
       "      <td>EP-2842582-A2</td>\n",
       "      <td>2015-03-04</td>\n",
       "      <td>Description</td>\n",
       "    </tr>\n",
       "    <tr>\n",
       "      <th>1</th>\n",
       "      <td>SCHEMBL4</td>\n",
       "      <td>C[C@H](CS)C(=O)N1CCC[C@H]1C(O)=O</td>\n",
       "      <td>FAKRSMQSSFJEIM-RQJHMYQMSA-N</td>\n",
       "      <td>EP-2838373-A2</td>\n",
       "      <td>2015-02-25</td>\n",
       "      <td>Description</td>\n",
       "    </tr>\n",
       "  </tbody>\n",
       "</table>\n",
       "</div>"
      ],
      "text/plain": [
       "  SureChEMBL_ID                            SMILES   \n",
       "0      SCHEMBL4  C[C@H](CS)C(=O)N1CCC[C@H]1C(O)=O  \\\n",
       "1      SCHEMBL4  C[C@H](CS)C(=O)N1CCC[C@H]1C(O)=O   \n",
       "\n",
       "                      InChIKey      PATENT_ID PUBLICATION_DATE        Field  \n",
       "0  FAKRSMQSSFJEIM-RQJHMYQMSA-N  EP-2842582-A2       2015-03-04  Description  \n",
       "1  FAKRSMQSSFJEIM-RQJHMYQMSA-N  EP-2838373-A2       2015-02-25  Description  "
      ]
     },
     "execution_count": 3,
     "metadata": {},
     "output_type": "execute_result"
    }
   ],
   "source": [
    "file = pd.read_csv('data/EDA_df.txt.gz', sep='\\t', compression='gzip')\n",
    "file.head(2)"
   ]
  },
  {
   "cell_type": "code",
   "execution_count": 4,
   "id": "0e7de30e",
   "metadata": {},
   "outputs": [],
   "source": [
    "unique_patent_id = file.drop_duplicates(subset='PATENT_ID', keep=\"first\")\n",
    "unique_patent_id.reset_index(drop=True, inplace=True)"
   ]
  },
  {
   "cell_type": "code",
   "execution_count": 5,
   "id": "86f172ad",
   "metadata": {},
   "outputs": [
    {
     "name": "stderr",
     "output_type": "stream",
     "text": [
      "C:\\Users\\Shantanu Shetty\\AppData\\Local\\Temp\\ipykernel_16324\\2045907726.py:1: SettingWithCopyWarning: \n",
      "A value is trying to be set on a copy of a slice from a DataFrame.\n",
      "Try using .loc[row_indexer,col_indexer] = value instead\n",
      "\n",
      "See the caveats in the documentation: https://pandas.pydata.org/pandas-docs/stable/user_guide/indexing.html#returning-a-view-versus-a-copy\n",
      "  unique_patent_id['PATENT_ID'] = unique_patent_id['PATENT_ID'].str.replace('-', '')\n"
     ]
    }
   ],
   "source": [
    "unique_patent_id['PATENT_ID'] = unique_patent_id['PATENT_ID'].str.replace('-', '')"
   ]
  },
  {
   "cell_type": "code",
   "execution_count": null,
   "id": "fd83c227",
   "metadata": {},
   "outputs": [
    {
     "name": "stderr",
     "output_type": "stream",
     "text": [
      "  1%|          | 18154/1574602 [2:07:39<6781:31:07, 15.69s/it]"
     ]
    }
   ],
   "source": [
    "if os.path.exists('PN_CODE.tsv'):\n",
    "    ko_df = pd.read_csv('PN_CODE.tsv', sep='\\t')\n",
    "else:\n",
    "    ko_df = pd.DataFrame(columns=['PATENT_ID', 'PATENT_CODE'])\n",
    "\n",
    "link = 'https://www.surechembl.org/search/'\n",
    "\n",
    "c = 0\n",
    "pncode_list = [] \n",
    "\n",
    "for index, row in tqdm(unique_patent_id.iterrows(), total=unique_patent_id.shape[0]):\n",
    "    \n",
    "    pn_cd = unique_patent_id.iloc[index]['PATENT_ID']\n",
    "\n",
    "    if pn_cd in ko_df['PATENT_ID'].values.tolist():\n",
    "        continue\n",
    "\n",
    "    driver.get(link)\n",
    "    time.sleep(5)\n",
    "    \n",
    "    c += 1\n",
    "    try:\n",
    "        SEARCH_CODE = driver.find_element(by=By.XPATH, value='/html/body/div/div/div[2]/div/div[1]/div/form/div[2]/div[2]/div[1]/textarea')\n",
    "        CODE = 'pn:' + pn_cd\n",
    "        SEARCH_CODE.send_keys(CODE)\n",
    "        SEARCH_button = driver.find_element(by=By.XPATH, value='/html/body/div/div/div[2]/div/div[1]/div/form/div[2]/div[3]/div[1]/div/input')\n",
    "        SEARCH_button.click()\n",
    "        time.sleep(10)\n",
    "    \n",
    "\n",
    "        PATENT_CODE = driver.find_element(by=By.XPATH, value='/html/body/div[1]/div/div[2]/div[1]/div[2]/div/div[2]/table/tbody/tr[2]/td[4]/div[1]/table/tbody/tr/td[1]').text\n",
    "\n",
    "        pncode_list.append({'PATENT_ID': pn_cd, 'PATENT_CODE': PATENT_CODE})\n",
    "        \n",
    "        driver.get(link)\n",
    "        \n",
    "    except NoSuchElementException:\n",
    "        pncode_list.append({'PATENT_ID': pn_cd, 'PATENT_CODE': 'NOT FOUND'})\n",
    "        driver.get(link)\n",
    "    \n",
    "    if c == 10 or index == unique_patent_id.shape[0] - 1:\n",
    "        kemp_df = pd.DataFrame(pncode_list)\n",
    "        ko_df  = pd.concat([ko_df, kemp_df], ignore_index=True)\n",
    "        ko_df.to_csv('PN_CODE.tsv', index=False, sep='\\t')\n",
    "        c = 0\n",
    "        pncode_list = []\n",
    "    \n",
    "driver.quit()"
   ]
  }
 ],
 "metadata": {
  "kernelspec": {
   "display_name": "Python 3 (ipykernel)",
   "language": "python",
   "name": "python3"
  },
  "language_info": {
   "codemirror_mode": {
    "name": "ipython",
    "version": 3
   },
   "file_extension": ".py",
   "mimetype": "text/x-python",
   "name": "python",
   "nbconvert_exporter": "python",
   "pygments_lexer": "ipython3",
   "version": "3.9.13"
  }
 },
 "nbformat": 4,
 "nbformat_minor": 5
}
