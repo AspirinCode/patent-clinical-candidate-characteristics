{
 "cells": [
  {
   "cell_type": "markdown",
   "id": "fcf25c6a",
   "metadata": {},
   "source": [
    "# Import modules"
   ]
  },
  {
   "cell_type": "code",
   "execution_count": 1,
   "id": "1c9367fc",
   "metadata": {},
   "outputs": [],
   "source": [
    "import time\n",
    "import os\n",
    "import pandas as pd\n",
    "import json\n",
    "from selenium import webdriver\n",
    "from selenium.webdriver.chrome.options import Options\n",
    "from selenium.webdriver.common.by import By\n",
    "from selenium.common.exceptions import NoSuchElementException, TimeoutException\n",
    "from selenium.webdriver.support.ui import WebDriverWait\n",
    "from selenium.webdriver.support import expected_conditions as EC\n",
    "from tqdm import tqdm"
   ]
  },
  {
   "cell_type": "code",
   "execution_count": 2,
   "id": "0e2db4aa",
   "metadata": {},
   "outputs": [],
   "source": [
    "# Options for Chrome automated control\n",
    "chrome_options = Options()\n",
    "chrome_options.add_argument(\"--headless\")\n",
    "chrome_options.add_argument(\"--window-size=1920x1080\")\n",
    "chrome_options.add_argument(\"--disable-notifications\")\n",
    "chrome_options.add_argument(\"--no-sandbox\")\n",
    "chrome_options.add_argument(\"--verbose\")\n",
    "chrome_options.add_experimental_option(\n",
    "    \"prefs\",\n",
    "    {\n",
    "        \"download.prompt_for_download\": False,\n",
    "        \"download.directory_upgrade\": True,\n",
    "        \"safebrowsing_for_trusted_sources_enabled\": False,\n",
    "        \"safebrowsing.enabled\": False,\n",
    "    },\n",
    ")\n",
    "chrome_options.add_argument(\"--disable-gpu\")\n",
    "chrome_options.add_argument(\"--disable-software-rasterizer\")"
   ]
  },
  {
   "cell_type": "code",
   "execution_count": 3,
   "id": "348a28ef",
   "metadata": {},
   "outputs": [],
   "source": [
    "DRIVER_PATH = 'C:/Users/Yojana.Gadiya/Downloads/chromedriver'\n",
    "driver = webdriver.Chrome(executable_path=DRIVER_PATH, options=chrome_options)"
   ]
  },
  {
   "cell_type": "markdown",
   "id": "7bbff958",
   "metadata": {},
   "source": [
    "# Load file"
   ]
  },
  {
   "cell_type": "code",
   "execution_count": 4,
   "id": "1febca02",
   "metadata": {},
   "outputs": [],
   "source": [
    "DATA_DIR = '../data'"
   ]
  },
  {
   "cell_type": "code",
   "execution_count": 5,
   "id": "bd86889c",
   "metadata": {},
   "outputs": [
    {
     "ename": "ArrowMemoryError",
     "evalue": "realloc of size 2147483648 failed",
     "output_type": "error",
     "traceback": [
      "\u001b[1;31m---------------------------------------------------------------------------\u001b[0m",
      "\u001b[1;31mArrowMemoryError\u001b[0m                          Traceback (most recent call last)",
      "Cell \u001b[1;32mIn[5], line 1\u001b[0m\n\u001b[1;32m----> 1\u001b[0m surechembl_df \u001b[39m=\u001b[39m pd\u001b[39m.\u001b[39;49mread_parquet(\u001b[39mf\u001b[39;49m\u001b[39m'\u001b[39;49m\u001b[39m{\u001b[39;49;00mDATA_DIR\u001b[39m}\u001b[39;49;00m\u001b[39m/surechembl_dump.pq\u001b[39;49m\u001b[39m'\u001b[39;49m)\n\u001b[0;32m      2\u001b[0m surechembl_df\u001b[39m.\u001b[39mhead(\u001b[39m2\u001b[39m)\n",
      "File \u001b[1;32mc:\\Users\\Yojana.Gadiya\\Anaconda3\\envs\\patent_kg\\lib\\site-packages\\pandas\\io\\parquet.py:509\u001b[0m, in \u001b[0;36mread_parquet\u001b[1;34m(path, engine, columns, storage_options, use_nullable_dtypes, dtype_backend, **kwargs)\u001b[0m\n\u001b[0;32m    506\u001b[0m     use_nullable_dtypes \u001b[39m=\u001b[39m \u001b[39mFalse\u001b[39;00m\n\u001b[0;32m    507\u001b[0m check_dtype_backend(dtype_backend)\n\u001b[1;32m--> 509\u001b[0m \u001b[39mreturn\u001b[39;00m impl\u001b[39m.\u001b[39mread(\n\u001b[0;32m    510\u001b[0m     path,\n\u001b[0;32m    511\u001b[0m     columns\u001b[39m=\u001b[39mcolumns,\n\u001b[0;32m    512\u001b[0m     storage_options\u001b[39m=\u001b[39mstorage_options,\n\u001b[0;32m    513\u001b[0m     use_nullable_dtypes\u001b[39m=\u001b[39muse_nullable_dtypes,\n\u001b[0;32m    514\u001b[0m     dtype_backend\u001b[39m=\u001b[39mdtype_backend,\n\u001b[0;32m    515\u001b[0m     \u001b[39m*\u001b[39m\u001b[39m*\u001b[39mkwargs,\n\u001b[0;32m    516\u001b[0m )\n",
      "File \u001b[1;32mc:\\Users\\Yojana.Gadiya\\Anaconda3\\envs\\patent_kg\\lib\\site-packages\\pandas\\io\\parquet.py:227\u001b[0m, in \u001b[0;36mPyArrowImpl.read\u001b[1;34m(self, path, columns, use_nullable_dtypes, dtype_backend, storage_options, **kwargs)\u001b[0m\n\u001b[0;32m    220\u001b[0m path_or_handle, handles, kwargs[\u001b[39m\"\u001b[39m\u001b[39mfilesystem\u001b[39m\u001b[39m\"\u001b[39m] \u001b[39m=\u001b[39m _get_path_or_handle(\n\u001b[0;32m    221\u001b[0m     path,\n\u001b[0;32m    222\u001b[0m     kwargs\u001b[39m.\u001b[39mpop(\u001b[39m\"\u001b[39m\u001b[39mfilesystem\u001b[39m\u001b[39m\"\u001b[39m, \u001b[39mNone\u001b[39;00m),\n\u001b[0;32m    223\u001b[0m     storage_options\u001b[39m=\u001b[39mstorage_options,\n\u001b[0;32m    224\u001b[0m     mode\u001b[39m=\u001b[39m\u001b[39m\"\u001b[39m\u001b[39mrb\u001b[39m\u001b[39m\"\u001b[39m,\n\u001b[0;32m    225\u001b[0m )\n\u001b[0;32m    226\u001b[0m \u001b[39mtry\u001b[39;00m:\n\u001b[1;32m--> 227\u001b[0m     pa_table \u001b[39m=\u001b[39m \u001b[39mself\u001b[39m\u001b[39m.\u001b[39mapi\u001b[39m.\u001b[39mparquet\u001b[39m.\u001b[39mread_table(\n\u001b[0;32m    228\u001b[0m         path_or_handle, columns\u001b[39m=\u001b[39mcolumns, \u001b[39m*\u001b[39m\u001b[39m*\u001b[39mkwargs\n\u001b[0;32m    229\u001b[0m     )\n\u001b[0;32m    230\u001b[0m     result \u001b[39m=\u001b[39m pa_table\u001b[39m.\u001b[39mto_pandas(\u001b[39m*\u001b[39m\u001b[39m*\u001b[39mto_pandas_kwargs)\n\u001b[0;32m    232\u001b[0m     \u001b[39mif\u001b[39;00m manager \u001b[39m==\u001b[39m \u001b[39m\"\u001b[39m\u001b[39marray\u001b[39m\u001b[39m\"\u001b[39m:\n",
      "File \u001b[1;32mc:\\Users\\Yojana.Gadiya\\Anaconda3\\envs\\patent_kg\\lib\\site-packages\\pyarrow\\parquet\\core.py:2986\u001b[0m, in \u001b[0;36mread_table\u001b[1;34m(source, columns, use_threads, metadata, schema, use_pandas_metadata, read_dictionary, memory_map, buffer_size, partitioning, filesystem, filters, use_legacy_dataset, ignore_prefixes, pre_buffer, coerce_int96_timestamp_unit, decryption_properties, thrift_string_size_limit, thrift_container_size_limit)\u001b[0m\n\u001b[0;32m   2975\u001b[0m         \u001b[39m# TODO test that source is not a directory or a list\u001b[39;00m\n\u001b[0;32m   2976\u001b[0m         dataset \u001b[39m=\u001b[39m ParquetFile(\n\u001b[0;32m   2977\u001b[0m             source, metadata\u001b[39m=\u001b[39mmetadata, read_dictionary\u001b[39m=\u001b[39mread_dictionary,\n\u001b[0;32m   2978\u001b[0m             memory_map\u001b[39m=\u001b[39mmemory_map, buffer_size\u001b[39m=\u001b[39mbuffer_size,\n\u001b[1;32m   (...)\u001b[0m\n\u001b[0;32m   2983\u001b[0m             thrift_container_size_limit\u001b[39m=\u001b[39mthrift_container_size_limit,\n\u001b[0;32m   2984\u001b[0m         )\n\u001b[1;32m-> 2986\u001b[0m     \u001b[39mreturn\u001b[39;00m dataset\u001b[39m.\u001b[39;49mread(columns\u001b[39m=\u001b[39;49mcolumns, use_threads\u001b[39m=\u001b[39;49muse_threads,\n\u001b[0;32m   2987\u001b[0m                         use_pandas_metadata\u001b[39m=\u001b[39;49muse_pandas_metadata)\n\u001b[0;32m   2989\u001b[0m warnings\u001b[39m.\u001b[39mwarn(\n\u001b[0;32m   2990\u001b[0m     \u001b[39m\"\u001b[39m\u001b[39mPassing \u001b[39m\u001b[39m'\u001b[39m\u001b[39muse_legacy_dataset=True\u001b[39m\u001b[39m'\u001b[39m\u001b[39m to get the legacy behaviour is \u001b[39m\u001b[39m\"\u001b[39m\n\u001b[0;32m   2991\u001b[0m     \u001b[39m\"\u001b[39m\u001b[39mdeprecated as of pyarrow 8.0.0, and the legacy implementation will \u001b[39m\u001b[39m\"\u001b[39m\n\u001b[0;32m   2992\u001b[0m     \u001b[39m\"\u001b[39m\u001b[39mbe removed in a future version.\u001b[39m\u001b[39m\"\u001b[39m,\n\u001b[0;32m   2993\u001b[0m     \u001b[39mFutureWarning\u001b[39;00m, stacklevel\u001b[39m=\u001b[39m\u001b[39m2\u001b[39m)\n\u001b[0;32m   2995\u001b[0m \u001b[39mif\u001b[39;00m ignore_prefixes \u001b[39mis\u001b[39;00m \u001b[39mnot\u001b[39;00m \u001b[39mNone\u001b[39;00m:\n",
      "File \u001b[1;32mc:\\Users\\Yojana.Gadiya\\Anaconda3\\envs\\patent_kg\\lib\\site-packages\\pyarrow\\parquet\\core.py:2614\u001b[0m, in \u001b[0;36m_ParquetDatasetV2.read\u001b[1;34m(self, columns, use_threads, use_pandas_metadata)\u001b[0m\n\u001b[0;32m   2606\u001b[0m         index_columns \u001b[39m=\u001b[39m [\n\u001b[0;32m   2607\u001b[0m             col \u001b[39mfor\u001b[39;00m col \u001b[39min\u001b[39;00m _get_pandas_index_columns(metadata)\n\u001b[0;32m   2608\u001b[0m             \u001b[39mif\u001b[39;00m \u001b[39mnot\u001b[39;00m \u001b[39misinstance\u001b[39m(col, \u001b[39mdict\u001b[39m)\n\u001b[0;32m   2609\u001b[0m         ]\n\u001b[0;32m   2610\u001b[0m         columns \u001b[39m=\u001b[39m (\n\u001b[0;32m   2611\u001b[0m             \u001b[39mlist\u001b[39m(columns) \u001b[39m+\u001b[39m \u001b[39mlist\u001b[39m(\u001b[39mset\u001b[39m(index_columns) \u001b[39m-\u001b[39m \u001b[39mset\u001b[39m(columns))\n\u001b[0;32m   2612\u001b[0m         )\n\u001b[1;32m-> 2614\u001b[0m table \u001b[39m=\u001b[39m \u001b[39mself\u001b[39;49m\u001b[39m.\u001b[39;49m_dataset\u001b[39m.\u001b[39;49mto_table(\n\u001b[0;32m   2615\u001b[0m     columns\u001b[39m=\u001b[39;49mcolumns, \u001b[39mfilter\u001b[39;49m\u001b[39m=\u001b[39;49m\u001b[39mself\u001b[39;49m\u001b[39m.\u001b[39;49m_filter_expression,\n\u001b[0;32m   2616\u001b[0m     use_threads\u001b[39m=\u001b[39;49muse_threads\n\u001b[0;32m   2617\u001b[0m )\n\u001b[0;32m   2619\u001b[0m \u001b[39m# if use_pandas_metadata, restore the pandas metadata (which gets\u001b[39;00m\n\u001b[0;32m   2620\u001b[0m \u001b[39m# lost if doing a specific `columns` selection in to_table)\u001b[39;00m\n\u001b[0;32m   2621\u001b[0m \u001b[39mif\u001b[39;00m use_pandas_metadata:\n",
      "File \u001b[1;32mc:\\Users\\Yojana.Gadiya\\Anaconda3\\envs\\patent_kg\\lib\\site-packages\\pyarrow\\_dataset.pyx:546\u001b[0m, in \u001b[0;36mpyarrow._dataset.Dataset.to_table\u001b[1;34m()\u001b[0m\n",
      "File \u001b[1;32mc:\\Users\\Yojana.Gadiya\\Anaconda3\\envs\\patent_kg\\lib\\site-packages\\pyarrow\\_dataset.pyx:3449\u001b[0m, in \u001b[0;36mpyarrow._dataset.Scanner.to_table\u001b[1;34m()\u001b[0m\n",
      "File \u001b[1;32mc:\\Users\\Yojana.Gadiya\\Anaconda3\\envs\\patent_kg\\lib\\site-packages\\pyarrow\\error.pxi:144\u001b[0m, in \u001b[0;36mpyarrow.lib.pyarrow_internal_check_status\u001b[1;34m()\u001b[0m\n",
      "File \u001b[1;32mc:\\Users\\Yojana.Gadiya\\Anaconda3\\envs\\patent_kg\\lib\\site-packages\\pyarrow\\error.pxi:117\u001b[0m, in \u001b[0;36mpyarrow.lib.check_status\u001b[1;34m()\u001b[0m\n",
      "\u001b[1;31mArrowMemoryError\u001b[0m: realloc of size 2147483648 failed"
     ]
    }
   ],
   "source": [
    "surechembl_df = pd.read_parquet(f'{DATA_DIR}/surechembl_dump.pq')\n",
    "surechembl_df.head(2)"
   ]
  },
  {
   "cell_type": "code",
   "execution_count": 6,
   "id": "0e7de30e",
   "metadata": {},
   "outputs": [
    {
     "data": {
      "text/plain": [
       "1574602"
      ]
     },
     "execution_count": 6,
     "metadata": {},
     "output_type": "execute_result"
    }
   ],
   "source": [
    "unique_patent_ids = surechembl_df['PATENT_ID'].unique()\n",
    "len(unique_patent_ids)"
   ]
  },
  {
   "cell_type": "code",
   "execution_count": 8,
   "id": "08dd5c9d",
   "metadata": {},
   "outputs": [
    {
     "name": "stderr",
     "output_type": "stream",
     "text": [
      "  2%|██▏                                                                                                                                     | 26040/1574602 [00:14<14:23, 1793.45it/s]\n"
     ]
    },
    {
     "ename": "KeyboardInterrupt",
     "evalue": "",
     "output_type": "error",
     "traceback": [
      "\u001b[1;31m---------------------------------------------------------------------------\u001b[0m",
      "\u001b[1;31mKeyboardInterrupt\u001b[0m                         Traceback (most recent call last)",
      "Cell \u001b[1;32mIn[8], line 20\u001b[0m\n\u001b[0;32m     18\u001b[0m \u001b[38;5;28;01mtry\u001b[39;00m:\n\u001b[0;32m     19\u001b[0m     element_present \u001b[38;5;241m=\u001b[39m EC\u001b[38;5;241m.\u001b[39mpresence_of_element_located((By\u001b[38;5;241m.\u001b[39mID, \u001b[38;5;124m'\u001b[39m\u001b[38;5;124mclassif-ipcr\u001b[39m\u001b[38;5;124m'\u001b[39m))\n\u001b[1;32m---> 20\u001b[0m     \u001b[43mWebDriverWait\u001b[49m\u001b[43m(\u001b[49m\u001b[43mdriver\u001b[49m\u001b[43m,\u001b[49m\u001b[43m \u001b[49m\u001b[43mtimeout\u001b[49m\u001b[43m)\u001b[49m\u001b[38;5;241;43m.\u001b[39;49m\u001b[43muntil\u001b[49m\u001b[43m(\u001b[49m\u001b[43melement_present\u001b[49m\u001b[43m)\u001b[49m\n\u001b[0;32m     21\u001b[0m \u001b[38;5;28;01mexcept\u001b[39;00m TimeoutException:\n\u001b[0;32m     22\u001b[0m     pat_code_mapper[patent_id] \u001b[38;5;241m=\u001b[39m \u001b[38;5;28;01mNone\u001b[39;00m\n",
      "File \u001b[1;32m~\\Anaconda3\\envs\\patent_kg\\lib\\site-packages\\selenium\\webdriver\\support\\wait.py:77\u001b[0m, in \u001b[0;36mWebDriverWait.until\u001b[1;34m(self, method, message)\u001b[0m\n\u001b[0;32m     75\u001b[0m     screen \u001b[38;5;241m=\u001b[39m \u001b[38;5;28mgetattr\u001b[39m(exc, \u001b[38;5;124m'\u001b[39m\u001b[38;5;124mscreen\u001b[39m\u001b[38;5;124m'\u001b[39m, \u001b[38;5;28;01mNone\u001b[39;00m)\n\u001b[0;32m     76\u001b[0m     stacktrace \u001b[38;5;241m=\u001b[39m \u001b[38;5;28mgetattr\u001b[39m(exc, \u001b[38;5;124m'\u001b[39m\u001b[38;5;124mstacktrace\u001b[39m\u001b[38;5;124m'\u001b[39m, \u001b[38;5;28;01mNone\u001b[39;00m)\n\u001b[1;32m---> 77\u001b[0m \u001b[43mtime\u001b[49m\u001b[38;5;241;43m.\u001b[39;49m\u001b[43msleep\u001b[49m\u001b[43m(\u001b[49m\u001b[38;5;28;43mself\u001b[39;49m\u001b[38;5;241;43m.\u001b[39;49m\u001b[43m_poll\u001b[49m\u001b[43m)\u001b[49m\n\u001b[0;32m     78\u001b[0m \u001b[38;5;28;01mif\u001b[39;00m time\u001b[38;5;241m.\u001b[39mtime() \u001b[38;5;241m>\u001b[39m end_time:\n\u001b[0;32m     79\u001b[0m     \u001b[38;5;28;01mbreak\u001b[39;00m\n",
      "\u001b[1;31mKeyboardInterrupt\u001b[0m: "
     ]
    }
   ],
   "source": [
    "if os.path.exists(f'{DATA_DIR}/patent_code.json'):\n",
    "    pat_code_mapper = json.load(open(f'{DATA_DIR}/patent_code.json'))\n",
    "else:\n",
    "    pat_code_mapper = {}\n",
    "\n",
    "c = 0\n",
    "\n",
    "for patent_id in tqdm(unique_patent_ids, total=len(unique_patent_ids)):\n",
    "    \n",
    "    if patent_id in pat_code_mapper:\n",
    "        continue\n",
    "\n",
    "    # Load patent page\n",
    "#     print(patent_id)\n",
    "    driver.get(f'https://www.surechembl.org/document/{patent_id}')\n",
    "    timeout = 20\n",
    "    \n",
    "    try:\n",
    "        element_present = EC.presence_of_element_located((By.ID, 'classif-ipcr'))\n",
    "        WebDriverWait(driver, timeout).until(element_present)\n",
    "    except TimeoutException:\n",
    "        pat_code_mapper[patent_id] = None\n",
    "        continue\n",
    "        \n",
    "    # get IPCR code\n",
    "    ipcr_data = driver.find_element(By.ID, \"classif-ipcr\").text.split('\\n')\n",
    "    \n",
    "    c += 1\n",
    "    ipcr = set()\n",
    "    \n",
    "    for text in ipcr_data:\n",
    "        if len(text.split()) < 2:  # IPC codes come with alphanumeric characters A61K 18/19\n",
    "            continue\n",
    "            \n",
    "        if not text.split()[0].isalnum():\n",
    "            continue\n",
    "        ipcr.add(text)\n",
    "    \n",
    "    pat_code_mapper[patent_id] = list(ipcr)\n",
    "    \n",
    "    if c == 10:\n",
    "        with open(f'{DATA_DIR}/patent_code.json', 'w') as f:\n",
    "            json.dump(pat_code_mapper, f, ensure_ascii=False, indent=2)\n",
    "        c = 0    \n"
   ]
  },
  {
   "cell_type": "code",
   "execution_count": null,
   "id": "f23c2302",
   "metadata": {},
   "outputs": [],
   "source": [
    "driver.quit()"
   ]
  },
  {
   "cell_type": "raw",
   "id": "c3edeb7e",
   "metadata": {},
   "source": [
    "if os.path.exists('PN_CODE.tsv'):\n",
    "    ko_df = pd.read_csv('PN_CODE.tsv', sep='\\t')\n",
    "else:\n",
    "    ko_df = pd.DataFrame(columns=['PATENT_ID', 'PATENT_CODE'])\n",
    "\n",
    "link = 'https://www.surechembl.org/search/'\n",
    "\n",
    "c = 0\n",
    "pncode_list = [] \n",
    "\n",
    "for index, row in tqdm(unique_patent_id.iterrows(), total=unique_patent_id.shape[0]):\n",
    "    \n",
    "    pn_cd = unique_patent_id.iloc[index]['PATENT_ID']\n",
    "\n",
    "    if pn_cd in ko_df['PATENT_ID'].values.tolist():\n",
    "        continue\n",
    "\n",
    "    driver.get(link)\n",
    "    time.sleep(5)\n",
    "    \n",
    "    c += 1\n",
    "    try:\n",
    "        SEARCH_CODE = driver.find_element(by=By.XPATH, value='/html/body/div/div/div[2]/div/div[1]/div/form/div[2]/div[2]/div[1]/textarea')\n",
    "        CODE = 'pn:' + pn_cd\n",
    "        SEARCH_CODE.send_keys(CODE)\n",
    "        SEARCH_button = driver.find_element(by=By.XPATH, value='/html/body/div/div/div[2]/div/div[1]/div/form/div[2]/div[3]/div[1]/div/input')\n",
    "        SEARCH_button.click()\n",
    "        time.sleep(10)\n",
    "    \n",
    "\n",
    "        PATENT_CODE = driver.find_element(by=By.XPATH, value='/html/body/div[1]/div/div[2]/div[1]/div[2]/div/div[2]/table/tbody/tr[2]/td[4]/div[1]/table/tbody/tr/td[1]').text\n",
    "\n",
    "        pncode_list.append({'PATENT_ID': pn_cd, 'PATENT_CODE': PATENT_CODE})\n",
    "        \n",
    "        driver.get(link)\n",
    "        \n",
    "    except NoSuchElementException:\n",
    "        pncode_list.append({'PATENT_ID': pn_cd, 'PATENT_CODE': 'NOT FOUND'})\n",
    "        driver.get(link)\n",
    "    \n",
    "    if c == 10 or index == unique_patent_id.shape[0] - 1:\n",
    "        kemp_df = pd.DataFrame(pncode_list)\n",
    "        ko_df  = pd.concat([ko_df, kemp_df], ignore_index=True)\n",
    "        ko_df.to_csv('PN_CODE.tsv', index=False, sep='\\t')\n",
    "        c = 0\n",
    "        pncode_list = []\n",
    "    \n",
    "driver.quit()"
   ]
  }
 ],
 "metadata": {
  "kernelspec": {
   "display_name": "patent_kg",
   "language": "python",
   "name": "patent_kg"
  },
  "language_info": {
   "codemirror_mode": {
    "name": "ipython",
    "version": 3
   },
   "file_extension": ".py",
   "mimetype": "text/x-python",
   "name": "python",
   "nbconvert_exporter": "python",
   "pygments_lexer": "ipython3",
   "version": "3.9.13"
  }
 },
 "nbformat": 4,
 "nbformat_minor": 5
}
