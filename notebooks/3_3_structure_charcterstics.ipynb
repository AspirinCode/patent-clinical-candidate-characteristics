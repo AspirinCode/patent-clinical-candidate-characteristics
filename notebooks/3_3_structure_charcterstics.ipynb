{
 "cells": [
  {
   "cell_type": "markdown",
   "metadata": {},
   "source": [
    "# PAINS flagging of compounds and Murcko scaffold analysis.\n",
    "This notebook shows the distirvution of unwanted structures in patent documents. It also shows the distribution of murcko scaffolds in patent documents."
   ]
  },
  {
   "cell_type": "markdown",
   "metadata": {},
   "source": [
    "# Import Module"
   ]
  },
  {
   "cell_type": "code",
   "execution_count": 1,
   "metadata": {},
   "outputs": [],
   "source": [
    "import string\n",
    "import json\n",
    "import pandas as pd\n",
    "from tqdm import tqdm\n",
    "\n",
    "import matplotlib.pyplot as plt\n",
    "import seaborn as sns\n",
    "\n",
    "tqdm.pandas()"
   ]
  },
  {
   "cell_type": "markdown",
   "metadata": {},
   "source": [
    "# Add path constants"
   ]
  },
  {
   "cell_type": "code",
   "execution_count": 2,
   "metadata": {},
   "outputs": [],
   "source": [
    "DATA_DIR = \"../data/raw\"\n",
    "PROCESSED_DIR = \"../data/processed\"\n",
    "FIGURE_DIR = \"../data/figures\"\n",
    "MAPPINGS_DIR = \"../data/mappings\""
   ]
  },
  {
   "cell_type": "markdown",
   "metadata": {},
   "source": [
    "# Load data files"
   ]
  },
  {
   "cell_type": "markdown",
   "metadata": {},
   "source": [
    "Properties files"
   ]
  },
  {
   "cell_type": "code",
   "execution_count": 3,
   "metadata": {},
   "outputs": [],
   "source": [
    "properties_dict = json.load(open(f\"{MAPPINGS_DIR}/properties.json\"))"
   ]
  },
  {
   "cell_type": "code",
   "execution_count": 4,
   "metadata": {},
   "outputs": [
    {
     "data": {
      "text/html": [
       "<div>\n",
       "<style scoped>\n",
       "    .dataframe tbody tr th:only-of-type {\n",
       "        vertical-align: middle;\n",
       "    }\n",
       "\n",
       "    .dataframe tbody tr th {\n",
       "        vertical-align: top;\n",
       "    }\n",
       "\n",
       "    .dataframe thead th {\n",
       "        text-align: right;\n",
       "    }\n",
       "</style>\n",
       "<table border=\"1\" class=\"dataframe\">\n",
       "  <thead>\n",
       "    <tr style=\"text-align: right;\">\n",
       "      <th></th>\n",
       "      <th>SMILES</th>\n",
       "      <th>mw</th>\n",
       "      <th>logp</th>\n",
       "      <th>n_hba</th>\n",
       "      <th>n_hbd</th>\n",
       "      <th>rot_bonds</th>\n",
       "      <th>tpsa</th>\n",
       "      <th>fsp3</th>\n",
       "      <th>n_chiral</th>\n",
       "      <th>n_ring</th>\n",
       "      <th>n_heteroatoms</th>\n",
       "      <th>so_atoms</th>\n",
       "    </tr>\n",
       "  </thead>\n",
       "  <tbody>\n",
       "    <tr>\n",
       "      <th>0</th>\n",
       "      <td>C[C@H](CS)C(=O)N1CCC[C@H]1C(O)=O</td>\n",
       "      <td>217.077264</td>\n",
       "      <td>0.6279</td>\n",
       "      <td>3</td>\n",
       "      <td>2</td>\n",
       "      <td>3</td>\n",
       "      <td>57.61</td>\n",
       "      <td>0.777778</td>\n",
       "      <td>1</td>\n",
       "      <td>1</td>\n",
       "      <td>5</td>\n",
       "      <td>False</td>\n",
       "    </tr>\n",
       "    <tr>\n",
       "      <th>1</th>\n",
       "      <td>O=C(O)\\C=C/C(=O)O.CCOC(=O)[C@H](CCC1=CC=CC=C1)...</td>\n",
       "      <td>492.210781</td>\n",
       "      <td>1.3164</td>\n",
       "      <td>7</td>\n",
       "      <td>4</td>\n",
       "      <td>11</td>\n",
       "      <td>170.54</td>\n",
       "      <td>0.458333</td>\n",
       "      <td>1</td>\n",
       "      <td>2</td>\n",
       "      <td>11</td>\n",
       "      <td>False</td>\n",
       "    </tr>\n",
       "  </tbody>\n",
       "</table>\n",
       "</div>"
      ],
      "text/plain": [
       "                                              SMILES          mw    logp  \\\n",
       "0                   C[C@H](CS)C(=O)N1CCC[C@H]1C(O)=O  217.077264  0.6279   \n",
       "1  O=C(O)\\C=C/C(=O)O.CCOC(=O)[C@H](CCC1=CC=CC=C1)...  492.210781  1.3164   \n",
       "\n",
       "  n_hba n_hbd rot_bonds    tpsa      fsp3 n_chiral n_ring n_heteroatoms  \\\n",
       "0     3     2         3   57.61  0.777778        1      1             5   \n",
       "1     7     4        11  170.54  0.458333        1      2            11   \n",
       "\n",
       "  so_atoms  \n",
       "0    False  \n",
       "1    False  "
      ]
     },
     "execution_count": 4,
     "metadata": {},
     "output_type": "execute_result"
    }
   ],
   "source": [
    "properties_df = pd.DataFrame(properties_dict)\n",
    "properties_df = properties_df.T\n",
    "properties_df.reset_index(inplace=True)\n",
    "properties_df.rename(columns={\"index\": \"SMILES\"}, inplace=True)\n",
    "properties_df.head(2)"
   ]
  },
  {
   "cell_type": "markdown",
   "metadata": {},
   "source": [
    "SureChEMBL data"
   ]
  },
  {
   "cell_type": "code",
   "execution_count": 5,
   "metadata": {},
   "outputs": [
    {
     "data": {
      "text/html": [
       "<div>\n",
       "<style scoped>\n",
       "    .dataframe tbody tr th:only-of-type {\n",
       "        vertical-align: middle;\n",
       "    }\n",
       "\n",
       "    .dataframe tbody tr th {\n",
       "        vertical-align: top;\n",
       "    }\n",
       "\n",
       "    .dataframe thead th {\n",
       "        text-align: right;\n",
       "    }\n",
       "</style>\n",
       "<table border=\"1\" class=\"dataframe\">\n",
       "  <thead>\n",
       "    <tr style=\"text-align: right;\">\n",
       "      <th></th>\n",
       "      <th>SureChEMBL_ID</th>\n",
       "      <th>SMILES</th>\n",
       "      <th>InChIKey</th>\n",
       "      <th>PATENT_ID</th>\n",
       "      <th>PUBLICATION_DATE</th>\n",
       "      <th>Field</th>\n",
       "      <th>year</th>\n",
       "    </tr>\n",
       "  </thead>\n",
       "  <tbody>\n",
       "    <tr>\n",
       "      <th>0</th>\n",
       "      <td>SCHEMBL4</td>\n",
       "      <td>C[C@H](CS)C(=O)N1CCC[C@H]1C(O)=O</td>\n",
       "      <td>FAKRSMQSSFJEIM-RQJHMYQMSA-N</td>\n",
       "      <td>EP-2842582-A2</td>\n",
       "      <td>2015-03-04</td>\n",
       "      <td>Description</td>\n",
       "      <td>2015</td>\n",
       "    </tr>\n",
       "    <tr>\n",
       "      <th>1757</th>\n",
       "      <td>SCHEMBL9</td>\n",
       "      <td>O=C(O)\\C=C/C(=O)O.CCOC(=O)[C@H](CCC1=CC=CC=C1)...</td>\n",
       "      <td>OYFJQPXVCSSHAI-QFPUQLAESA-N</td>\n",
       "      <td>EP-2838373-A2</td>\n",
       "      <td>2015-02-25</td>\n",
       "      <td>Description</td>\n",
       "      <td>2015</td>\n",
       "    </tr>\n",
       "  </tbody>\n",
       "</table>\n",
       "</div>"
      ],
      "text/plain": [
       "     SureChEMBL_ID                                             SMILES  \\\n",
       "0         SCHEMBL4                   C[C@H](CS)C(=O)N1CCC[C@H]1C(O)=O   \n",
       "1757      SCHEMBL9  O=C(O)\\C=C/C(=O)O.CCOC(=O)[C@H](CCC1=CC=CC=C1)...   \n",
       "\n",
       "                         InChIKey      PATENT_ID PUBLICATION_DATE  \\\n",
       "0     FAKRSMQSSFJEIM-RQJHMYQMSA-N  EP-2842582-A2       2015-03-04   \n",
       "1757  OYFJQPXVCSSHAI-QFPUQLAESA-N  EP-2838373-A2       2015-02-25   \n",
       "\n",
       "            Field  year  \n",
       "0     Description  2015  \n",
       "1757  Description  2015  "
      ]
     },
     "execution_count": 5,
     "metadata": {},
     "output_type": "execute_result"
    }
   ],
   "source": [
    "surechembl_df = pd.read_parquet(\n",
    "    f\"{PROCESSED_DIR}/surechembl_unique_inchikey_dump.pq.gzip\"\n",
    ")\n",
    "surechembl_df.head(2)"
   ]
  },
  {
   "cell_type": "markdown",
   "metadata": {},
   "source": [
    "PAINS dump"
   ]
  },
  {
   "cell_type": "code",
   "execution_count": 6,
   "metadata": {},
   "outputs": [
    {
     "data": {
      "text/html": [
       "<div>\n",
       "<style scoped>\n",
       "    .dataframe tbody tr th:only-of-type {\n",
       "        vertical-align: middle;\n",
       "    }\n",
       "\n",
       "    .dataframe tbody tr th {\n",
       "        vertical-align: top;\n",
       "    }\n",
       "\n",
       "    .dataframe thead th {\n",
       "        text-align: right;\n",
       "    }\n",
       "</style>\n",
       "<table border=\"1\" class=\"dataframe\">\n",
       "  <thead>\n",
       "    <tr style=\"text-align: right;\">\n",
       "      <th></th>\n",
       "      <th>smiles (Largest component)</th>\n",
       "      <th>Total match counts</th>\n",
       "      <th>Rules</th>\n",
       "      <th>Descriptions</th>\n",
       "    </tr>\n",
       "  </thead>\n",
       "  <tbody>\n",
       "    <tr>\n",
       "      <th>0</th>\n",
       "      <td>O=C(C(=O)C1=CC=CC=C1)C1=CC=CC=C1</td>\n",
       "      <td>1</td>\n",
       "      <td>PAINS filters (family A)</td>\n",
       "      <td>imine_one_A(321)</td>\n",
       "    </tr>\n",
       "    <tr>\n",
       "      <th>1</th>\n",
       "      <td>CC(C)(\\N=N\\C(C)(C)C#N)C#N</td>\n",
       "      <td>1</td>\n",
       "      <td>PAINS filters (family A)</td>\n",
       "      <td>azo_A(324)</td>\n",
       "    </tr>\n",
       "  </tbody>\n",
       "</table>\n",
       "</div>"
      ],
      "text/plain": [
       "         smiles (Largest component)  Total match counts  \\\n",
       "0  O=C(C(=O)C1=CC=CC=C1)C1=CC=CC=C1                   1   \n",
       "1         CC(C)(\\N=N\\C(C)(C)C#N)C#N                   1   \n",
       "\n",
       "                      Rules      Descriptions  \n",
       "0  PAINS filters (family A)  imine_one_A(321)  \n",
       "1  PAINS filters (family A)        azo_A(324)  "
      ]
     },
     "execution_count": 6,
     "metadata": {},
     "output_type": "execute_result"
    }
   ],
   "source": [
    "pain_data = pd.read_csv(f\"{MAPPINGS_DIR}/pain_data.csv\", sep=\";\")\n",
    "pain_data = pain_data[\n",
    "    [\n",
    "        \"smiles (Largest component)\",  # desalted smiles\n",
    "        \"Total match counts\",\n",
    "        \"Rules\",\n",
    "        \"Descriptions\",\n",
    "    ]\n",
    "]\n",
    "pain_data.head(2)"
   ]
  },
  {
   "cell_type": "code",
   "execution_count": 7,
   "metadata": {},
   "outputs": [
    {
     "data": {
      "text/plain": [
       "3.561254189223906"
      ]
     },
     "execution_count": 7,
     "metadata": {},
     "output_type": "execute_result"
    }
   ],
   "source": [
    "# find percentage of unwanted structures in the dataset\n",
    "(\n",
    "    pain_data[\"smiles (Largest component)\"].nunique()\n",
    "    / properties_df[properties_df.mw < 2000][\"SMILES\"].nunique()\n",
    ") * 100"
   ]
  },
  {
   "cell_type": "markdown",
   "metadata": {},
   "source": [
    "Murcko scaffold dump"
   ]
  },
  {
   "cell_type": "code",
   "execution_count": 8,
   "metadata": {},
   "outputs": [
    {
     "data": {
      "text/plain": [
       "10695979"
      ]
     },
     "execution_count": 8,
     "metadata": {},
     "output_type": "execute_result"
    }
   ],
   "source": [
    "murcko_mapping_dict = json.load(open(f\"{MAPPINGS_DIR}/murcko_scaffolds.json\"))\n",
    "len(murcko_mapping_dict)"
   ]
  },
  {
   "cell_type": "code",
   "execution_count": 9,
   "metadata": {},
   "outputs": [],
   "source": [
    "murcko_wt_dict = json.load(open(f\"{MAPPINGS_DIR}/murcko_scaffold_mol_wt.json\"))"
   ]
  },
  {
   "cell_type": "code",
   "execution_count": 10,
   "metadata": {},
   "outputs": [
    {
     "data": {
      "text/plain": [
       "5163052"
      ]
     },
     "execution_count": 10,
     "metadata": {},
     "output_type": "execute_result"
    }
   ],
   "source": [
    "surechembl_df[\"scaffold\"] = surechembl_df[\"SMILES\"].map(murcko_mapping_dict)\n",
    "surechembl_df[\"scaffold_wt\"] = surechembl_df[\"scaffold\"].map(murcko_wt_dict)\n",
    "surechembl_df[\"scaffold\"].nunique()"
   ]
  },
  {
   "cell_type": "markdown",
   "metadata": {},
   "source": [
    "# Top 10 pain descriptors"
   ]
  },
  {
   "cell_type": "code",
   "execution_count": 11,
   "metadata": {},
   "outputs": [
    {
     "data": {
      "text/plain": [
       "277"
      ]
     },
     "execution_count": 11,
     "metadata": {},
     "output_type": "execute_result"
    }
   ],
   "source": [
    "pain_data[\"Descriptions\"].nunique()"
   ]
  },
  {
   "cell_type": "code",
   "execution_count": 12,
   "metadata": {},
   "outputs": [
    {
     "data": {
      "text/html": [
       "<div>\n",
       "<style scoped>\n",
       "    .dataframe tbody tr th:only-of-type {\n",
       "        vertical-align: middle;\n",
       "    }\n",
       "\n",
       "    .dataframe tbody tr th {\n",
       "        vertical-align: top;\n",
       "    }\n",
       "\n",
       "    .dataframe thead th {\n",
       "        text-align: right;\n",
       "    }\n",
       "</style>\n",
       "<table border=\"1\" class=\"dataframe\">\n",
       "  <thead>\n",
       "    <tr style=\"text-align: right;\">\n",
       "      <th></th>\n",
       "      <th>Descriptions</th>\n",
       "      <th>percentage</th>\n",
       "    </tr>\n",
       "  </thead>\n",
       "  <tbody>\n",
       "    <tr>\n",
       "      <th>azo_A(324)</th>\n",
       "      <td>71539</td>\n",
       "      <td>18.534908</td>\n",
       "    </tr>\n",
       "    <tr>\n",
       "      <th>anil_di_alk_A(478)</th>\n",
       "      <td>53902</td>\n",
       "      <td>13.965370</td>\n",
       "    </tr>\n",
       "    <tr>\n",
       "      <th>indol_3yl_alk(461)</th>\n",
       "      <td>33103</td>\n",
       "      <td>8.576596</td>\n",
       "    </tr>\n",
       "    <tr>\n",
       "      <th>catechol_A(92)</th>\n",
       "      <td>23500</td>\n",
       "      <td>6.088572</td>\n",
       "    </tr>\n",
       "    <tr>\n",
       "      <th>anil_di_alk_C(246)</th>\n",
       "      <td>22029</td>\n",
       "      <td>5.707453</td>\n",
       "    </tr>\n",
       "    <tr>\n",
       "      <th>quinone_A(370)</th>\n",
       "      <td>20697</td>\n",
       "      <td>5.362348</td>\n",
       "    </tr>\n",
       "    <tr>\n",
       "      <th>dyes5A(27)</th>\n",
       "      <td>15780</td>\n",
       "      <td>4.088411</td>\n",
       "    </tr>\n",
       "    <tr>\n",
       "      <th>mannich_A(296)</th>\n",
       "      <td>15562</td>\n",
       "      <td>4.031930</td>\n",
       "    </tr>\n",
       "    <tr>\n",
       "      <th>imine_one_A(321)</th>\n",
       "      <td>14940</td>\n",
       "      <td>3.870777</td>\n",
       "    </tr>\n",
       "    <tr>\n",
       "      <th>anil_di_alk_E(186)</th>\n",
       "      <td>12726</td>\n",
       "      <td>3.297156</td>\n",
       "    </tr>\n",
       "  </tbody>\n",
       "</table>\n",
       "</div>"
      ],
      "text/plain": [
       "                    Descriptions  percentage\n",
       "azo_A(324)                 71539   18.534908\n",
       "anil_di_alk_A(478)         53902   13.965370\n",
       "indol_3yl_alk(461)         33103    8.576596\n",
       "catechol_A(92)             23500    6.088572\n",
       "anil_di_alk_C(246)         22029    5.707453\n",
       "quinone_A(370)             20697    5.362348\n",
       "dyes5A(27)                 15780    4.088411\n",
       "mannich_A(296)             15562    4.031930\n",
       "imine_one_A(321)           14940    3.870777\n",
       "anil_di_alk_E(186)         12726    3.297156"
      ]
     },
     "execution_count": 12,
     "metadata": {},
     "output_type": "execute_result"
    }
   ],
   "source": [
    "pain_descriptors = pain_data[\"Descriptions\"].value_counts().to_frame()\n",
    "pain_descriptors[\"percentage\"] = (\n",
    "    pain_descriptors.Descriptions / pain_descriptors.Descriptions.sum()\n",
    ") * 100\n",
    "pain_descriptors.head(10)"
   ]
  },
  {
   "cell_type": "markdown",
   "metadata": {},
   "source": [
    "# Visualization"
   ]
  },
  {
   "cell_type": "code",
   "execution_count": 13,
   "metadata": {},
   "outputs": [],
   "source": [
    "# Saving the scaffold dataframe\n",
    "df = surechembl_df.copy()\n",
    "df.dropna(inplace=True)\n",
    "df.drop_duplicates(subset=[\"scaffold\"], inplace=True)\n",
    "df.to_parquet(\n",
    "    f\"{MAPPINGS_DIR}/unique_scaffold_mapped_patents.pq.gzip\", compression=\"gzip\"\n",
    ")"
   ]
  },
  {
   "cell_type": "code",
   "execution_count": 14,
   "metadata": {},
   "outputs": [],
   "source": [
    "scaffold_count_df = df.groupby(\"year\")[\"scaffold\"].count().reset_index()\n",
    "scaffold_count_df = scaffold_count_df.sort_values(\"year\", ascending=True)[1:]"
   ]
  },
  {
   "cell_type": "code",
   "execution_count": 15,
   "metadata": {},
   "outputs": [],
   "source": [
    "pain_distribution_df = (\n",
    "    pain_data[\"Total match counts\"].value_counts().to_frame().reset_index()\n",
    ")\n",
    "pain_distribution_df.columns = [\"pains\", \"count\"]"
   ]
  },
  {
   "cell_type": "code",
   "execution_count": 16,
   "metadata": {},
   "outputs": [],
   "source": [
    "properties_df.dropna(subset=\"mw\", inplace=True)\n",
    "mw_data = properties_df[\"mw\"].tolist()\n",
    "mw_data = [round(float(x), 2) for x in mw_data]"
   ]
  },
  {
   "cell_type": "code",
   "execution_count": 17,
   "metadata": {},
   "outputs": [
    {
     "data": {
      "image/png": "[encoded data removed]",
      "text/plain": [
       "<Figure size 2000x1500 with 4 Axes>"
      ]
     },
     "metadata": {},
     "output_type": "display_data"
    }
   ],
   "source": [
    "sns.set(rc={\"figure.figsize\": (20, 15)})\n",
    "sns.set_style(\"whitegrid\")\n",
    "\n",
    "# Molecular weight distribution\n",
    "plt.subplot(2, 2, 1)\n",
    "sns.histplot(x=mw_data, color=\"#ffbe7d\", bins=500)\n",
    "plt.xticks(fontsize=15)\n",
    "plt.yticks(fontsize=15)\n",
    "plt.xlabel(\"Molecular weight\", fontsize=18)\n",
    "plt.ylabel(\"Number of compounds\", fontsize=18)\n",
    "plt.xlim(0, 3000)\n",
    "plt.text(\n",
    "    -0.1,\n",
    "    1.1,\n",
    "    string.ascii_uppercase[0],\n",
    "    size=24,\n",
    "    weight=\"bold\",\n",
    "    horizontalalignment=\"center\",\n",
    "    verticalalignment=\"center\",\n",
    "    transform=plt.gca().transAxes,\n",
    ")\n",
    "\n",
    "# PAINS distribution\n",
    "plt.subplot(2, 2, 2)\n",
    "sns.barplot(\n",
    "    x=pain_distribution_df[\"pains\"], y=pain_distribution_df[\"count\"], color=\"#ffbe7d\"\n",
    ")\n",
    "plt.xticks(fontsize=15)\n",
    "plt.yticks(fontsize=15)\n",
    "plt.yscale(\"log\")\n",
    "plt.ylabel(\"Number of compounds\", fontsize=18)\n",
    "plt.xlabel(\"Number of PAINS alerts\", fontsize=18)\n",
    "plt.text(\n",
    "    -0.1,\n",
    "    1.1,\n",
    "    string.ascii_uppercase[1],\n",
    "    size=24,\n",
    "    weight=\"bold\",\n",
    "    horizontalalignment=\"center\",\n",
    "    verticalalignment=\"center\",\n",
    "    transform=plt.gca().transAxes,\n",
    ")\n",
    "\n",
    "# Scaffold distribution\n",
    "plt.subplot(2, 2, 3)\n",
    "sns.barplot(\n",
    "    x=scaffold_count_df[\"year\"], y=scaffold_count_df[\"scaffold\"], color=\"#ffbe7d\"\n",
    ")\n",
    "plt.xticks(fontsize=15)\n",
    "plt.yticks(fontsize=15)\n",
    "plt.xlabel(\"Year\", fontsize=18)\n",
    "plt.ylabel(\"Number of scaffolds\", fontsize=18)\n",
    "plt.text(\n",
    "    -0.1,\n",
    "    1.1,\n",
    "    string.ascii_uppercase[2],\n",
    "    size=24,\n",
    "    weight=\"bold\",\n",
    "    horizontalalignment=\"center\",\n",
    "    verticalalignment=\"center\",\n",
    "    transform=plt.gca().transAxes,\n",
    ")\n",
    "\n",
    "# Distribution of molecular weight of scaffolds\n",
    "plt.subplot(2, 2, 4)\n",
    "sns.histplot(x=surechembl_df[\"scaffold_wt\"], color=\"#ffbe7d\", bins=100)\n",
    "plt.xticks(fontsize=15)\n",
    "plt.yticks(fontsize=15)\n",
    "plt.xlabel(\"Molecular weight of scaffolds\", fontsize=18)\n",
    "plt.ylabel(\"Number of scaffolds\", fontsize=18)\n",
    "plt.xlim(0, 3000)\n",
    "plt.text(\n",
    "    -0.1,\n",
    "    1.1,\n",
    "    string.ascii_uppercase[3],\n",
    "    size=24,\n",
    "    weight=\"bold\",\n",
    "    horizontalalignment=\"center\",\n",
    "    verticalalignment=\"center\",\n",
    "    transform=plt.gca().transAxes,\n",
    ")\n",
    "\n",
    "plt.tight_layout()\n",
    "plt.savefig(f\"{FIGURE_DIR}/figure_5.png\", dpi=400)\n",
    "plt.show()"
   ]
  },
  {
   "cell_type": "code",
   "execution_count": 18,
   "metadata": {},
   "outputs": [
    {
     "data": {
      "text/plain": [
       "(3842104, 548872.0)"
      ]
     },
     "execution_count": 18,
     "metadata": {},
     "output_type": "execute_result"
    }
   ],
   "source": [
    "scaffold_count_df[\"scaffold\"].sum(), scaffold_count_df[\"scaffold\"].mean()"
   ]
  },
  {
   "cell_type": "markdown",
   "metadata": {},
   "source": [
    "# Scaffold and patent sections"
   ]
  },
  {
   "cell_type": "code",
   "execution_count": 19,
   "metadata": {},
   "outputs": [
    {
     "data": {
      "text/html": [
       "<div>\n",
       "<style scoped>\n",
       "    .dataframe tbody tr th:only-of-type {\n",
       "        vertical-align: middle;\n",
       "    }\n",
       "\n",
       "    .dataframe tbody tr th {\n",
       "        vertical-align: top;\n",
       "    }\n",
       "\n",
       "    .dataframe thead th {\n",
       "        text-align: right;\n",
       "    }\n",
       "</style>\n",
       "<table border=\"1\" class=\"dataframe\">\n",
       "  <thead>\n",
       "    <tr style=\"text-align: right;\">\n",
       "      <th></th>\n",
       "      <th>Field</th>\n",
       "      <th>scaffold</th>\n",
       "      <th>%</th>\n",
       "    </tr>\n",
       "  </thead>\n",
       "  <tbody>\n",
       "    <tr>\n",
       "      <th>0</th>\n",
       "      <td>Abstract</td>\n",
       "      <td>17431</td>\n",
       "      <td>0.079960</td>\n",
       "    </tr>\n",
       "    <tr>\n",
       "      <th>1</th>\n",
       "      <td>Claims</td>\n",
       "      <td>2002898</td>\n",
       "      <td>9.187696</td>\n",
       "    </tr>\n",
       "    <tr>\n",
       "      <th>2</th>\n",
       "      <td>Description</td>\n",
       "      <td>9166813</td>\n",
       "      <td>42.050014</td>\n",
       "    </tr>\n",
       "    <tr>\n",
       "      <th>3</th>\n",
       "      <td>Image (for patents after 2007)</td>\n",
       "      <td>9391851</td>\n",
       "      <td>43.082308</td>\n",
       "    </tr>\n",
       "    <tr>\n",
       "      <th>4</th>\n",
       "      <td>MOL Attachment (US patents after 2007)</td>\n",
       "      <td>1215095</td>\n",
       "      <td>5.573885</td>\n",
       "    </tr>\n",
       "    <tr>\n",
       "      <th>5</th>\n",
       "      <td>Title</td>\n",
       "      <td>5698</td>\n",
       "      <td>0.026138</td>\n",
       "    </tr>\n",
       "  </tbody>\n",
       "</table>\n",
       "</div>"
      ],
      "text/plain": [
       "                                    Field  scaffold          %\n",
       "0                                Abstract     17431   0.079960\n",
       "1                                  Claims   2002898   9.187696\n",
       "2                             Description   9166813  42.050014\n",
       "3          Image (for patents after 2007)   9391851  43.082308\n",
       "4  MOL Attachment (US patents after 2007)   1215095   5.573885\n",
       "5                                   Title      5698   0.026138"
      ]
     },
     "execution_count": 19,
     "metadata": {},
     "output_type": "execute_result"
    }
   ],
   "source": [
    "scaffold_pat_field_df = (\n",
    "    surechembl_df.groupby([\"Field\"])[\"scaffold\"].count().reset_index()\n",
    ")\n",
    "scaffold_pat_field_df[\"%\"] = (\n",
    "    scaffold_pat_field_df[\"scaffold\"] / scaffold_pat_field_df[\"scaffold\"].sum()\n",
    ") * 100\n",
    "scaffold_pat_field_df"
   ]
  },
  {
   "cell_type": "code",
   "execution_count": null,
   "metadata": {},
   "outputs": [],
   "source": []
  }
 ],
 "metadata": {
  "kernelspec": {
   "display_name": "patent_kg",
   "language": "python",
   "name": "patent_kg"
  },
  "language_info": {
   "codemirror_mode": {
    "name": "ipython",
    "version": 3
   },
   "file_extension": ".py",
   "mimetype": "text/x-python",
   "name": "python",
   "nbconvert_exporter": "python",
   "pygments_lexer": "ipython3",
   "version": "3.9.16"
  },
  "orig_nbformat": 4
 },
 "nbformat": 4,
 "nbformat_minor": 2
}
