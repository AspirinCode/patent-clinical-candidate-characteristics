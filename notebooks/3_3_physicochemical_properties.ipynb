{
 "cells": [
  {
   "cell_type": "markdown",
   "id": "14e658ac",
   "metadata": {},
   "source": [
    "# Physicochemical diversity of compounds found in patents\n",
    "This notebook calculates the distribution between the physicochemical properties of the SureChEMBL compounds per year."
   ]
  },
  {
   "cell_type": "markdown",
   "id": "cd18031f",
   "metadata": {},
   "source": [
    "# Import Modules"
   ]
  },
  {
   "cell_type": "code",
   "execution_count": 1,
   "id": "5e64548f",
   "metadata": {},
   "outputs": [],
   "source": [
    "import json\n",
    "import pandas as pd\n",
    "from tqdm import tqdm\n",
    "\n",
    "\n",
    "tqdm.pandas()"
   ]
  },
  {
   "cell_type": "markdown",
   "id": "41ad219b",
   "metadata": {},
   "source": [
    "# Add path constants"
   ]
  },
  {
   "cell_type": "code",
   "execution_count": 2,
   "id": "3140f909",
   "metadata": {},
   "outputs": [],
   "source": [
    "DATA_DIR = '../data'"
   ]
  },
  {
   "cell_type": "markdown",
   "id": "29fec6ce",
   "metadata": {},
   "source": [
    "# Load data file"
   ]
  },
  {
   "cell_type": "code",
   "execution_count": 3,
   "id": "10047044",
   "metadata": {},
   "outputs": [
    {
     "data": {
      "text/html": [
       "<div>\n",
       "<style scoped>\n",
       "    .dataframe tbody tr th:only-of-type {\n",
       "        vertical-align: middle;\n",
       "    }\n",
       "\n",
       "    .dataframe tbody tr th {\n",
       "        vertical-align: top;\n",
       "    }\n",
       "\n",
       "    .dataframe thead th {\n",
       "        text-align: right;\n",
       "    }\n",
       "</style>\n",
       "<table border=\"1\" class=\"dataframe\">\n",
       "  <thead>\n",
       "    <tr style=\"text-align: right;\">\n",
       "      <th></th>\n",
       "      <th>SureChEMBL_ID</th>\n",
       "      <th>SMILES</th>\n",
       "      <th>InChIKey</th>\n",
       "      <th>PATENT_ID</th>\n",
       "      <th>PUBLICATION_DATE</th>\n",
       "      <th>Field</th>\n",
       "    </tr>\n",
       "  </thead>\n",
       "  <tbody>\n",
       "    <tr>\n",
       "      <th>0</th>\n",
       "      <td>SCHEMBL4</td>\n",
       "      <td>C[C@H](CS)C(=O)N1CCC[C@H]1C(O)=O</td>\n",
       "      <td>FAKRSMQSSFJEIM-RQJHMYQMSA-N</td>\n",
       "      <td>EP-2842582-A2</td>\n",
       "      <td>2015-03-04</td>\n",
       "      <td>Description</td>\n",
       "    </tr>\n",
       "    <tr>\n",
       "      <th>1</th>\n",
       "      <td>SCHEMBL4</td>\n",
       "      <td>C[C@H](CS)C(=O)N1CCC[C@H]1C(O)=O</td>\n",
       "      <td>FAKRSMQSSFJEIM-RQJHMYQMSA-N</td>\n",
       "      <td>EP-2838373-A2</td>\n",
       "      <td>2015-02-25</td>\n",
       "      <td>Description</td>\n",
       "    </tr>\n",
       "  </tbody>\n",
       "</table>\n",
       "</div>"
      ],
      "text/plain": [
       "  SureChEMBL_ID                            SMILES  \\\n",
       "0      SCHEMBL4  C[C@H](CS)C(=O)N1CCC[C@H]1C(O)=O   \n",
       "1      SCHEMBL4  C[C@H](CS)C(=O)N1CCC[C@H]1C(O)=O   \n",
       "\n",
       "                      InChIKey      PATENT_ID PUBLICATION_DATE        Field  \n",
       "0  FAKRSMQSSFJEIM-RQJHMYQMSA-N  EP-2842582-A2       2015-03-04  Description  \n",
       "1  FAKRSMQSSFJEIM-RQJHMYQMSA-N  EP-2838373-A2       2015-02-25  Description  "
      ]
     },
     "execution_count": 3,
     "metadata": {},
     "output_type": "execute_result"
    }
   ],
   "source": [
    "surechembl_df = pd.read_parquet(f'{DATA_DIR}/surechembl_dump.pq')\n",
    "surechembl_df.head(2)"
   ]
  },
  {
   "cell_type": "code",
   "execution_count": 4,
   "id": "c6189f78",
   "metadata": {},
   "outputs": [
    {
     "name": "stderr",
     "output_type": "stream",
     "text": [
      "100%|██████████| 133512452/133512452 [03:11<00:00, 697353.73it/s]\n"
     ]
    }
   ],
   "source": [
    "surechembl_df['year'] = surechembl_df['PUBLICATION_DATE'].progress_apply(lambda x: x.split('-')[0])"
   ]
  },
  {
   "cell_type": "markdown",
   "id": "ec1bf079",
   "metadata": {},
   "source": [
    "# Filtering unique compounds per year"
   ]
  },
  {
   "cell_type": "code",
   "execution_count": 5,
   "id": "ecb486fc",
   "metadata": {},
   "outputs": [
    {
     "data": {
      "text/plain": [
       "21857225"
      ]
     },
     "execution_count": 5,
     "metadata": {},
     "output_type": "execute_result"
    }
   ],
   "source": [
    "surechem_df = surechembl_df.drop_duplicates(subset=[\"InChIKey\",\"year\"], keep='first')\n",
    "surechem_df.reset_index(drop=True, inplace=True)\n",
    "len(surechem_df)"
   ]
  },
  {
   "cell_type": "code",
   "execution_count": 6,
   "id": "28387b99",
   "metadata": {},
   "outputs": [],
   "source": [
    "year_df = surechem_df[['SMILES', 'year']].copy()\n",
    "year_df.drop_duplicates(subset=['SMILES'], keep='first', inplace=True)"
   ]
  },
  {
   "cell_type": "markdown",
   "id": "657e1a9b",
   "metadata": {},
   "source": [
    "# Load properties data dump"
   ]
  },
  {
   "cell_type": "code",
   "execution_count": 7,
   "id": "6f29a815",
   "metadata": {},
   "outputs": [],
   "source": [
    "properties_dict = json.load(open(f'{DATA_DIR}/properties.json'))"
   ]
  },
  {
   "cell_type": "code",
   "execution_count": 8,
   "id": "adb0c015",
   "metadata": {},
   "outputs": [
    {
     "data": {
      "text/html": [
       "<div>\n",
       "<style scoped>\n",
       "    .dataframe tbody tr th:only-of-type {\n",
       "        vertical-align: middle;\n",
       "    }\n",
       "\n",
       "    .dataframe tbody tr th {\n",
       "        vertical-align: top;\n",
       "    }\n",
       "\n",
       "    .dataframe thead th {\n",
       "        text-align: right;\n",
       "    }\n",
       "</style>\n",
       "<table border=\"1\" class=\"dataframe\">\n",
       "  <thead>\n",
       "    <tr style=\"text-align: right;\">\n",
       "      <th></th>\n",
       "      <th>SMILES</th>\n",
       "      <th>mw</th>\n",
       "      <th>logp</th>\n",
       "      <th>n_hba</th>\n",
       "      <th>n_hbd</th>\n",
       "      <th>rot_bonds</th>\n",
       "      <th>tpsa</th>\n",
       "      <th>fsp3</th>\n",
       "      <th>n_chiral</th>\n",
       "      <th>n_ring</th>\n",
       "      <th>n_heteroatoms</th>\n",
       "      <th>so_atoms</th>\n",
       "    </tr>\n",
       "  </thead>\n",
       "  <tbody>\n",
       "    <tr>\n",
       "      <th>0</th>\n",
       "      <td>C[C@H](CS)C(=O)N1CCC[C@H]1C(O)=O</td>\n",
       "      <td>217.077264</td>\n",
       "      <td>0.6279</td>\n",
       "      <td>3</td>\n",
       "      <td>2</td>\n",
       "      <td>3</td>\n",
       "      <td>57.61</td>\n",
       "      <td>0.777778</td>\n",
       "      <td>1</td>\n",
       "      <td>1</td>\n",
       "      <td>5</td>\n",
       "      <td>False</td>\n",
       "    </tr>\n",
       "    <tr>\n",
       "      <th>1</th>\n",
       "      <td>O=C(O)\\C=C/C(=O)O.CCOC(=O)[C@H](CCC1=CC=CC=C1)...</td>\n",
       "      <td>492.210781</td>\n",
       "      <td>1.3164</td>\n",
       "      <td>7</td>\n",
       "      <td>4</td>\n",
       "      <td>11</td>\n",
       "      <td>170.54</td>\n",
       "      <td>0.458333</td>\n",
       "      <td>1</td>\n",
       "      <td>2</td>\n",
       "      <td>11</td>\n",
       "      <td>False</td>\n",
       "    </tr>\n",
       "  </tbody>\n",
       "</table>\n",
       "</div>"
      ],
      "text/plain": [
       "                                              SMILES          mw    logp  \\\n",
       "0                   C[C@H](CS)C(=O)N1CCC[C@H]1C(O)=O  217.077264  0.6279   \n",
       "1  O=C(O)\\C=C/C(=O)O.CCOC(=O)[C@H](CCC1=CC=CC=C1)...  492.210781  1.3164   \n",
       "\n",
       "  n_hba n_hbd rot_bonds    tpsa      fsp3 n_chiral n_ring n_heteroatoms  \\\n",
       "0     3     2         3   57.61  0.777778        1      1             5   \n",
       "1     7     4        11  170.54  0.458333        1      2            11   \n",
       "\n",
       "  so_atoms  \n",
       "0    False  \n",
       "1    False  "
      ]
     },
     "execution_count": 8,
     "metadata": {},
     "output_type": "execute_result"
    }
   ],
   "source": [
    "properties_df = pd.DataFrame(properties_dict)\n",
    "properties_df = properties_df.T\n",
    "properties_df.reset_index(inplace=True)\n",
    "properties_df.rename(columns={'index': 'SMILES'}, inplace=True)\n",
    "properties_df.head(2)"
   ]
  },
  {
   "cell_type": "code",
   "execution_count": 9,
   "id": "17d6d864",
   "metadata": {},
   "outputs": [
    {
     "data": {
      "text/plain": [
       "10695979"
      ]
     },
     "execution_count": 9,
     "metadata": {},
     "output_type": "execute_result"
    }
   ],
   "source": [
    "len(properties_df)"
   ]
  },
  {
   "cell_type": "code",
   "execution_count": 10,
   "id": "875c9444",
   "metadata": {},
   "outputs": [
    {
     "data": {
      "text/plain": [
       "False    10667532\n",
       "True         5469\n",
       "Name: so_atoms, dtype: int64"
      ]
     },
     "execution_count": 10,
     "metadata": {},
     "output_type": "execute_result"
    }
   ],
   "source": [
    "properties_df['so_atoms'].value_counts()"
   ]
  },
  {
   "cell_type": "markdown",
   "id": "1c3bc19b",
   "metadata": {},
   "source": [
    "# Combining the properties data with the SureChEMBL compounds"
   ]
  },
  {
   "cell_type": "code",
   "execution_count": 11,
   "id": "19d2a8b5",
   "metadata": {},
   "outputs": [
    {
     "data": {
      "text/html": [
       "<div>\n",
       "<style scoped>\n",
       "    .dataframe tbody tr th:only-of-type {\n",
       "        vertical-align: middle;\n",
       "    }\n",
       "\n",
       "    .dataframe tbody tr th {\n",
       "        vertical-align: top;\n",
       "    }\n",
       "\n",
       "    .dataframe thead th {\n",
       "        text-align: right;\n",
       "    }\n",
       "</style>\n",
       "<table border=\"1\" class=\"dataframe\">\n",
       "  <thead>\n",
       "    <tr style=\"text-align: right;\">\n",
       "      <th></th>\n",
       "      <th>SMILES</th>\n",
       "      <th>mw</th>\n",
       "      <th>logp</th>\n",
       "      <th>n_hba</th>\n",
       "      <th>n_hbd</th>\n",
       "      <th>rot_bonds</th>\n",
       "      <th>tpsa</th>\n",
       "      <th>fsp3</th>\n",
       "      <th>n_chiral</th>\n",
       "      <th>n_ring</th>\n",
       "      <th>n_heteroatoms</th>\n",
       "      <th>so_atoms</th>\n",
       "      <th>year</th>\n",
       "    </tr>\n",
       "  </thead>\n",
       "  <tbody>\n",
       "    <tr>\n",
       "      <th>0</th>\n",
       "      <td>C[C@H](CS)C(=O)N1CCC[C@H]1C(O)=O</td>\n",
       "      <td>217.077264</td>\n",
       "      <td>0.6279</td>\n",
       "      <td>3</td>\n",
       "      <td>2</td>\n",
       "      <td>3</td>\n",
       "      <td>57.61</td>\n",
       "      <td>0.777778</td>\n",
       "      <td>1</td>\n",
       "      <td>1</td>\n",
       "      <td>5</td>\n",
       "      <td>False</td>\n",
       "      <td>2015</td>\n",
       "    </tr>\n",
       "    <tr>\n",
       "      <th>1</th>\n",
       "      <td>O=C(O)\\C=C/C(=O)O.CCOC(=O)[C@H](CCC1=CC=CC=C1)...</td>\n",
       "      <td>492.210781</td>\n",
       "      <td>1.3164</td>\n",
       "      <td>7</td>\n",
       "      <td>4</td>\n",
       "      <td>11</td>\n",
       "      <td>170.54</td>\n",
       "      <td>0.458333</td>\n",
       "      <td>1</td>\n",
       "      <td>2</td>\n",
       "      <td>11</td>\n",
       "      <td>False</td>\n",
       "      <td>2015</td>\n",
       "    </tr>\n",
       "  </tbody>\n",
       "</table>\n",
       "</div>"
      ],
      "text/plain": [
       "                                              SMILES          mw    logp  \\\n",
       "0                   C[C@H](CS)C(=O)N1CCC[C@H]1C(O)=O  217.077264  0.6279   \n",
       "1  O=C(O)\\C=C/C(=O)O.CCOC(=O)[C@H](CCC1=CC=CC=C1)...  492.210781  1.3164   \n",
       "\n",
       "  n_hba n_hbd rot_bonds    tpsa      fsp3 n_chiral n_ring n_heteroatoms  \\\n",
       "0     3     2         3   57.61  0.777778        1      1             5   \n",
       "1     7     4        11  170.54  0.458333        1      2            11   \n",
       "\n",
       "  so_atoms  year  \n",
       "0    False  2015  \n",
       "1    False  2015  "
      ]
     },
     "execution_count": 11,
     "metadata": {},
     "output_type": "execute_result"
    }
   ],
   "source": [
    "property_annotated_smiles_df = pd.merge(properties_df, year_df, how=\"left\", on=[\"SMILES\"])\n",
    "property_annotated_smiles_df.head(2)"
   ]
  },
  {
   "cell_type": "code",
   "execution_count": 12,
   "id": "82cc58e2",
   "metadata": {},
   "outputs": [
    {
     "data": {
      "text/plain": [
       "10695979"
      ]
     },
     "execution_count": 12,
     "metadata": {},
     "output_type": "execute_result"
    }
   ],
   "source": [
    "len(property_annotated_smiles_df)"
   ]
  },
  {
   "cell_type": "markdown",
   "id": "6454301e",
   "metadata": {},
   "source": [
    "# Removal of salts from the compound list"
   ]
  },
  {
   "cell_type": "code",
   "execution_count": 13,
   "id": "f0a090d1",
   "metadata": {},
   "outputs": [
    {
     "name": "stderr",
     "output_type": "stream",
     "text": [
      "100%|██████████| 10695979/10695979 [00:03<00:00, 3320569.39it/s]\n"
     ]
    },
    {
     "data": {
      "text/plain": [
       "328882"
      ]
     },
     "execution_count": 13,
     "metadata": {},
     "output_type": "execute_result"
    }
   ],
   "source": [
    "compounds_with_salt = set()\n",
    "\n",
    "for smile in tqdm(property_annotated_smiles_df['SMILES'].unique()):\n",
    "    if '.' in smile:\n",
    "        compounds_with_salt.add(smile)\n",
    "\n",
    "len(compounds_with_salt)"
   ]
  },
  {
   "cell_type": "code",
   "execution_count": 14,
   "id": "1bcb2f99",
   "metadata": {},
   "outputs": [
    {
     "data": {
      "text/plain": [
       "(10367097, 13)"
      ]
     },
     "execution_count": 14,
     "metadata": {},
     "output_type": "execute_result"
    }
   ],
   "source": [
    "final_compound_df = property_annotated_smiles_df[~property_annotated_smiles_df['SMILES'].isin(compounds_with_salt)]\n",
    "final_compound_df.shape"
   ]
  },
  {
   "cell_type": "markdown",
   "id": "c363a740",
   "metadata": {},
   "source": [
    "# Statistical distribution of molecular properties each year"
   ]
  },
  {
   "cell_type": "code",
   "execution_count": 15,
   "id": "7700bf82",
   "metadata": {},
   "outputs": [],
   "source": [
    "pd.options.display.float_format = '{:.2f}'.format"
   ]
  },
  {
   "cell_type": "code",
   "execution_count": 18,
   "id": "bf5372e1",
   "metadata": {},
   "outputs": [
    {
     "name": "stderr",
     "output_type": "stream",
     "text": [
      "100%|██████████| 8/8 [00:34<00:00,  4.31s/it]\n"
     ]
    },
    {
     "data": {
      "text/html": [
       "<div>\n",
       "<style scoped>\n",
       "    .dataframe tbody tr th:only-of-type {\n",
       "        vertical-align: middle;\n",
       "    }\n",
       "\n",
       "    .dataframe tbody tr th {\n",
       "        vertical-align: top;\n",
       "    }\n",
       "\n",
       "    .dataframe thead th {\n",
       "        text-align: right;\n",
       "    }\n",
       "</style>\n",
       "<table border=\"1\" class=\"dataframe\">\n",
       "  <thead>\n",
       "    <tr style=\"text-align: right;\">\n",
       "      <th></th>\n",
       "      <th>mw</th>\n",
       "      <th>logp</th>\n",
       "      <th>n_hba</th>\n",
       "      <th>n_hbd</th>\n",
       "      <th>rot_bonds</th>\n",
       "      <th>tpsa</th>\n",
       "      <th>fsp3</th>\n",
       "      <th>n_chiral</th>\n",
       "      <th>n_ring</th>\n",
       "      <th>n_heteroatoms</th>\n",
       "      <th>so_atoms</th>\n",
       "      <th>year</th>\n",
       "    </tr>\n",
       "  </thead>\n",
       "  <tbody>\n",
       "    <tr>\n",
       "      <th>0</th>\n",
       "      <td>398.07</td>\n",
       "      <td>3.56</td>\n",
       "      <td>5.00</td>\n",
       "      <td>1.00</td>\n",
       "      <td>5.00</td>\n",
       "      <td>73.58</td>\n",
       "      <td>0.36</td>\n",
       "      <td>1.00</td>\n",
       "      <td>3.00</td>\n",
       "      <td>7.00</td>\n",
       "      <td>0.00</td>\n",
       "      <td>2015</td>\n",
       "    </tr>\n",
       "    <tr>\n",
       "      <th>1</th>\n",
       "      <td>419.22</td>\n",
       "      <td>3.76</td>\n",
       "      <td>5.00</td>\n",
       "      <td>1.00</td>\n",
       "      <td>5.00</td>\n",
       "      <td>75.71</td>\n",
       "      <td>0.35</td>\n",
       "      <td>1.00</td>\n",
       "      <td>4.00</td>\n",
       "      <td>7.00</td>\n",
       "      <td>0.00</td>\n",
       "      <td>2016</td>\n",
       "    </tr>\n",
       "    <tr>\n",
       "      <th>2</th>\n",
       "      <td>422.22</td>\n",
       "      <td>3.80</td>\n",
       "      <td>5.00</td>\n",
       "      <td>1.00</td>\n",
       "      <td>5.00</td>\n",
       "      <td>72.19</td>\n",
       "      <td>0.38</td>\n",
       "      <td>1.00</td>\n",
       "      <td>4.00</td>\n",
       "      <td>7.00</td>\n",
       "      <td>0.00</td>\n",
       "      <td>2017</td>\n",
       "    </tr>\n",
       "    <tr>\n",
       "      <th>3</th>\n",
       "      <td>424.23</td>\n",
       "      <td>3.89</td>\n",
       "      <td>5.00</td>\n",
       "      <td>1.00</td>\n",
       "      <td>5.00</td>\n",
       "      <td>72.70</td>\n",
       "      <td>0.36</td>\n",
       "      <td>1.00</td>\n",
       "      <td>4.00</td>\n",
       "      <td>7.00</td>\n",
       "      <td>0.00</td>\n",
       "      <td>2018</td>\n",
       "    </tr>\n",
       "    <tr>\n",
       "      <th>4</th>\n",
       "      <td>430.18</td>\n",
       "      <td>3.82</td>\n",
       "      <td>5.00</td>\n",
       "      <td>1.00</td>\n",
       "      <td>5.00</td>\n",
       "      <td>74.77</td>\n",
       "      <td>0.38</td>\n",
       "      <td>1.00</td>\n",
       "      <td>4.00</td>\n",
       "      <td>7.00</td>\n",
       "      <td>0.00</td>\n",
       "      <td>2019</td>\n",
       "    </tr>\n",
       "    <tr>\n",
       "      <th>5</th>\n",
       "      <td>439.20</td>\n",
       "      <td>3.88</td>\n",
       "      <td>5.00</td>\n",
       "      <td>1.00</td>\n",
       "      <td>5.00</td>\n",
       "      <td>75.01</td>\n",
       "      <td>0.37</td>\n",
       "      <td>1.00</td>\n",
       "      <td>4.00</td>\n",
       "      <td>7.00</td>\n",
       "      <td>0.00</td>\n",
       "      <td>2020</td>\n",
       "    </tr>\n",
       "    <tr>\n",
       "      <th>6</th>\n",
       "      <td>442.20</td>\n",
       "      <td>3.90</td>\n",
       "      <td>5.00</td>\n",
       "      <td>1.00</td>\n",
       "      <td>5.00</td>\n",
       "      <td>74.95</td>\n",
       "      <td>0.38</td>\n",
       "      <td>1.00</td>\n",
       "      <td>4.00</td>\n",
       "      <td>7.00</td>\n",
       "      <td>0.00</td>\n",
       "      <td>2021</td>\n",
       "    </tr>\n",
       "    <tr>\n",
       "      <th>7</th>\n",
       "      <td>461.98</td>\n",
       "      <td>4.13</td>\n",
       "      <td>5.00</td>\n",
       "      <td>1.00</td>\n",
       "      <td>5.00</td>\n",
       "      <td>72.19</td>\n",
       "      <td>0.38</td>\n",
       "      <td>1.00</td>\n",
       "      <td>4.00</td>\n",
       "      <td>7.00</td>\n",
       "      <td>0.00</td>\n",
       "      <td>2022</td>\n",
       "    </tr>\n",
       "  </tbody>\n",
       "</table>\n",
       "</div>"
      ],
      "text/plain": [
       "      mw  logp  n_hba  n_hbd  rot_bonds  tpsa  fsp3  n_chiral  n_ring  \\\n",
       "0 398.07  3.56   5.00   1.00       5.00 73.58  0.36      1.00    3.00   \n",
       "1 419.22  3.76   5.00   1.00       5.00 75.71  0.35      1.00    4.00   \n",
       "2 422.22  3.80   5.00   1.00       5.00 72.19  0.38      1.00    4.00   \n",
       "3 424.23  3.89   5.00   1.00       5.00 72.70  0.36      1.00    4.00   \n",
       "4 430.18  3.82   5.00   1.00       5.00 74.77  0.38      1.00    4.00   \n",
       "5 439.20  3.88   5.00   1.00       5.00 75.01  0.37      1.00    4.00   \n",
       "6 442.20  3.90   5.00   1.00       5.00 74.95  0.38      1.00    4.00   \n",
       "7 461.98  4.13   5.00   1.00       5.00 72.19  0.38      1.00    4.00   \n",
       "\n",
       "   n_heteroatoms  so_atoms  year  \n",
       "0           7.00      0.00  2015  \n",
       "1           7.00      0.00  2016  \n",
       "2           7.00      0.00  2017  \n",
       "3           7.00      0.00  2018  \n",
       "4           7.00      0.00  2019  \n",
       "5           7.00      0.00  2020  \n",
       "6           7.00      0.00  2021  \n",
       "7           7.00      0.00  2022  "
      ]
     },
     "execution_count": 18,
     "metadata": {},
     "output_type": "execute_result"
    }
   ],
   "source": [
    "t_median = []\n",
    "\n",
    "for year in tqdm(final_compound_df['year'].unique()):\n",
    "    k = final_compound_df[final_compound_df['year'] == year].drop(columns=['SMILES', 'year'])\n",
    "    m = k.median(axis=0).to_dict()\n",
    "    m['year'] = year\n",
    "    t_median.append(m)\n",
    "\n",
    "df_median = pd.DataFrame(t_median)\n",
    "df_median"
   ]
  },
  {
   "cell_type": "code",
   "execution_count": 19,
   "id": "5b85febd",
   "metadata": {},
   "outputs": [
    {
     "name": "stderr",
     "output_type": "stream",
     "text": [
      "100%|██████████| 8/8 [00:26<00:00,  3.32s/it]\n"
     ]
    },
    {
     "data": {
      "text/html": [
       "<div>\n",
       "<style scoped>\n",
       "    .dataframe tbody tr th:only-of-type {\n",
       "        vertical-align: middle;\n",
       "    }\n",
       "\n",
       "    .dataframe tbody tr th {\n",
       "        vertical-align: top;\n",
       "    }\n",
       "\n",
       "    .dataframe thead th {\n",
       "        text-align: right;\n",
       "    }\n",
       "</style>\n",
       "<table border=\"1\" class=\"dataframe\">\n",
       "  <thead>\n",
       "    <tr style=\"text-align: right;\">\n",
       "      <th></th>\n",
       "      <th>mw</th>\n",
       "      <th>logp</th>\n",
       "      <th>n_hba</th>\n",
       "      <th>n_hbd</th>\n",
       "      <th>rot_bonds</th>\n",
       "      <th>tpsa</th>\n",
       "      <th>fsp3</th>\n",
       "      <th>n_chiral</th>\n",
       "      <th>n_ring</th>\n",
       "      <th>n_heteroatoms</th>\n",
       "      <th>so_atoms</th>\n",
       "      <th>year</th>\n",
       "    </tr>\n",
       "  </thead>\n",
       "  <tbody>\n",
       "    <tr>\n",
       "      <th>0</th>\n",
       "      <td>412.54</td>\n",
       "      <td>3.98</td>\n",
       "      <td>5.13</td>\n",
       "      <td>1.49</td>\n",
       "      <td>5.95</td>\n",
       "      <td>79.47</td>\n",
       "      <td>0.39</td>\n",
       "      <td>4.40</td>\n",
       "      <td>3.52</td>\n",
       "      <td>7.34</td>\n",
       "      <td>0.00</td>\n",
       "      <td>2015</td>\n",
       "    </tr>\n",
       "    <tr>\n",
       "      <th>1</th>\n",
       "      <td>442.26</td>\n",
       "      <td>4.35</td>\n",
       "      <td>5.42</td>\n",
       "      <td>1.55</td>\n",
       "      <td>6.33</td>\n",
       "      <td>83.19</td>\n",
       "      <td>0.38</td>\n",
       "      <td>5.05</td>\n",
       "      <td>3.90</td>\n",
       "      <td>7.73</td>\n",
       "      <td>0.00</td>\n",
       "      <td>2016</td>\n",
       "    </tr>\n",
       "    <tr>\n",
       "      <th>2</th>\n",
       "      <td>453.70</td>\n",
       "      <td>4.60</td>\n",
       "      <td>5.36</td>\n",
       "      <td>1.62</td>\n",
       "      <td>6.55</td>\n",
       "      <td>81.65</td>\n",
       "      <td>0.40</td>\n",
       "      <td>7.01</td>\n",
       "      <td>4.05</td>\n",
       "      <td>7.53</td>\n",
       "      <td>0.00</td>\n",
       "      <td>2017</td>\n",
       "    </tr>\n",
       "    <tr>\n",
       "      <th>3</th>\n",
       "      <td>454.57</td>\n",
       "      <td>4.67</td>\n",
       "      <td>5.38</td>\n",
       "      <td>1.53</td>\n",
       "      <td>6.54</td>\n",
       "      <td>80.68</td>\n",
       "      <td>0.39</td>\n",
       "      <td>6.57</td>\n",
       "      <td>4.07</td>\n",
       "      <td>7.60</td>\n",
       "      <td>0.00</td>\n",
       "      <td>2018</td>\n",
       "    </tr>\n",
       "    <tr>\n",
       "      <th>4</th>\n",
       "      <td>464.69</td>\n",
       "      <td>4.74</td>\n",
       "      <td>5.52</td>\n",
       "      <td>1.56</td>\n",
       "      <td>6.50</td>\n",
       "      <td>82.36</td>\n",
       "      <td>0.40</td>\n",
       "      <td>6.52</td>\n",
       "      <td>4.26</td>\n",
       "      <td>7.75</td>\n",
       "      <td>0.00</td>\n",
       "      <td>2019</td>\n",
       "    </tr>\n",
       "    <tr>\n",
       "      <th>5</th>\n",
       "      <td>475.60</td>\n",
       "      <td>4.97</td>\n",
       "      <td>5.59</td>\n",
       "      <td>1.54</td>\n",
       "      <td>6.54</td>\n",
       "      <td>83.17</td>\n",
       "      <td>0.39</td>\n",
       "      <td>6.47</td>\n",
       "      <td>4.47</td>\n",
       "      <td>7.83</td>\n",
       "      <td>0.00</td>\n",
       "      <td>2020</td>\n",
       "    </tr>\n",
       "    <tr>\n",
       "      <th>6</th>\n",
       "      <td>477.83</td>\n",
       "      <td>4.95</td>\n",
       "      <td>5.60</td>\n",
       "      <td>1.57</td>\n",
       "      <td>6.53</td>\n",
       "      <td>82.99</td>\n",
       "      <td>0.39</td>\n",
       "      <td>5.78</td>\n",
       "      <td>4.51</td>\n",
       "      <td>7.82</td>\n",
       "      <td>0.00</td>\n",
       "      <td>2021</td>\n",
       "    </tr>\n",
       "    <tr>\n",
       "      <th>7</th>\n",
       "      <td>498.71</td>\n",
       "      <td>5.43</td>\n",
       "      <td>5.71</td>\n",
       "      <td>1.50</td>\n",
       "      <td>6.71</td>\n",
       "      <td>81.81</td>\n",
       "      <td>0.39</td>\n",
       "      <td>6.37</td>\n",
       "      <td>4.94</td>\n",
       "      <td>7.83</td>\n",
       "      <td>0.00</td>\n",
       "      <td>2022</td>\n",
       "    </tr>\n",
       "  </tbody>\n",
       "</table>\n",
       "</div>"
      ],
      "text/plain": [
       "      mw  logp  n_hba  n_hbd  rot_bonds  tpsa  fsp3  n_chiral  n_ring  \\\n",
       "0 412.54  3.98   5.13   1.49       5.95 79.47  0.39      4.40    3.52   \n",
       "1 442.26  4.35   5.42   1.55       6.33 83.19  0.38      5.05    3.90   \n",
       "2 453.70  4.60   5.36   1.62       6.55 81.65  0.40      7.01    4.05   \n",
       "3 454.57  4.67   5.38   1.53       6.54 80.68  0.39      6.57    4.07   \n",
       "4 464.69  4.74   5.52   1.56       6.50 82.36  0.40      6.52    4.26   \n",
       "5 475.60  4.97   5.59   1.54       6.54 83.17  0.39      6.47    4.47   \n",
       "6 477.83  4.95   5.60   1.57       6.53 82.99  0.39      5.78    4.51   \n",
       "7 498.71  5.43   5.71   1.50       6.71 81.81  0.39      6.37    4.94   \n",
       "\n",
       "   n_heteroatoms  so_atoms  year  \n",
       "0           7.34      0.00  2015  \n",
       "1           7.73      0.00  2016  \n",
       "2           7.53      0.00  2017  \n",
       "3           7.60      0.00  2018  \n",
       "4           7.75      0.00  2019  \n",
       "5           7.83      0.00  2020  \n",
       "6           7.82      0.00  2021  \n",
       "7           7.83      0.00  2022  "
      ]
     },
     "execution_count": 19,
     "metadata": {},
     "output_type": "execute_result"
    }
   ],
   "source": [
    "t_mean = []\n",
    "\n",
    "for year in tqdm(final_compound_df['year'].unique()):\n",
    "    k = final_compound_df[final_compound_df['year'] == year].drop(columns=['SMILES', 'year'])\n",
    "    m = k.mean(axis=0).to_dict()\n",
    "    m['year'] = year\n",
    "    t_mean.append(m)\n",
    "\n",
    "df_mean = pd.DataFrame(t_mean)\n",
    "df_mean"
   ]
  }
 ],
 "metadata": {
  "kernelspec": {
   "display_name": "patent_kg",
   "language": "python",
   "name": "patent_kg"
  },
  "language_info": {
   "codemirror_mode": {
    "name": "ipython",
    "version": 3
   },
   "file_extension": ".py",
   "mimetype": "text/x-python",
   "name": "python",
   "nbconvert_exporter": "python",
   "pygments_lexer": "ipython3",
   "version": "3.9.16"
  }
 },
 "nbformat": 4,
 "nbformat_minor": 5
}
