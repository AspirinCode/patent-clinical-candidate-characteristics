{
 "cells": [
  {
   "cell_type": "markdown",
   "metadata": {},
   "source": [
    "# PAINS flagging of compounds and Murcko scaffold analysis.\n",
    "This notebook shows the distirvution of unwanted structures in patent documents. It also shows the distribution of murcko scaffolds in patent documents."
   ]
  },
  {
   "cell_type": "markdown",
   "metadata": {},
   "source": [
    "# Import Module"
   ]
  },
  {
   "cell_type": "code",
   "execution_count": 1,
   "metadata": {},
   "outputs": [],
   "source": [
    "import string\n",
    "from collections import defaultdict\n",
    "\n",
    "import pandas as pd\n",
    "from tqdm import tqdm\n",
    "\n",
    "from rdkit import Chem, RDLogger\n",
    "from rdkit.Chem import Descriptors\n",
    "\n",
    "import matplotlib.pyplot as plt\n",
    "import seaborn as sns\n",
    "\n",
    "tqdm.pandas()"
   ]
  },
  {
   "cell_type": "code",
   "execution_count": 2,
   "metadata": {},
   "outputs": [],
   "source": [
    "RDLogger.DisableLog(\"rdApp.*\")"
   ]
  },
  {
   "cell_type": "markdown",
   "metadata": {},
   "source": [
    "# Add path constants"
   ]
  },
  {
   "cell_type": "code",
   "execution_count": 3,
   "metadata": {},
   "outputs": [],
   "source": [
    "DATA_DIR = \"../data/raw\"\n",
    "PROCESSED_DIR = \"../data/processed\"\n",
    "FIGURE_DIR = \"../data/figures\"\n",
    "MAPPINGS_DIR = \"../data/mappings\""
   ]
  },
  {
   "cell_type": "markdown",
   "metadata": {},
   "source": [
    "# Calculate PAINS for compounds"
   ]
  },
  {
   "cell_type": "raw",
   "metadata": {},
   "source": [
    "from rdkit.Chem.FilterCatalog import FilterCatalog, FilterCatalogParams\n",
    "from rdkit.Chem import MolFromSmiles\n",
    "\n",
    "params = FilterCatalogParams()\n",
    "params.AddCatalog(FilterCatalogParams.FilterCatalogs.PAINS)\n",
    "catalog = FilterCatalog(params)\n",
    "\n",
    "\n",
    "# search for PAINS\n",
    "matches = []\n",
    "\n",
    "for index, row in tqdm(property_df.iterrows(), total=property_df.shape[0]):\n",
    "    molecule = MolFromSmiles(row.SMILES)\n",
    "    entry = catalog.GetFirstMatch(molecule)  # Get the first matching PAINS\n",
    "\n",
    "    if entry is not None:\n",
    "        # store PAINS information\n",
    "        data = row.to_dict()\n",
    "        data[\"pains\"] = entry.GetDescription().capitalize()\n",
    "        data[\"pains_count\"] = len(catalog.GetMatches(molecule))  # get all matches\n",
    "        matches.append(data)\n",
    "\n",
    "pains_compounds_df = pd.DataFrame(matches)\n",
    "pains_compounds_df.to_parquet(f\"{PROCESSED_DIR}/pains_data.pq\")"
   ]
  },
  {
   "cell_type": "markdown",
   "metadata": {},
   "source": [
    "# Get molecular weight for scaffolds"
   ]
  },
  {
   "cell_type": "raw",
   "metadata": {},
   "source": [
    "# Time consuming step, so save the results\n",
    "scaffold_weights = {}\n",
    "\n",
    "skipped = 0\n",
    "\n",
    "for scaffold in tqdm(murcko_scaffold_df[\"scaffold\"]):\n",
    "    try:\n",
    "        scaffold_weights[scaffold] = Descriptors.ExactMolWt(\n",
    "            Chem.MolFromSmiles(scaffold)\n",
    "        )\n",
    "    except:\n",
    "        skipped += 1\n",
    "\n",
    "murcko_scaffold_df[\"scaffold_mw\"] = murcko_scaffold_df[\"scaffold\"].map(scaffold_weights)\n",
    "\n",
    "murcko_scaffold_df.to_parquet(f\"{PROCESSED_DIR}/surechembl_generic_mucko.pq\")\n",
    "\n",
    "skipped"
   ]
  },
  {
   "cell_type": "markdown",
   "metadata": {},
   "source": [
    "# Load data files"
   ]
  },
  {
   "cell_type": "code",
   "execution_count": 4,
   "metadata": {},
   "outputs": [],
   "source": [
    "property_df = pd.read_csv(\n",
    "    f\"{MAPPINGS_DIR}/property_data.tsv\",\n",
    "    sep=\"\\t\",\n",
    "    low_memory=False,\n",
    "    usecols=[\"SMILES\", \"mw\"],\n",
    ")\n",
    "\n",
    "pains_compounds_df = pd.read_parquet(\n",
    "    f\"{PROCESSED_DIR}/pains_data.pq\", columns=[\"SMILES\", \"pains\", \"pains_count\"]\n",
    ")\n",
    "\n",
    "murcko_scaffold_df = pd.read_parquet(\n",
    "    f\"{PROCESSED_DIR}/surechembl_generic_mucko.pq\",\n",
    "    columns=[\"cleaned_smiles\", \"scaffold\", \"year\", \"scaffold_mw\"],\n",
    ")"
   ]
  },
  {
   "cell_type": "code",
   "execution_count": 5,
   "metadata": {},
   "outputs": [],
   "source": [
    "surechembl_df = pd.read_parquet(\n",
    "    f\"{DATA_DIR}/surechembl_dump.pq\", columns=[\"SMILES\", \"Field\"]\n",
    ")"
   ]
  },
  {
   "cell_type": "code",
   "execution_count": 6,
   "metadata": {},
   "outputs": [
    {
     "data": {
      "text/html": [
       "<div>\n",
       "<style scoped>\n",
       "    .dataframe tbody tr th:only-of-type {\n",
       "        vertical-align: middle;\n",
       "    }\n",
       "\n",
       "    .dataframe tbody tr th {\n",
       "        vertical-align: top;\n",
       "    }\n",
       "\n",
       "    .dataframe thead th {\n",
       "        text-align: right;\n",
       "    }\n",
       "</style>\n",
       "<table border=\"1\" class=\"dataframe\">\n",
       "  <thead>\n",
       "    <tr style=\"text-align: right;\">\n",
       "      <th></th>\n",
       "      <th>SMILES</th>\n",
       "      <th>Field</th>\n",
       "      <th>year</th>\n",
       "      <th>cleaned_smiles</th>\n",
       "    </tr>\n",
       "  </thead>\n",
       "  <tbody>\n",
       "    <tr>\n",
       "      <th>0</th>\n",
       "      <td>C[C@H](CS)C(=O)N1CCC[C@H]1C(O)=O</td>\n",
       "      <td>Description</td>\n",
       "      <td>2015</td>\n",
       "      <td>C[C@H](CS)C(=O)N1CCC[C@H]1C(=O)O</td>\n",
       "    </tr>\n",
       "    <tr>\n",
       "      <th>26</th>\n",
       "      <td>C[C@H](CS)C(=O)N1CCC[C@H]1C(O)=O</td>\n",
       "      <td>Claims</td>\n",
       "      <td>2015</td>\n",
       "      <td>C[C@H](CS)C(=O)N1CCC[C@H]1C(=O)O</td>\n",
       "    </tr>\n",
       "    <tr>\n",
       "      <th>657</th>\n",
       "      <td>C[C@H](CS)C(=O)N1CCC[C@H]1C(O)=O</td>\n",
       "      <td>Image (for patents after 2007)</td>\n",
       "      <td>2015</td>\n",
       "      <td>C[C@H](CS)C(=O)N1CCC[C@H]1C(=O)O</td>\n",
       "    </tr>\n",
       "    <tr>\n",
       "      <th>1845</th>\n",
       "      <td>C[C@H](CS)C(=O)N1CCC[C@H]1C(O)=O</td>\n",
       "      <td>Abstract</td>\n",
       "      <td>2015</td>\n",
       "      <td>C[C@H](CS)C(=O)N1CCC[C@H]1C(=O)O</td>\n",
       "    </tr>\n",
       "    <tr>\n",
       "      <th>4787</th>\n",
       "      <td>C[C@H](CS)C(=O)N1CCC[C@H]1C(O)=O</td>\n",
       "      <td>MOL Attachment (US patents after 2007)</td>\n",
       "      <td>2015</td>\n",
       "      <td>C[C@H](CS)C(=O)N1CCC[C@H]1C(=O)O</td>\n",
       "    </tr>\n",
       "  </tbody>\n",
       "</table>\n",
       "</div>"
      ],
      "text/plain": [
       "                                SMILES  \\\n",
       "0     C[C@H](CS)C(=O)N1CCC[C@H]1C(O)=O   \n",
       "26    C[C@H](CS)C(=O)N1CCC[C@H]1C(O)=O   \n",
       "657   C[C@H](CS)C(=O)N1CCC[C@H]1C(O)=O   \n",
       "1845  C[C@H](CS)C(=O)N1CCC[C@H]1C(O)=O   \n",
       "4787  C[C@H](CS)C(=O)N1CCC[C@H]1C(O)=O   \n",
       "\n",
       "                                       Field  year  \\\n",
       "0                                Description  2015   \n",
       "26                                    Claims  2015   \n",
       "657           Image (for patents after 2007)  2015   \n",
       "1845                                Abstract  2015   \n",
       "4787  MOL Attachment (US patents after 2007)  2015   \n",
       "\n",
       "                        cleaned_smiles  \n",
       "0     C[C@H](CS)C(=O)N1CCC[C@H]1C(=O)O  \n",
       "26    C[C@H](CS)C(=O)N1CCC[C@H]1C(=O)O  \n",
       "657   C[C@H](CS)C(=O)N1CCC[C@H]1C(=O)O  \n",
       "1845  C[C@H](CS)C(=O)N1CCC[C@H]1C(=O)O  \n",
       "4787  C[C@H](CS)C(=O)N1CCC[C@H]1C(=O)O  "
      ]
     },
     "execution_count": 6,
     "metadata": {},
     "output_type": "execute_result"
    }
   ],
   "source": [
    "desalted_patent_df = pd.read_parquet(f\"{PROCESSED_DIR}/patent_data_desalted.pq\")\n",
    "df = surechembl_df.merge(desalted_patent_df, on=\"SMILES\")\n",
    "df.drop_duplicates(subset=[\"SMILES\", \"Field\"], inplace=True)\n",
    "df.head()"
   ]
  },
  {
   "cell_type": "markdown",
   "metadata": {},
   "source": [
    "# PAINS alert analysis"
   ]
  },
  {
   "cell_type": "code",
   "execution_count": 7,
   "metadata": {},
   "outputs": [
    {
     "data": {
      "text/plain": [
       "3.628251581487957"
      ]
     },
     "execution_count": 7,
     "metadata": {},
     "output_type": "execute_result"
    }
   ],
   "source": [
    "# find percentage of unwanted structures in the dataset\n",
    "(pains_compounds_df[\"SMILES\"].nunique() / property_df[\"SMILES\"].nunique()) * 100"
   ]
  },
  {
   "cell_type": "code",
   "execution_count": 8,
   "metadata": {},
   "outputs": [
    {
     "data": {
      "text/plain": [
       "277"
      ]
     },
     "execution_count": 8,
     "metadata": {},
     "output_type": "execute_result"
    }
   ],
   "source": [
    "pains_compounds_df[\"pains\"].nunique()"
   ]
  },
  {
   "cell_type": "code",
   "execution_count": 9,
   "metadata": {},
   "outputs": [
    {
     "data": {
      "text/html": [
       "<div>\n",
       "<style scoped>\n",
       "    .dataframe tbody tr th:only-of-type {\n",
       "        vertical-align: middle;\n",
       "    }\n",
       "\n",
       "    .dataframe tbody tr th {\n",
       "        vertical-align: top;\n",
       "    }\n",
       "\n",
       "    .dataframe thead th {\n",
       "        text-align: right;\n",
       "    }\n",
       "</style>\n",
       "<table border=\"1\" class=\"dataframe\">\n",
       "  <thead>\n",
       "    <tr style=\"text-align: right;\">\n",
       "      <th></th>\n",
       "      <th>count</th>\n",
       "      <th>percentage</th>\n",
       "    </tr>\n",
       "    <tr>\n",
       "      <th>pains</th>\n",
       "      <th></th>\n",
       "      <th></th>\n",
       "    </tr>\n",
       "  </thead>\n",
       "  <tbody>\n",
       "    <tr>\n",
       "      <th>Azo_a(324)</th>\n",
       "      <td>71014</td>\n",
       "      <td>18.751007</td>\n",
       "    </tr>\n",
       "    <tr>\n",
       "      <th>Anil_di_alk_a(478)</th>\n",
       "      <td>53127</td>\n",
       "      <td>14.028005</td>\n",
       "    </tr>\n",
       "    <tr>\n",
       "      <th>Indol_3yl_alk(461)</th>\n",
       "      <td>32290</td>\n",
       "      <td>8.526065</td>\n",
       "    </tr>\n",
       "    <tr>\n",
       "      <th>Catechol_a(92)</th>\n",
       "      <td>22452</td>\n",
       "      <td>5.928375</td>\n",
       "    </tr>\n",
       "    <tr>\n",
       "      <th>Anil_di_alk_c(246)</th>\n",
       "      <td>21662</td>\n",
       "      <td>5.719778</td>\n",
       "    </tr>\n",
       "    <tr>\n",
       "      <th>Quinone_a(370)</th>\n",
       "      <td>19665</td>\n",
       "      <td>5.192477</td>\n",
       "    </tr>\n",
       "    <tr>\n",
       "      <th>Dyes5a(27)</th>\n",
       "      <td>15568</td>\n",
       "      <td>4.110678</td>\n",
       "    </tr>\n",
       "    <tr>\n",
       "      <th>Mannich_a(296)</th>\n",
       "      <td>15154</td>\n",
       "      <td>4.001362</td>\n",
       "    </tr>\n",
       "    <tr>\n",
       "      <th>Imine_one_a(321)</th>\n",
       "      <td>14885</td>\n",
       "      <td>3.930334</td>\n",
       "    </tr>\n",
       "    <tr>\n",
       "      <th>Anil_di_alk_e(186)</th>\n",
       "      <td>12472</td>\n",
       "      <td>3.293189</td>\n",
       "    </tr>\n",
       "  </tbody>\n",
       "</table>\n",
       "</div>"
      ],
      "text/plain": [
       "                    count  percentage\n",
       "pains                                \n",
       "Azo_a(324)          71014   18.751007\n",
       "Anil_di_alk_a(478)  53127   14.028005\n",
       "Indol_3yl_alk(461)  32290    8.526065\n",
       "Catechol_a(92)      22452    5.928375\n",
       "Anil_di_alk_c(246)  21662    5.719778\n",
       "Quinone_a(370)      19665    5.192477\n",
       "Dyes5a(27)          15568    4.110678\n",
       "Mannich_a(296)      15154    4.001362\n",
       "Imine_one_a(321)    14885    3.930334\n",
       "Anil_di_alk_e(186)  12472    3.293189"
      ]
     },
     "execution_count": 9,
     "metadata": {},
     "output_type": "execute_result"
    }
   ],
   "source": [
    "pain_descriptors = pains_compounds_df[\"pains\"].value_counts().to_frame()\n",
    "\n",
    "pain_descriptors[\"percentage\"] = (\n",
    "    pain_descriptors[\"count\"] / pain_descriptors[\"count\"].sum()\n",
    ") * 100\n",
    "pain_descriptors.head(10)"
   ]
  },
  {
   "cell_type": "markdown",
   "metadata": {},
   "source": [
    "# Data processing for visualization"
   ]
  },
  {
   "cell_type": "code",
   "execution_count": 10,
   "metadata": {},
   "outputs": [
    {
     "name": "stderr",
     "output_type": "stream",
     "text": [
      "100%|██████████| 8/8 [03:09<00:00, 23.64s/it]\n"
     ]
    }
   ],
   "source": [
    "cummulative_counts = []\n",
    "\n",
    "for year in tqdm(murcko_scaffold_df[\"year\"].unique()):\n",
    "    t = murcko_scaffold_df[murcko_scaffold_df[\"year\"] <= year]\n",
    "\n",
    "    in_year_scaffolds = set(t[t[\"year\"] == year][\"scaffold\"].unique())\n",
    "    other_scaffolds = set(t[t[\"year\"] != year][\"scaffold\"].unique())\n",
    "\n",
    "    cummulative_counts.append(\n",
    "        {\n",
    "            \"year\": year,\n",
    "            \"total_scaffolds\": len(in_year_scaffolds.union(other_scaffolds)),\n",
    "            \"new_scaffolds\": len(in_year_scaffolds.difference(other_scaffolds)),\n",
    "            \"known_scaffolds\": len(in_year_scaffolds.intersection(other_scaffolds)),\n",
    "        }\n",
    "    )\n",
    "\n",
    "cummulative_counts_df = pd.DataFrame(cummulative_counts)"
   ]
  },
  {
   "cell_type": "code",
   "execution_count": 11,
   "metadata": {},
   "outputs": [],
   "source": [
    "pain_distribution_df = (\n",
    "    pains_compounds_df[\"pains_count\"].value_counts().to_frame().reset_index()\n",
    ")\n",
    "pain_distribution_df.columns = [\"pains\", \"count\"]"
   ]
  },
  {
   "cell_type": "code",
   "execution_count": 12,
   "metadata": {},
   "outputs": [],
   "source": [
    "mol_wt_all_df = pd.merge(\n",
    "    property_df, murcko_scaffold_df, left_on=\"SMILES\", right_on=\"cleaned_smiles\"\n",
    ")\n",
    "mol_wt_all_df.drop_duplicates(subset=[\"SMILES\"], inplace=True)\n",
    "mol_wt_df = mol_wt_all_df[[\"mw\", \"scaffold_mw\"]]"
   ]
  },
  {
   "cell_type": "markdown",
   "metadata": {},
   "source": [
    "# Vizualization"
   ]
  },
  {
   "cell_type": "code",
   "execution_count": 13,
   "metadata": {},
   "outputs": [
    {
     "data": {
      "image/png": "[encoded data removed]",
      "text/plain": [
       "<Figure size 2500x1000 with 3 Axes>"
      ]
     },
     "metadata": {},
     "output_type": "display_data"
    }
   ],
   "source": [
    "sns.set_style(\"whitegrid\")\n",
    "\n",
    "fig = plt.figure(figsize=(25, 10))\n",
    "\n",
    "gs = fig.add_gridspec(2, 2)\n",
    "\n",
    "# PAINS distribution\n",
    "ax1 = fig.add_subplot(gs[0, 0])\n",
    "sns.barplot(\n",
    "    x=pain_distribution_df[\"pains\"],\n",
    "    y=pain_distribution_df[\"count\"],\n",
    "    color=\"#ffbe7d\",\n",
    "    ax=ax1,\n",
    ")\n",
    "plt.xticks(fontsize=15)\n",
    "plt.yticks(fontsize=15)\n",
    "plt.yscale(\"log\")\n",
    "plt.ylabel(\"Number of compounds\", fontsize=18, fontweight=\"bold\")\n",
    "plt.xlabel(\"Number of PAINS alerts\", fontsize=18, fontweight=\"bold\")\n",
    "plt.text(\n",
    "    -0.1,\n",
    "    1.1,\n",
    "    string.ascii_lowercase[0],\n",
    "    size=24,\n",
    "    weight=\"bold\",\n",
    "    horizontalalignment=\"center\",\n",
    "    verticalalignment=\"center\",\n",
    "    transform=plt.gca().transAxes,\n",
    ")\n",
    "\n",
    "# Scaffold MW distribution\n",
    "ax2 = fig.add_subplot(gs[0, 1])\n",
    "sns.histplot(x=mol_wt_df[\"scaffold_mw\"], color=\"#ffbe7d\", ax=ax2)\n",
    "plt.xticks(fontsize=15)\n",
    "plt.yticks(fontsize=15)\n",
    "plt.yscale(\"log\")\n",
    "plt.ylabel(\"Number of scaffolds\", fontsize=18, fontweight=\"bold\")\n",
    "plt.xlabel(\"Molecular weight\", fontsize=18, fontweight=\"bold\")\n",
    "plt.text(\n",
    "    -0.05,\n",
    "    1.1,\n",
    "    string.ascii_lowercase[1],\n",
    "    size=24,\n",
    "    weight=\"bold\",\n",
    "    horizontalalignment=\"center\",\n",
    "    verticalalignment=\"center\",\n",
    "    transform=plt.gca().transAxes,\n",
    ")\n",
    "\n",
    "# Scaffold annual count distribution\n",
    "ax3 = fig.add_subplot(gs[1, :])\n",
    "cummulative_counts_df.plot(\n",
    "    x=\"year\",\n",
    "    y=[\"known_scaffolds\", \"new_scaffolds\"],\n",
    "    kind=\"bar\",\n",
    "    stacked=True,\n",
    "    color=[\"#ffbe7d\", \"#d291bc\"],\n",
    "    label=[\"Known scaffolds\", \"New scaffolds\"],\n",
    "    ax=ax3,\n",
    ")\n",
    "\n",
    "plt.xticks(fontsize=15)\n",
    "plt.yticks(fontsize=15)\n",
    "plt.xlabel(\"Year\", fontsize=18, fontweight=\"bold\")\n",
    "plt.ylabel(\"Number of unique scaffolds\", fontsize=18, fontweight=\"bold\")\n",
    "plt.text(\n",
    "    -0.05,\n",
    "    1.1,\n",
    "    string.ascii_lowercase[2],\n",
    "    size=24,\n",
    "    weight=\"bold\",\n",
    "    horizontalalignment=\"center\",\n",
    "    verticalalignment=\"center\",\n",
    "    transform=plt.gca().transAxes,\n",
    ")\n",
    "\n",
    "plt.savefig(f\"{FIGURE_DIR}/figure_7.png\", dpi=400)\n",
    "plt.savefig(f\"{FIGURE_DIR}/figure_7.pdf\", dpi=400)\n",
    "plt.show()"
   ]
  },
  {
   "cell_type": "markdown",
   "metadata": {},
   "source": [
    "# Scaffold and patent sections"
   ]
  },
  {
   "cell_type": "code",
   "execution_count": 14,
   "metadata": {},
   "outputs": [
    {
     "data": {
      "text/plain": [
       "(13236105, 1654513.125)"
      ]
     },
     "execution_count": 14,
     "metadata": {},
     "output_type": "execute_result"
    }
   ],
   "source": [
    "# Total and average number of scaffolds\n",
    "cummulative_counts_df[\"total_scaffolds\"].sum(), cummulative_counts_df[\n",
    "    \"total_scaffolds\"\n",
    "].mean()"
   ]
  },
  {
   "cell_type": "code",
   "execution_count": 15,
   "metadata": {},
   "outputs": [
    {
     "data": {
      "text/plain": [
       "(2663540, 332942.5)"
      ]
     },
     "execution_count": 15,
     "metadata": {},
     "output_type": "execute_result"
    }
   ],
   "source": [
    "# Total and average number of new scaffolds\n",
    "cummulative_counts_df[\"new_scaffolds\"].sum(), cummulative_counts_df[\n",
    "    \"new_scaffolds\"\n",
    "].mean()"
   ]
  },
  {
   "cell_type": "code",
   "execution_count": 16,
   "metadata": {},
   "outputs": [
    {
     "data": {
      "text/plain": [
       "(38.015650064, 4841.192197964001)"
      ]
     },
     "execution_count": 16,
     "metadata": {},
     "output_type": "execute_result"
    }
   ],
   "source": [
    "# Min and max scaffold MW\n",
    "test = mol_wt_df[~mol_wt_df[\"scaffold_mw\"].isna()]\n",
    "test = test[test[\"scaffold_mw\"] > 0]\n",
    "test[\"scaffold_mw\"].min(), test[\"scaffold_mw\"].max()"
   ]
  },
  {
   "cell_type": "markdown",
   "metadata": {},
   "source": [
    "# Tracking back orgin of scaffolds"
   ]
  },
  {
   "cell_type": "code",
   "execution_count": 17,
   "metadata": {},
   "outputs": [],
   "source": [
    "df.drop_duplicates(subset=[\"SMILES\", \"Field\"], inplace=True)\n",
    "murcko_scaffold_df.drop_duplicates(subset=[\"cleaned_smiles\"], inplace=True)"
   ]
  },
  {
   "cell_type": "code",
   "execution_count": 18,
   "metadata": {},
   "outputs": [],
   "source": [
    "scaffold_pat_field_df = pd.merge(\n",
    "    df,\n",
    "    murcko_scaffold_df,\n",
    "    on=\"cleaned_smiles\",\n",
    "    how=\"left\",\n",
    "    suffixes=(\"\", \"_y\"),\n",
    ")"
   ]
  },
  {
   "cell_type": "code",
   "execution_count": 19,
   "metadata": {},
   "outputs": [],
   "source": [
    "scaffold_pat_field_df.drop_duplicates(subset=[\"scaffold\", \"Field\"], inplace=True)"
   ]
  },
  {
   "cell_type": "code",
   "execution_count": 20,
   "metadata": {},
   "outputs": [
    {
     "data": {
      "text/html": [
       "<div>\n",
       "<style scoped>\n",
       "    .dataframe tbody tr th:only-of-type {\n",
       "        vertical-align: middle;\n",
       "    }\n",
       "\n",
       "    .dataframe tbody tr th {\n",
       "        vertical-align: top;\n",
       "    }\n",
       "\n",
       "    .dataframe thead th {\n",
       "        text-align: right;\n",
       "    }\n",
       "</style>\n",
       "<table border=\"1\" class=\"dataframe\">\n",
       "  <thead>\n",
       "    <tr style=\"text-align: right;\">\n",
       "      <th></th>\n",
       "      <th>Field</th>\n",
       "      <th>scaffold</th>\n",
       "      <th>%</th>\n",
       "    </tr>\n",
       "  </thead>\n",
       "  <tbody>\n",
       "    <tr>\n",
       "      <th>0</th>\n",
       "      <td>Abstract</td>\n",
       "      <td>8120</td>\n",
       "      <td>0.199107</td>\n",
       "    </tr>\n",
       "    <tr>\n",
       "      <th>1</th>\n",
       "      <td>Claims</td>\n",
       "      <td>315413</td>\n",
       "      <td>7.734125</td>\n",
       "    </tr>\n",
       "    <tr>\n",
       "      <th>2</th>\n",
       "      <td>Description</td>\n",
       "      <td>811216</td>\n",
       "      <td>19.891526</td>\n",
       "    </tr>\n",
       "    <tr>\n",
       "      <th>3</th>\n",
       "      <td>Image (for patents after 2007)</td>\n",
       "      <td>2261009</td>\n",
       "      <td>55.441360</td>\n",
       "    </tr>\n",
       "    <tr>\n",
       "      <th>4</th>\n",
       "      <td>MOL Attachment (US patents after 2007)</td>\n",
       "      <td>677947</td>\n",
       "      <td>16.623686</td>\n",
       "    </tr>\n",
       "    <tr>\n",
       "      <th>5</th>\n",
       "      <td>Title</td>\n",
       "      <td>4494</td>\n",
       "      <td>0.110196</td>\n",
       "    </tr>\n",
       "  </tbody>\n",
       "</table>\n",
       "</div>"
      ],
      "text/plain": [
       "                                    Field  scaffold          %\n",
       "0                                Abstract      8120   0.199107\n",
       "1                                  Claims    315413   7.734125\n",
       "2                             Description    811216  19.891526\n",
       "3          Image (for patents after 2007)   2261009  55.441360\n",
       "4  MOL Attachment (US patents after 2007)    677947  16.623686\n",
       "5                                   Title      4494   0.110196"
      ]
     },
     "execution_count": 20,
     "metadata": {},
     "output_type": "execute_result"
    }
   ],
   "source": [
    "# Overall distribution of scaffolds\n",
    "scaffold_pat_field_df = (\n",
    "    scaffold_pat_field_df.groupby([\"Field\"])[\"scaffold\"].count().reset_index()\n",
    ")\n",
    "scaffold_pat_field_df[\"%\"] = (\n",
    "    scaffold_pat_field_df[\"scaffold\"] / scaffold_pat_field_df[\"scaffold\"].sum()\n",
    ") * 100\n",
    "scaffold_pat_field_df"
   ]
  },
  {
   "cell_type": "code",
   "execution_count": null,
   "metadata": {},
   "outputs": [],
   "source": []
  }
 ],
 "metadata": {
  "kernelspec": {
   "display_name": "patent",
   "language": "python",
   "name": "python3"
  },
  "language_info": {
   "codemirror_mode": {
    "name": "ipython",
    "version": 3
   },
   "file_extension": ".py",
   "mimetype": "text/x-python",
   "name": "python",
   "nbconvert_exporter": "python",
   "pygments_lexer": "ipython3",
   "version": "3.9.18"
  },
  "orig_nbformat": 4
 },
 "nbformat": 4,
 "nbformat_minor": 2
}
