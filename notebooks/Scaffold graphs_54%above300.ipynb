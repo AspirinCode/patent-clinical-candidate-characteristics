{
 "cells": [
  {
   "cell_type": "markdown",
   "id": "5517d5f0",
   "metadata": {},
   "source": [
    "# Import Module"
   ]
  },
  {
   "cell_type": "code",
   "execution_count": 1,
   "id": "618815d2",
   "metadata": {},
   "outputs": [],
   "source": [
    "import pandas as pd\n",
    "from tqdm import tqdm\n",
    "import seaborn as sns\n",
    "import matplotlib.pyplot as plt\n",
    "import json"
   ]
  },
  {
   "cell_type": "code",
   "execution_count": 2,
   "id": "c2a18d95",
   "metadata": {},
   "outputs": [],
   "source": [
    "from rdkit.Chem import Descriptors, Draw, PandasTools, MolFromSmiles"
   ]
  },
  {
   "cell_type": "markdown",
   "id": "d73e3b13",
   "metadata": {},
   "source": [
    "# Load Data File"
   ]
  },
  {
   "cell_type": "code",
   "execution_count": 3,
   "id": "ecdf1e3b",
   "metadata": {},
   "outputs": [],
   "source": [
    "with open('data/scaffold_smiles.json', 'r') as f:\n",
    "    scaffold_dict = json.load(f)"
   ]
  },
  {
   "cell_type": "code",
   "execution_count": 4,
   "id": "85e2a4a6",
   "metadata": {},
   "outputs": [
    {
     "data": {
      "text/html": [
       "<div>\n",
       "<style scoped>\n",
       "    .dataframe tbody tr th:only-of-type {\n",
       "        vertical-align: middle;\n",
       "    }\n",
       "\n",
       "    .dataframe tbody tr th {\n",
       "        vertical-align: top;\n",
       "    }\n",
       "\n",
       "    .dataframe thead th {\n",
       "        text-align: right;\n",
       "    }\n",
       "</style>\n",
       "<table border=\"1\" class=\"dataframe\">\n",
       "  <thead>\n",
       "    <tr style=\"text-align: right;\">\n",
       "      <th></th>\n",
       "      <th>scaffold</th>\n",
       "      <th>year</th>\n",
       "      <th>patent_ID</th>\n",
       "    </tr>\n",
       "  </thead>\n",
       "  <tbody>\n",
       "    <tr>\n",
       "      <th>0</th>\n",
       "      <td>C1CCNC1</td>\n",
       "      <td>2015</td>\n",
       "      <td>EP-2842582-A2</td>\n",
       "    </tr>\n",
       "    <tr>\n",
       "      <th>1</th>\n",
       "      <td>O=C(CNCCCc1ccccc1)N1CCCC1</td>\n",
       "      <td>2015</td>\n",
       "      <td>EP-2838373-A2</td>\n",
       "    </tr>\n",
       "  </tbody>\n",
       "</table>\n",
       "</div>"
      ],
      "text/plain": [
       "                    scaffold  year      patent_ID\n",
       "0                    C1CCNC1  2015  EP-2842582-A2\n",
       "1  O=C(CNCCCc1ccccc1)N1CCCC1  2015  EP-2838373-A2"
      ]
     },
     "execution_count": 4,
     "metadata": {},
     "output_type": "execute_result"
    }
   ],
   "source": [
    "scaffold_df = pd.DataFrame(scaffold_dict)\n",
    "scaffold_df.head(2)"
   ]
  },
  {
   "cell_type": "code",
   "execution_count": 12,
   "id": "6c3a84a8",
   "metadata": {},
   "outputs": [
    {
     "data": {
      "text/plain": [
       "21812332"
      ]
     },
     "execution_count": 12,
     "metadata": {},
     "output_type": "execute_result"
    }
   ],
   "source": [
    "len(scaffold_df)"
   ]
  },
  {
   "cell_type": "code",
   "execution_count": 5,
   "id": "57981699",
   "metadata": {
    "scrolled": true
   },
   "outputs": [
    {
     "name": "stderr",
     "output_type": "stream",
     "text": [
      "  0%|          | 8475/21812332 [00:01<42:49, 8484.74it/s][13:56:13] WARNING: not removing hydrogen atom without neighbors\n",
      "  0%|          | 18445/21812332 [00:02<42:07, 8622.25it/s][13:56:15] WARNING: not removing hydrogen atom without neighbors\n",
      "  0%|          | 19323/21812332 [00:02<41:56, 8658.63it/s][13:56:15] WARNING: not removing hydrogen atom without neighbors\n",
      "[13:56:15] WARNING: not removing hydrogen atom without neighbors\n",
      "  0%|          | 26650/21812332 [00:03<36:05, 10062.53it/s][13:56:15] WARNING: not removing hydrogen atom without neighbors\n",
      "[13:56:15] WARNING: not removing hydrogen atom without neighbors\n",
      "  0%|          | 35988/21812332 [00:04<41:19, 8781.80it/s] [13:56:16] WARNING: not removing hydrogen atom without neighbors\n",
      "[13:56:16] WARNING: not removing hydrogen atom without neighbors\n",
      "[13:56:16] WARNING: not removing hydrogen atom without neighbors\n",
      "[13:56:16] WARNING: not removing hydrogen atom without neighbors\n",
      "[13:56:16] WARNING: not removing hydrogen atom without neighbors\n",
      "[13:56:16] WARNING: not removing hydrogen atom without neighbors\n",
      "[13:56:17] WARNING: not removing hydrogen atom without neighbors\n",
      "  0%|          | 36963/21812332 [00:04<40:20, 8998.08it/s][13:56:17] WARNING: not removing hydrogen atom without neighbors\n",
      "[13:56:17] WARNING: not removing hydrogen atom without neighbors\n",
      "[13:56:17] WARNING: not removing hydrogen atom without neighbors\n",
      "[13:56:17] WARNING: not removing hydrogen atom without neighbors\n",
      "[13:56:17] WARNING: not removing hydrogen atom without neighbors\n",
      "[13:56:17] WARNING: not removing hydrogen atom without neighbors\n",
      "  0%|          | 50696/21812332 [00:05<41:20, 8773.37it/s] [13:56:18] WARNING: not removing hydrogen atom without neighbors\n",
      "  0%|          | 58914/21812332 [00:06<39:04, 9278.73it/s][13:56:19] WARNING: not removing hydrogen atom without neighbors\n",
      "  0%|          | 60760/21812332 [00:06<41:22, 8761.23it/s][13:56:19] WARNING: not removing hydrogen atom without neighbors\n",
      "  0%|          | 66496/21812332 [00:07<45:05, 8038.84it/s][13:56:20] WARNING: not removing hydrogen atom without neighbors\n",
      "  0%|          | 68241/21812332 [00:07<45:05, 8036.85it/s][13:56:20] WARNING: not removing hydrogen atom without neighbors\n",
      "  0%|          | 85941/21812332 [00:09<45:04, 8034.28it/s][13:56:22] WARNING: not removing hydrogen atom without neighbors\n",
      "  1%|          | 118086/21812332 [00:13<43:14, 8360.84it/s] [13:56:26] WARNING: not removing hydrogen atom without neighbors\n",
      "  1%|          | 136968/21812332 [00:16<43:42, 8264.37it/s][13:56:28] WARNING: not removing hydrogen atom without neighbors\n",
      "[13:56:28] WARNING: not removing hydrogen atom without neighbors\n",
      "  1%|          | 175235/21812332 [00:21<45:46, 7878.10it/s]  [13:56:33] WARNING: not removing hydrogen atom without neighbors\n",
      "  1%|          | 178808/21812332 [00:21<43:09, 8355.12it/s][13:56:34] WARNING: not removing hydrogen atom without neighbors\n",
      "  1%|          | 198047/21812332 [00:24<41:49, 8612.11it/s][13:56:36] WARNING: not removing hydrogen atom without neighbors\n",
      "  1%|          | 211275/21812332 [00:25<45:09, 7970.95it/s][13:56:38] WARNING: not removing hydrogen atom without neighbors\n",
      "[13:56:38] WARNING: not removing hydrogen atom without neighbors\n",
      "  1%|          | 212883/21812332 [00:26<45:19, 7943.43it/s][13:56:38] WARNING: not removing hydrogen atom without neighbors\n",
      "  1%|          | 222210/21812332 [00:27<39:38, 9075.72it/s][13:56:40] WARNING: not removing hydrogen atom without neighbors\n",
      "[13:56:40] WARNING: not removing hydrogen atom without neighbors\n",
      "  1%|          | 230461/21812332 [00:28<55:00, 6539.01it/s][13:56:41] WARNING: not removing hydrogen atom without neighbors\n",
      "  1%|▏         | 297713/21812332 [00:37<57:51, 6197.01it/s][13:56:49] WARNING: not removing hydrogen atom without neighbors\n",
      "  1%|▏         | 299936/21812332 [00:37<53:48, 6662.63it/s][13:56:50] WARNING: not removing hydrogen atom without neighbors\n",
      "  1%|▏         | 300741/21812332 [00:37<52:00, 6894.25it/s][13:56:50] WARNING: not removing hydrogen atom without neighbors\n",
      "  1%|▏         | 302331/21812332 [00:37<50:06, 7154.70it/s][13:56:50] WARNING: not removing hydrogen atom without neighbors\n",
      "  1%|▏         | 320515/21812332 [00:40<49:20, 7260.73it/s][13:56:53] WARNING: not removing hydrogen atom without neighbors\n",
      "  2%|▏         | 334008/21812332 [00:41<43:50, 8165.02it/s][13:56:54] Can't kekulize mol.  Unkekulized atoms: 2 6 7\n",
      "  2%|▏         | 346662/21812332 [00:43<46:55, 7623.18it/s][13:56:56] WARNING: not removing hydrogen atom without neighbors\n",
      "  2%|▏         | 374397/21812332 [00:47<45:04, 7926.57it/s]  [13:57:00] WARNING: not removing hydrogen atom without neighbors\n",
      "[13:57:00] WARNING: not removing hydrogen atom without neighbors\n",
      "  2%|▏         | 376442/21812332 [00:47<40:17, 8867.22it/s][13:57:00] WARNING: not removing hydrogen atom without neighbors\n",
      "  2%|▏         | 382594/21812332 [00:48<48:10, 7413.60it/s][13:57:01] WARNING: not removing hydrogen atom without neighbors\n",
      "  2%|▏         | 396051/21812332 [00:50<1:11:52, 4965.69it/s][13:57:03] WARNING: not removing hydrogen atom without neighbors\n",
      "  2%|▏         | 463584/21812332 [01:00<56:02, 6349.72it/s]  [13:57:13] WARNING: not removing hydrogen atom without neighbors\n",
      "  2%|▏         | 466935/21812332 [01:00<57:48, 6154.45it/s][13:57:13] WARNING: not removing hydrogen atom without neighbors\n",
      "  2%|▏         | 502644/21812332 [01:06<52:45, 6732.68it/s][13:57:18] WARNING: not removing hydrogen atom without neighbors\n",
      "  2%|▏         | 518158/21812332 [01:08<41:59, 8451.53it/s][13:57:20] WARNING: not removing hydrogen atom without neighbors\n",
      "  2%|▏         | 525161/21812332 [01:08<37:24, 9484.63it/s][13:57:21] WARNING: not removing hydrogen atom without neighbors\n",
      "  2%|▏         | 530230/21812332 [01:09<37:53, 9359.47it/s][13:57:22] WARNING: not removing hydrogen atom without neighbors\n",
      "  2%|▏         | 544207/21812332 [01:10<41:14, 8593.89it/s] [13:57:23] WARNING: not removing hydrogen atom without neighbors\n",
      "  3%|▎         | 551434/21812332 [01:11<38:05, 9303.11it/s][13:57:24] WARNING: not removing hydrogen atom without neighbors\n",
      "  3%|▎         | 556165/21812332 [01:12<41:31, 8533.03it/s][13:57:25] WARNING: not removing hydrogen atom without neighbors\n",
      "  3%|▎         | 557041/21812332 [01:12<42:20, 8367.46it/s][13:57:25] WARNING: not removing hydrogen atom without neighbors\n",
      "  3%|▎         | 600059/21812332 [01:17<44:26, 7954.87it/s][13:57:30] WARNING: not removing hydrogen atom without neighbors\n",
      "[13:57:30] WARNING: not removing hydrogen atom without neighbors\n",
      "  3%|▎         | 602608/21812332 [01:17<43:19, 8158.33it/s][13:57:30] WARNING: not removing hydrogen atom without neighbors\n",
      "[13:57:30] WARNING: not removing hydrogen atom without neighbors\n",
      "  3%|▎         | 625015/21812332 [01:20<43:32, 8111.40it/s][13:57:33] WARNING: not removing hydrogen atom without neighbors\n",
      "  3%|▎         | 672388/21812332 [01:27<37:10, 9479.41it/s][13:57:39] WARNING: not removing hydrogen atom without neighbors\n",
      "[13:57:39] WARNING: not removing hydrogen atom without neighbors\n",
      "  3%|▎         | 698774/21812332 [01:30<46:38, 7543.83it/s][13:57:42] WARNING: not removing hydrogen atom without neighbors\n",
      "  3%|▎         | 711589/21812332 [01:31<44:02, 7986.11it/s][13:57:44] WARNING: not removing hydrogen atom without neighbors\n",
      "  3%|▎         | 733660/21812332 [01:34<48:26, 7251.62it/s][13:57:47] WARNING: not removing hydrogen atom without neighbors\n",
      "  3%|▎         | 753032/21812332 [01:37<46:49, 7496.04it/s][13:57:50] WARNING: not removing hydrogen atom without neighbors\n",
      "  4%|▎         | 785336/21812332 [01:41<44:28, 7880.16it/s][13:57:54] WARNING: not removing hydrogen atom without neighbors\n",
      "  4%|▎         | 786922/21812332 [01:42<44:56, 7796.03it/s][13:57:54] WARNING: not removing hydrogen atom without neighbors\n",
      "  4%|▎         | 793330/21812332 [01:42<48:50, 7172.45it/s][13:57:55] WARNING: not removing hydrogen atom without neighbors\n",
      "  4%|▎         | 794123/21812332 [01:43<48:42, 7192.93it/s][13:57:55] WARNING: not removing hydrogen atom without neighbors\n",
      "  4%|▎         | 803593/21812332 [01:44<50:25, 6943.43it/s][13:57:57] WARNING: not removing hydrogen atom without neighbors\n",
      "  4%|▍         | 821797/21812332 [01:46<48:42, 7181.68it/s][13:57:59] WARNING: not removing hydrogen atom without neighbors\n"
     ]
    },
    {
     "name": "stderr",
     "output_type": "stream",
     "text": [
      "  4%|▍         | 835224/21812332 [01:48<40:26, 8643.68it/s][13:58:01] WARNING: not removing hydrogen atom without neighbors\n",
      "[13:58:01] WARNING: not removing hydrogen atom without neighbors\n",
      "  4%|▍         | 839110/21812332 [01:49<39:07, 8934.83it/s][13:58:01] WARNING: not removing hydrogen atom without neighbors\n",
      "  4%|▍         | 844158/21812332 [01:49<40:36, 8606.31it/s][13:58:02] WARNING: not removing hydrogen atom without neighbors\n",
      "  4%|▍         | 855675/21812332 [01:51<39:48, 8774.56it/s][13:58:03] WARNING: not removing hydrogen atom without neighbors\n",
      "  4%|▍         | 868148/21812332 [01:52<38:51, 8982.62it/s][13:58:05] WARNING: not removing hydrogen atom without neighbors\n",
      "  4%|▍         | 870961/21812332 [01:52<39:26, 8850.23it/s][13:58:05] WARNING: not removing hydrogen atom without neighbors\n",
      "  4%|▍         | 885914/21812332 [01:54<42:39, 8174.84it/s][13:58:07] WARNING: not removing hydrogen atom without neighbors\n",
      "  4%|▍         | 892537/21812332 [01:55<46:12, 7544.87it/s][13:58:08] WARNING: not removing hydrogen atom without neighbors\n",
      "  4%|▍         | 895287/21812332 [01:55<41:52, 8325.36it/s][13:58:08] WARNING: not removing hydrogen atom without neighbors\n",
      "  4%|▍         | 916671/21812332 [01:58<42:16, 8237.09it/s][13:58:11] WARNING: not removing hydrogen atom without neighbors\n",
      "  4%|▍         | 937921/21812332 [02:01<1:10:17, 4949.52it/s][13:58:13] WARNING: not removing hydrogen atom without neighbors\n",
      "  4%|▍         | 944740/21812332 [02:02<43:35, 7977.80it/s]  [13:58:14] WARNING: not removing hydrogen atom without neighbors\n",
      "[13:58:14] WARNING: not removing hydrogen atom without neighbors\n",
      "  4%|▍         | 950686/21812332 [02:02<43:50, 7930.68it/s][13:58:15] WARNING: not removing hydrogen atom without neighbors\n",
      "  5%|▍         | 992889/21812332 [02:08<50:15, 6903.33it/s][13:58:20] WARNING: not removing hydrogen atom without neighbors\n",
      "[13:58:20] WARNING: not removing hydrogen atom without neighbors\n",
      "[13:58:20] WARNING: not removing hydrogen atom without neighbors\n",
      "  5%|▍         | 993597/21812332 [02:08<49:55, 6949.61it/s][13:58:21] WARNING: not removing hydrogen atom without neighbors\n",
      "  5%|▍         | 1009103/21812332 [02:10<41:25, 8371.16it/s][13:58:23] Can't kekulize mol.  Unkekulized atoms: 2 6 7\n",
      "  5%|▍         | 1017499/21812332 [02:11<42:22, 8178.10it/s][13:58:24] WARNING: not removing hydrogen atom without neighbors\n",
      "  5%|▍         | 1023027/21812332 [02:12<48:39, 7120.72it/s][13:58:25] WARNING: not removing hydrogen atom without neighbors\n",
      "  5%|▍         | 1033563/21812332 [02:13<43:12, 8015.45it/s][13:58:26] WARNING: not removing hydrogen atom without neighbors\n",
      "[13:58:26] WARNING: not removing hydrogen atom without neighbors\n",
      "[13:58:26] WARNING: not removing hydrogen atom without neighbors\n",
      "  5%|▍         | 1045441/21812332 [02:15<1:03:28, 5452.28it/s][13:58:27] WARNING: not removing hydrogen atom without neighbors\n",
      "  5%|▍         | 1061502/21812332 [02:17<48:25, 7141.05it/s]  [13:58:30] WARNING: not removing hydrogen atom without neighbors\n",
      "  5%|▍         | 1069560/21812332 [02:18<46:42, 7400.40it/s][13:58:31] WARNING: not removing hydrogen atom without neighbors\n",
      "[13:58:31] WARNING: not removing hydrogen atom without neighbors\n",
      "  5%|▍         | 1085470/21812332 [02:20<41:45, 8271.97it/s][13:58:33] WARNING: not removing hydrogen atom without neighbors\n",
      "  5%|▍         | 1086299/21812332 [02:20<41:52, 8247.59it/s][13:58:33] WARNING: not removing hydrogen atom without neighbors\n",
      "  5%|▌         | 1119993/21812332 [02:25<48:48, 7066.26it/s]  [13:58:38] WARNING: not removing hydrogen atom without neighbors\n",
      "  5%|▌         | 1133292/21812332 [02:27<50:14, 6858.86it/s][13:58:40] Can't kekulize mol.  Unkekulized atoms: 2 3 4 5 6 9 10 11 12 13 14\n",
      "  5%|▌         | 1169265/21812332 [02:32<41:05, 8374.43it/s][13:58:44] WARNING: not removing hydrogen atom without neighbors\n",
      "[13:58:44] WARNING: not removing hydrogen atom without neighbors\n",
      "[13:58:44] WARNING: not removing hydrogen atom without neighbors\n",
      "  5%|▌         | 1194792/21812332 [02:35<49:33, 6934.10it/s][13:58:48] WARNING: not removing hydrogen atom without neighbors\n",
      "  6%|▌         | 1211985/21812332 [02:37<41:36, 8252.51it/s][13:58:50] WARNING: not removing hydrogen atom without neighbors\n",
      "  6%|▌         | 1260667/21812332 [02:44<44:34, 7685.58it/s][13:58:57] WARNING: not removing hydrogen atom without neighbors\n",
      "  6%|▌         | 1268470/21812332 [02:45<51:31, 6646.08it/s][13:58:58] WARNING: not removing hydrogen atom without neighbors\n",
      "[13:58:58] WARNING: not removing hydrogen atom without neighbors\n",
      "  6%|▌         | 1316767/21812332 [02:51<51:02, 6692.07it/s][13:59:04] Can't kekulize mol.  Unkekulized atoms: 2 3 4 5 6 9 10 11 12 13 14\n",
      "  6%|▌         | 1323751/21812332 [02:52<42:23, 8054.43it/s][13:59:05] WARNING: not removing hydrogen atom without neighbors\n",
      "  6%|▌         | 1338496/21812332 [02:54<41:33, 8211.85it/s][13:59:07] WARNING: not removing hydrogen atom without neighbors\n",
      "[13:59:07] WARNING: not removing hydrogen atom without neighbors\n",
      "[13:59:07] WARNING: not removing hydrogen atom without neighbors\n",
      "  6%|▋         | 1367611/21812332 [02:58<40:49, 8345.42it/s][13:59:10] WARNING: not removing hydrogen atom without neighbors\n",
      "  6%|▋         | 1372081/21812332 [02:58<39:39, 8591.23it/s][13:59:11] WARNING: not removing hydrogen atom without neighbors\n",
      "  6%|▋         | 1392998/21812332 [03:01<40:05, 8488.63it/s][13:59:13] WARNING: not removing hydrogen atom without neighbors\n",
      "  7%|▋         | 1473530/21812332 [03:10<39:38, 8551.46it/s][13:59:23] WARNING: not removing hydrogen atom without neighbors\n",
      "  7%|▋         | 1609979/21812332 [03:31<53:27, 6299.38it/s]  [13:59:44] WARNING: not removing hydrogen atom without neighbors\n",
      "  8%|▊         | 1664172/21812332 [03:39<1:00:33, 5544.66it/s][13:59:52] WARNING: not removing hydrogen atom without neighbors\n",
      "  9%|▉         | 2066151/21812332 [04:43<48:38, 6766.41it/s]  [14:00:56] WARNING: not removing hydrogen atom without neighbors\n",
      " 10%|▉         | 2131156/21812332 [04:54<1:11:47, 4568.77it/s][14:01:07] WARNING: not removing hydrogen atom without neighbors\n",
      " 10%|█         | 2246572/21812332 [05:12<47:59, 6795.05it/s]  [14:01:25] WARNING: not removing hydrogen atom without neighbors\n",
      " 10%|█         | 2274612/21812332 [05:16<44:15, 7357.17it/s][14:01:29] WARNING: not removing hydrogen atom without neighbors\n",
      "[14:01:29] WARNING: not removing hydrogen atom without neighbors\n",
      " 11%|█         | 2410412/21812332 [05:38<50:06, 6453.58it/s]  [14:01:51] WARNING: not removing hydrogen atom without neighbors\n",
      "[14:01:51] WARNING: not removing hydrogen atom without neighbors\n",
      " 11%|█▏        | 2467495/21812332 [05:47<52:50, 6101.08it/s]  [14:02:00] WARNING: not removing hydrogen atom without neighbors\n",
      " 11%|█▏        | 2468979/21812332 [05:47<50:18, 6408.32it/s][14:02:00] WARNING: not removing hydrogen atom without neighbors\n",
      " 12%|█▏        | 2624129/21812332 [06:13<45:56, 6959.83it/s]  [14:02:26] Conflicting single bond directions around double bond at index 32.\n",
      "[14:02:26]   BondStereo set to STEREONONE and single bond directions set to NONE.\n",
      " 12%|█▏        | 2691841/21812332 [06:25<56:04, 5683.64it/s]  [14:02:38] WARNING: not removing hydrogen atom without neighbors\n",
      " 13%|█▎        | 2766864/21812332 [06:37<50:24, 6297.39it/s]  [14:02:50] WARNING: not removing hydrogen atom without neighbors\n",
      " 13%|█▎        | 2885062/21812332 [06:57<53:07, 5938.21it/s]  [14:03:10] Can't kekulize mol.  Unkekulized atoms: 5 6 7 8 9 10 11 12 13 14 15 16 17 18 19 20 21 22 23 24 25 26 27 29 32 33 34 35 36 37 38 39 40 41 42 43 44 45 46 48 49 50 51 52 54 55 56 57 58 59 60 61 62 72 73 74 75 76 77 78 79 80 81 82 83 84 85 86 87 88 89 90 91 92 93 94 95 96 97 98 99 100 101 102 103 104 105 106 107 108 109 110 111 112 113 114 115 116 117 118 119 120 121 122 123 124 125 126 127 128 129 130 131 132 133 134\n",
      "[14:03:10] Can't kekulize mol.  Unkekulized atoms: 5 6 7 8 9 10 11 12 13 14 15 16 17 18 19 20 21 22 23 24 25 26 27 29 32 33 34 35 36 37 38 39 40 41 42 43 44 45 46 48 49 50 51 52 54 55 56 57 58 59 60 61 62 72 73 74 75 76 77 78 79 80 81 82 83 84 85 86 87 88 89 90 91 92 93 94 95 96 97 98 99 100 101 102 103 104 105 106 107 108 109 110 111 112 113 114 115 116 117 118 119 120 121 122 123 124 125 126 127 128 129 130 131 132 133 134\n"
     ]
    },
    {
     "name": "stderr",
     "output_type": "stream",
     "text": [
      " 14%|█▍        | 3004131/21812332 [07:17<43:55, 7137.10it/s]  [14:03:29] WARNING: not removing hydrogen atom without neighbors\n",
      "[14:03:29] WARNING: not removing hydrogen atom without neighbors\n",
      " 15%|█▍        | 3188174/21812332 [07:46<51:40, 6007.33it/s]  [14:03:59] WARNING: not removing hydrogen atom without neighbors\n",
      "[14:03:59] WARNING: not removing hydrogen atom without neighbors\n",
      "[14:03:59] WARNING: not removing hydrogen atom without neighbors\n",
      " 15%|█▍        | 3246150/21812332 [07:55<48:46, 6343.31it/s][14:04:08] WARNING: not removing hydrogen atom without neighbors\n",
      " 15%|█▍        | 3257617/21812332 [07:57<39:55, 7746.08it/s][14:04:10] WARNING: not removing hydrogen atom without neighbors\n",
      " 15%|█▌        | 3345471/21812332 [08:11<51:45, 5945.68it/s]  [14:04:24] WARNING: not removing hydrogen atom without neighbors\n",
      " 16%|█▌        | 3543577/21812332 [08:43<48:21, 6297.18it/s]  [14:04:55] WARNING: not removing hydrogen atom without neighbors\n",
      "[14:04:55] WARNING: not removing hydrogen atom without neighbors\n",
      " 16%|█▋        | 3556342/21812332 [08:45<50:34, 6016.61it/s][14:04:58] WARNING: not removing hydrogen atom without neighbors\n",
      " 16%|█▋        | 3571774/21812332 [08:47<50:46, 5988.09it/s][14:05:00] WARNING: not removing hydrogen atom without neighbors\n",
      " 17%|█▋        | 3599700/21812332 [08:52<46:44, 6494.69it/s]  [14:05:05] WARNING: not removing hydrogen atom without neighbors\n",
      " 17%|█▋        | 3729876/21812332 [09:13<50:32, 5963.71it/s]  [14:05:26] WARNING: not removing hydrogen atom without neighbors\n",
      " 17%|█▋        | 3762743/21812332 [09:18<46:55, 6410.62it/s][14:05:31] WARNING: not removing hydrogen atom without neighbors\n",
      " 18%|█▊        | 3822288/21812332 [09:28<1:00:59, 4916.57it/s][14:05:41] WARNING: not removing hydrogen atom without neighbors\n",
      " 18%|█▊        | 3934908/21812332 [09:47<51:33, 5778.43it/s]  [14:06:00] WARNING: not removing hydrogen atom without neighbors\n",
      " 18%|█▊        | 4024568/21812332 [10:02<46:32, 6369.07it/s]  [14:06:15] WARNING: not removing hydrogen atom without neighbors\n",
      " 18%|█▊        | 4025205/21812332 [10:02<51:55, 5708.62it/s][14:06:15] WARNING: not removing hydrogen atom without neighbors\n",
      "[14:06:15] WARNING: not removing hydrogen atom without neighbors\n",
      " 18%|█▊        | 4031665/21812332 [10:03<49:00, 6045.97it/s][14:06:16] WARNING: not removing hydrogen atom without neighbors\n",
      " 19%|█▉        | 4171498/21812332 [10:27<47:54, 6137.06it/s]  [14:06:40] WARNING: not removing hydrogen atom without neighbors\n",
      " 19%|█▉        | 4226268/21812332 [10:37<45:40, 6416.18it/s]  [14:06:50] WARNING: not removing hydrogen atom without neighbors\n",
      " 20%|██        | 4364646/21812332 [11:00<52:45, 5511.42it/s]  [14:07:13] WARNING: not removing hydrogen atom without neighbors\n",
      " 20%|██        | 4435548/21812332 [11:13<45:57, 6302.56it/s]  [14:07:25] WARNING: not removing hydrogen atom without neighbors\n",
      "[14:07:25] WARNING: not removing hydrogen atom without neighbors\n",
      " 20%|██        | 4462154/21812332 [11:17<48:25, 5970.94it/s][14:07:30] WARNING: not removing hydrogen atom without neighbors\n",
      "[14:07:30] WARNING: not removing hydrogen atom without neighbors\n",
      "[14:07:30] WARNING: not removing hydrogen atom without neighbors\n",
      " 22%|██▏       | 4838589/21812332 [12:25<1:06:01, 4284.96it/s][14:08:38] WARNING: could not find number of expected rings. Switching to an approximate ring finding algorithm.\n",
      "[14:08:38] WARNING: could not find number of expected rings. Switching to an approximate ring finding algorithm.\n",
      "[14:08:38] WARNING: could not find number of expected rings. Switching to an approximate ring finding algorithm.\n",
      " 22%|██▏       | 4839032/21812332 [12:26<1:28:34, 3193.65it/s][14:08:38] WARNING: could not find number of expected rings. Switching to an approximate ring finding algorithm.\n",
      "[14:08:38] WARNING: could not find number of expected rings. Switching to an approximate ring finding algorithm.\n",
      " 23%|██▎       | 4917996/21812332 [12:39<42:10, 6675.04it/s]  [14:08:52] WARNING: not removing hydrogen atom without neighbors\n",
      " 23%|██▎       | 4929508/21812332 [12:41<42:36, 6604.57it/s][14:08:54] WARNING: not removing hydrogen atom without neighbors\n",
      " 23%|██▎       | 4961126/21812332 [12:46<43:21, 6477.35it/s]  [14:08:59] Can't kekulize mol.  Unkekulized atoms: 0 1 2 3 4 5 6 7 8 9 10 11 12 13 14 15 16 17 18 19 20 21 22 23 24 25 26 27 28 29 30 31 32 33 34 35 36 37 38 39 40 41 42 43 44 45 46 47 48 49 50 51 52 53 54 55 56 57 58 59 60 61 62 63 64 65 66 67 68 69 70 71 72 73 74 75 76 77 78 79 80 81 82 83 84 85 86 87 88 89 90 91 92 93 94 95 96 97 98 99 100 101 102 103 104 105 106 107 108 109 110 111 112 113 114 115 116 117 118 119 120 121 122 123 124 125 126 127 128 129 130 131 132 133 134 135\n",
      " 23%|██▎       | 4981261/21812332 [12:50<39:48, 7047.47it/s][14:09:03] WARNING: not removing hydrogen atom without neighbors\n",
      " 23%|██▎       | 4988567/21812332 [12:51<29:58, 9354.58it/s][14:09:03] WARNING: not removing hydrogen atom without neighbors\n",
      " 23%|██▎       | 4991793/21812332 [12:51<28:27, 9850.72it/s][14:09:04] WARNING: not removing hydrogen atom without neighbors\n",
      " 23%|██▎       | 4995820/21812332 [12:51<30:39, 9139.87it/s] [14:09:04] WARNING: not removing hydrogen atom without neighbors\n",
      " 23%|██▎       | 5012618/21812332 [12:53<32:11, 8697.18it/s][14:09:06] WARNING: not removing hydrogen atom without neighbors\n",
      " 23%|██▎       | 5035252/21812332 [12:56<34:10, 8180.48it/s][14:09:09] WARNING: not removing hydrogen atom without neighbors\n",
      " 23%|██▎       | 5036100/21812332 [12:56<34:49, 8029.76it/s][14:09:09] WARNING: not removing hydrogen atom without neighbors\n",
      " 23%|██▎       | 5066276/21812332 [13:00<35:54, 7773.14it/s][14:09:13] WARNING: not removing hydrogen atom without neighbors\n",
      " 23%|██▎       | 5090273/21812332 [13:03<30:39, 9089.41it/s][14:09:16] WARNING: not removing hydrogen atom without neighbors\n",
      " 23%|██▎       | 5096628/21812332 [13:04<29:12, 9538.19it/s][14:09:16] WARNING: not removing hydrogen atom without neighbors\n",
      " 23%|██▎       | 5117020/21812332 [13:06<26:42, 10418.98it/s][14:09:18] WARNING: not removing hydrogen atom without neighbors\n",
      " 23%|██▎       | 5121783/21812332 [13:06<28:41, 9696.35it/s] [14:09:19] WARNING: not removing hydrogen atom without neighbors\n",
      " 24%|██▎       | 5159615/21812332 [13:10<29:15, 9483.47it/s] [14:09:23] WARNING: not removing hydrogen atom without neighbors\n",
      "[14:09:23] WARNING: not removing hydrogen atom without neighbors\n",
      " 24%|██▍       | 5194096/21812332 [13:14<32:00, 8655.07it/s] [14:09:27] WARNING: not removing hydrogen atom without neighbors\n",
      " 24%|██▍       | 5198112/21812332 [13:15<31:40, 8741.16it/s][14:09:27] WARNING: not removing hydrogen atom without neighbors\n",
      "[14:09:27] WARNING: not removing hydrogen atom without neighbors\n",
      " 24%|██▍       | 5227913/21812332 [13:18<31:39, 8731.72it/s] [14:09:31] WARNING: not removing hydrogen atom without neighbors\n",
      " 24%|██▍       | 5241633/21812332 [13:20<32:43, 8440.06it/s][14:09:32] Can't kekulize mol.  Unkekulized atoms: 2 6 7\n",
      " 24%|██▍       | 5246393/21812332 [13:20<33:27, 8252.15it/s][14:09:33] WARNING: not removing hydrogen atom without neighbors\n",
      " 24%|██▍       | 5251296/21812332 [13:21<38:42, 7130.95it/s][14:09:34] WARNING: not removing hydrogen atom without neighbors\n",
      " 24%|██▍       | 5288174/21812332 [13:25<34:27, 7992.34it/s][14:09:38] WARNING: not removing hydrogen atom without neighbors\n",
      " 24%|██▍       | 5305360/21812332 [13:28<37:38, 7309.91it/s][14:09:40] WARNING: not removing hydrogen atom without neighbors\n",
      " 24%|██▍       | 5312978/21812332 [13:29<31:53, 8621.03it/s][14:09:41] WARNING: not removing hydrogen atom without neighbors\n",
      " 24%|██▍       | 5317056/21812332 [13:29<29:44, 9245.05it/s][14:09:42] WARNING: not removing hydrogen atom without neighbors\n",
      " 24%|██▍       | 5325108/21812332 [13:30<36:17, 7570.43it/s][14:09:43] WARNING: not removing hydrogen atom without neighbors\n",
      " 24%|██▍       | 5326677/21812332 [13:30<37:16, 7371.35it/s][14:09:43] WARNING: not removing hydrogen atom without neighbors\n",
      " 24%|██▍       | 5332827/21812332 [13:31<31:24, 8743.10it/s][14:09:44] WARNING: not removing hydrogen atom without neighbors\n",
      " 25%|██▍       | 5349989/21812332 [13:33<29:51, 9191.08it/s][14:09:46] WARNING: not removing hydrogen atom without neighbors\n"
     ]
    },
    {
     "name": "stderr",
     "output_type": "stream",
     "text": [
      " 25%|██▍       | 5352179/21812332 [13:33<28:33, 9603.71it/s][14:09:46] WARNING: not removing hydrogen atom without neighbors\n",
      " 25%|██▍       | 5353318/21812332 [13:33<28:15, 9708.03it/s][14:09:46] WARNING: not removing hydrogen atom without neighbors\n",
      " 25%|██▍       | 5358078/21812332 [13:34<31:32, 8692.80it/s][14:09:47] WARNING: not removing hydrogen atom without neighbors\n",
      " 25%|██▍       | 5378888/21812332 [13:37<34:43, 7885.71it/s][14:09:49] WARNING: not removing hydrogen atom without neighbors\n",
      " 25%|██▍       | 5388331/21812332 [13:38<35:07, 7793.28it/s][14:09:51] WARNING: not removing hydrogen atom without neighbors\n",
      "[14:09:51] WARNING: not removing hydrogen atom without neighbors\n",
      " 25%|██▍       | 5408230/21812332 [13:40<34:09, 8005.35it/s][14:09:53] WARNING: not removing hydrogen atom without neighbors\n",
      "[14:09:53] WARNING: not removing hydrogen atom without neighbors\n",
      " 25%|██▍       | 5422474/21812332 [13:42<32:58, 8283.46it/s][14:09:55] WARNING: not removing hydrogen atom without neighbors\n",
      " 25%|██▍       | 5427964/21812332 [13:43<31:54, 8558.56it/s][14:09:56] WARNING: not removing hydrogen atom without neighbors\n",
      " 25%|██▍       | 5438501/21812332 [13:44<33:38, 8111.71it/s][14:09:57] WARNING: not removing hydrogen atom without neighbors\n",
      " 25%|██▍       | 5447239/21812332 [13:45<35:10, 7753.85it/s][14:09:58] WARNING: not removing hydrogen atom without neighbors\n",
      " 25%|██▌       | 5469425/21812332 [13:48<28:45, 9469.66it/s][14:10:01] WARNING: not removing hydrogen atom without neighbors\n",
      " 25%|██▌       | 5477261/21812332 [13:49<26:00, 10464.82it/s][14:10:01] WARNING: not removing hydrogen atom without neighbors\n",
      " 25%|██▌       | 5481756/21812332 [13:49<27:03, 10056.89it/s][14:10:02] WARNING: not removing hydrogen atom without neighbors\n",
      "[14:10:02] WARNING: not removing hydrogen atom without neighbors\n",
      "[14:10:02] WARNING: not removing hydrogen atom without neighbors\n",
      "[14:10:02] WARNING: not removing hydrogen atom without neighbors\n",
      "[14:10:02] WARNING: not removing hydrogen atom without neighbors\n",
      "[14:10:02] WARNING: not removing hydrogen atom without neighbors\n",
      "[14:10:02] WARNING: not removing hydrogen atom without neighbors\n",
      "[14:10:02] WARNING: not removing hydrogen atom without neighbors\n",
      " 25%|██▌       | 5488276/21812332 [13:50<28:43, 9473.44it/s] [14:10:03] WARNING: not removing hydrogen atom without neighbors\n",
      " 25%|██▌       | 5494720/21812332 [13:50<29:27, 9230.29it/s] [14:10:03] WARNING: not removing hydrogen atom without neighbors\n",
      " 25%|██▌       | 5495656/21812332 [13:51<30:00, 9062.33it/s][14:10:03] WARNING: not removing hydrogen atom without neighbors\n",
      " 25%|██▌       | 5501264/21812332 [13:51<29:14, 9297.69it/s][14:10:04] WARNING: not removing hydrogen atom without neighbors\n",
      " 25%|██▌       | 5516778/21812332 [13:53<27:57, 9711.61it/s][14:10:06] WARNING: not removing hydrogen atom without neighbors\n",
      "[14:10:06] WARNING: not removing hydrogen atom without neighbors\n",
      " 25%|██▌       | 5529160/21812332 [13:54<30:20, 8945.74it/s][14:10:07] WARNING: not removing hydrogen atom without neighbors\n",
      " 25%|██▌       | 5558446/21812332 [13:58<29:22, 9221.42it/s][14:10:11] WARNING: not removing hydrogen atom without neighbors\n",
      " 26%|██▌       | 5562440/21812332 [13:58<30:22, 8915.04it/s][14:10:11] WARNING: not removing hydrogen atom without neighbors\n",
      " 26%|██▌       | 5582868/21812332 [14:01<31:07, 8689.54it/s][14:10:13] WARNING: not removing hydrogen atom without neighbors\n",
      " 26%|██▌       | 5602116/21812332 [14:03<33:10, 8144.01it/s][14:10:16] WARNING: not removing hydrogen atom without neighbors\n",
      " 26%|██▌       | 5610952/21812332 [14:04<27:58, 9651.59it/s][14:10:17] WARNING: not removing hydrogen atom without neighbors\n",
      "[14:10:17] WARNING: not removing hydrogen atom without neighbors\n",
      " 26%|██▌       | 5613304/21812332 [14:04<26:18, 10261.20it/s][14:10:17] WARNING: not removing hydrogen atom without neighbors\n",
      " 26%|██▌       | 5617865/21812332 [14:05<27:34, 9787.13it/s] [14:10:18] WARNING: not removing hydrogen atom without neighbors\n",
      "[14:10:18] WARNING: not removing hydrogen atom without neighbors\n",
      "[14:10:18] WARNING: not removing hydrogen atom without neighbors\n",
      "[14:10:18] WARNING: not removing hydrogen atom without neighbors\n",
      "[14:10:18] WARNING: not removing hydrogen atom without neighbors\n",
      " 26%|██▌       | 5625653/21812332 [14:06<27:04, 9966.70it/s] [14:10:18] WARNING: not removing hydrogen atom without neighbors\n",
      " 26%|██▌       | 5626914/21812332 [14:06<25:55, 10403.57it/s][14:10:18] WARNING: not removing hydrogen atom without neighbors\n",
      " 26%|██▌       | 5648427/21812332 [14:08<32:42, 8235.09it/s] [14:10:21] WARNING: not removing hydrogen atom without neighbors\n",
      " 26%|██▌       | 5652184/21812332 [14:09<29:51, 9019.92it/s][14:10:21] WARNING: not removing hydrogen atom without neighbors\n",
      "[14:10:21] WARNING: not removing hydrogen atom without neighbors\n",
      "[14:10:21] WARNING: not removing hydrogen atom without neighbors\n",
      " 26%|██▌       | 5663284/21812332 [14:10<26:50, 10027.81it/s][14:10:22] WARNING: not removing hydrogen atom without neighbors\n",
      " 26%|██▌       | 5664290/21812332 [14:10<27:58, 9623.07it/s] [14:10:23] WARNING: not removing hydrogen atom without neighbors\n",
      " 26%|██▌       | 5670331/21812332 [14:10<28:13, 9533.95it/s][14:10:23] WARNING: not removing hydrogen atom without neighbors\n",
      " 26%|██▌       | 5673369/21812332 [14:11<28:42, 9371.24it/s][14:10:24] WARNING: not removing hydrogen atom without neighbors\n",
      " 26%|██▌       | 5674306/21812332 [14:11<29:52, 9001.50it/s][14:10:24] WARNING: not removing hydrogen atom without neighbors\n",
      " 26%|██▌       | 5677145/21812332 [14:11<29:54, 8993.19it/s][14:10:24] WARNING: not removing hydrogen atom without neighbors\n",
      "[14:10:24] WARNING: not removing hydrogen atom without neighbors\n",
      " 26%|██▌       | 5680694/21812332 [14:12<32:24, 8296.27it/s][14:10:24] WARNING: not removing hydrogen atom without neighbors\n",
      " 26%|██▌       | 5686268/21812332 [14:12<30:24, 8836.39it/s][14:10:25] WARNING: not removing hydrogen atom without neighbors\n",
      " 26%|██▌       | 5697621/21812332 [14:14<29:02, 9249.76it/s][14:10:26] WARNING: not removing hydrogen atom without neighbors\n",
      " 26%|██▌       | 5717503/21812332 [14:16<29:16, 9164.00it/s][14:10:29] WARNING: not removing hydrogen atom without neighbors\n",
      " 26%|██▋       | 5741200/21812332 [14:19<32:33, 8225.33it/s][14:10:31] WARNING: not removing hydrogen atom without neighbors\n",
      " 26%|██▋       | 5749504/21812332 [14:20<39:00, 6862.78it/s][14:10:33] WARNING: not removing hydrogen atom without neighbors\n",
      " 26%|██▋       | 5757062/21812332 [14:21<35:14, 7592.82it/s][14:10:34] WARNING: not removing hydrogen atom without neighbors\n",
      " 27%|██▋       | 5790044/21812332 [14:25<29:11, 9147.90it/s][14:10:37] WARNING: not removing hydrogen atom without neighbors\n",
      " 27%|██▋       | 5791869/21812332 [14:25<34:46, 7677.29it/s][14:10:38] WARNING: not removing hydrogen atom without neighbors\n",
      " 27%|██▋       | 5797159/21812332 [14:26<32:45, 8148.18it/s][14:10:38] Can't kekulize mol.  Unkekulized atoms: 2 6 7\n",
      " 27%|██▋       | 5799018/21812332 [14:26<32:22, 8243.07it/s][14:10:38] WARNING: not removing hydrogen atom without neighbors\n",
      " 27%|██▋       | 5807950/21812332 [14:27<33:46, 7898.77it/s][14:10:40] WARNING: not removing hydrogen atom without neighbors\n",
      " 27%|██▋       | 5827128/21812332 [14:29<36:05, 7380.19it/s][14:10:42] WARNING: not removing hydrogen atom without neighbors\n",
      " 27%|██▋       | 5838688/21812332 [14:31<33:35, 7925.37it/s][14:10:44] WARNING: not removing hydrogen atom without neighbors\n",
      " 27%|██▋       | 5846707/21812332 [14:32<31:28, 8454.15it/s][14:10:45] WARNING: not removing hydrogen atom without neighbors\n",
      " 27%|██▋       | 5862353/21812332 [14:34<29:23, 9045.75it/s][14:10:47] Can't kekulize mol.  Unkekulized atoms: 2 3 4 5 6 9 10 11 12 13 14\n",
      " 27%|██▋       | 5888865/21812332 [14:37<28:31, 9305.67it/s][14:10:50] WARNING: not removing hydrogen atom without neighbors\n",
      " 27%|██▋       | 5907829/21812332 [14:39<34:40, 7646.03it/s][14:10:52] WARNING: not removing hydrogen atom without neighbors\n",
      " 27%|██▋       | 5934072/21812332 [14:42<33:02, 8007.54it/s][14:10:55] WARNING: not removing hydrogen atom without neighbors\n",
      "[14:10:55] WARNING: not removing hydrogen atom without neighbors\n",
      " 27%|██▋       | 5943306/21812332 [14:43<31:00, 8530.40it/s][14:10:56] WARNING: not removing hydrogen atom without neighbors\n",
      "[14:10:56] WARNING: not removing hydrogen atom without neighbors\n"
     ]
    },
    {
     "name": "stderr",
     "output_type": "stream",
     "text": [
      " 27%|██▋       | 5959212/21812332 [14:45<29:56, 8826.86it/s][14:10:58] WARNING: not removing hydrogen atom without neighbors\n",
      "[14:10:58] WARNING: not removing hydrogen atom without neighbors\n",
      " 27%|██▋       | 5968118/21812332 [14:46<28:01, 9420.24it/s][14:10:59] WARNING: not removing hydrogen atom without neighbors\n",
      " 27%|██▋       | 5974087/21812332 [14:47<26:31, 9954.05it/s][14:11:00] Can't kekulize mol.  Unkekulized atoms: 2 3 4 5 6 9 10 11 12 13 14\n",
      " 27%|██▋       | 5976095/21812332 [14:47<28:31, 9251.88it/s][14:11:00] WARNING: not removing hydrogen atom without neighbors\n",
      " 28%|██▊       | 6012921/21812332 [14:51<29:19, 8981.80it/s][14:11:04] WARNING: not removing hydrogen atom without neighbors\n",
      " 28%|██▊       | 6023054/21812332 [14:52<26:50, 9804.43it/s][14:11:05] WARNING: not removing hydrogen atom without neighbors\n",
      " 28%|██▊       | 6050125/21812332 [14:55<25:41, 10222.64it/s][14:11:08] WARNING: not removing hydrogen atom without neighbors\n",
      " 28%|██▊       | 6068919/21812332 [14:57<28:13, 9295.99it/s] [14:11:10] WARNING: not removing hydrogen atom without neighbors\n",
      " 28%|██▊       | 6080210/21812332 [14:58<25:23, 10327.31it/s][14:11:11] WARNING: not removing hydrogen atom without neighbors\n",
      " 28%|██▊       | 6090050/21812332 [14:59<27:01, 9695.09it/s] [14:11:12] WARNING: not removing hydrogen atom without neighbors\n",
      " 28%|██▊       | 6179808/21812332 [15:11<38:47, 6716.70it/s] [14:11:24] WARNING: not removing hydrogen atom without neighbors\n",
      " 29%|██▉       | 6433802/21812332 [15:49<35:37, 7194.79it/s][14:12:02] Can't kekulize mol.  Unkekulized atoms: 0 1 2 3 4 7 8 9 10 11 12 13 14 15 16 17 18 19 20 21 22 23 24 25 26 28 29 30 31 32 33 34 35 36 37 38 39 40 41 42 43 44 45 47 48 49 50 51 52 53 54 55 56 57 58 59 60 62 63 64 65 66 67 68 69 70 71 72 73 74 75 76 77 78 79 80 81 82 83 84 85 86 87 88 89 90 91 92 93 94\n",
      " 30%|██▉       | 6505943/21812332 [16:00<39:20, 6483.60it/s][14:12:12] WARNING: not removing hydrogen atom without neighbors\n",
      " 31%|███       | 6778432/21812332 [16:42<33:54, 7389.42it/s][14:12:55] WARNING: not removing hydrogen atom without neighbors\n",
      " 31%|███▏      | 6823165/21812332 [16:50<39:45, 6282.35it/s][14:13:03] WARNING: not removing hydrogen atom without neighbors\n",
      " 32%|███▏      | 6879922/21812332 [16:59<43:13, 5758.28it/s][14:13:12] WARNING: not removing hydrogen atom without neighbors\n",
      " 32%|███▏      | 6992526/21812332 [17:16<37:02, 6669.49it/s][14:13:29] WARNING: not removing hydrogen atom without neighbors\n",
      " 32%|███▏      | 7044476/21812332 [17:25<39:10, 6281.99it/s][14:13:38] WARNING: not removing hydrogen atom without neighbors\n",
      " 32%|███▏      | 7045105/21812332 [17:25<40:07, 6134.41it/s][14:13:38] WARNING: not removing hydrogen atom without neighbors\n",
      " 32%|███▏      | 7065948/21812332 [17:28<40:33, 6058.53it/s][14:13:41] WARNING: not removing hydrogen atom without neighbors\n",
      " 32%|███▏      | 7071386/21812332 [17:29<39:36, 6201.78it/s][14:13:42] WARNING: not removing hydrogen atom without neighbors\n",
      " 33%|███▎      | 7128157/21812332 [17:38<38:52, 6296.18it/s]  [14:13:51] WARNING: not removing hydrogen atom without neighbors\n",
      " 33%|███▎      | 7204989/21812332 [17:51<46:10, 5271.85it/s]  [14:14:04] WARNING: not removing hydrogen atom without neighbors\n",
      " 33%|███▎      | 7277472/21812332 [18:03<39:13, 6174.96it/s]  [14:14:16] WARNING: not removing hydrogen atom without neighbors\n",
      " 34%|███▍      | 7414432/21812332 [18:26<37:34, 6387.42it/s][14:14:38] WARNING: not removing hydrogen atom without neighbors\n",
      " 34%|███▍      | 7443892/21812332 [18:30<37:44, 6345.58it/s][14:14:43] WARNING: not removing hydrogen atom without neighbors\n",
      "[14:14:43] WARNING: not removing hydrogen atom without neighbors\n",
      " 34%|███▍      | 7512626/21812332 [18:41<45:54, 5191.34it/s][14:14:54] WARNING: not removing hydrogen atom without neighbors\n",
      " 34%|███▍      | 7513810/21812332 [18:42<43:16, 5506.62it/s][14:14:54] WARNING: not removing hydrogen atom without neighbors\n",
      " 35%|███▌      | 7637596/21812332 [19:01<36:31, 6466.76it/s][14:15:14] WARNING: not removing hydrogen atom without neighbors\n",
      " 35%|███▌      | 7643731/21812332 [19:02<36:17, 6507.67it/s][14:15:15] WARNING: not removing hydrogen atom without neighbors\n",
      " 36%|███▌      | 7852215/21812332 [19:36<42:37, 5459.30it/s][14:15:49] WARNING: not removing hydrogen atom without neighbors\n",
      " 37%|███▋      | 8071101/21812332 [20:13<37:27, 6112.86it/s]  [14:16:25] WARNING: not removing hydrogen atom without neighbors\n",
      "[14:16:25] WARNING: not removing hydrogen atom without neighbors\n",
      "[14:16:25] WARNING: not removing hydrogen atom without neighbors\n",
      " 37%|███▋      | 8113884/21812332 [20:20<38:35, 5917.18it/s][14:16:32] WARNING: not removing hydrogen atom without neighbors\n",
      " 38%|███▊      | 8277883/21812332 [20:47<31:47, 7096.31it/s]  [14:17:00] Conflicting single bond directions around double bond at index 21.\n",
      "[14:17:00]   BondStereo set to STEREONONE and single bond directions set to NONE.\n",
      " 38%|███▊      | 8299682/21812332 [20:52<37:26, 6016.32it/s][14:17:04] Can't kekulize mol.  Unkekulized atoms: 4 5 6 7 8 9 10 11 12 13 14 15 16 17 18 19 20 21 22 23 24 25 26 27 28 29 30 31 32 33 34 35 36 37 38 39 40 41 42 43 44 45 46 47 48 49 50 51 52 53 54 55 56 57 58 59\n",
      " 38%|███▊      | 8300284/21812332 [20:52<41:47, 5387.65it/s][14:17:04] Can't kekulize mol.  Unkekulized atoms: 4 5 6 7 8 9 10 11 12 13 14 15 16 17 18 19 20 21 22 23 24 25 26 27 28 29 30 31 32 33 34 35 36 37 38 39 40 41 42 43 44 45 46 47 48 49 50 51 52 53 54 55 56 57 58 59\n",
      " 38%|███▊      | 8322613/21812332 [20:56<39:16, 5723.85it/s][14:17:08] Conflicting single bond directions around double bond at index 16.\n",
      "[14:17:08]   BondStereo set to STEREONONE and single bond directions set to NONE.\n",
      " 38%|███▊      | 8325680/21812332 [20:56<40:05, 5607.40it/s][14:17:09] Conflicting single bond directions around double bond at index 16.\n",
      "[14:17:09]   BondStereo set to STEREONONE and single bond directions set to NONE.\n",
      " 39%|███▊      | 8408336/21812332 [21:12<33:57, 6577.11it/s]  [14:17:24] Conflicting single bond directions around double bond at index 16.\n",
      "[14:17:24]   BondStereo set to STEREONONE and single bond directions set to NONE.\n",
      " 39%|███▉      | 8510113/21812332 [21:29<37:56, 5843.25it/s][14:17:42] WARNING: not removing hydrogen atom without neighbors\n",
      " 39%|███▉      | 8556582/21812332 [21:37<34:57, 6320.03it/s][14:17:50] WARNING: not removing hydrogen atom without neighbors\n",
      " 40%|███▉      | 8647767/21812332 [21:52<34:49, 6300.72it/s][14:18:05] WARNING: not removing hydrogen atom without neighbors\n",
      " 40%|████      | 8743859/21812332 [22:08<39:01, 5580.06it/s][14:18:21] WARNING: not removing hydrogen atom without neighbors\n",
      " 40%|████      | 8755239/21812332 [22:10<33:12, 6552.45it/s][14:18:23] WARNING: could not find number of expected rings. Switching to an approximate ring finding algorithm.\n",
      " 40%|████      | 8761772/21812332 [22:11<33:16, 6535.46it/s][14:18:24] WARNING: could not find number of expected rings. Switching to an approximate ring finding algorithm.\n",
      "[14:18:24] WARNING: could not find number of expected rings. Switching to an approximate ring finding algorithm.\n",
      " 40%|████      | 8809972/21812332 [22:19<33:45, 6419.01it/s]  [14:18:32] WARNING: could not find number of expected rings. Switching to an approximate ring finding algorithm.\n",
      " 40%|████      | 8812610/21812332 [22:20<36:56, 5865.34it/s][14:18:33] WARNING: not removing hydrogen atom without neighbors\n",
      " 40%|████      | 8832396/21812332 [22:24<46:44, 4627.82it/s]  [14:18:37] WARNING: not removing hydrogen atom without neighbors\n",
      " 43%|████▎     | 9473717/21812332 [24:20<33:08, 6205.65it/s]  [14:20:33] WARNING: not removing hydrogen atom without neighbors\n",
      "[14:20:33] WARNING: not removing hydrogen atom without neighbors\n",
      " 44%|████▍     | 9567566/21812332 [24:37<31:58, 6381.00it/s][14:20:50] WARNING: could not find number of expected rings. Switching to an approximate ring finding algorithm.\n",
      " 44%|████▍     | 9585764/21812332 [24:40<29:22, 6937.79it/s][14:20:53] WARNING: not removing hydrogen atom without neighbors\n",
      " 45%|████▍     | 9722171/21812332 [25:02<33:11, 6069.90it/s][14:21:15] WARNING: not removing hydrogen atom without neighbors\n",
      " 45%|████▌     | 9842687/21812332 [25:23<31:46, 6276.76it/s][14:21:36] Can't kekulize mol.  Unkekulized atoms: 0 1 2 3 4 5 6 7 8 9 10 11 12 13 14 15 16 17 18 19 20 21 22 23 24 25 26 27 28 29 30 31 32 33 34 35 36 37 38 39 40 41 42 43 44 45 46 47 48 49 50 51 52 53 54 55 56 57 58 59 60 61 62 63 64 65 66 67 68 69 70 71 72 73 74 75 76 77 78 79 80 81 82 83 84 85 86 87 88 89 90 91 92 93 94 95 96 97 98 99 100 101 102 103 104 105 106 107 108 109 110 111 112 113 114 115 116 117 118 119 120 121 122 123 124 125 126 127 128 129 130 131 132 133 134 135\n"
     ]
    },
    {
     "name": "stderr",
     "output_type": "stream",
     "text": [
      " 46%|████▌     | 9958463/21812332 [25:42<31:40, 6237.04it/s][14:21:54] WARNING: not removing hydrogen atom without neighbors\n",
      " 47%|████▋     | 10284589/21812332 [26:38<35:01, 5484.92it/s][14:22:51] WARNING: could not find number of expected rings. Switching to an approximate ring finding algorithm.\n",
      " 48%|████▊     | 10442221/21812332 [27:05<30:05, 6298.23it/s][14:23:18] WARNING: not removing hydrogen atom without neighbors\n",
      "[14:23:18] WARNING: not removing hydrogen atom without neighbors\n",
      " 48%|████▊     | 10499190/21812332 [27:16<30:17, 6223.87it/s][14:23:29] WARNING: not removing hydrogen atom without neighbors\n",
      " 50%|████▉     | 10814704/21812332 [28:13<29:25, 6230.56it/s]  [14:24:26] WARNING: not removing hydrogen atom without neighbors\n",
      " 50%|████▉     | 10835002/21812332 [28:17<27:38, 6618.27it/s][14:24:29] WARNING: not removing hydrogen atom without neighbors\n",
      " 50%|█████     | 10961979/21812332 [28:39<30:22, 5955.12it/s][14:24:52] Conflicting single bond directions around double bond at index 8.\n",
      "[14:24:52]   BondStereo set to STEREONONE and single bond directions set to NONE.\n",
      " 51%|█████     | 11017763/21812332 [28:50<28:51, 6234.23it/s]  [14:25:03] Conflicting single bond directions around double bond at index 4.\n",
      "[14:25:03]   BondStereo set to STEREONONE and single bond directions set to NONE.\n",
      " 51%|█████     | 11031130/21812332 [28:52<26:05, 6886.35it/s][14:25:05] Can't kekulize mol.  Unkekulized atoms: 2 3 4 5 6 7 8 9 10 11 12 13 14 15 16 17 18 19 20 21 22 23 24 25 26 27 28 29 30 31 32 33 34 35 36 37 38 39 40 41 42 43 44 45 46 47 48 49 50 51 52 53 54 55 56 57 58 59 60 61 62 63 64 65 66 67 68 69 70 71 72 73 74 75 76 77 78 79 80 81 82 83 84 85 86 87 88 89 90 91 92 93 94 95 96 97 98 99 100 101 102 103 104 105 106 107 108 109 110 111 112 113 114 115 116 118 119 120 121 122 123 124 125 126 127 128 129 130 131 132 133 134\n",
      " 51%|█████     | 11114305/21812332 [29:07<35:43, 4990.41it/s][14:25:19] WARNING: not removing hydrogen atom without neighbors\n",
      " 51%|█████     | 11124445/21812332 [29:08<32:58, 5402.88it/s][14:25:21] WARNING: not removing hydrogen atom without neighbors\n",
      " 51%|█████     | 11140484/21812332 [29:11<26:04, 6822.81it/s][14:25:24] WARNING: not removing hydrogen atom without neighbors\n",
      "[14:25:24] WARNING: not removing hydrogen atom without neighbors\n",
      " 51%|█████     | 11168686/21812332 [29:16<27:09, 6529.88it/s][14:25:28] WARNING: not removing hydrogen atom without neighbors\n",
      " 51%|█████▏    | 11184725/21812332 [29:18<21:18, 8309.63it/s][14:25:31] WARNING: not removing hydrogen atom without neighbors\n",
      " 51%|█████▏    | 11199085/21812332 [29:20<20:31, 8621.36it/s][14:25:32] WARNING: not removing hydrogen atom without neighbors\n",
      " 51%|█████▏    | 11201644/21812332 [29:20<21:41, 8153.73it/s][14:25:33] WARNING: not removing hydrogen atom without neighbors\n",
      " 51%|█████▏    | 11208415/21812332 [29:21<18:36, 9498.44it/s][14:25:33] WARNING: not removing hydrogen atom without neighbors\n",
      " 51%|█████▏    | 11211235/21812332 [29:21<19:07, 9234.73it/s][14:25:34] WARNING: not removing hydrogen atom without neighbors\n",
      " 51%|█████▏    | 11213173/21812332 [29:21<19:15, 9170.33it/s][14:25:34] WARNING: not removing hydrogen atom without neighbors\n",
      " 51%|█████▏    | 11226497/21812332 [29:23<19:18, 9135.55it/s][14:25:35] WARNING: not removing hydrogen atom without neighbors\n",
      " 51%|█████▏    | 11231541/21812332 [29:23<18:52, 9340.93it/s][14:25:36] WARNING: not removing hydrogen atom without neighbors\n",
      " 52%|█████▏    | 11237536/21812332 [29:24<20:34, 8564.82it/s][14:25:36] WARNING: not removing hydrogen atom without neighbors\n",
      " 52%|█████▏    | 11243784/21812332 [29:25<21:43, 8109.21it/s][14:25:37] WARNING: not removing hydrogen atom without neighbors\n",
      " 52%|█████▏    | 11263769/21812332 [29:27<17:13, 10203.67it/s][14:25:40] WARNING: not removing hydrogen atom without neighbors\n",
      " 52%|█████▏    | 11267315/21812332 [29:27<16:40, 10544.22it/s][14:25:40] WARNING: not removing hydrogen atom without neighbors\n",
      " 52%|█████▏    | 11277438/21812332 [29:28<17:24, 10081.47it/s][14:25:41] WARNING: not removing hydrogen atom without neighbors\n",
      " 52%|█████▏    | 11278586/21812332 [29:28<16:45, 10472.51it/s][14:25:41] WARNING: not removing hydrogen atom without neighbors\n",
      " 52%|█████▏    | 11280786/21812332 [29:28<17:08, 10242.77it/s][14:25:41] WARNING: not removing hydrogen atom without neighbors\n",
      " 52%|█████▏    | 11289673/21812332 [29:29<17:05, 10265.31it/s][14:25:42] WARNING: not removing hydrogen atom without neighbors\n",
      " 52%|█████▏    | 11298794/21812332 [29:30<16:43, 10476.45it/s][14:25:43] WARNING: not removing hydrogen atom without neighbors\n",
      " 52%|█████▏    | 11300863/21812332 [29:30<17:18, 10117.49it/s][14:25:43] WARNING: not removing hydrogen atom without neighbors\n",
      " 52%|█████▏    | 11302988/21812332 [29:31<16:53, 10367.73it/s][14:25:43] WARNING: not removing hydrogen atom without neighbors\n",
      "[14:25:43] WARNING: not removing hydrogen atom without neighbors\n",
      " 52%|█████▏    | 11323067/21812332 [29:33<18:05, 9667.25it/s] [14:25:45] WARNING: not removing hydrogen atom without neighbors\n",
      "[14:25:45] WARNING: not removing hydrogen atom without neighbors\n",
      " 52%|█████▏    | 11336209/21812332 [29:34<17:03, 10231.05it/s][14:25:47] WARNING: not removing hydrogen atom without neighbors\n",
      " 52%|█████▏    | 11344305/21812332 [29:35<20:29, 8513.35it/s] [14:25:48] WARNING: not removing hydrogen atom without neighbors\n",
      " 52%|█████▏    | 11348747/21812332 [29:36<21:54, 7961.84it/s][14:25:48] WARNING: not removing hydrogen atom without neighbors\n",
      " 52%|█████▏    | 11349642/21812332 [29:36<21:24, 8146.78it/s][14:25:48] WARNING: not removing hydrogen atom without neighbors\n",
      " 52%|█████▏    | 11351509/21812332 [29:36<24:42, 7054.14it/s][14:25:49] WARNING: not removing hydrogen atom without neighbors\n",
      " 52%|█████▏    | 11367960/21812332 [29:38<23:28, 7413.40it/s][14:25:51] WARNING: not removing hydrogen atom without neighbors\n",
      " 52%|█████▏    | 11396294/21812332 [29:41<19:05, 9094.90it/s][14:25:54] WARNING: not removing hydrogen atom without neighbors\n",
      " 52%|█████▏    | 11398164/21812332 [29:41<18:52, 9197.74it/s][14:25:54] WARNING: not removing hydrogen atom without neighbors\n",
      " 52%|█████▏    | 11412158/21812332 [29:43<21:01, 8244.92it/s][14:25:56] WARNING: not removing hydrogen atom without neighbors\n",
      " 52%|█████▏    | 11420294/21812332 [29:44<20:39, 8383.18it/s][14:25:57] WARNING: not removing hydrogen atom without neighbors\n",
      "[14:25:57] WARNING: not removing hydrogen atom without neighbors\n",
      " 52%|█████▏    | 11427134/21812332 [29:45<22:08, 7819.89it/s][14:25:58] WARNING: not removing hydrogen atom without neighbors\n",
      " 53%|█████▎    | 11453314/21812332 [29:48<19:57, 8650.78it/s][14:26:00] Can't kekulize mol.  Unkekulized atoms: 2 6 7\n",
      " 53%|█████▎    | 11480479/21812332 [29:51<20:53, 8244.90it/s][14:26:04] WARNING: not removing hydrogen atom without neighbors\n",
      " 53%|█████▎    | 11481311/21812332 [29:51<21:48, 7897.02it/s][14:26:04] WARNING: not removing hydrogen atom without neighbors\n",
      " 53%|█████▎    | 11484660/21812332 [29:52<22:36, 7615.18it/s][14:26:04] WARNING: not removing hydrogen atom without neighbors\n",
      " 53%|█████▎    | 11500101/21812332 [29:53<20:35, 8343.71it/s][14:26:06] WARNING: not removing hydrogen atom without neighbors\n",
      "[14:26:06] WARNING: not removing hydrogen atom without neighbors\n",
      "[14:26:06] WARNING: not removing hydrogen atom without neighbors\n",
      " 53%|█████▎    | 11507696/21812332 [29:54<19:29, 8810.34it/s][14:26:07] WARNING: not removing hydrogen atom without neighbors\n",
      "[14:26:07] WARNING: not removing hydrogen atom without neighbors\n",
      " 53%|█████▎    | 11508578/21812332 [29:54<20:33, 8350.79it/s][14:26:07] WARNING: not removing hydrogen atom without neighbors\n",
      " 53%|█████▎    | 11517433/21812332 [29:55<20:50, 8235.91it/s][14:26:08] WARNING: not removing hydrogen atom without neighbors\n",
      " 53%|█████▎    | 11522479/21812332 [29:56<19:42, 8700.92it/s][14:26:09] WARNING: not removing hydrogen atom without neighbors\n",
      " 53%|█████▎    | 11524586/21812332 [29:56<18:05, 9477.29it/s][14:26:09] WARNING: not removing hydrogen atom without neighbors\n",
      " 53%|█████▎    | 11528032/21812332 [29:57<16:35, 10334.07it/s][14:26:09] WARNING: not removing hydrogen atom without neighbors\n",
      " 53%|█████▎    | 11546690/21812332 [29:59<19:03, 8976.26it/s] [14:26:11] WARNING: not removing hydrogen atom without neighbors\n"
     ]
    },
    {
     "name": "stderr",
     "output_type": "stream",
     "text": [
      " 53%|█████▎    | 11555865/21812332 [30:00<20:57, 8158.88it/s][14:26:12] WARNING: not removing hydrogen atom without neighbors\n",
      " 53%|█████▎    | 11582381/21812332 [30:02<17:20, 9830.59it/s] [14:26:15] WARNING: not removing hydrogen atom without neighbors\n",
      " 53%|█████▎    | 11585711/21812332 [30:03<17:46, 9587.24it/s] [14:26:15] WARNING: not removing hydrogen atom without neighbors\n",
      "[14:26:15] WARNING: not removing hydrogen atom without neighbors\n",
      " 53%|█████▎    | 11592262/21812332 [30:04<20:43, 8219.02it/s][14:26:16] WARNING: not removing hydrogen atom without neighbors\n",
      " 53%|█████▎    | 11593279/21812332 [30:04<19:29, 8738.08it/s][14:26:16] WARNING: not removing hydrogen atom without neighbors\n",
      " 53%|█████▎    | 11601724/21812332 [30:05<17:57, 9478.73it/s][14:26:17] WARNING: not removing hydrogen atom without neighbors\n",
      " 53%|█████▎    | 11603735/21812332 [30:05<17:47, 9563.36it/s][14:26:17] WARNING: not removing hydrogen atom without neighbors\n",
      " 53%|█████▎    | 11605798/21812332 [30:05<17:12, 9885.38it/s][14:26:18] WARNING: not removing hydrogen atom without neighbors\n",
      "[14:26:18] WARNING: not removing hydrogen atom without neighbors\n",
      " 53%|█████▎    | 11614674/21812332 [30:06<18:24, 9234.12it/s] [14:26:19] WARNING: not removing hydrogen atom without neighbors\n",
      " 53%|█████▎    | 11639117/21812332 [30:09<21:06, 8034.20it/s] [14:26:21] WARNING: not removing hydrogen atom without neighbors\n",
      " 53%|█████▎    | 11653895/21812332 [30:10<18:36, 9101.00it/s][14:26:23] WARNING: not removing hydrogen atom without neighbors\n",
      "[14:26:23] WARNING: not removing hydrogen atom without neighbors\n",
      " 53%|█████▎    | 11657302/21812332 [30:11<21:32, 7859.17it/s][14:26:23] WARNING: not removing hydrogen atom without neighbors\n",
      " 53%|█████▎    | 11662085/21812332 [30:11<20:32, 8235.59it/s][14:26:24] WARNING: not removing hydrogen atom without neighbors\n",
      " 53%|█████▎    | 11668684/21812332 [30:12<16:59, 9954.02it/s][14:26:25] WARNING: not removing hydrogen atom without neighbors\n",
      "[14:26:25] WARNING: not removing hydrogen atom without neighbors\n",
      " 54%|█████▎    | 11693032/21812332 [30:14<17:31, 9627.97it/s] [14:26:27] WARNING: not removing hydrogen atom without neighbors\n",
      " 54%|█████▎    | 11694072/21812332 [30:14<17:36, 9575.24it/s][14:26:27] WARNING: not removing hydrogen atom without neighbors\n",
      "[14:26:27] WARNING: not removing hydrogen atom without neighbors\n",
      " 54%|█████▎    | 11702048/21812332 [30:15<18:22, 9166.58it/s][14:26:28] WARNING: not removing hydrogen atom without neighbors\n",
      " 54%|█████▎    | 11715212/21812332 [30:17<19:45, 8519.00it/s][14:26:30] WARNING: not removing hydrogen atom without neighbors\n",
      " 54%|█████▎    | 11722221/21812332 [30:18<21:12, 7931.06it/s][14:26:31] WARNING: not removing hydrogen atom without neighbors\n",
      " 54%|█████▎    | 11723281/21812332 [30:18<19:55, 8441.54it/s][14:26:31] WARNING: not removing hydrogen atom without neighbors\n",
      " 54%|█████▍    | 11734314/21812332 [30:19<18:34, 9045.04it/s][14:26:32] WARNING: not removing hydrogen atom without neighbors\n",
      " 54%|█████▍    | 11736496/21812332 [30:19<17:47, 9439.45it/s][14:26:32] WARNING: not removing hydrogen atom without neighbors\n",
      " 54%|█████▍    | 11742665/21812332 [30:20<17:26, 9624.35it/s][14:26:33] WARNING: not removing hydrogen atom without neighbors\n",
      " 54%|█████▍    | 11768852/21812332 [30:23<17:58, 9316.18it/s][14:26:36] WARNING: not removing hydrogen atom without neighbors\n",
      " 54%|█████▍    | 11774301/21812332 [30:24<20:01, 8351.57it/s][14:26:36] WARNING: not removing hydrogen atom without neighbors\n",
      " 54%|█████▍    | 11783086/21812332 [30:25<20:25, 8180.92it/s][14:26:38] WARNING: not removing hydrogen atom without neighbors\n",
      " 54%|█████▍    | 11788719/21812332 [30:25<19:12, 8698.16it/s][14:26:38] WARNING: not removing hydrogen atom without neighbors\n",
      " 54%|█████▍    | 11795503/21812332 [30:26<19:35, 8518.71it/s][14:26:39] WARNING: not removing hydrogen atom without neighbors\n",
      "[14:26:39] WARNING: not removing hydrogen atom without neighbors\n",
      "[14:26:39] WARNING: not removing hydrogen atom without neighbors\n",
      " 54%|█████▍    | 11801197/21812332 [30:27<19:50, 8411.46it/s][14:26:40] WARNING: not removing hydrogen atom without neighbors\n",
      " 54%|█████▍    | 11802965/21812332 [30:27<20:22, 8188.93it/s][14:26:40] WARNING: not removing hydrogen atom without neighbors\n",
      " 54%|█████▍    | 11813129/21812332 [30:28<22:10, 7512.74it/s][14:26:41] WARNING: not removing hydrogen atom without neighbors\n",
      " 54%|█████▍    | 11814919/21812332 [30:29<21:38, 7699.60it/s][14:26:41] WARNING: not removing hydrogen atom without neighbors\n",
      " 54%|█████▍    | 11842159/21812332 [30:32<17:22, 9560.79it/s][14:26:44] WARNING: not removing hydrogen atom without neighbors\n",
      " 54%|█████▍    | 11872117/21812332 [30:35<17:36, 9409.64it/s][14:26:48] Can't kekulize mol.  Unkekulized atoms: 2 3 4 5 6 9 10 11 12 13 14\n",
      " 54%|█████▍    | 11876865/21812332 [30:36<18:31, 8939.95it/s][14:26:48] WARNING: not removing hydrogen atom without neighbors\n",
      " 55%|█████▍    | 11893571/21812332 [30:37<16:58, 9740.09it/s][14:26:50] WARNING: not removing hydrogen atom without neighbors\n",
      "[14:26:50] WARNING: not removing hydrogen atom without neighbors\n",
      " 55%|█████▍    | 11910234/21812332 [30:39<16:45, 9850.19it/s][14:26:52] WARNING: not removing hydrogen atom without neighbors\n",
      " 55%|█████▍    | 11912547/21812332 [30:39<16:06, 10239.29it/s][14:26:52] WARNING: not removing hydrogen atom without neighbors\n",
      " 55%|█████▍    | 11913713/21812332 [30:39<15:57, 10341.15it/s][14:26:52] Can't kekulize mol.  Unkekulized atoms: 2 3 4 5 6 9 10 11 12 13 14\n",
      " 55%|█████▍    | 11916736/21812332 [30:40<17:17, 9538.67it/s] [14:26:52] WARNING: not removing hydrogen atom without neighbors\n",
      " 55%|█████▍    | 11924174/21812332 [30:40<16:35, 9936.36it/s][14:26:53] WARNING: not removing hydrogen atom without neighbors\n",
      " 55%|█████▍    | 11943790/21812332 [30:43<18:29, 8895.56it/s] [14:26:55] WARNING: not removing hydrogen atom without neighbors\n",
      " 55%|█████▍    | 11962558/21812332 [30:45<17:15, 9512.11it/s] [14:26:57] WARNING: not removing hydrogen atom without neighbors\n",
      "[14:26:57] WARNING: not removing hydrogen atom without neighbors\n",
      " 55%|█████▍    | 11979829/21812332 [30:46<16:54, 9688.43it/s] [14:26:59] WARNING: not removing hydrogen atom without neighbors\n",
      " 55%|█████▍    | 11987498/21812332 [30:47<16:13, 10095.53it/s][14:27:00] WARNING: not removing hydrogen atom without neighbors\n",
      " 55%|█████▌    | 11997815/21812332 [30:48<15:01, 10887.73it/s][14:27:01] Can't kekulize mol.  Unkekulized atoms: 2 3 4\n",
      " 55%|█████▌    | 11999048/21812332 [30:48<14:53, 10984.45it/s][14:27:01] WARNING: not removing hydrogen atom without neighbors\n",
      "[14:27:01] WARNING: not removing hydrogen atom without neighbors\n",
      " 55%|█████▌    | 12000149/21812332 [30:48<17:53, 9137.56it/s] [14:27:01] WARNING: not removing hydrogen atom without neighbors\n",
      " 55%|█████▌    | 12003644/21812332 [30:49<16:06, 10148.82it/s][14:27:02] Can't kekulize mol.  Unkekulized atoms: 2 3 4\n",
      " 55%|█████▌    | 12013203/21812332 [30:50<16:17, 10021.14it/s][14:27:03] WARNING: not removing hydrogen atom without neighbors\n",
      " 55%|█████▌    | 12053374/21812332 [30:55<23:39, 6874.40it/s] [14:27:08] WARNING: not removing hydrogen atom without neighbors\n",
      " 55%|█████▌    | 12077135/21812332 [30:59<20:09, 8050.02it/s][14:27:11] WARNING: not removing hydrogen atom without neighbors\n",
      " 55%|█████▌    | 12091830/21812332 [31:00<18:46, 8627.75it/s][14:27:13] WARNING: not removing hydrogen atom without neighbors\n",
      " 56%|█████▌    | 12249688/21812332 [31:23<22:28, 7092.03it/s][14:27:36] WARNING: not removing hydrogen atom without neighbors\n",
      " 57%|█████▋    | 12348568/21812332 [31:39<25:08, 6272.64it/s][14:27:51] WARNING: not removing hydrogen atom without neighbors\n",
      " 57%|█████▋    | 12351367/21812332 [31:39<23:52, 6605.19it/s][14:27:52] WARNING: not removing hydrogen atom without neighbors\n",
      " 57%|█████▋    | 12496646/21812332 [32:02<24:38, 6300.33it/s][14:28:15] WARNING: not removing hydrogen atom without neighbors\n",
      " 58%|█████▊    | 12587985/21812332 [32:17<30:01, 5121.18it/s][14:28:29] WARNING: not removing hydrogen atom without neighbors\n",
      " 58%|█████▊    | 12588524/21812332 [32:17<29:38, 5187.35it/s][14:28:29] WARNING: not removing hydrogen atom without neighbors\n",
      " 59%|█████▊    | 12779511/21812332 [32:47<22:36, 6656.94it/s][14:29:00] WARNING: not removing hydrogen atom without neighbors\n"
     ]
    },
    {
     "name": "stderr",
     "output_type": "stream",
     "text": [
      " 59%|█████▊    | 12805409/21812332 [32:51<23:09, 6479.89it/s][14:29:04] WARNING: not removing hydrogen atom without neighbors\n",
      " 59%|█████▉    | 12819279/21812332 [32:53<26:55, 5567.41it/s][14:29:06] WARNING: not removing hydrogen atom without neighbors\n",
      " 59%|█████▉    | 12957118/21812332 [33:16<22:02, 6695.68it/s][14:29:29] WARNING: not removing hydrogen atom without neighbors\n",
      " 60%|█████▉    | 13076943/21812332 [33:37<30:51, 4716.81it/s][14:29:49] WARNING: not removing hydrogen atom without neighbors\n",
      " 60%|██████    | 13141092/21812332 [33:48<25:45, 5610.38it/s]  [14:30:01] WARNING: not removing hydrogen atom without neighbors\n",
      " 62%|██████▏   | 13417983/21812332 [34:38<30:13, 4627.72it/s]  [14:30:50] WARNING: not removing hydrogen atom without neighbors\n",
      " 62%|██████▏   | 13443726/21812332 [34:42<29:01, 4806.54it/s][14:30:55] WARNING: could not find number of expected rings. Switching to an approximate ring finding algorithm.\n",
      " 62%|██████▏   | 13504843/21812332 [34:54<22:29, 6156.81it/s][14:31:06] WARNING: not removing hydrogen atom without neighbors\n",
      " 62%|██████▏   | 13510090/21812332 [34:54<23:37, 5857.49it/s][14:31:07] WARNING: not removing hydrogen atom without neighbors\n",
      " 63%|██████▎   | 13669066/21812332 [35:23<25:12, 5385.73it/s][14:31:36] WARNING: not removing hydrogen atom without neighbors\n",
      "[14:31:36] WARNING: not removing hydrogen atom without neighbors\n",
      " 63%|██████▎   | 13742209/21812332 [35:36<23:11, 5798.53it/s][14:31:49] WARNING: not removing hydrogen atom without neighbors\n",
      "[14:31:49] WARNING: not removing hydrogen atom without neighbors\n",
      " 63%|██████▎   | 13815211/21812332 [35:49<19:41, 6769.43it/s][14:32:01] WARNING: not removing hydrogen atom without neighbors\n",
      " 64%|██████▎   | 13897351/21812332 [36:03<19:44, 6679.86it/s][14:32:15] WARNING: not removing hydrogen atom without neighbors\n",
      " 65%|██████▍   | 14073216/21812332 [36:34<23:22, 5517.24it/s][14:32:46] WARNING: not removing hydrogen atom without neighbors\n",
      " 65%|██████▌   | 14195886/21812332 [36:55<23:06, 5494.96it/s][14:33:08] Can't kekulize mol.  Unkekulized atoms: 2 3 4 5 6 7 8 9 10 11 12 13 14 15 16 17 18 19 20 21 22 23 24 25 26 27 28 29 30 31 32 33 34 35 36 37 38 39 40 41 42 43 44 45 46 47 48 49 50 51 52 53 54 55 56 57 58 59 60 61 62 63 64 65 66 67 68 69 70 71 72 73 74 75 76 77 78 79 80 81 82 83 84 85 86 87 88 89 90 91 92 93 94 95 96 97 98 99 100 101 102 103 104 105 106 107 108 109 110 111 112 113 114 115 116 118 119 120 121 122 123 124 125 126 127 128 129 130 131 132 133 134\n",
      " 65%|██████▌   | 14266549/21812332 [37:09<24:15, 5183.92it/s][14:33:21] WARNING: not removing hydrogen atom without neighbors\n",
      " 66%|██████▌   | 14347719/21812332 [37:23<19:07, 6504.41it/s][14:33:36] WARNING: not removing hydrogen atom without neighbors\n",
      " 66%|██████▌   | 14422978/21812332 [37:36<22:18, 5519.73it/s][14:33:48] WARNING: not removing hydrogen atom without neighbors\n",
      "[14:33:48] WARNING: not removing hydrogen atom without neighbors\n",
      " 67%|██████▋   | 14557401/21812332 [38:01<20:40, 5848.08it/s][14:34:14] WARNING: not removing hydrogen atom without neighbors\n",
      " 67%|██████▋   | 14574745/21812332 [38:04<20:49, 5793.72it/s][14:34:17] WARNING: not removing hydrogen atom without neighbors\n",
      " 67%|██████▋   | 14577364/21812332 [38:05<19:49, 6083.82it/s][14:34:17] WARNING: not removing hydrogen atom without neighbors\n",
      " 67%|██████▋   | 14638262/21812332 [38:16<20:37, 5797.85it/s][14:34:29] WARNING: not removing hydrogen atom without neighbors\n",
      "[14:34:29] WARNING: not removing hydrogen atom without neighbors\n",
      " 67%|██████▋   | 14720290/21812332 [38:30<19:05, 6193.48it/s][14:34:43] Can't kekulize mol.  Unkekulized atoms: 5 6 7 8 9 10 11 12 13 24 25 26 27 28 29 30 31 32 33 34 35 36 37 39 40 41 42 43 44 45 47 48 49 50 51 52 53 54 55 56 57 68 69 70 71 72 83 84 85 86 87 88 89 90 91 92 93 94 95 96 97 98 99 100 101 102 103 104 105 106 107 108 109 110 111 112 113 114 115 116 117 118 119 120 121 122 123 124 125 126 127 128 129 130 131 132 133 134 135 136 137 138 139 140 141 142 143 144 145 146 147 148 149 150 151 152 153 154 155 156 157 158 159 160 161 162 163 164 165 166\n",
      " 68%|██████▊   | 14771062/21812332 [38:39<17:16, 6792.90it/s][14:34:52] WARNING: not removing hydrogen atom without neighbors\n",
      " 68%|██████▊   | 14786245/21812332 [38:42<22:09, 5285.83it/s][14:34:55] WARNING: not removing hydrogen atom without neighbors\n",
      " 68%|██████▊   | 14827839/21812332 [38:49<18:23, 6329.63it/s][14:35:02] WARNING: not removing hydrogen atom without neighbors\n",
      " 68%|██████▊   | 14890040/21812332 [39:01<21:34, 5345.86it/s][14:35:14] WARNING: not removing hydrogen atom without neighbors\n",
      " 69%|██████▊   | 14969943/21812332 [39:14<18:03, 6317.88it/s][14:35:27] WARNING: not removing hydrogen atom without neighbors\n",
      "[14:35:27] WARNING: not removing hydrogen atom without neighbors\n",
      " 69%|██████▉   | 15116481/21812332 [39:41<22:05, 5049.70it/s][14:35:54] WARNING: not removing hydrogen atom without neighbors\n",
      "[14:35:54] WARNING: not removing hydrogen atom without neighbors\n",
      " 69%|██████▉   | 15130858/21812332 [39:44<20:38, 5395.92it/s][14:35:57] WARNING: not removing hydrogen atom without neighbors\n",
      "[14:35:57] WARNING: could not find number of expected rings. Switching to an approximate ring finding algorithm.\n",
      " 70%|██████▉   | 15163545/21812332 [39:50<16:28, 6727.85it/s][14:36:02] WARNING: not removing hydrogen atom without neighbors\n",
      "[14:36:02] WARNING: not removing hydrogen atom without neighbors\n",
      " 70%|███████   | 15349116/21812332 [40:22<16:59, 6340.53it/s][14:36:35] WARNING: not removing hydrogen atom without neighbors\n",
      " 71%|███████   | 15410386/21812332 [40:33<16:07, 6618.71it/s][14:36:46] WARNING: not removing hydrogen atom without neighbors\n",
      " 71%|███████   | 15473222/21812332 [40:44<21:40, 4873.63it/s][14:36:57] Conflicting single bond directions around double bond at index 12.\n",
      "[14:36:57]   BondStereo set to STEREONONE and single bond directions set to NONE.\n",
      " 71%|███████   | 15529679/21812332 [40:55<22:26, 4666.64it/s][14:37:08] WARNING: not removing hydrogen atom without neighbors\n",
      " 71%|███████▏  | 15567209/21812332 [41:02<17:52, 5822.14it/s][14:37:15] WARNING: not removing hydrogen atom without neighbors\n",
      " 71%|███████▏  | 15579030/21812332 [41:04<21:38, 4798.75it/s][14:37:17] WARNING: not removing hydrogen atom without neighbors\n",
      " 72%|███████▏  | 15713947/21812332 [41:28<21:21, 4759.63it/s][14:37:41] Conflicting single bond directions around double bond at index 4.\n",
      "[14:37:41]   BondStereo set to STEREONONE and single bond directions set to NONE.\n",
      " 72%|███████▏  | 15725991/21812332 [41:31<17:50, 5687.09it/s][14:37:43] Conflicting single bond directions around double bond at index 24.\n",
      "[14:37:43]   BondStereo set to STEREONONE and single bond directions set to NONE.\n",
      " 72%|███████▏  | 15745332/21812332 [41:35<24:34, 4113.35it/s][14:37:48] Conflicting single bond directions around double bond at index 10.\n",
      "[14:37:48]   BondStereo set to STEREONONE and single bond directions set to NONE.\n",
      " 72%|███████▏  | 15746530/21812332 [41:35<28:41, 3522.85it/s][14:37:48] Conflicting single bond directions around double bond at index 10.\n",
      "[14:37:48]   BondStereo set to STEREONONE and single bond directions set to NONE.\n",
      " 74%|███████▎  | 16075118/21812332 [42:35<15:50, 6038.99it/s][14:38:47] WARNING: not removing hydrogen atom without neighbors\n",
      " 74%|███████▍  | 16086987/21812332 [42:37<17:37, 5412.25it/s][14:38:50] WARNING: not removing hydrogen atom without neighbors\n",
      " 74%|███████▍  | 16153058/21812332 [42:50<15:05, 6248.15it/s][14:39:02] WARNING: not removing hydrogen atom without neighbors\n",
      "[14:39:02] WARNING: not removing hydrogen atom without neighbors\n",
      " 75%|███████▍  | 16332198/21812332 [43:23<14:35, 6262.95it/s][14:39:36] WARNING: not removing hydrogen atom without neighbors\n",
      " 75%|███████▍  | 16334307/21812332 [43:24<11:21, 8042.98it/s][14:39:36] WARNING: not removing hydrogen atom without neighbors\n",
      "[14:39:36] WARNING: not removing hydrogen atom without neighbors\n",
      " 75%|███████▍  | 16337403/21812332 [43:24<09:59, 9135.07it/s][14:39:37] WARNING: not removing hydrogen atom without neighbors\n",
      "[14:39:37] WARNING: not removing hydrogen atom without neighbors\n",
      " 75%|███████▍  | 16339621/21812332 [43:24<09:24, 9701.70it/s][14:39:37] WARNING: not removing hydrogen atom without neighbors\n"
     ]
    },
    {
     "name": "stderr",
     "output_type": "stream",
     "text": [
      " 75%|███████▍  | 16341934/21812332 [43:24<08:57, 10186.35it/s][14:39:37] WARNING: not removing hydrogen atom without neighbors\n",
      " 75%|███████▍  | 16351177/21812332 [43:25<10:24, 8738.68it/s] [14:39:38] WARNING: not removing hydrogen atom without neighbors\n",
      " 75%|███████▌  | 16367921/21812332 [43:27<09:14, 9816.32it/s] [14:39:40] WARNING: not removing hydrogen atom without neighbors\n",
      " 75%|███████▌  | 16369939/21812332 [43:27<09:08, 9928.60it/s][14:39:40] Can't kekulize mol.  Unkekulized atoms: 2 6 7\n",
      " 75%|███████▌  | 16398755/21812332 [43:30<09:04, 9941.32it/s] [14:39:43] WARNING: not removing hydrogen atom without neighbors\n",
      "[14:39:43] WARNING: not removing hydrogen atom without neighbors\n",
      "[14:39:43] WARNING: not removing hydrogen atom without neighbors\n",
      " 75%|███████▌  | 16403231/21812332 [43:31<08:24, 10722.22it/s][14:39:44] WARNING: not removing hydrogen atom without neighbors\n",
      " 75%|███████▌  | 16408776/21812332 [43:31<09:06, 9881.49it/s] [14:39:44] WARNING: not removing hydrogen atom without neighbors\n",
      " 75%|███████▌  | 16421034/21812332 [43:33<08:33, 10507.76it/s][14:39:45] WARNING: not removing hydrogen atom without neighbors\n",
      " 75%|███████▌  | 16422275/21812332 [43:33<08:18, 10809.12it/s][14:39:45] WARNING: not removing hydrogen atom without neighbors\n",
      " 75%|███████▌  | 16425634/21812332 [43:33<08:17, 10828.46it/s][14:39:46] WARNING: not removing hydrogen atom without neighbors\n",
      " 75%|███████▌  | 16432520/21812332 [43:34<08:16, 10843.44it/s][14:39:46] WARNING: not removing hydrogen atom without neighbors\n",
      " 75%|███████▌  | 16434861/21812332 [43:34<08:03, 11114.97it/s][14:39:47] WARNING: not removing hydrogen atom without neighbors\n",
      " 75%|███████▌  | 16446170/21812332 [43:35<09:01, 9913.90it/s] [14:39:48] WARNING: not removing hydrogen atom without neighbors\n",
      " 75%|███████▌  | 16453053/21812332 [43:36<08:28, 10546.87it/s][14:39:48] WARNING: not removing hydrogen atom without neighbors\n",
      "[14:39:48] WARNING: not removing hydrogen atom without neighbors\n",
      " 75%|███████▌  | 16467450/21812332 [43:37<09:37, 9248.36it/s] [14:39:50] WARNING: not removing hydrogen atom without neighbors\n",
      " 76%|███████▌  | 16479414/21812332 [43:38<09:01, 9855.22it/s] [14:39:51] WARNING: not removing hydrogen atom without neighbors\n",
      "[14:39:51] WARNING: not removing hydrogen atom without neighbors\n",
      " 76%|███████▌  | 16481642/21812332 [43:39<08:36, 10326.61it/s][14:39:51] WARNING: not removing hydrogen atom without neighbors\n",
      " 76%|███████▌  | 16499074/21812332 [43:40<09:22, 9446.53it/s] [14:39:53] WARNING: not removing hydrogen atom without neighbors\n",
      " 76%|███████▌  | 16502424/21812332 [43:41<08:46, 10089.83it/s][14:39:53] WARNING: not removing hydrogen atom without neighbors\n",
      " 76%|███████▌  | 16512063/21812332 [43:42<09:34, 9227.47it/s] [14:39:54] WARNING: not removing hydrogen atom without neighbors\n",
      " 76%|███████▌  | 16517868/21812332 [43:42<09:45, 9042.47it/s][14:39:55] WARNING: not removing hydrogen atom without neighbors\n",
      " 76%|███████▌  | 16529771/21812332 [43:44<09:59, 8810.24it/s][14:39:56] WARNING: not removing hydrogen atom without neighbors\n",
      "[14:39:56] WARNING: not removing hydrogen atom without neighbors\n",
      "[14:39:56] WARNING: not removing hydrogen atom without neighbors\n",
      " 76%|███████▌  | 16534523/21812332 [43:44<10:01, 8767.13it/s][14:39:57] WARNING: not removing hydrogen atom without neighbors\n",
      " 76%|███████▌  | 16561718/21812332 [43:47<09:27, 9259.12it/s][14:40:00] WARNING: not removing hydrogen atom without neighbors\n",
      " 76%|███████▌  | 16566697/21812332 [43:48<09:15, 9440.80it/s][14:40:00] WARNING: not removing hydrogen atom without neighbors\n",
      "[14:40:00] WARNING: not removing hydrogen atom without neighbors\n",
      " 76%|███████▌  | 16575278/21812332 [43:49<08:23, 10402.20it/s][14:40:01] WARNING: not removing hydrogen atom without neighbors\n",
      " 76%|███████▌  | 16576320/21812332 [43:49<08:29, 10268.87it/s][14:40:01] WARNING: not removing hydrogen atom without neighbors\n",
      "[14:40:01] WARNING: not removing hydrogen atom without neighbors\n",
      " 76%|███████▌  | 16596034/21812332 [43:51<10:14, 8484.57it/s] [14:40:04] WARNING: not removing hydrogen atom without neighbors\n",
      " 76%|███████▌  | 16601089/21812332 [43:51<09:58, 8700.22it/s][14:40:04] WARNING: not removing hydrogen atom without neighbors\n",
      " 76%|███████▌  | 16608681/21812332 [43:52<09:48, 8847.53it/s][14:40:05] WARNING: not removing hydrogen atom without neighbors\n",
      " 76%|███████▌  | 16611631/21812332 [43:53<09:30, 9110.82it/s][14:40:05] WARNING: not removing hydrogen atom without neighbors\n",
      " 76%|███████▌  | 16629909/21812332 [43:55<09:56, 8684.32it/s] [14:40:07] WARNING: not removing hydrogen atom without neighbors\n",
      " 76%|███████▋  | 16640825/21812332 [43:56<08:29, 10159.53it/s][14:40:09] WARNING: not removing hydrogen atom without neighbors\n",
      " 76%|███████▋  | 16648352/21812332 [43:57<08:41, 9894.99it/s] [14:40:09] WARNING: not removing hydrogen atom without neighbors\n",
      " 76%|███████▋  | 16649529/21812332 [43:57<08:29, 10133.42it/s][14:40:09] WARNING: not removing hydrogen atom without neighbors\n",
      " 76%|███████▋  | 16653830/21812332 [43:57<08:11, 10493.27it/s][14:40:10] WARNING: not removing hydrogen atom without neighbors\n",
      " 76%|███████▋  | 16659657/21812332 [43:58<08:02, 10672.17it/s][14:40:10] WARNING: not removing hydrogen atom without neighbors\n",
      "[14:40:10] WARNING: not removing hydrogen atom without neighbors\n",
      " 76%|███████▋  | 16668566/21812332 [43:58<08:59, 9531.04it/s] [14:40:11] WARNING: not removing hydrogen atom without neighbors\n",
      " 76%|███████▋  | 16672985/21812332 [43:59<08:17, 10339.66it/s][14:40:12] WARNING: not removing hydrogen atom without neighbors\n",
      " 76%|███████▋  | 16674294/21812332 [43:59<07:59, 10720.54it/s][14:40:12] WARNING: not removing hydrogen atom without neighbors\n",
      " 76%|███████▋  | 16676630/21812332 [43:59<07:51, 10884.51it/s][14:40:12] WARNING: not removing hydrogen atom without neighbors\n",
      " 76%|███████▋  | 16677719/21812332 [43:59<07:58, 10733.05it/s][14:40:12] WARNING: not removing hydrogen atom without neighbors\n",
      " 77%|███████▋  | 16687622/21812332 [44:00<08:13, 10391.86it/s][14:40:13] WARNING: not removing hydrogen atom without neighbors\n",
      " 77%|███████▋  | 16702860/21812332 [44:02<08:42, 9775.75it/s] [14:40:15] WARNING: not removing hydrogen atom without neighbors\n",
      " 77%|███████▋  | 16706104/21812332 [44:02<08:11, 10396.25it/s][14:40:15] WARNING: not removing hydrogen atom without neighbors\n",
      "[14:40:15] WARNING: not removing hydrogen atom without neighbors\n",
      " 77%|███████▋  | 16717310/21812332 [44:03<08:00, 10596.65it/s][14:40:16] WARNING: not removing hydrogen atom without neighbors\n",
      " 77%|███████▋  | 16718465/21812332 [44:03<07:59, 10614.36it/s][14:40:16] WARNING: not removing hydrogen atom without neighbors\n",
      " 77%|███████▋  | 16726149/21812332 [44:04<08:10, 10370.06it/s][14:40:17] WARNING: not removing hydrogen atom without neighbors\n",
      " 77%|███████▋  | 16727288/21812332 [44:04<08:07, 10432.61it/s][14:40:17] WARNING: not removing hydrogen atom without neighbors\n",
      " 77%|███████▋  | 16747322/21812332 [44:06<08:25, 10019.94it/s][14:40:19] WARNING: not removing hydrogen atom without neighbors\n",
      " 77%|███████▋  | 16749609/21812332 [44:06<08:14, 10231.66it/s][14:40:19] WARNING: not removing hydrogen atom without neighbors\n",
      " 77%|███████▋  | 16756461/21812332 [44:07<08:09, 10338.04it/s][14:40:20] WARNING: not removing hydrogen atom without neighbors\n",
      " 77%|███████▋  | 16770124/21812332 [44:08<08:50, 9501.20it/s] [14:40:21] WARNING: not removing hydrogen atom without neighbors\n",
      " 77%|███████▋  | 16773235/21812332 [44:09<08:43, 9618.20it/s][14:40:21] WARNING: not removing hydrogen atom without neighbors\n",
      " 77%|███████▋  | 16783202/21812332 [44:10<08:04, 10388.84it/s][14:40:22] WARNING: not removing hydrogen atom without neighbors\n",
      " 77%|███████▋  | 16787391/21812332 [44:10<08:42, 9621.27it/s] [14:40:23] WARNING: not removing hydrogen atom without neighbors\n",
      " 77%|███████▋  | 16794517/21812332 [44:11<08:45, 9548.93it/s][14:40:24] WARNING: not removing hydrogen atom without neighbors\n",
      " 77%|███████▋  | 16800394/21812332 [44:11<10:02, 8312.39it/s][14:40:24] WARNING: not removing hydrogen atom without neighbors\n",
      " 77%|███████▋  | 16814333/21812332 [44:13<08:07, 10249.47it/s][14:40:26] WARNING: not removing hydrogen atom without neighbors\n",
      "[14:40:26] WARNING: not removing hydrogen atom without neighbors\n"
     ]
    },
    {
     "name": "stderr",
     "output_type": "stream",
     "text": [
      " 77%|███████▋  | 16815405/21812332 [44:13<08:02, 10349.58it/s][14:40:26] WARNING: not removing hydrogen atom without neighbors\n",
      " 77%|███████▋  | 16824147/21812332 [44:14<07:55, 10496.04it/s][14:40:27] WARNING: not removing hydrogen atom without neighbors\n",
      " 77%|███████▋  | 16835265/21812332 [44:15<10:30, 7900.02it/s] [14:40:28] WARNING: not removing hydrogen atom without neighbors\n",
      " 77%|███████▋  | 16840334/21812332 [44:16<08:46, 9435.60it/s][14:40:29] WARNING: not removing hydrogen atom without neighbors\n",
      " 77%|███████▋  | 16841291/21812332 [44:16<08:55, 9281.07it/s][14:40:29] WARNING: not removing hydrogen atom without neighbors\n",
      "[14:40:29] WARNING: not removing hydrogen atom without neighbors\n",
      " 77%|███████▋  | 16843936/21812332 [44:16<10:16, 8058.46it/s][14:40:29] WARNING: not removing hydrogen atom without neighbors\n",
      " 77%|███████▋  | 16857693/21812332 [44:18<08:55, 9247.69it/s][14:40:30] WARNING: not removing hydrogen atom without neighbors\n",
      " 77%|███████▋  | 16861379/21812332 [44:18<09:23, 8789.99it/s][14:40:31] WARNING: not removing hydrogen atom without neighbors\n",
      " 77%|███████▋  | 16880875/21812332 [44:20<08:07, 10119.20it/s][14:40:33] WARNING: not removing hydrogen atom without neighbors\n",
      " 77%|███████▋  | 16894752/21812332 [44:22<08:44, 9381.36it/s] [14:40:34] WARNING: not removing hydrogen atom without neighbors\n",
      " 77%|███████▋  | 16896903/21812332 [44:22<08:16, 9895.03it/s][14:40:35] Can't kekulize mol.  Unkekulized atoms: 2 3 4 5 6 9 10 11 12 13 14\n",
      " 77%|███████▋  | 16904444/21812332 [44:23<07:50, 10422.78it/s][14:40:35] WARNING: not removing hydrogen atom without neighbors\n",
      " 78%|███████▊  | 16910937/21812332 [44:23<08:04, 10110.81it/s][14:40:36] WARNING: not removing hydrogen atom without neighbors\n",
      " 78%|███████▊  | 16918618/21812332 [44:24<08:04, 10103.77it/s][14:40:37] WARNING: not removing hydrogen atom without neighbors\n",
      "[14:40:37] WARNING: not removing hydrogen atom without neighbors\n",
      " 78%|███████▊  | 16920604/21812332 [44:24<08:37, 9460.97it/s] [14:40:37] WARNING: not removing hydrogen atom without neighbors\n",
      " 78%|███████▊  | 16924872/21812332 [44:25<08:16, 9837.97it/s][14:40:38] WARNING: not removing hydrogen atom without neighbors\n",
      " 78%|███████▊  | 16928115/21812332 [44:25<08:43, 9332.78it/s] [14:40:38] Can't kekulize mol.  Unkekulized atoms: 2 3 4 5 6 9 10 11 12 13 14\n",
      " 78%|███████▊  | 16947603/21812332 [44:27<07:56, 10219.97it/s][14:40:40] WARNING: not removing hydrogen atom without neighbors\n",
      " 78%|███████▊  | 16952444/21812332 [44:27<07:32, 10735.44it/s][14:40:40] WARNING: not removing hydrogen atom without neighbors\n",
      " 78%|███████▊  | 16963287/21812332 [44:29<08:12, 9852.70it/s] [14:40:41] WARNING: not removing hydrogen atom without neighbors\n",
      " 78%|███████▊  | 16967702/21812332 [44:29<08:02, 10050.18it/s][14:40:42] WARNING: not removing hydrogen atom without neighbors\n",
      "[14:40:42] WARNING: not removing hydrogen atom without neighbors\n",
      " 78%|███████▊  | 16973723/21812332 [44:30<07:25, 10872.30it/s][14:40:42] WARNING: not removing hydrogen atom without neighbors\n",
      "[14:40:42] WARNING: not removing hydrogen atom without neighbors\n",
      " 78%|███████▊  | 16977227/21812332 [44:30<07:36, 10603.15it/s][14:40:43] Can't kekulize mol.  Unkekulized atoms: 2 3 4\n",
      " 78%|███████▊  | 17001572/21812332 [44:32<07:42, 10397.34it/s][14:40:45] WARNING: not removing hydrogen atom without neighbors\n",
      " 78%|███████▊  | 17002612/21812332 [44:32<08:17, 9663.78it/s] [14:40:45] WARNING: not removing hydrogen atom without neighbors\n",
      " 78%|███████▊  | 17008017/21812332 [44:33<07:55, 10099.13it/s][14:40:46] WARNING: not removing hydrogen atom without neighbors\n",
      "[14:40:46] Can't kekulize mol.  Unkekulized atoms: 2 3 4\n",
      "[14:40:46] Can't kekulize mol.  Unkekulized atoms: 2 3 4\n",
      "[14:40:46] Can't kekulize mol.  Unkekulized atoms: 2 3 4\n",
      " 78%|███████▊  | 17020432/21812332 [44:34<07:01, 11364.43it/s][14:40:47] WARNING: not removing hydrogen atom without neighbors\n",
      " 78%|███████▊  | 17042509/21812332 [44:36<08:23, 9482.02it/s] [14:40:49] WARNING: not removing hydrogen atom without neighbors\n",
      " 78%|███████▊  | 17052428/21812332 [44:38<09:02, 8771.94it/s][14:40:51] WARNING: not removing hydrogen atom without neighbors\n",
      " 78%|███████▊  | 17065745/21812332 [44:39<08:20, 9483.64it/s] [14:40:52] WARNING: not removing hydrogen atom without neighbors\n",
      " 80%|███████▉  | 17375138/21812332 [45:25<11:37, 6363.14it/s] [14:41:38] WARNING: not removing hydrogen atom without neighbors\n",
      " 80%|████████  | 17536192/21812332 [45:50<10:37, 6709.08it/s][14:42:03] WARNING: not removing hydrogen atom without neighbors\n",
      " 81%|████████  | 17572632/21812332 [45:57<10:48, 6534.29it/s][14:42:10] WARNING: not removing hydrogen atom without neighbors\n",
      " 81%|████████  | 17706665/21812332 [46:19<11:03, 6192.17it/s][14:42:32] WARNING: not removing hydrogen atom without neighbors\n",
      "[14:42:32] WARNING: not removing hydrogen atom without neighbors\n",
      "[14:42:32] WARNING: not removing hydrogen atom without neighbors\n",
      " 82%|████████▏ | 17865995/21812332 [46:46<10:46, 6100.68it/s][14:42:59] WARNING: not removing hydrogen atom without neighbors\n",
      "[14:42:59] WARNING: not removing hydrogen atom without neighbors\n",
      " 82%|████████▏ | 17949279/21812332 [47:00<10:19, 6240.57it/s][14:43:13] WARNING: not removing hydrogen atom without neighbors\n",
      " 83%|████████▎ | 18117380/21812332 [47:30<09:44, 6322.11it/s][14:43:43] WARNING: not removing hydrogen atom without neighbors\n",
      "[14:43:43] WARNING: not removing hydrogen atom without neighbors\n",
      " 83%|████████▎ | 18153611/21812332 [47:36<09:01, 6757.69it/s][14:43:49] WARNING: not removing hydrogen atom without neighbors\n",
      " 83%|████████▎ | 18161614/21812332 [47:38<10:34, 5755.58it/s][14:43:50] WARNING: not removing hydrogen atom without neighbors\n",
      " 84%|████████▎ | 18258042/21812332 [47:55<09:35, 6180.79it/s][14:44:08] WARNING: not removing hydrogen atom without neighbors\n",
      " 84%|████████▍ | 18295887/21812332 [48:02<12:07, 4834.67it/s][14:44:14] WARNING: not removing hydrogen atom without neighbors\n",
      " 84%|████████▍ | 18353285/21812332 [48:12<08:52, 6499.21it/s][14:44:24] WARNING: not removing hydrogen atom without neighbors\n",
      " 85%|████████▍ | 18444539/21812332 [48:28<08:26, 6643.92it/s][14:44:40] WARNING: not removing hydrogen atom without neighbors\n",
      " 85%|████████▍ | 18494983/21812332 [48:36<08:35, 6434.87it/s][14:44:49] WARNING: not removing hydrogen atom without neighbors\n",
      " 85%|████████▍ | 18500761/21812332 [48:37<10:23, 5312.89it/s][14:44:50] WARNING: not removing hydrogen atom without neighbors\n",
      " 85%|████████▍ | 18507092/21812332 [48:38<08:36, 6404.89it/s][14:44:51] WARNING: not removing hydrogen atom without neighbors\n",
      " 86%|████████▌ | 18709748/21812332 [49:13<09:03, 5703.65it/s][14:45:26] WARNING: not removing hydrogen atom without neighbors\n",
      "[14:45:26] WARNING: not removing hydrogen atom without neighbors\n",
      " 86%|████████▌ | 18764387/21812332 [49:23<11:46, 4315.74it/s][14:45:36] WARNING: not removing hydrogen atom without neighbors\n",
      " 86%|████████▌ | 18799563/21812332 [49:30<08:51, 5673.33it/s][14:45:42] WARNING: not removing hydrogen atom without neighbors\n",
      " 86%|████████▋ | 18815312/21812332 [49:32<09:53, 5047.72it/s][14:45:45] WARNING: not removing hydrogen atom without neighbors\n",
      " 87%|████████▋ | 19012013/21812332 [50:07<10:28, 4453.96it/s][14:46:20] WARNING: not removing hydrogen atom without neighbors\n",
      " 88%|████████▊ | 19100835/21812332 [50:23<07:46, 5812.34it/s][14:46:36] WARNING: not removing hydrogen atom without neighbors\n",
      " 88%|████████▊ | 19233081/21812332 [50:47<07:32, 5704.88it/s][14:47:00] WARNING: not removing hydrogen atom without neighbors\n",
      " 89%|████████▊ | 19355549/21812332 [51:10<06:26, 6349.98it/s][14:47:23] WARNING: not removing hydrogen atom without neighbors\n",
      " 89%|████████▉ | 19407226/21812332 [51:21<07:33, 5298.89it/s][14:47:34] WARNING: not removing hydrogen atom without neighbors\n",
      " 90%|████████▉ | 19542263/21812332 [51:48<06:41, 5650.42it/s][14:48:01] WARNING: not removing hydrogen atom without neighbors\n",
      " 91%|█████████ | 19773658/21812332 [52:33<05:27, 6222.59it/s][14:48:46] WARNING: not removing hydrogen atom without neighbors\n",
      " 91%|█████████ | 19811382/21812332 [52:41<06:23, 5211.87it/s][14:48:54] WARNING: not removing hydrogen atom without neighbors\n",
      " 92%|█████████▏| 20063700/21812332 [53:31<04:02, 7211.40it/s][14:49:44] WARNING: not removing hydrogen atom without neighbors\n"
     ]
    },
    {
     "name": "stderr",
     "output_type": "stream",
     "text": [
      " 92%|█████████▏| 20173916/21812332 [53:54<04:25, 6167.20it/s][14:50:07] WARNING: not removing hydrogen atom without neighbors\n",
      "[14:50:07] WARNING: not removing hydrogen atom without neighbors\n",
      " 93%|█████████▎| 20255389/21812332 [54:10<04:21, 5946.00it/s][14:50:23] WARNING: not removing hydrogen atom without neighbors\n",
      " 93%|█████████▎| 20354991/21812332 [54:29<04:10, 5811.41it/s][14:50:41] WARNING: not removing hydrogen atom without neighbors\n",
      " 94%|█████████▎| 20402523/21812332 [54:38<03:21, 6997.91it/s][14:50:51] WARNING: not removing hydrogen atom without neighbors\n",
      " 94%|█████████▎| 20425719/21812332 [54:42<04:25, 5215.85it/s][14:50:55] WARNING: not removing hydrogen atom without neighbors\n",
      " 94%|█████████▎| 20427442/21812332 [54:42<04:34, 5043.19it/s][14:50:55] WARNING: not removing hydrogen atom without neighbors\n",
      " 94%|█████████▍| 20588970/21812332 [55:13<03:01, 6749.11it/s][14:51:25] WARNING: not removing hydrogen atom without neighbors\n",
      " 96%|█████████▌| 20879285/21812332 [56:05<02:29, 6248.92it/s][14:52:18] WARNING: not removing hydrogen atom without neighbors\n",
      " 96%|█████████▋| 21000656/21812332 [56:26<02:29, 5414.28it/s][14:52:39] WARNING: not removing hydrogen atom without neighbors\n",
      " 98%|█████████▊| 21372690/21812332 [57:41<01:44, 4187.85it/s][14:53:54] Conflicting single bond directions around double bond at index 10.\n",
      "[14:53:54]   BondStereo set to STEREONONE and single bond directions set to NONE.\n",
      " 98%|█████████▊| 21416101/21812332 [57:51<01:17, 5100.10it/s][14:54:04] Conflicting single bond directions around double bond at index 4.\n",
      "[14:54:04]   BondStereo set to STEREONONE and single bond directions set to NONE.\n",
      " 99%|█████████▉| 21574180/21812332 [58:21<00:45, 5190.71it/s][14:54:34] Conflicting single bond directions around double bond at index 20.\n",
      "[14:54:34]   BondStereo set to STEREONONE and single bond directions set to NONE.\n",
      "100%|██████████| 21812332/21812332 [59:14<00:00, 6137.02it/s]\n"
     ]
    }
   ],
   "source": [
    "skipped_smiles = 0\n",
    "skipped_mol_wt = 0\n",
    "liste = []\n",
    "\n",
    "for smiles, year, patent_id in tqdm(scaffold_df.values):\n",
    "    try:\n",
    "        molecule = MolFromSmiles(smiles)\n",
    "        if molecule is None:\n",
    "            skipped_smiles += 1\n",
    "            continue\n",
    "            \n",
    "        mol_wt = Descriptors.MolWt(molecule)\n",
    "        \n",
    "        if mol_wt >= 300:\n",
    "            liste.append({'smiles': smiles, 'patent_id': patent_id, 'mol_wt': mol_wt})\n",
    "            \n",
    "        else:\n",
    "            skipped_mol_wt += 1\n",
    "        \n",
    "    except:\n",
    "        skipped_smiles += 1\n",
    "        continue"
   ]
  },
  {
   "cell_type": "code",
   "execution_count": 6,
   "id": "0419cbe3",
   "metadata": {},
   "outputs": [
    {
     "data": {
      "text/plain": [
       "(30, 11610973, 10201329)"
      ]
     },
     "execution_count": 6,
     "metadata": {},
     "output_type": "execute_result"
    }
   ],
   "source": [
    "(skipped_smiles,skipped_mol_wt, len(liste))"
   ]
  },
  {
   "cell_type": "code",
   "execution_count": 7,
   "id": "c342574d",
   "metadata": {},
   "outputs": [],
   "source": [
    "df = pd.DataFrame(liste)"
   ]
  },
  {
   "cell_type": "code",
   "execution_count": 24,
   "id": "7f200c4c",
   "metadata": {},
   "outputs": [
    {
     "data": {
      "text/html": [
       "<div>\n",
       "<style scoped>\n",
       "    .dataframe tbody tr th:only-of-type {\n",
       "        vertical-align: middle;\n",
       "    }\n",
       "\n",
       "    .dataframe tbody tr th {\n",
       "        vertical-align: top;\n",
       "    }\n",
       "\n",
       "    .dataframe thead th {\n",
       "        text-align: right;\n",
       "    }\n",
       "</style>\n",
       "<table border=\"1\" class=\"dataframe\">\n",
       "  <thead>\n",
       "    <tr style=\"text-align: right;\">\n",
       "      <th></th>\n",
       "      <th>smiles</th>\n",
       "      <th>patent_id</th>\n",
       "      <th>mol_wt</th>\n",
       "    </tr>\n",
       "  </thead>\n",
       "  <tbody>\n",
       "    <tr>\n",
       "      <th>0</th>\n",
       "      <td>O=C(CCc1ccccc1)NCC(=O)N[C@@H](Cc1c[nH]cn1)C(=O...</td>\n",
       "      <td>EP-2842582-A2</td>\n",
       "      <td>397.479</td>\n",
       "    </tr>\n",
       "    <tr>\n",
       "      <th>1</th>\n",
       "      <td>c1ccc(-c2nnn[nH]2)c(-c2ccc(Cn3ccnc3)cc2)c1</td>\n",
       "      <td>EP-2842582-A2</td>\n",
       "      <td>302.341</td>\n",
       "    </tr>\n",
       "    <tr>\n",
       "      <th>2</th>\n",
       "      <td>c1ccc(-c2nnn[nH]2)c(-c2ccc(Cn3ccnc3)cc2)c1</td>\n",
       "      <td>US-20150065543-A1</td>\n",
       "      <td>302.341</td>\n",
       "    </tr>\n",
       "    <tr>\n",
       "      <th>3</th>\n",
       "      <td>c1ccc(C[P+](c2ccccc2)(c2ccccc2)c2ccccc2)cc1</td>\n",
       "      <td>EP-2670725-B1</td>\n",
       "      <td>353.425</td>\n",
       "    </tr>\n",
       "    <tr>\n",
       "      <th>4</th>\n",
       "      <td>c1ccc(C(c2ccccc2)(c2ccccc2)n2nnnc2-c2ccccc2-c2...</td>\n",
       "      <td>US-20150065543-A1</td>\n",
       "      <td>544.662</td>\n",
       "    </tr>\n",
       "    <tr>\n",
       "      <th>...</th>\n",
       "      <td>...</td>\n",
       "      <td>...</td>\n",
       "      <td>...</td>\n",
       "    </tr>\n",
       "    <tr>\n",
       "      <th>10201324</th>\n",
       "      <td>O=C(NCc1ccc2cc(CNCC34CC(C3)C4)[nH]c2c1)c1cc(=O...</td>\n",
       "      <td>WO-2022254216-A1</td>\n",
       "      <td>427.508</td>\n",
       "    </tr>\n",
       "    <tr>\n",
       "      <th>10201325</th>\n",
       "      <td>O=S(=O)(OCCc1cc2ccccc2[nH]1)c1ccccc1</td>\n",
       "      <td>EP-4069694-A1</td>\n",
       "      <td>301.367</td>\n",
       "    </tr>\n",
       "    <tr>\n",
       "      <th>10201326</th>\n",
       "      <td>O=C(NCc1ccc2cc(CNCC3CCC3)[nH]c2c1)c1cc(=O)n2c(...</td>\n",
       "      <td>EP-4069694-A1</td>\n",
       "      <td>419.529</td>\n",
       "    </tr>\n",
       "    <tr>\n",
       "      <th>10201327</th>\n",
       "      <td>c1cc(N2CCN(CCC3CCCCC3)CC2)c2ccsc2c1</td>\n",
       "      <td>EP-4056568-A1</td>\n",
       "      <td>328.525</td>\n",
       "    </tr>\n",
       "    <tr>\n",
       "      <th>10201328</th>\n",
       "      <td>c1ccc2c(c#1)c1ccccc1n2-c1ccc2c(c1)c1cc(-n3c4cc...</td>\n",
       "      <td>US-20220380387-A1</td>\n",
       "      <td>802.941</td>\n",
       "    </tr>\n",
       "  </tbody>\n",
       "</table>\n",
       "<p>10201329 rows × 3 columns</p>\n",
       "</div>"
      ],
      "text/plain": [
       "                                                     smiles   \n",
       "0         O=C(CCc1ccccc1)NCC(=O)N[C@@H](Cc1c[nH]cn1)C(=O...  \\\n",
       "1                c1ccc(-c2nnn[nH]2)c(-c2ccc(Cn3ccnc3)cc2)c1   \n",
       "2                c1ccc(-c2nnn[nH]2)c(-c2ccc(Cn3ccnc3)cc2)c1   \n",
       "3               c1ccc(C[P+](c2ccccc2)(c2ccccc2)c2ccccc2)cc1   \n",
       "4         c1ccc(C(c2ccccc2)(c2ccccc2)n2nnnc2-c2ccccc2-c2...   \n",
       "...                                                     ...   \n",
       "10201324  O=C(NCc1ccc2cc(CNCC34CC(C3)C4)[nH]c2c1)c1cc(=O...   \n",
       "10201325               O=S(=O)(OCCc1cc2ccccc2[nH]1)c1ccccc1   \n",
       "10201326  O=C(NCc1ccc2cc(CNCC3CCC3)[nH]c2c1)c1cc(=O)n2c(...   \n",
       "10201327                c1cc(N2CCN(CCC3CCCCC3)CC2)c2ccsc2c1   \n",
       "10201328  c1ccc2c(c#1)c1ccccc1n2-c1ccc2c(c1)c1cc(-n3c4cc...   \n",
       "\n",
       "                  patent_id   mol_wt  \n",
       "0             EP-2842582-A2  397.479  \n",
       "1             EP-2842582-A2  302.341  \n",
       "2         US-20150065543-A1  302.341  \n",
       "3             EP-2670725-B1  353.425  \n",
       "4         US-20150065543-A1  544.662  \n",
       "...                     ...      ...  \n",
       "10201324   WO-2022254216-A1  427.508  \n",
       "10201325      EP-4069694-A1  301.367  \n",
       "10201326      EP-4069694-A1  419.529  \n",
       "10201327      EP-4056568-A1  328.525  \n",
       "10201328  US-20220380387-A1  802.941  \n",
       "\n",
       "[10201329 rows x 3 columns]"
      ]
     },
     "execution_count": 24,
     "metadata": {},
     "output_type": "execute_result"
    }
   ],
   "source": [
    "df"
   ]
  },
  {
   "cell_type": "code",
   "execution_count": 22,
   "id": "2050fb3f",
   "metadata": {},
   "outputs": [],
   "source": [
    "g = df['patent_id'].unique()"
   ]
  },
  {
   "cell_type": "code",
   "execution_count": 23,
   "id": "22479e43",
   "metadata": {},
   "outputs": [
    {
     "data": {
      "text/plain": [
       "271283"
      ]
     },
     "execution_count": 23,
     "metadata": {},
     "output_type": "execute_result"
    }
   ],
   "source": [
    "len(g)"
   ]
  },
  {
   "cell_type": "code",
   "execution_count": 28,
   "id": "c6e667fc",
   "metadata": {},
   "outputs": [
    {
     "data": {
      "text/plain": [
       "54.02160601383979"
      ]
     },
     "execution_count": 28,
     "metadata": {},
     "output_type": "execute_result"
    }
   ],
   "source": [
    "(271283/502175)*100"
   ]
  },
  {
   "cell_type": "code",
   "execution_count": 29,
   "id": "cd0cc444",
   "metadata": {},
   "outputs": [
    {
     "data": {
      "text/plain": [
       "230892"
      ]
     },
     "execution_count": 29,
     "metadata": {},
     "output_type": "execute_result"
    }
   ],
   "source": [
    "502175-271283"
   ]
  },
  {
   "cell_type": "code",
   "execution_count": 30,
   "id": "5d4db9c9",
   "metadata": {},
   "outputs": [
    {
     "data": {
      "text/plain": [
       "45.97839398616021"
      ]
     },
     "execution_count": 30,
     "metadata": {},
     "output_type": "execute_result"
    }
   ],
   "source": [
    "(230892/502175)*100"
   ]
  },
  {
   "cell_type": "code",
   "execution_count": 25,
   "id": "a6307309",
   "metadata": {},
   "outputs": [],
   "source": [
    "h = scaffold_df['patent_ID'].unique()"
   ]
  },
  {
   "cell_type": "code",
   "execution_count": 26,
   "id": "0756b50f",
   "metadata": {},
   "outputs": [
    {
     "data": {
      "text/plain": [
       "502175"
      ]
     },
     "execution_count": 26,
     "metadata": {},
     "output_type": "execute_result"
    }
   ],
   "source": [
    "len(h)"
   ]
  },
  {
   "cell_type": "code",
   "execution_count": 27,
   "id": "9312296f",
   "metadata": {},
   "outputs": [
    {
     "data": {
      "text/plain": [
       "230892"
      ]
     },
     "execution_count": 27,
     "metadata": {},
     "output_type": "execute_result"
    }
   ],
   "source": [
    "502175-271283"
   ]
  },
  {
   "cell_type": "code",
   "execution_count": 18,
   "id": "cf356866",
   "metadata": {},
   "outputs": [
    {
     "data": {
      "text/plain": [
       "46.76869502356973"
      ]
     },
     "execution_count": 18,
     "metadata": {},
     "output_type": "execute_result"
    }
   ],
   "source": [
    "mol_wt_above_300 = (10201329/(21812332-30))*100\n",
    "mol_wt_above_300"
   ]
  },
  {
   "cell_type": "code",
   "execution_count": 19,
   "id": "b9d95ccc",
   "metadata": {},
   "outputs": [
    {
     "data": {
      "text/plain": [
       "53.23130497643027"
      ]
     },
     "execution_count": 19,
     "metadata": {},
     "output_type": "execute_result"
    }
   ],
   "source": [
    "mol_wt_below_300 = (11610973/(21812332-30))*100\n",
    "mol_wt_below_300"
   ]
  },
  {
   "cell_type": "code",
   "execution_count": null,
   "id": "925e3a27",
   "metadata": {},
   "outputs": [],
   "source": [
    "patent_ids_list = scaffold_df.groupby('scaffold')['patent_ID'].unique().apply(list).reset_index(name='patent_IDs')"
   ]
  },
  {
   "cell_type": "code",
   "execution_count": null,
   "id": "e8489d81",
   "metadata": {},
   "outputs": [],
   "source": [
    "patent_ids_list['Number of patents'] = patent_ids_list['patent_IDs'].str.len()"
   ]
  },
  {
   "cell_type": "code",
   "execution_count": null,
   "id": "ae4ee5da",
   "metadata": {},
   "outputs": [],
   "source": [
    "patent_ids_list = patent_ids_list.sort_values(by=['Number of patents'], ascending=False)\n",
    "patent_ids_list"
   ]
  },
  {
   "cell_type": "code",
   "execution_count": null,
   "id": "a4f09c37",
   "metadata": {},
   "outputs": [],
   "source": [
    "patent_ids_list.head(10)"
   ]
  },
  {
   "cell_type": "code",
   "execution_count": null,
   "id": "31737d1b",
   "metadata": {},
   "outputs": [],
   "source": [
    "m = patent_ids_list['Number of patents'] < 10\n",
    "patent_ids_list[m]['Number of patents'].hist()"
   ]
  },
  {
   "cell_type": "code",
   "execution_count": null,
   "id": "9d766055",
   "metadata": {},
   "outputs": [],
   "source": [
    "patent_ids_list.head(10)"
   ]
  },
  {
   "cell_type": "markdown",
   "id": "2b987214",
   "metadata": {},
   "source": [
    "# Calculating Scaffolds per year"
   ]
  },
  {
   "cell_type": "code",
   "execution_count": null,
   "id": "1d2b55be",
   "metadata": {},
   "outputs": [],
   "source": [
    "scaffold_count_df = pd.DataFrame(scaffold_df['year'].value_counts()).reset_index()\n",
    "scaffold_count_df = scaffold_count_df.sort_values('year', ascending=True)\n",
    "scaffold_count_df"
   ]
  },
  {
   "cell_type": "code",
   "execution_count": null,
   "id": "bee069bc",
   "metadata": {},
   "outputs": [],
   "source": [
    "grouped_df = scaffold_df.groupby('patent_ID')['scaffold'].count().reset_index()\n",
    "grouped_df"
   ]
  },
  {
   "cell_type": "code",
   "execution_count": null,
   "id": "f361b312",
   "metadata": {},
   "outputs": [],
   "source": [
    "grouped_df = grouped_df.groupby('scaffold')['patent_ID'].count().reset_index()\n",
    "grouped_df"
   ]
  },
  {
   "cell_type": "markdown",
   "id": "46401ada",
   "metadata": {},
   "source": [
    "# Visualisation"
   ]
  },
  {
   "cell_type": "code",
   "execution_count": null,
   "id": "a82236e1",
   "metadata": {},
   "outputs": [],
   "source": [
    "plt.figure(figsize = (18,11))\n",
    "ax = sns.barplot(x= scaffold_count_df['year'], y= scaffold_count_df['count'], color='#ffbe7d')\n",
    "sns.set(context='poster')\n",
    "sns.set_style(\"white\")\n",
    "plt.xticks(fontsize=18)\n",
    "plt.yticks(fontsize=18)\n",
    "plt.xlabel(\"Year\", fontsize=18)\n",
    "plt.ylabel(\"Number of scaffolds\", fontsize=18)\n",
    "for c in ax.containers:\n",
    "    ax.bar_label(c, labels=[f'{x:,.0f}' for x in c.datavalues], padding= 2, fontsize=14)\n",
    "plt.show()"
   ]
  },
  {
   "cell_type": "code",
   "execution_count": null,
   "id": "a9ea1d8c",
   "metadata": {},
   "outputs": [],
   "source": [
    "plt.figure(figsize = (18,11))\n",
    "ax1 = sns.barplot(x= grouped_df['scaffold'], y= grouped_df['patent_ID'], color='#ffbe7d')\n",
    "sns.set(context='poster')\n",
    "sns.set_style(\"white\")\n",
    "plt.xticks(fontsize=18)\n",
    "plt.yticks(fontsize=18)\n",
    "plt.xlabel(\"Number of scaffold\", fontsize=18)\n",
    "plt.ylabel(\"Number of Patents\", fontsize=18)\n",
    "for c in ax1.containers:\n",
    "    ax1.bar_label(c, labels=[f'{x:,.0f}' for x in c.datavalues], padding= 2, fontsize=14)\n",
    "    \n",
    "plt.xlim(-0.5,20.5)    \n",
    "plt.show()"
   ]
  }
 ],
 "metadata": {
  "kernelspec": {
   "display_name": "Python 3 (ipykernel)",
   "language": "python",
   "name": "python3"
  },
  "language_info": {
   "codemirror_mode": {
    "name": "ipython",
    "version": 3
   },
   "file_extension": ".py",
   "mimetype": "text/x-python",
   "name": "python",
   "nbconvert_exporter": "python",
   "pygments_lexer": "ipython3",
   "version": "3.9.13"
  }
 },
 "nbformat": 4,
 "nbformat_minor": 5
}
