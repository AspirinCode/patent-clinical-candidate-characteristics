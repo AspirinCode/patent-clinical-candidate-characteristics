{
 "cells": [
  {
   "cell_type": "markdown",
   "id": "8d1a72dd",
   "metadata": {},
   "source": [
    "# Import Modules"
   ]
  },
  {
   "cell_type": "code",
   "execution_count": 1,
   "id": "5e64548f",
   "metadata": {},
   "outputs": [],
   "source": [
    "import json\n",
    "import pandas as pd\n",
    "import matplotlib.pyplot as plt\n",
    "from tqdm import tqdm\n",
    "import ptitprince as pt\n",
    "from rdkit import Chem\n",
    "from rdkit.Chem import Descriptors, Draw, PandasTools, MolFromSmiles\n",
    "from tqdm import tqdm\n",
    "tqdm.pandas()"
   ]
  },
  {
   "cell_type": "markdown",
   "id": "29fec6ce",
   "metadata": {},
   "source": [
    "# Load data file"
   ]
  },
  {
   "cell_type": "code",
   "execution_count": 2,
   "id": "10047044",
   "metadata": {},
   "outputs": [],
   "source": [
    "surechem_df = pd.read_csv('data/EDA_df.txt.gz', sep='\\t', compression='gzip')"
   ]
  },
  {
   "cell_type": "code",
   "execution_count": 3,
   "id": "c6189f78",
   "metadata": {},
   "outputs": [
    {
     "name": "stderr",
     "output_type": "stream",
     "text": [
      "100%|██████████| 133512452/133512452 [02:21<00:00, 946075.70it/s] \n"
     ]
    }
   ],
   "source": [
    "surechem_df['year'] = surechem_df['PUBLICATION_DATE'].progress_apply(lambda x: x.split('-')[0])"
   ]
  },
  {
   "cell_type": "code",
   "execution_count": 4,
   "id": "ecb486fc",
   "metadata": {},
   "outputs": [
    {
     "data": {
      "text/plain": [
       "21857225"
      ]
     },
     "execution_count": 4,
     "metadata": {},
     "output_type": "execute_result"
    }
   ],
   "source": [
    "surechem_df = surechem_df.drop_duplicates(subset=[\"InChIKey\",\"year\"], keep='first')\n",
    "surechem_df.reset_index(drop=True, inplace=True)\n",
    "len(surechem_df)"
   ]
  },
  {
   "cell_type": "code",
   "execution_count": 5,
   "id": "28387b99",
   "metadata": {},
   "outputs": [],
   "source": [
    "year_df = surechem_df[['SMILES', 'year']]"
   ]
  },
  {
   "cell_type": "code",
   "execution_count": 6,
   "id": "6f29a815",
   "metadata": {},
   "outputs": [],
   "source": [
    "with open('data/properties.json', 'r') as f:\n",
    "    properties_dict = json.load(f)"
   ]
  },
  {
   "cell_type": "code",
   "execution_count": 7,
   "id": "094417db",
   "metadata": {},
   "outputs": [
    {
     "data": {
      "text/html": [
       "<div>\n",
       "<style scoped>\n",
       "    .dataframe tbody tr th:only-of-type {\n",
       "        vertical-align: middle;\n",
       "    }\n",
       "\n",
       "    .dataframe tbody tr th {\n",
       "        vertical-align: top;\n",
       "    }\n",
       "\n",
       "    .dataframe thead th {\n",
       "        text-align: right;\n",
       "    }\n",
       "</style>\n",
       "<table border=\"1\" class=\"dataframe\">\n",
       "  <thead>\n",
       "    <tr style=\"text-align: right;\">\n",
       "      <th></th>\n",
       "      <th>SMILES</th>\n",
       "      <th>mw</th>\n",
       "      <th>logp</th>\n",
       "      <th>n_hba</th>\n",
       "      <th>n_hbd</th>\n",
       "      <th>rot_bonds</th>\n",
       "      <th>tpsa</th>\n",
       "      <th>fsp3</th>\n",
       "      <th>n_chiral</th>\n",
       "    </tr>\n",
       "  </thead>\n",
       "  <tbody>\n",
       "    <tr>\n",
       "      <th>0</th>\n",
       "      <td>C[C@H](CS)C(=O)N1CCC[C@H]1C(O)=O</td>\n",
       "      <td>217.077264</td>\n",
       "      <td>0.6279</td>\n",
       "      <td>3.0</td>\n",
       "      <td>2.0</td>\n",
       "      <td>3.0</td>\n",
       "      <td>57.61</td>\n",
       "      <td>0.777778</td>\n",
       "      <td>1.0</td>\n",
       "    </tr>\n",
       "    <tr>\n",
       "      <th>1</th>\n",
       "      <td>O=C(O)\\C=C/C(=O)O.CCOC(=O)[C@H](CCC1=CC=CC=C1)...</td>\n",
       "      <td>492.210781</td>\n",
       "      <td>1.3164</td>\n",
       "      <td>7.0</td>\n",
       "      <td>4.0</td>\n",
       "      <td>11.0</td>\n",
       "      <td>170.54</td>\n",
       "      <td>0.458333</td>\n",
       "      <td>1.0</td>\n",
       "    </tr>\n",
       "  </tbody>\n",
       "</table>\n",
       "</div>"
      ],
      "text/plain": [
       "                                              SMILES          mw    logp   \n",
       "0                   C[C@H](CS)C(=O)N1CCC[C@H]1C(O)=O  217.077264  0.6279  \\\n",
       "1  O=C(O)\\C=C/C(=O)O.CCOC(=O)[C@H](CCC1=CC=CC=C1)...  492.210781  1.3164   \n",
       "\n",
       "  n_hba n_hbd rot_bonds    tpsa      fsp3 n_chiral  \n",
       "0   3.0   2.0       3.0   57.61  0.777778      1.0  \n",
       "1   7.0   4.0      11.0  170.54  0.458333      1.0  "
      ]
     },
     "execution_count": 7,
     "metadata": {},
     "output_type": "execute_result"
    }
   ],
   "source": [
    "properties_df = pd.DataFrame(properties_dict)\n",
    "properties_df = properties_df.T\n",
    "properties_df.reset_index(inplace=True)\n",
    "properties_df.columns = ['SMILES', 'mw', 'logp', 'n_hba', 'n_hbd', 'rot_bonds', 'tpsa', 'fsp3', 'n_chiral']\n",
    "properties_df.head(2)"
   ]
  },
  {
   "cell_type": "code",
   "execution_count": 8,
   "id": "17d6d864",
   "metadata": {},
   "outputs": [
    {
     "data": {
      "text/plain": [
       "1505470"
      ]
     },
     "execution_count": 8,
     "metadata": {},
     "output_type": "execute_result"
    }
   ],
   "source": [
    "len(properties_df)"
   ]
  },
  {
   "cell_type": "code",
   "execution_count": 9,
   "id": "19d2a8b5",
   "metadata": {},
   "outputs": [
    {
     "data": {
      "text/html": [
       "<div>\n",
       "<style scoped>\n",
       "    .dataframe tbody tr th:only-of-type {\n",
       "        vertical-align: middle;\n",
       "    }\n",
       "\n",
       "    .dataframe tbody tr th {\n",
       "        vertical-align: top;\n",
       "    }\n",
       "\n",
       "    .dataframe thead th {\n",
       "        text-align: right;\n",
       "    }\n",
       "</style>\n",
       "<table border=\"1\" class=\"dataframe\">\n",
       "  <thead>\n",
       "    <tr style=\"text-align: right;\">\n",
       "      <th></th>\n",
       "      <th>SMILES</th>\n",
       "      <th>mw</th>\n",
       "      <th>logp</th>\n",
       "      <th>n_hba</th>\n",
       "      <th>n_hbd</th>\n",
       "      <th>rot_bonds</th>\n",
       "      <th>tpsa</th>\n",
       "      <th>fsp3</th>\n",
       "      <th>n_chiral</th>\n",
       "      <th>year</th>\n",
       "    </tr>\n",
       "  </thead>\n",
       "  <tbody>\n",
       "    <tr>\n",
       "      <th>0</th>\n",
       "      <td>C[C@H](CS)C(=O)N1CCC[C@H]1C(O)=O</td>\n",
       "      <td>217.077264</td>\n",
       "      <td>0.6279</td>\n",
       "      <td>3.0</td>\n",
       "      <td>2.0</td>\n",
       "      <td>3.0</td>\n",
       "      <td>57.61</td>\n",
       "      <td>0.777778</td>\n",
       "      <td>1.0</td>\n",
       "      <td>2015</td>\n",
       "    </tr>\n",
       "    <tr>\n",
       "      <th>1</th>\n",
       "      <td>C[C@H](CS)C(=O)N1CCC[C@H]1C(O)=O</td>\n",
       "      <td>217.077264</td>\n",
       "      <td>0.6279</td>\n",
       "      <td>3.0</td>\n",
       "      <td>2.0</td>\n",
       "      <td>3.0</td>\n",
       "      <td>57.61</td>\n",
       "      <td>0.777778</td>\n",
       "      <td>1.0</td>\n",
       "      <td>2016</td>\n",
       "    </tr>\n",
       "  </tbody>\n",
       "</table>\n",
       "</div>"
      ],
      "text/plain": [
       "                             SMILES          mw    logp n_hba n_hbd rot_bonds   \n",
       "0  C[C@H](CS)C(=O)N1CCC[C@H]1C(O)=O  217.077264  0.6279   3.0   2.0       3.0  \\\n",
       "1  C[C@H](CS)C(=O)N1CCC[C@H]1C(O)=O  217.077264  0.6279   3.0   2.0       3.0   \n",
       "\n",
       "    tpsa      fsp3 n_chiral  year  \n",
       "0  57.61  0.777778      1.0  2015  \n",
       "1  57.61  0.777778      1.0  2016  "
      ]
     },
     "execution_count": 9,
     "metadata": {},
     "output_type": "execute_result"
    }
   ],
   "source": [
    "merged_df = pd.merge(properties_df, year_df, how=\"left\", on=[\"SMILES\"])\n",
    "merged_df.head(2)"
   ]
  },
  {
   "cell_type": "code",
   "execution_count": 10,
   "id": "82cc58e2",
   "metadata": {},
   "outputs": [
    {
     "data": {
      "text/plain": [
       "4695795"
      ]
     },
     "execution_count": 10,
     "metadata": {},
     "output_type": "execute_result"
    }
   ],
   "source": [
    "len(merged_df)"
   ]
  },
  {
   "cell_type": "code",
   "execution_count": 11,
   "id": "f0a090d1",
   "metadata": {},
   "outputs": [],
   "source": [
    "liste = []\n",
    "for idx, row in merged_df.iterrows():\n",
    "    if '.' not in row[0]:\n",
    "        df = merged_df.iloc[idx]\n",
    "        liste.append(df) "
   ]
  },
  {
   "cell_type": "code",
   "execution_count": 12,
   "id": "9e84625e",
   "metadata": {},
   "outputs": [],
   "source": [
    "smiles_without_dots = pd.DataFrame(liste)"
   ]
  },
  {
   "cell_type": "code",
   "execution_count": 13,
   "id": "e35a17d5",
   "metadata": {},
   "outputs": [
    {
     "data": {
      "text/plain": [
       "4329398"
      ]
     },
     "execution_count": 13,
     "metadata": {},
     "output_type": "execute_result"
    }
   ],
   "source": [
    "len(smiles_without_dots)"
   ]
  },
  {
   "cell_type": "code",
   "execution_count": 14,
   "id": "1bcb2f99",
   "metadata": {},
   "outputs": [],
   "source": [
    "smiles_with_dots = len(merged_df)- len(smiles_without_dots) "
   ]
  },
  {
   "cell_type": "code",
   "execution_count": 15,
   "id": "3416f9ac",
   "metadata": {},
   "outputs": [
    {
     "data": {
      "text/plain": [
       "366397"
      ]
     },
     "execution_count": 15,
     "metadata": {},
     "output_type": "execute_result"
    }
   ],
   "source": [
    "smiles_with_dots #salt compounds gave different properties, hence, removed"
   ]
  },
  {
   "cell_type": "markdown",
   "id": "c363a740",
   "metadata": {},
   "source": [
    "# formatting calculated values"
   ]
  },
  {
   "cell_type": "code",
   "execution_count": 16,
   "id": "7700bf82",
   "metadata": {},
   "outputs": [],
   "source": [
    "pd.options.display.float_format = '{:.2f}'.format"
   ]
  },
  {
   "cell_type": "markdown",
   "id": "77f2332f",
   "metadata": {},
   "source": [
    "# concatenating dataframes"
   ]
  },
  {
   "cell_type": "code",
   "execution_count": 17,
   "id": "cf03236b",
   "metadata": {},
   "outputs": [],
   "source": [
    "def define_year(year):\n",
    "    df_year = smiles_without_dots[(smiles_without_dots['year'] == str(year))]\n",
    "    return df_year"
   ]
  },
  {
   "cell_type": "code",
   "execution_count": 18,
   "id": "3876d1a5",
   "metadata": {},
   "outputs": [],
   "source": [
    "def year_range(year1, year2):\n",
    "    concat_df = None\n",
    "    for year in range(year1, year2):\n",
    "        current_df = define_year(year)\n",
    "\n",
    "        if year == 2015:\n",
    "            df = smiles_without_dots[(smiles_without_dots['year'] == str(year))]\n",
    "            concat_df = current_df\n",
    "        else:\n",
    "            concat_df = pd.concat([concat_df, current_df])\n",
    "            concat_df.drop_duplicates(keep='first', inplace=True)\n",
    "            concat_df.reset_index(drop=True, inplace=True)\n",
    "    return concat_df"
   ]
  },
  {
   "cell_type": "markdown",
   "id": "8d50ce65",
   "metadata": {},
   "source": [
    "# Year 2015-2017"
   ]
  },
  {
   "cell_type": "code",
   "execution_count": 19,
   "id": "de1185cb",
   "metadata": {},
   "outputs": [],
   "source": [
    "concat_df_15_16_17 = year_range(2015, 2018)"
   ]
  },
  {
   "cell_type": "code",
   "execution_count": 20,
   "id": "bd685958",
   "metadata": {},
   "outputs": [],
   "source": [
    "concat_df_15_16_17 = concat_df_15_16_17[['mw', 'logp', 'n_hba', 'n_hbd', 'rot_bonds','tpsa','fsp3','n_chiral']]"
   ]
  },
  {
   "cell_type": "code",
   "execution_count": 28,
   "id": "a55010f6",
   "metadata": {},
   "outputs": [
    {
     "data": {
      "text/html": [
       "<div>\n",
       "<style scoped>\n",
       "    .dataframe tbody tr th:only-of-type {\n",
       "        vertical-align: middle;\n",
       "    }\n",
       "\n",
       "    .dataframe tbody tr th {\n",
       "        vertical-align: top;\n",
       "    }\n",
       "\n",
       "    .dataframe thead th {\n",
       "        text-align: right;\n",
       "    }\n",
       "</style>\n",
       "<table border=\"1\" class=\"dataframe\">\n",
       "  <thead>\n",
       "    <tr style=\"text-align: right;\">\n",
       "      <th></th>\n",
       "      <th>mw</th>\n",
       "      <th>logp</th>\n",
       "      <th>n_hba</th>\n",
       "      <th>n_hbd</th>\n",
       "      <th>rot_bonds</th>\n",
       "      <th>tpsa</th>\n",
       "      <th>fsp3</th>\n",
       "      <th>n_chiral</th>\n",
       "    </tr>\n",
       "  </thead>\n",
       "  <tbody>\n",
       "    <tr>\n",
       "      <th>count</th>\n",
       "      <td>2586036.00</td>\n",
       "      <td>2586036.00</td>\n",
       "      <td>2586036.00</td>\n",
       "      <td>2586036.00</td>\n",
       "      <td>2586036.00</td>\n",
       "      <td>2586036.00</td>\n",
       "      <td>2586036.00</td>\n",
       "      <td>2586036.00</td>\n",
       "    </tr>\n",
       "    <tr>\n",
       "      <th>mean</th>\n",
       "      <td>365.39</td>\n",
       "      <td>3.58</td>\n",
       "      <td>4.50</td>\n",
       "      <td>1.40</td>\n",
       "      <td>5.50</td>\n",
       "      <td>71.18</td>\n",
       "      <td>0.40</td>\n",
       "      <td>3.41</td>\n",
       "    </tr>\n",
       "    <tr>\n",
       "      <th>std</th>\n",
       "      <td>177.69</td>\n",
       "      <td>2.89</td>\n",
       "      <td>2.86</td>\n",
       "      <td>1.57</td>\n",
       "      <td>5.41</td>\n",
       "      <td>49.38</td>\n",
       "      <td>0.27</td>\n",
       "      <td>36.40</td>\n",
       "    </tr>\n",
       "    <tr>\n",
       "      <th>min</th>\n",
       "      <td>100.01</td>\n",
       "      <td>-27.34</td>\n",
       "      <td>0.00</td>\n",
       "      <td>0.00</td>\n",
       "      <td>0.00</td>\n",
       "      <td>0.00</td>\n",
       "      <td>0.00</td>\n",
       "      <td>1.00</td>\n",
       "    </tr>\n",
       "    <tr>\n",
       "      <th>25%</th>\n",
       "      <td>230.97</td>\n",
       "      <td>1.95</td>\n",
       "      <td>2.00</td>\n",
       "      <td>0.00</td>\n",
       "      <td>2.00</td>\n",
       "      <td>38.69</td>\n",
       "      <td>0.20</td>\n",
       "      <td>1.00</td>\n",
       "    </tr>\n",
       "    <tr>\n",
       "      <th>50%</th>\n",
       "      <td>345.14</td>\n",
       "      <td>3.23</td>\n",
       "      <td>4.00</td>\n",
       "      <td>1.00</td>\n",
       "      <td>4.00</td>\n",
       "      <td>64.79</td>\n",
       "      <td>0.36</td>\n",
       "      <td>1.00</td>\n",
       "    </tr>\n",
       "    <tr>\n",
       "      <th>75%</th>\n",
       "      <td>459.16</td>\n",
       "      <td>4.64</td>\n",
       "      <td>6.00</td>\n",
       "      <td>2.00</td>\n",
       "      <td>7.00</td>\n",
       "      <td>93.95</td>\n",
       "      <td>0.56</td>\n",
       "      <td>2.00</td>\n",
       "    </tr>\n",
       "    <tr>\n",
       "      <th>max</th>\n",
       "      <td>4863.19</td>\n",
       "      <td>114.29</td>\n",
       "      <td>108.00</td>\n",
       "      <td>61.00</td>\n",
       "      <td>256.00</td>\n",
       "      <td>1788.74</td>\n",
       "      <td>1.00</td>\n",
       "      <td>1024.00</td>\n",
       "    </tr>\n",
       "  </tbody>\n",
       "</table>\n",
       "</div>"
      ],
      "text/plain": [
       "              mw       logp      n_hba      n_hbd  rot_bonds       tpsa   \n",
       "count 2586036.00 2586036.00 2586036.00 2586036.00 2586036.00 2586036.00  \\\n",
       "mean      365.39       3.58       4.50       1.40       5.50      71.18   \n",
       "std       177.69       2.89       2.86       1.57       5.41      49.38   \n",
       "min       100.01     -27.34       0.00       0.00       0.00       0.00   \n",
       "25%       230.97       1.95       2.00       0.00       2.00      38.69   \n",
       "50%       345.14       3.23       4.00       1.00       4.00      64.79   \n",
       "75%       459.16       4.64       6.00       2.00       7.00      93.95   \n",
       "max      4863.19     114.29     108.00      61.00     256.00    1788.74   \n",
       "\n",
       "            fsp3   n_chiral  \n",
       "count 2586036.00 2586036.00  \n",
       "mean        0.40       3.41  \n",
       "std         0.27      36.40  \n",
       "min         0.00       1.00  \n",
       "25%         0.20       1.00  \n",
       "50%         0.36       1.00  \n",
       "75%         0.56       2.00  \n",
       "max         1.00    1024.00  "
      ]
     },
     "execution_count": 28,
     "metadata": {},
     "output_type": "execute_result"
    }
   ],
   "source": [
    "concat_df_15_16_17.astype(float).describe()"
   ]
  },
  {
   "cell_type": "markdown",
   "id": "1a1451df",
   "metadata": {},
   "source": [
    "# Year 2018-2020"
   ]
  },
  {
   "cell_type": "code",
   "execution_count": 22,
   "id": "b8f5a444",
   "metadata": {},
   "outputs": [],
   "source": [
    "concat_df_18_19_20 = year_range(2018, 2021)"
   ]
  },
  {
   "cell_type": "code",
   "execution_count": 23,
   "id": "700134ce",
   "metadata": {},
   "outputs": [],
   "source": [
    "concat_df_18_19_20 = concat_df_18_19_20[['mw', 'logp', 'n_hba', 'n_hbd', 'rot_bonds','tpsa','fsp3','n_chiral']]"
   ]
  },
  {
   "cell_type": "code",
   "execution_count": 24,
   "id": "3941c82a",
   "metadata": {},
   "outputs": [
    {
     "data": {
      "text/html": [
       "<div>\n",
       "<style scoped>\n",
       "    .dataframe tbody tr th:only-of-type {\n",
       "        vertical-align: middle;\n",
       "    }\n",
       "\n",
       "    .dataframe tbody tr th {\n",
       "        vertical-align: top;\n",
       "    }\n",
       "\n",
       "    .dataframe thead th {\n",
       "        text-align: right;\n",
       "    }\n",
       "</style>\n",
       "<table border=\"1\" class=\"dataframe\">\n",
       "  <thead>\n",
       "    <tr style=\"text-align: right;\">\n",
       "      <th></th>\n",
       "      <th>mw</th>\n",
       "      <th>logp</th>\n",
       "      <th>n_hba</th>\n",
       "      <th>n_hbd</th>\n",
       "      <th>rot_bonds</th>\n",
       "      <th>tpsa</th>\n",
       "      <th>fsp3</th>\n",
       "      <th>n_chiral</th>\n",
       "    </tr>\n",
       "  </thead>\n",
       "  <tbody>\n",
       "    <tr>\n",
       "      <th>count</th>\n",
       "      <td>1191215.00</td>\n",
       "      <td>1191215.00</td>\n",
       "      <td>1191215.00</td>\n",
       "      <td>1191215.00</td>\n",
       "      <td>1191215.00</td>\n",
       "      <td>1191215.00</td>\n",
       "      <td>1191215.00</td>\n",
       "      <td>1191215.00</td>\n",
       "    </tr>\n",
       "    <tr>\n",
       "      <th>mean</th>\n",
       "      <td>329.80</td>\n",
       "      <td>3.29</td>\n",
       "      <td>4.04</td>\n",
       "      <td>1.36</td>\n",
       "      <td>5.23</td>\n",
       "      <td>65.76</td>\n",
       "      <td>0.42</td>\n",
       "      <td>3.04</td>\n",
       "    </tr>\n",
       "    <tr>\n",
       "      <th>std</th>\n",
       "      <td>171.37</td>\n",
       "      <td>2.91</td>\n",
       "      <td>2.76</td>\n",
       "      <td>1.58</td>\n",
       "      <td>5.62</td>\n",
       "      <td>48.62</td>\n",
       "      <td>0.29</td>\n",
       "      <td>31.67</td>\n",
       "    </tr>\n",
       "    <tr>\n",
       "      <th>min</th>\n",
       "      <td>100.01</td>\n",
       "      <td>-27.34</td>\n",
       "      <td>0.00</td>\n",
       "      <td>0.00</td>\n",
       "      <td>0.00</td>\n",
       "      <td>0.00</td>\n",
       "      <td>0.00</td>\n",
       "      <td>1.00</td>\n",
       "    </tr>\n",
       "    <tr>\n",
       "      <th>25%</th>\n",
       "      <td>200.06</td>\n",
       "      <td>1.64</td>\n",
       "      <td>2.00</td>\n",
       "      <td>0.00</td>\n",
       "      <td>2.00</td>\n",
       "      <td>34.14</td>\n",
       "      <td>0.19</td>\n",
       "      <td>1.00</td>\n",
       "    </tr>\n",
       "    <tr>\n",
       "      <th>50%</th>\n",
       "      <td>291.03</td>\n",
       "      <td>2.90</td>\n",
       "      <td>3.00</td>\n",
       "      <td>1.00</td>\n",
       "      <td>4.00</td>\n",
       "      <td>57.61</td>\n",
       "      <td>0.37</td>\n",
       "      <td>1.00</td>\n",
       "    </tr>\n",
       "    <tr>\n",
       "      <th>75%</th>\n",
       "      <td>424.04</td>\n",
       "      <td>4.38</td>\n",
       "      <td>5.00</td>\n",
       "      <td>2.00</td>\n",
       "      <td>7.00</td>\n",
       "      <td>88.29</td>\n",
       "      <td>0.62</td>\n",
       "      <td>2.00</td>\n",
       "    </tr>\n",
       "    <tr>\n",
       "      <th>max</th>\n",
       "      <td>4292.75</td>\n",
       "      <td>114.29</td>\n",
       "      <td>77.00</td>\n",
       "      <td>61.00</td>\n",
       "      <td>256.00</td>\n",
       "      <td>1757.47</td>\n",
       "      <td>1.00</td>\n",
       "      <td>1024.00</td>\n",
       "    </tr>\n",
       "  </tbody>\n",
       "</table>\n",
       "</div>"
      ],
      "text/plain": [
       "              mw       logp      n_hba      n_hbd  rot_bonds       tpsa   \n",
       "count 1191215.00 1191215.00 1191215.00 1191215.00 1191215.00 1191215.00  \\\n",
       "mean      329.80       3.29       4.04       1.36       5.23      65.76   \n",
       "std       171.37       2.91       2.76       1.58       5.62      48.62   \n",
       "min       100.01     -27.34       0.00       0.00       0.00       0.00   \n",
       "25%       200.06       1.64       2.00       0.00       2.00      34.14   \n",
       "50%       291.03       2.90       3.00       1.00       4.00      57.61   \n",
       "75%       424.04       4.38       5.00       2.00       7.00      88.29   \n",
       "max      4292.75     114.29      77.00      61.00     256.00    1757.47   \n",
       "\n",
       "            fsp3   n_chiral  \n",
       "count 1191215.00 1191215.00  \n",
       "mean        0.42       3.04  \n",
       "std         0.29      31.67  \n",
       "min         0.00       1.00  \n",
       "25%         0.19       1.00  \n",
       "50%         0.37       1.00  \n",
       "75%         0.62       2.00  \n",
       "max         1.00    1024.00  "
      ]
     },
     "execution_count": 24,
     "metadata": {},
     "output_type": "execute_result"
    }
   ],
   "source": [
    "concat_df_18_19_20.astype(float).describe()"
   ]
  },
  {
   "cell_type": "markdown",
   "id": "1d56d328",
   "metadata": {},
   "source": [
    "# Year 2021-2022"
   ]
  },
  {
   "cell_type": "code",
   "execution_count": 25,
   "id": "dfa27d35",
   "metadata": {},
   "outputs": [],
   "source": [
    "concat_df_21_22 = year_range(2021, 2023)"
   ]
  },
  {
   "cell_type": "code",
   "execution_count": 26,
   "id": "389e7580",
   "metadata": {},
   "outputs": [],
   "source": [
    "concat_df_21_22 = concat_df_21_22[['mw', 'logp', 'n_hba', 'n_hbd', 'rot_bonds','tpsa','fsp3','n_chiral']]"
   ]
  },
  {
   "cell_type": "code",
   "execution_count": 27,
   "id": "ed359500",
   "metadata": {},
   "outputs": [
    {
     "data": {
      "text/html": [
       "<div>\n",
       "<style scoped>\n",
       "    .dataframe tbody tr th:only-of-type {\n",
       "        vertical-align: middle;\n",
       "    }\n",
       "\n",
       "    .dataframe tbody tr th {\n",
       "        vertical-align: top;\n",
       "    }\n",
       "\n",
       "    .dataframe thead th {\n",
       "        text-align: right;\n",
       "    }\n",
       "</style>\n",
       "<table border=\"1\" class=\"dataframe\">\n",
       "  <thead>\n",
       "    <tr style=\"text-align: right;\">\n",
       "      <th></th>\n",
       "      <th>mw</th>\n",
       "      <th>logp</th>\n",
       "      <th>n_hba</th>\n",
       "      <th>n_hbd</th>\n",
       "      <th>rot_bonds</th>\n",
       "      <th>tpsa</th>\n",
       "      <th>fsp3</th>\n",
       "      <th>n_chiral</th>\n",
       "    </tr>\n",
       "  </thead>\n",
       "  <tbody>\n",
       "    <tr>\n",
       "      <th>count</th>\n",
       "      <td>536041.00</td>\n",
       "      <td>536041.00</td>\n",
       "      <td>536041.00</td>\n",
       "      <td>536041.00</td>\n",
       "      <td>536041.00</td>\n",
       "      <td>536041.00</td>\n",
       "      <td>536041.00</td>\n",
       "      <td>536041.00</td>\n",
       "    </tr>\n",
       "    <tr>\n",
       "      <th>mean</th>\n",
       "      <td>305.26</td>\n",
       "      <td>3.09</td>\n",
       "      <td>3.72</td>\n",
       "      <td>1.29</td>\n",
       "      <td>5.03</td>\n",
       "      <td>61.37</td>\n",
       "      <td>0.44</td>\n",
       "      <td>3.06</td>\n",
       "    </tr>\n",
       "    <tr>\n",
       "      <th>std</th>\n",
       "      <td>163.88</td>\n",
       "      <td>2.94</td>\n",
       "      <td>2.68</td>\n",
       "      <td>1.55</td>\n",
       "      <td>5.73</td>\n",
       "      <td>47.50</td>\n",
       "      <td>0.31</td>\n",
       "      <td>32.42</td>\n",
       "    </tr>\n",
       "    <tr>\n",
       "      <th>min</th>\n",
       "      <td>100.01</td>\n",
       "      <td>-24.36</td>\n",
       "      <td>0.00</td>\n",
       "      <td>0.00</td>\n",
       "      <td>0.00</td>\n",
       "      <td>0.00</td>\n",
       "      <td>0.00</td>\n",
       "      <td>1.00</td>\n",
       "    </tr>\n",
       "    <tr>\n",
       "      <th>25%</th>\n",
       "      <td>186.05</td>\n",
       "      <td>1.46</td>\n",
       "      <td>2.00</td>\n",
       "      <td>0.00</td>\n",
       "      <td>2.00</td>\n",
       "      <td>29.26</td>\n",
       "      <td>0.18</td>\n",
       "      <td>1.00</td>\n",
       "    </tr>\n",
       "    <tr>\n",
       "      <th>50%</th>\n",
       "      <td>258.00</td>\n",
       "      <td>2.64</td>\n",
       "      <td>3.00</td>\n",
       "      <td>1.00</td>\n",
       "      <td>4.00</td>\n",
       "      <td>52.37</td>\n",
       "      <td>0.39</td>\n",
       "      <td>1.00</td>\n",
       "    </tr>\n",
       "    <tr>\n",
       "      <th>75%</th>\n",
       "      <td>390.06</td>\n",
       "      <td>4.13</td>\n",
       "      <td>5.00</td>\n",
       "      <td>2.00</td>\n",
       "      <td>6.00</td>\n",
       "      <td>83.10</td>\n",
       "      <td>0.67</td>\n",
       "      <td>2.00</td>\n",
       "    </tr>\n",
       "    <tr>\n",
       "      <th>max</th>\n",
       "      <td>4292.75</td>\n",
       "      <td>114.29</td>\n",
       "      <td>77.00</td>\n",
       "      <td>58.00</td>\n",
       "      <td>256.00</td>\n",
       "      <td>1690.64</td>\n",
       "      <td>1.00</td>\n",
       "      <td>1024.00</td>\n",
       "    </tr>\n",
       "  </tbody>\n",
       "</table>\n",
       "</div>"
      ],
      "text/plain": [
       "             mw      logp     n_hba     n_hbd  rot_bonds      tpsa      fsp3   \n",
       "count 536041.00 536041.00 536041.00 536041.00  536041.00 536041.00 536041.00  \\\n",
       "mean     305.26      3.09      3.72      1.29       5.03     61.37      0.44   \n",
       "std      163.88      2.94      2.68      1.55       5.73     47.50      0.31   \n",
       "min      100.01    -24.36      0.00      0.00       0.00      0.00      0.00   \n",
       "25%      186.05      1.46      2.00      0.00       2.00     29.26      0.18   \n",
       "50%      258.00      2.64      3.00      1.00       4.00     52.37      0.39   \n",
       "75%      390.06      4.13      5.00      2.00       6.00     83.10      0.67   \n",
       "max     4292.75    114.29     77.00     58.00     256.00   1690.64      1.00   \n",
       "\n",
       "       n_chiral  \n",
       "count 536041.00  \n",
       "mean       3.06  \n",
       "std       32.42  \n",
       "min        1.00  \n",
       "25%        1.00  \n",
       "50%        1.00  \n",
       "75%        2.00  \n",
       "max     1024.00  "
      ]
     },
     "execution_count": 27,
     "metadata": {},
     "output_type": "execute_result"
    }
   ],
   "source": [
    "concat_df_21_22.astype(float).describe()"
   ]
  }
 ],
 "metadata": {
  "kernelspec": {
   "display_name": "Python 3 (ipykernel)",
   "language": "python",
   "name": "python3"
  },
  "language_info": {
   "codemirror_mode": {
    "name": "ipython",
    "version": 3
   },
   "file_extension": ".py",
   "mimetype": "text/x-python",
   "name": "python",
   "nbconvert_exporter": "python",
   "pygments_lexer": "ipython3",
   "version": "3.9.13"
  }
 },
 "nbformat": 4,
 "nbformat_minor": 5
}
