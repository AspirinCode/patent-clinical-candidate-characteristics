{
 "cells": [
  {
   "attachments": {},
   "cell_type": "markdown",
   "id": "af419e78",
   "metadata": {},
   "source": [
    "# Discovering chemicals in patents by assessing their findability\n",
    " Prevalent sections in patent documents capturing compound information"
   ]
  },
  {
   "attachments": {},
   "cell_type": "markdown",
   "id": "667129b7",
   "metadata": {},
   "source": [
    "# Import Modules"
   ]
  },
  {
   "cell_type": "code",
   "execution_count": 1,
   "id": "bb0f4049",
   "metadata": {},
   "outputs": [],
   "source": [
    "import os\n",
    "import pandas as pd\n",
    "from tqdm import tqdm\n",
    "import seaborn as sns\n",
    "import matplotlib.pyplot as plt\n",
    "\n",
    "tqdm.pandas()"
   ]
  },
  {
   "attachments": {},
   "cell_type": "markdown",
   "id": "c5c67e50",
   "metadata": {},
   "source": [
    "# Add path constants"
   ]
  },
  {
   "cell_type": "code",
   "execution_count": 2,
   "id": "8977c3cd",
   "metadata": {},
   "outputs": [],
   "source": [
    "FIG_DIR = '../data/figures'\n",
    "DATA_DIR = '../data/raw'\n",
    "os.makedirs(FIG_DIR, exist_ok=True)"
   ]
  },
  {
   "attachments": {},
   "cell_type": "markdown",
   "id": "6562df2a",
   "metadata": {},
   "source": [
    "# Load data file"
   ]
  },
  {
   "cell_type": "code",
   "execution_count": 3,
   "id": "1caa96c7",
   "metadata": {},
   "outputs": [
    {
     "data": {
      "text/html": [
       "<div>\n",
       "<style scoped>\n",
       "    .dataframe tbody tr th:only-of-type {\n",
       "        vertical-align: middle;\n",
       "    }\n",
       "\n",
       "    .dataframe tbody tr th {\n",
       "        vertical-align: top;\n",
       "    }\n",
       "\n",
       "    .dataframe thead th {\n",
       "        text-align: right;\n",
       "    }\n",
       "</style>\n",
       "<table border=\"1\" class=\"dataframe\">\n",
       "  <thead>\n",
       "    <tr style=\"text-align: right;\">\n",
       "      <th></th>\n",
       "      <th>SureChEMBL_ID</th>\n",
       "      <th>SMILES</th>\n",
       "      <th>InChIKey</th>\n",
       "      <th>PATENT_ID</th>\n",
       "      <th>PUBLICATION_DATE</th>\n",
       "      <th>Field</th>\n",
       "    </tr>\n",
       "  </thead>\n",
       "  <tbody>\n",
       "    <tr>\n",
       "      <th>0</th>\n",
       "      <td>SCHEMBL4</td>\n",
       "      <td>C[C@H](CS)C(=O)N1CCC[C@H]1C(O)=O</td>\n",
       "      <td>FAKRSMQSSFJEIM-RQJHMYQMSA-N</td>\n",
       "      <td>EP-2842582-A2</td>\n",
       "      <td>2015-03-04</td>\n",
       "      <td>Description</td>\n",
       "    </tr>\n",
       "    <tr>\n",
       "      <th>1</th>\n",
       "      <td>SCHEMBL4</td>\n",
       "      <td>C[C@H](CS)C(=O)N1CCC[C@H]1C(O)=O</td>\n",
       "      <td>FAKRSMQSSFJEIM-RQJHMYQMSA-N</td>\n",
       "      <td>EP-2838373-A2</td>\n",
       "      <td>2015-02-25</td>\n",
       "      <td>Description</td>\n",
       "    </tr>\n",
       "  </tbody>\n",
       "</table>\n",
       "</div>"
      ],
      "text/plain": [
       "  SureChEMBL_ID                            SMILES  \\\n",
       "0      SCHEMBL4  C[C@H](CS)C(=O)N1CCC[C@H]1C(O)=O   \n",
       "1      SCHEMBL4  C[C@H](CS)C(=O)N1CCC[C@H]1C(O)=O   \n",
       "\n",
       "                      InChIKey      PATENT_ID PUBLICATION_DATE        Field  \n",
       "0  FAKRSMQSSFJEIM-RQJHMYQMSA-N  EP-2842582-A2       2015-03-04  Description  \n",
       "1  FAKRSMQSSFJEIM-RQJHMYQMSA-N  EP-2838373-A2       2015-02-25  Description  "
      ]
     },
     "execution_count": 3,
     "metadata": {},
     "output_type": "execute_result"
    }
   ],
   "source": [
    "surechembl_df = pd.read_parquet(f'{DATA_DIR}/surechembl_dump.pq')\n",
    "surechembl_df.head(2)"
   ]
  },
  {
   "attachments": {},
   "cell_type": "markdown",
   "id": "83ba703c",
   "metadata": {},
   "source": [
    "# Filtering unique compounds per year"
   ]
  },
  {
   "cell_type": "code",
   "execution_count": 4,
   "id": "092e947a",
   "metadata": {},
   "outputs": [
    {
     "name": "stderr",
     "output_type": "stream",
     "text": [
      "100%|██████████| 133512452/133512452 [03:22<00:00, 659496.77it/s]\n"
     ]
    }
   ],
   "source": [
    "surechembl_df['year'] = surechembl_df['PUBLICATION_DATE'].progress_apply(lambda x: x.split('-')[0])"
   ]
  },
  {
   "cell_type": "code",
   "execution_count": 5,
   "id": "285c4969",
   "metadata": {},
   "outputs": [
    {
     "data": {
      "text/plain": [
       "(21857225, 7)"
      ]
     },
     "execution_count": 5,
     "metadata": {},
     "output_type": "execute_result"
    }
   ],
   "source": [
    "# Drop duplicate entries\n",
    "surechembl_df = surechembl_df.drop_duplicates(subset=[\"InChIKey\", \"year\"], keep='first')\n",
    "surechembl_df.shape"
   ]
  },
  {
   "attachments": {},
   "cell_type": "markdown",
   "id": "92b84d0d",
   "metadata": {},
   "source": [
    "# Calculate Fields for unique compounds per year"
   ]
  },
  {
   "cell_type": "code",
   "execution_count": 6,
   "id": "78d46905",
   "metadata": {},
   "outputs": [
    {
     "data": {
      "text/html": [
       "<div>\n",
       "<style scoped>\n",
       "    .dataframe tbody tr th:only-of-type {\n",
       "        vertical-align: middle;\n",
       "    }\n",
       "\n",
       "    .dataframe tbody tr th {\n",
       "        vertical-align: top;\n",
       "    }\n",
       "\n",
       "    .dataframe thead th {\n",
       "        text-align: right;\n",
       "    }\n",
       "</style>\n",
       "<table border=\"1\" class=\"dataframe\">\n",
       "  <thead>\n",
       "    <tr style=\"text-align: right;\">\n",
       "      <th></th>\n",
       "      <th>Field</th>\n",
       "      <th>count</th>\n",
       "    </tr>\n",
       "  </thead>\n",
       "  <tbody>\n",
       "    <tr>\n",
       "      <th>0</th>\n",
       "      <td>Image (for patents after 2007)</td>\n",
       "      <td>9400687</td>\n",
       "    </tr>\n",
       "    <tr>\n",
       "      <th>1</th>\n",
       "      <td>Description</td>\n",
       "      <td>9188916</td>\n",
       "    </tr>\n",
       "    <tr>\n",
       "      <th>2</th>\n",
       "      <td>Claims</td>\n",
       "      <td>2005059</td>\n",
       "    </tr>\n",
       "    <tr>\n",
       "      <th>3</th>\n",
       "      <td>MOL Attachment (US patents after 2007)</td>\n",
       "      <td>1239389</td>\n",
       "    </tr>\n",
       "    <tr>\n",
       "      <th>4</th>\n",
       "      <td>Abstract</td>\n",
       "      <td>17468</td>\n",
       "    </tr>\n",
       "    <tr>\n",
       "      <th>5</th>\n",
       "      <td>Title</td>\n",
       "      <td>5706</td>\n",
       "    </tr>\n",
       "  </tbody>\n",
       "</table>\n",
       "</div>"
      ],
      "text/plain": [
       "                                    Field    count\n",
       "0          Image (for patents after 2007)  9400687\n",
       "1                             Description  9188916\n",
       "2                                  Claims  2005059\n",
       "3  MOL Attachment (US patents after 2007)  1239389\n",
       "4                                Abstract    17468\n",
       "5                                   Title     5706"
      ]
     },
     "execution_count": 6,
     "metadata": {},
     "output_type": "execute_result"
    }
   ],
   "source": [
    "field_count_df = pd.DataFrame(surechembl_df['Field'].value_counts()).reset_index()\n",
    "field_count_df.rename(columns={'index': 'Field', 'Field': 'count'}, inplace=True)\n",
    "field_count_df"
   ]
  },
  {
   "cell_type": "code",
   "execution_count": 7,
   "id": "95e0e5f5",
   "metadata": {},
   "outputs": [
    {
     "name": "stderr",
     "output_type": "stream",
     "text": [
      "100%|██████████| 6/6 [00:00<00:00, 3704.12it/s]\n"
     ]
    }
   ],
   "source": [
    "rename_vals = {\n",
    "    'Image (for patents after 2007)': 'Image',\n",
    "    'MOL Attachment (US patents after 2007)': 'MOL file'\n",
    "}\n",
    "field_count_df['Field'] = field_count_df['Field'].progress_map(lambda x: rename_vals[x] if x in rename_vals else x)"
   ]
  },
  {
   "attachments": {},
   "cell_type": "markdown",
   "id": "cd881010",
   "metadata": {},
   "source": [
    "# Visualisation"
   ]
  },
  {
   "cell_type": "code",
   "execution_count": 8,
   "id": "cc63cb4f",
   "metadata": {},
   "outputs": [],
   "source": [
    "total_count = field_count_df['count'].sum()"
   ]
  },
  {
   "cell_type": "code",
   "execution_count": 9,
   "id": "6274547e",
   "metadata": {},
   "outputs": [],
   "source": [
    "sns.set_style(\"whitegrid\")"
   ]
  },
  {
   "cell_type": "code",
   "execution_count": 10,
   "id": "b067aa8e",
   "metadata": {},
   "outputs": [
    {
     "data": {
      "image/png": "[encoded data removed]",
      "text/plain": [
       "<Figure size 2000x1000 with 1 Axes>"
      ]
     },
     "metadata": {},
     "output_type": "display_data"
    }
   ],
   "source": [
    "plt.figure(figsize=(20, 10)) \n",
    "ax = sns.barplot(\n",
    "    data=field_count_df, \n",
    "    x='count', \n",
    "    y='Field',\n",
    "    orient='h', \n",
    "    color='#ffbe7d'\n",
    ")\n",
    "plt.xticks(fontsize=15)\n",
    "plt.yticks(fontsize=15)\n",
    "plt.xlabel(\"Number of compounds (in millions)\", fontsize=18)\n",
    "plt.ylabel(\"Patent section\", fontsize=18)\n",
    "\n",
    "for p in ax.patches:\n",
    "    t = (p.get_width() / total_count) * 100\n",
    "    ax.annotate(\n",
    "        \"%.2f\" % t + \"%\",\n",
    "        xy=(p.get_width(), p.get_y()+p.get_height()/2),\n",
    "        xytext=(5, 0), \n",
    "        textcoords='offset points', \n",
    "        ha=\"left\", \n",
    "        va=\"center\",\n",
    "        fontsize=15\n",
    "    )\n",
    "plt.tight_layout()\n",
    "plt.savefig(f'{FIG_DIR}/figure_3.png', dpi=400)\n",
    "plt.show()"
   ]
  },
  {
   "cell_type": "code",
   "execution_count": null,
   "id": "6c655ed0",
   "metadata": {},
   "outputs": [],
   "source": []
  }
 ],
 "metadata": {
  "kernelspec": {
   "display_name": "patent_kg",
   "language": "python",
   "name": "patent_kg"
  },
  "language_info": {
   "codemirror_mode": {
    "name": "ipython",
    "version": 3
   },
   "file_extension": ".py",
   "mimetype": "text/x-python",
   "name": "python",
   "nbconvert_exporter": "python",
   "pygments_lexer": "ipython3",
   "version": "3.9.16"
  }
 },
 "nbformat": 4,
 "nbformat_minor": 5
}
