{
 "cells": [
  {
   "attachments": {},
   "cell_type": "markdown",
   "id": "af419e78",
   "metadata": {},
   "source": [
    "# Discovering chemicals in patents by assessing their findability\n",
    " Prevalent sections in patent documents capturing compound information"
   ]
  },
  {
   "attachments": {},
   "cell_type": "markdown",
   "id": "667129b7",
   "metadata": {},
   "source": [
    "# Import Modules"
   ]
  },
  {
   "cell_type": "code",
   "execution_count": 1,
   "id": "bb0f4049",
   "metadata": {},
   "outputs": [],
   "source": [
    "import os\n",
    "from collections import defaultdict\n",
    "import pandas as pd\n",
    "from tqdm import tqdm\n",
    "import seaborn as sns\n",
    "import matplotlib.pyplot as plt\n",
    "\n",
    "tqdm.pandas()"
   ]
  },
  {
   "attachments": {},
   "cell_type": "markdown",
   "id": "c5c67e50",
   "metadata": {},
   "source": [
    "# Add path constants"
   ]
  },
  {
   "cell_type": "code",
   "execution_count": 2,
   "id": "8977c3cd",
   "metadata": {},
   "outputs": [],
   "source": [
    "FIG_DIR = \"../data/figures\"\n",
    "DATA_DIR = \"../data/raw\"\n",
    "PROCESSED_DIR = \"../data/processed\"\n",
    "os.makedirs(FIG_DIR, exist_ok=True)"
   ]
  },
  {
   "attachments": {},
   "cell_type": "markdown",
   "id": "6562df2a",
   "metadata": {},
   "source": [
    "# Load data file"
   ]
  },
  {
   "cell_type": "code",
   "execution_count": 3,
   "id": "1caa96c7",
   "metadata": {},
   "outputs": [
    {
     "data": {
      "text/html": [
       "<div>\n",
       "<style scoped>\n",
       "    .dataframe tbody tr th:only-of-type {\n",
       "        vertical-align: middle;\n",
       "    }\n",
       "\n",
       "    .dataframe tbody tr th {\n",
       "        vertical-align: top;\n",
       "    }\n",
       "\n",
       "    .dataframe thead th {\n",
       "        text-align: right;\n",
       "    }\n",
       "</style>\n",
       "<table border=\"1\" class=\"dataframe\">\n",
       "  <thead>\n",
       "    <tr style=\"text-align: right;\">\n",
       "      <th></th>\n",
       "      <th>SureChEMBL_ID</th>\n",
       "      <th>SMILES</th>\n",
       "      <th>InChIKey</th>\n",
       "      <th>PATENT_ID</th>\n",
       "      <th>PUBLICATION_DATE</th>\n",
       "      <th>Field</th>\n",
       "    </tr>\n",
       "  </thead>\n",
       "  <tbody>\n",
       "    <tr>\n",
       "      <th>0</th>\n",
       "      <td>SCHEMBL4</td>\n",
       "      <td>C[C@H](CS)C(=O)N1CCC[C@H]1C(O)=O</td>\n",
       "      <td>FAKRSMQSSFJEIM-RQJHMYQMSA-N</td>\n",
       "      <td>EP-2842582-A2</td>\n",
       "      <td>2015-03-04</td>\n",
       "      <td>Description</td>\n",
       "    </tr>\n",
       "    <tr>\n",
       "      <th>1</th>\n",
       "      <td>SCHEMBL4</td>\n",
       "      <td>C[C@H](CS)C(=O)N1CCC[C@H]1C(O)=O</td>\n",
       "      <td>FAKRSMQSSFJEIM-RQJHMYQMSA-N</td>\n",
       "      <td>EP-2838373-A2</td>\n",
       "      <td>2015-02-25</td>\n",
       "      <td>Description</td>\n",
       "    </tr>\n",
       "  </tbody>\n",
       "</table>\n",
       "</div>"
      ],
      "text/plain": [
       "  SureChEMBL_ID                            SMILES  \\\n",
       "0      SCHEMBL4  C[C@H](CS)C(=O)N1CCC[C@H]1C(O)=O   \n",
       "1      SCHEMBL4  C[C@H](CS)C(=O)N1CCC[C@H]1C(O)=O   \n",
       "\n",
       "                      InChIKey      PATENT_ID PUBLICATION_DATE        Field  \n",
       "0  FAKRSMQSSFJEIM-RQJHMYQMSA-N  EP-2842582-A2       2015-03-04  Description  \n",
       "1  FAKRSMQSSFJEIM-RQJHMYQMSA-N  EP-2838373-A2       2015-02-25  Description  "
      ]
     },
     "execution_count": 3,
     "metadata": {},
     "output_type": "execute_result"
    }
   ],
   "source": [
    "surechembl_df = pd.read_parquet(f\"{DATA_DIR}/surechembl_dump.pq\")\n",
    "surechembl_df.head(2)"
   ]
  },
  {
   "attachments": {},
   "cell_type": "markdown",
   "id": "83ba703c",
   "metadata": {},
   "source": [
    "# Filtering unique compounds per year"
   ]
  },
  {
   "cell_type": "code",
   "execution_count": 4,
   "id": "092e947a",
   "metadata": {},
   "outputs": [
    {
     "name": "stderr",
     "output_type": "stream",
     "text": [
      "100%|██████████| 133512452/133512452 [00:53<00:00, 2515821.00it/s]\n"
     ]
    }
   ],
   "source": [
    "surechembl_df[\"year\"] = surechembl_df[\"PUBLICATION_DATE\"].progress_apply(\n",
    "    lambda x: x.split(\"-\")[0]\n",
    ")"
   ]
  },
  {
   "cell_type": "code",
   "execution_count": 5,
   "id": "d00f8fdd",
   "metadata": {},
   "outputs": [
    {
     "name": "stderr",
     "output_type": "stream",
     "text": [
      "100%|██████████| 133512452/133512452 [00:55<00:00, 2387728.51it/s]\n"
     ]
    }
   ],
   "source": [
    "surechembl_df[\"country\"] = surechembl_df[\"PATENT_ID\"].progress_map(\n",
    "    lambda x: x.split(\"-\")[0]\n",
    ")"
   ]
  },
  {
   "cell_type": "markdown",
   "id": "58163632",
   "metadata": {},
   "source": [
    "# Averge annotations per compound and patents"
   ]
  },
  {
   "cell_type": "code",
   "execution_count": 6,
   "id": "d94d2202",
   "metadata": {},
   "outputs": [
    {
     "name": "stderr",
     "output_type": "stream",
     "text": [
      "100%|██████████| 133512452/133512452 [01:10<00:00, 1887562.33it/s]\n"
     ]
    }
   ],
   "source": [
    "patent_source_cmpd_dict = defaultdict(lambda: defaultdict(int))\n",
    "\n",
    "for inchikey, field in tqdm(surechembl_df[[\"InChIKey\", \"Field\"]].values):\n",
    "    patent_source_cmpd_dict[inchikey][field] += 1"
   ]
  },
  {
   "cell_type": "code",
   "execution_count": 7,
   "id": "86694304",
   "metadata": {},
   "outputs": [
    {
     "data": {
      "text/plain": [
       "31.26714741178417"
      ]
     },
     "execution_count": 7,
     "metadata": {},
     "output_type": "execute_result"
    }
   ],
   "source": [
    "compounds_with_multiple_annotations = [\n",
    "    k for k, v in patent_source_cmpd_dict.items() if len(v) > 1\n",
    "]\n",
    "\n",
    "# Average of the number of annotations per compound\n",
    "(len(compounds_with_multiple_annotations) / len(patent_source_cmpd_dict)) * 100"
   ]
  },
  {
   "cell_type": "code",
   "execution_count": 8,
   "id": "9add4a72",
   "metadata": {},
   "outputs": [
    {
     "name": "stderr",
     "output_type": "stream",
     "text": [
      "100%|██████████| 133512452/133512452 [01:15<00:00, 1761065.46it/s]\n"
     ]
    }
   ],
   "source": [
    "patent_source_pat_dict = defaultdict(lambda: defaultdict(int))\n",
    "\n",
    "for inchikey, field in tqdm(surechembl_df[[\"PATENT_ID\", \"Field\"]].values):\n",
    "    patent_source_pat_dict[inchikey][field] += 1"
   ]
  },
  {
   "cell_type": "code",
   "execution_count": 9,
   "id": "d6fd0490",
   "metadata": {},
   "outputs": [
    {
     "data": {
      "text/plain": [
       "53.6823908517835"
      ]
     },
     "execution_count": 9,
     "metadata": {},
     "output_type": "execute_result"
    }
   ],
   "source": [
    "patents_with_multiple_annotations = [\n",
    "    k for k, v in patent_source_pat_dict.items() if len(v) > 1\n",
    "]\n",
    "\n",
    "# Average of the number of annotations per patent\n",
    "(len(patents_with_multiple_annotations) / len(patent_source_pat_dict)) * 100"
   ]
  },
  {
   "cell_type": "code",
   "execution_count": 10,
   "id": "2247b98a",
   "metadata": {},
   "outputs": [
    {
     "name": "stderr",
     "output_type": "stream",
     "text": [
      "100%|██████████| 133512452/133512452 [00:56<00:00, 2370879.63it/s]\n"
     ]
    },
    {
     "data": {
      "text/plain": [
       "defaultdict(set,\n",
       "            {'EP': {'Abstract',\n",
       "              'Claims',\n",
       "              'Description',\n",
       "              'Image (for patents after 2007)',\n",
       "              'Title'},\n",
       "             'US': {'Abstract',\n",
       "              'Claims',\n",
       "              'Description',\n",
       "              'Image (for patents after 2007)',\n",
       "              'MOL Attachment (US patents after 2007)',\n",
       "              'Title'},\n",
       "             'WO': {'Abstract',\n",
       "              'Claims',\n",
       "              'Description',\n",
       "              'Image (for patents after 2007)',\n",
       "              'Title'},\n",
       "             'JP': {'Abstract', 'Title'}})"
      ]
     },
     "execution_count": 10,
     "metadata": {},
     "output_type": "execute_result"
    }
   ],
   "source": [
    "country_field_dict = defaultdict(set)\n",
    "\n",
    "for country, field_name in tqdm(surechembl_df[[\"country\", \"Field\"]].values):\n",
    "    country_field_dict[country].add(field_name)\n",
    "\n",
    "country_field_dict"
   ]
  },
  {
   "attachments": {},
   "cell_type": "markdown",
   "id": "92b84d0d",
   "metadata": {},
   "source": [
    "# Calculate Fields for unique compounds per year"
   ]
  },
  {
   "cell_type": "code",
   "execution_count": 11,
   "id": "d4aa631b",
   "metadata": {},
   "outputs": [
    {
     "name": "stderr",
     "output_type": "stream",
     "text": [
      "100%|██████████| 133512452/133512452 [00:58<00:00, 2273609.15it/s]\n"
     ]
    },
    {
     "data": {
      "text/plain": [
       "6"
      ]
     },
     "execution_count": 11,
     "metadata": {},
     "output_type": "execute_result"
    }
   ],
   "source": [
    "patent_field_dict = defaultdict(set)\n",
    "\n",
    "for inchikey, field in tqdm(surechembl_df[[\"InChIKey\", \"Field\"]].values):\n",
    "    patent_field_dict[field].add(inchikey)\n",
    "\n",
    "patent_field_dict = {i: len(j) for i, j in patent_field_dict.items()}\n",
    "\n",
    "len(patent_field_dict)"
   ]
  },
  {
   "cell_type": "code",
   "execution_count": 12,
   "id": "cf121d64",
   "metadata": {},
   "outputs": [],
   "source": [
    "field_count_df = pd.DataFrame([patent_field_dict]).T.reset_index()\n",
    "field_count_df.columns = [\"field\", \"count\"]"
   ]
  },
  {
   "cell_type": "code",
   "execution_count": 13,
   "id": "95e0e5f5",
   "metadata": {},
   "outputs": [
    {
     "name": "stderr",
     "output_type": "stream",
     "text": [
      "100%|██████████| 6/6 [00:00<00:00, 49539.02it/s]\n"
     ]
    },
    {
     "data": {
      "text/html": [
       "<div>\n",
       "<style scoped>\n",
       "    .dataframe tbody tr th:only-of-type {\n",
       "        vertical-align: middle;\n",
       "    }\n",
       "\n",
       "    .dataframe tbody tr th {\n",
       "        vertical-align: top;\n",
       "    }\n",
       "\n",
       "    .dataframe thead th {\n",
       "        text-align: right;\n",
       "    }\n",
       "</style>\n",
       "<table border=\"1\" class=\"dataframe\">\n",
       "  <thead>\n",
       "    <tr style=\"text-align: right;\">\n",
       "      <th></th>\n",
       "      <th>field</th>\n",
       "      <th>count</th>\n",
       "    </tr>\n",
       "  </thead>\n",
       "  <tbody>\n",
       "    <tr>\n",
       "      <th>2</th>\n",
       "      <td>Image</td>\n",
       "      <td>7394262</td>\n",
       "    </tr>\n",
       "    <tr>\n",
       "      <th>0</th>\n",
       "      <td>Description</td>\n",
       "      <td>4319877</td>\n",
       "    </tr>\n",
       "    <tr>\n",
       "      <th>4</th>\n",
       "      <td>MOL file</td>\n",
       "      <td>2303403</td>\n",
       "    </tr>\n",
       "    <tr>\n",
       "      <th>1</th>\n",
       "      <td>Claims</td>\n",
       "      <td>1325618</td>\n",
       "    </tr>\n",
       "    <tr>\n",
       "      <th>3</th>\n",
       "      <td>Abstract</td>\n",
       "      <td>31316</td>\n",
       "    </tr>\n",
       "    <tr>\n",
       "      <th>5</th>\n",
       "      <td>Title</td>\n",
       "      <td>11196</td>\n",
       "    </tr>\n",
       "  </tbody>\n",
       "</table>\n",
       "</div>"
      ],
      "text/plain": [
       "         field    count\n",
       "2        Image  7394262\n",
       "0  Description  4319877\n",
       "4     MOL file  2303403\n",
       "1       Claims  1325618\n",
       "3     Abstract    31316\n",
       "5        Title    11196"
      ]
     },
     "execution_count": 13,
     "metadata": {},
     "output_type": "execute_result"
    }
   ],
   "source": [
    "rename_vals = {\n",
    "    \"Image (for patents after 2007)\": \"Image\",\n",
    "    \"MOL Attachment (US patents after 2007)\": \"MOL file\",\n",
    "}\n",
    "field_count_df[\"field\"] = field_count_df[\"field\"].progress_map(\n",
    "    lambda x: rename_vals[x] if x in rename_vals else x\n",
    ")\n",
    "field_count_df.sort_values(\"count\", ascending=False, inplace=True)\n",
    "field_count_df"
   ]
  },
  {
   "cell_type": "markdown",
   "id": "0e54df33",
   "metadata": {},
   "source": [
    "# Normalizing counts in percentages"
   ]
  },
  {
   "cell_type": "code",
   "execution_count": 14,
   "id": "efe9118d",
   "metadata": {},
   "outputs": [
    {
     "name": "stderr",
     "output_type": "stream",
     "text": [
      "100%|██████████| 6/6 [00:00<00:00, 51254.22it/s]\n"
     ]
    }
   ],
   "source": [
    "total_count = field_count_df[\"count\"].sum()\n",
    "field_count_df[\"percentage\"] = field_count_df[\"count\"].progress_map(\n",
    "    lambda x: (x / total_count) * 100\n",
    ")"
   ]
  },
  {
   "attachments": {},
   "cell_type": "markdown",
   "id": "cd881010",
   "metadata": {},
   "source": [
    "# Visualisation"
   ]
  },
  {
   "cell_type": "code",
   "execution_count": 15,
   "id": "6274547e",
   "metadata": {},
   "outputs": [],
   "source": [
    "sns.set_style(\"whitegrid\")"
   ]
  },
  {
   "cell_type": "code",
   "execution_count": 16,
   "id": "44bee611",
   "metadata": {},
   "outputs": [],
   "source": [
    "custom_palette = {\n",
    "    \"Image\": \"#ffbe7d\",\n",
    "    \"Description\": \"#7dbeff\",\n",
    "    \"MOL file\": \"#ffbe7d\",\n",
    "    \"Claims\": \"#7dbeff\",\n",
    "    \"Abstract\": \"#7dbeff\",\n",
    "    \"Title\": \"#7dbeff\",\n",
    "}"
   ]
  },
  {
   "cell_type": "code",
   "execution_count": 17,
   "id": "b067aa8e",
   "metadata": {},
   "outputs": [
    {
     "data": {
      "image/png": "[encoded data removed]",
      "text/plain": [
       "<Figure size 1500x800 with 1 Axes>"
      ]
     },
     "metadata": {},
     "output_type": "display_data"
    }
   ],
   "source": [
    "plt.figure(figsize=(15, 8))\n",
    "\n",
    "ax2 = sns.barplot(\n",
    "    data=field_count_df,\n",
    "    x=\"field\",\n",
    "    y=\"percentage\",\n",
    "    palette=[custom_palette[i] for i in field_count_df[\"field\"].values],\n",
    "    hue=\"field\",\n",
    "    legend=False,\n",
    ")\n",
    "plt.xticks(fontsize=18)\n",
    "plt.yticks(fontsize=18)\n",
    "plt.ylabel(\"Percentage of unique compounds\", fontsize=20)\n",
    "plt.xlabel(\"Annotation source\", fontsize=20)\n",
    "plt.ylim(0, 100)\n",
    "\n",
    "for k in ax2.patches:\n",
    "    tm = k.get_height()\n",
    "    ax2.annotate(\n",
    "        \"%.2f\" % tm + \"%\",\n",
    "        xy=(k.get_x() + k.get_width() / 2, k.get_height()),\n",
    "        xytext=(0, 8),\n",
    "        textcoords=\"offset points\",\n",
    "        ha=\"center\",\n",
    "        va=\"center\",\n",
    "        fontsize=18,\n",
    "    )\n",
    "\n",
    "plt.tight_layout()\n",
    "plt.savefig(f\"{FIG_DIR}/figure_3.png\", dpi=400)\n",
    "plt.show()"
   ]
  },
  {
   "cell_type": "code",
   "execution_count": null,
   "id": "8add12be",
   "metadata": {},
   "outputs": [],
   "source": []
  }
 ],
 "metadata": {
  "kernelspec": {
   "display_name": "patent",
   "language": "python",
   "name": "python3"
  },
  "language_info": {
   "codemirror_mode": {
    "name": "ipython",
    "version": 3
   },
   "file_extension": ".py",
   "mimetype": "text/x-python",
   "name": "python",
   "nbconvert_exporter": "python",
   "pygments_lexer": "ipython3",
   "version": "3.9.18"
  }
 },
 "nbformat": 4,
 "nbformat_minor": 5
}
