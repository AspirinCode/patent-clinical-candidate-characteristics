{
 "cells": [
  {
   "attachments": {},
   "cell_type": "markdown",
   "id": "2bd02aa9",
   "metadata": {},
   "source": [
    "# Cross-resource comparison of compounds in patents\n",
    "This notebook has the distribution of patented compounds across three major chemical resources namely PubChem, ChEMBL, and DrugBank data resources.\n",
    "\n",
    "The files used below were downloaded from the [FTP servers](https://ftp.ncbi.nlm.nih.gov/pubchem/Compound/Extras/) of PubChem."
   ]
  },
  {
   "attachments": {},
   "cell_type": "markdown",
   "id": "561a57f7",
   "metadata": {},
   "source": [
    "# Import Modules"
   ]
  },
  {
   "cell_type": "code",
   "execution_count": 1,
   "id": "03c9f7b5",
   "metadata": {},
   "outputs": [],
   "source": [
    "import os\n",
    "import pandas as pd\n",
    "import matplotlib.pyplot as plt\n",
    "import seaborn as sns\n",
    "\n",
    "from upsetplot import plot\n",
    "\n",
    "sns.set_style(\"whitegrid\")\n",
    "\n",
    "pd.options.mode.chained_assignment = None  # default='warn'"
   ]
  },
  {
   "attachments": {},
   "cell_type": "markdown",
   "id": "c2953d1f",
   "metadata": {},
   "source": [
    "# Add path constants"
   ]
  },
  {
   "cell_type": "code",
   "execution_count": 2,
   "id": "5650e647",
   "metadata": {},
   "outputs": [],
   "source": [
    "FIG_DIR = \"../data/figures\"\n",
    "DATA_DIR = \"../data/raw\"\n",
    "PROCESSED_DIR = \"../data/processed\"\n",
    "os.makedirs(FIG_DIR, exist_ok=True)"
   ]
  },
  {
   "attachments": {},
   "cell_type": "markdown",
   "id": "5b9049f5",
   "metadata": {},
   "source": [
    "# Load data file"
   ]
  },
  {
   "cell_type": "code",
   "execution_count": 3,
   "id": "1dff519e",
   "metadata": {},
   "outputs": [
    {
     "data": {
      "text/html": [
       "<div>\n",
       "<style scoped>\n",
       "    .dataframe tbody tr th:only-of-type {\n",
       "        vertical-align: middle;\n",
       "    }\n",
       "\n",
       "    .dataframe tbody tr th {\n",
       "        vertical-align: top;\n",
       "    }\n",
       "\n",
       "    .dataframe thead th {\n",
       "        text-align: right;\n",
       "    }\n",
       "</style>\n",
       "<table border=\"1\" class=\"dataframe\">\n",
       "  <thead>\n",
       "    <tr style=\"text-align: right;\">\n",
       "      <th></th>\n",
       "      <th>SureChEMBL_ID</th>\n",
       "      <th>SMILES</th>\n",
       "      <th>InChIKey</th>\n",
       "      <th>PATENT_ID</th>\n",
       "      <th>PUBLICATION_DATE</th>\n",
       "      <th>Field</th>\n",
       "    </tr>\n",
       "  </thead>\n",
       "  <tbody>\n",
       "    <tr>\n",
       "      <th>0</th>\n",
       "      <td>SCHEMBL4</td>\n",
       "      <td>C[C@H](CS)C(=O)N1CCC[C@H]1C(O)=O</td>\n",
       "      <td>FAKRSMQSSFJEIM-RQJHMYQMSA-N</td>\n",
       "      <td>EP-2842582-A2</td>\n",
       "      <td>2015-03-04</td>\n",
       "      <td>Description</td>\n",
       "    </tr>\n",
       "    <tr>\n",
       "      <th>1757</th>\n",
       "      <td>SCHEMBL9</td>\n",
       "      <td>O=C(O)\\C=C/C(=O)O.CCOC(=O)[C@H](CCC1=CC=CC=C1)...</td>\n",
       "      <td>OYFJQPXVCSSHAI-QFPUQLAESA-N</td>\n",
       "      <td>EP-2838373-A2</td>\n",
       "      <td>2015-02-25</td>\n",
       "      <td>Description</td>\n",
       "    </tr>\n",
       "  </tbody>\n",
       "</table>\n",
       "</div>"
      ],
      "text/plain": [
       "     SureChEMBL_ID                                             SMILES  \\\n",
       "0         SCHEMBL4                   C[C@H](CS)C(=O)N1CCC[C@H]1C(O)=O   \n",
       "1757      SCHEMBL9  O=C(O)\\C=C/C(=O)O.CCOC(=O)[C@H](CCC1=CC=CC=C1)...   \n",
       "\n",
       "                         InChIKey      PATENT_ID PUBLICATION_DATE        Field  \n",
       "0     FAKRSMQSSFJEIM-RQJHMYQMSA-N  EP-2842582-A2       2015-03-04  Description  \n",
       "1757  OYFJQPXVCSSHAI-QFPUQLAESA-N  EP-2838373-A2       2015-02-25  Description  "
      ]
     },
     "execution_count": 3,
     "metadata": {},
     "output_type": "execute_result"
    }
   ],
   "source": [
    "# SureChEMBL\n",
    "surechem_df = pd.read_parquet(f\"{DATA_DIR}/surechembl_dump.pq\")\n",
    "surechem_df.drop_duplicates(subset=[\"InChIKey\"], inplace=True)\n",
    "surechem_df.head(2)"
   ]
  },
  {
   "cell_type": "code",
   "execution_count": 4,
   "id": "be2d9e48",
   "metadata": {},
   "outputs": [
    {
     "data": {
      "text/plain": [
       "10686744"
      ]
     },
     "execution_count": 4,
     "metadata": {},
     "output_type": "execute_result"
    }
   ],
   "source": [
    "surechembl_cpds = set(surechem_df[\"InChIKey\"].unique().tolist())\n",
    "len(surechembl_cpds)"
   ]
  },
  {
   "cell_type": "code",
   "execution_count": 5,
   "id": "fd13d1a7",
   "metadata": {},
   "outputs": [
    {
     "data": {
      "text/html": [
       "<div>\n",
       "<style scoped>\n",
       "    .dataframe tbody tr th:only-of-type {\n",
       "        vertical-align: middle;\n",
       "    }\n",
       "\n",
       "    .dataframe tbody tr th {\n",
       "        vertical-align: top;\n",
       "    }\n",
       "\n",
       "    .dataframe thead th {\n",
       "        text-align: right;\n",
       "    }\n",
       "</style>\n",
       "<table border=\"1\" class=\"dataframe\">\n",
       "  <thead>\n",
       "    <tr style=\"text-align: right;\">\n",
       "      <th></th>\n",
       "      <th>cid</th>\n",
       "      <th>inchi</th>\n",
       "      <th>inchikey</th>\n",
       "    </tr>\n",
       "  </thead>\n",
       "  <tbody>\n",
       "    <tr>\n",
       "      <th>0</th>\n",
       "      <td>1</td>\n",
       "      <td>InChI=1S/C9H17NO4/c1-7(11)14-8(5-9(12)13)6-10(...</td>\n",
       "      <td>RDHQFKQIGNGIED-UHFFFAOYSA-N</td>\n",
       "    </tr>\n",
       "    <tr>\n",
       "      <th>1</th>\n",
       "      <td>2</td>\n",
       "      <td>InChI=1S/C9H17NO4/c1-7(11)14-8(5-9(12)13)6-10(...</td>\n",
       "      <td>RDHQFKQIGNGIED-UHFFFAOYSA-O</td>\n",
       "    </tr>\n",
       "  </tbody>\n",
       "</table>\n",
       "</div>"
      ],
      "text/plain": [
       "   cid                                              inchi  \\\n",
       "0    1  InChI=1S/C9H17NO4/c1-7(11)14-8(5-9(12)13)6-10(...   \n",
       "1    2  InChI=1S/C9H17NO4/c1-7(11)14-8(5-9(12)13)6-10(...   \n",
       "\n",
       "                      inchikey  \n",
       "0  RDHQFKQIGNGIED-UHFFFAOYSA-N  \n",
       "1  RDHQFKQIGNGIED-UHFFFAOYSA-O  "
      ]
     },
     "execution_count": 5,
     "metadata": {},
     "output_type": "execute_result"
    }
   ],
   "source": [
    "# PubChem\n",
    "pubchem_df = pd.read_parquet(f\"{PROCESSED_DIR}/surechembl_pubchem_map.pq.gzip\")\n",
    "pubchem_df = pubchem_df[pubchem_df[\"inchikey\"].isin(surechembl_cpds)]\n",
    "pubchem_df.head(2)"
   ]
  },
  {
   "cell_type": "code",
   "execution_count": 6,
   "id": "45a0e02c",
   "metadata": {},
   "outputs": [
    {
     "data": {
      "text/html": [
       "<div>\n",
       "<style scoped>\n",
       "    .dataframe tbody tr th:only-of-type {\n",
       "        vertical-align: middle;\n",
       "    }\n",
       "\n",
       "    .dataframe tbody tr th {\n",
       "        vertical-align: top;\n",
       "    }\n",
       "\n",
       "    .dataframe thead th {\n",
       "        text-align: right;\n",
       "    }\n",
       "</style>\n",
       "<table border=\"1\" class=\"dataframe\">\n",
       "  <thead>\n",
       "    <tr style=\"text-align: right;\">\n",
       "      <th></th>\n",
       "      <th>chembl_id</th>\n",
       "      <th>clinical_phase</th>\n",
       "      <th>inchikey</th>\n",
       "    </tr>\n",
       "  </thead>\n",
       "  <tbody>\n",
       "    <tr>\n",
       "      <th>12</th>\n",
       "      <td>CHEMBL6206</td>\n",
       "      <td>NaN</td>\n",
       "      <td>BYUCSFWXCMTYOI-ZRDIBKRKSA-N</td>\n",
       "    </tr>\n",
       "    <tr>\n",
       "      <th>24</th>\n",
       "      <td>CHEMBL6354</td>\n",
       "      <td>NaN</td>\n",
       "      <td>CKEYKKQODPYQPS-UHFFFAOYSA-P</td>\n",
       "    </tr>\n",
       "  </tbody>\n",
       "</table>\n",
       "</div>"
      ],
      "text/plain": [
       "     chembl_id  clinical_phase                     inchikey\n",
       "12  CHEMBL6206             NaN  BYUCSFWXCMTYOI-ZRDIBKRKSA-N\n",
       "24  CHEMBL6354             NaN  CKEYKKQODPYQPS-UHFFFAOYSA-P"
      ]
     },
     "execution_count": 6,
     "metadata": {},
     "output_type": "execute_result"
    }
   ],
   "source": [
    "# ChEMBL\n",
    "chembl_df = pd.read_parquet(f\"{PROCESSED_DIR}/chembl.pq.gzip\")\n",
    "chembl_df = chembl_df[chembl_df[\"inchikey\"].isin(surechembl_cpds)]\n",
    "chembl_df.head(2)"
   ]
  },
  {
   "cell_type": "code",
   "execution_count": 7,
   "id": "40fdafeb",
   "metadata": {},
   "outputs": [
    {
     "data": {
      "text/html": [
       "<div>\n",
       "<style scoped>\n",
       "    .dataframe tbody tr th:only-of-type {\n",
       "        vertical-align: middle;\n",
       "    }\n",
       "\n",
       "    .dataframe tbody tr th {\n",
       "        vertical-align: top;\n",
       "    }\n",
       "\n",
       "    .dataframe thead th {\n",
       "        text-align: right;\n",
       "    }\n",
       "</style>\n",
       "<table border=\"1\" class=\"dataframe\">\n",
       "  <thead>\n",
       "    <tr style=\"text-align: right;\">\n",
       "      <th></th>\n",
       "      <th>DrugBank ID</th>\n",
       "      <th>Name</th>\n",
       "      <th>CAS Number</th>\n",
       "      <th>Drug Groups</th>\n",
       "      <th>InChIKey</th>\n",
       "      <th>InChI</th>\n",
       "      <th>SMILES</th>\n",
       "      <th>Formula</th>\n",
       "      <th>KEGG Compound ID</th>\n",
       "      <th>KEGG Drug ID</th>\n",
       "      <th>PubChem Compound ID</th>\n",
       "      <th>PubChem Substance ID</th>\n",
       "      <th>ChEBI ID</th>\n",
       "      <th>ChEMBL ID</th>\n",
       "      <th>HET ID</th>\n",
       "      <th>ChemSpider ID</th>\n",
       "      <th>BindingDB ID</th>\n",
       "    </tr>\n",
       "  </thead>\n",
       "  <tbody>\n",
       "    <tr>\n",
       "      <th>0</th>\n",
       "      <td>DB00006</td>\n",
       "      <td>Bivalirudin</td>\n",
       "      <td>128270-60-0</td>\n",
       "      <td>approved; investigational</td>\n",
       "      <td>OIRCOABEOLEUMC-GEJPAHFPSA-N</td>\n",
       "      <td>InChI=1S/C98H138N24O33/c1-5-52(4)82(96(153)122...</td>\n",
       "      <td>CC[C@H](C)[C@H](NC(=O)[C@H](CCC(O)=O)NC(=O)[C@...</td>\n",
       "      <td>C98H138N24O33</td>\n",
       "      <td>NaN</td>\n",
       "      <td>D03136</td>\n",
       "      <td>16129704.0</td>\n",
       "      <td>46507415.0</td>\n",
       "      <td>59173.0</td>\n",
       "      <td>CHEMBL2103749</td>\n",
       "      <td>NaN</td>\n",
       "      <td>10482069.0</td>\n",
       "      <td>50248103.0</td>\n",
       "    </tr>\n",
       "    <tr>\n",
       "      <th>1</th>\n",
       "      <td>DB00007</td>\n",
       "      <td>Leuprolide</td>\n",
       "      <td>53714-56-0</td>\n",
       "      <td>approved; investigational</td>\n",
       "      <td>GFIJNRVAKGFPGQ-LIJARHBVSA-N</td>\n",
       "      <td>InChI=1S/C59H84N16O12/c1-6-63-57(86)48-14-10-2...</td>\n",
       "      <td>CCNC(=O)[C@@H]1CCCN1C(=O)[C@H](CCCNC(N)=N)NC(=...</td>\n",
       "      <td>C59H84N16O12</td>\n",
       "      <td>C07612</td>\n",
       "      <td>D08113</td>\n",
       "      <td>NaN</td>\n",
       "      <td>46507635.0</td>\n",
       "      <td>6427.0</td>\n",
       "      <td>CHEMBL1201199</td>\n",
       "      <td>NaN</td>\n",
       "      <td>571356.0</td>\n",
       "      <td>50369395.0</td>\n",
       "    </tr>\n",
       "  </tbody>\n",
       "</table>\n",
       "</div>"
      ],
      "text/plain": [
       "  DrugBank ID         Name   CAS Number                Drug Groups  \\\n",
       "0     DB00006  Bivalirudin  128270-60-0  approved; investigational   \n",
       "1     DB00007   Leuprolide   53714-56-0  approved; investigational   \n",
       "\n",
       "                      InChIKey  \\\n",
       "0  OIRCOABEOLEUMC-GEJPAHFPSA-N   \n",
       "1  GFIJNRVAKGFPGQ-LIJARHBVSA-N   \n",
       "\n",
       "                                               InChI  \\\n",
       "0  InChI=1S/C98H138N24O33/c1-5-52(4)82(96(153)122...   \n",
       "1  InChI=1S/C59H84N16O12/c1-6-63-57(86)48-14-10-2...   \n",
       "\n",
       "                                              SMILES        Formula  \\\n",
       "0  CC[C@H](C)[C@H](NC(=O)[C@H](CCC(O)=O)NC(=O)[C@...  C98H138N24O33   \n",
       "1  CCNC(=O)[C@@H]1CCCN1C(=O)[C@H](CCCNC(N)=N)NC(=...   C59H84N16O12   \n",
       "\n",
       "  KEGG Compound ID KEGG Drug ID  PubChem Compound ID  PubChem Substance ID  \\\n",
       "0              NaN       D03136           16129704.0            46507415.0   \n",
       "1           C07612       D08113                  NaN            46507635.0   \n",
       "\n",
       "   ChEBI ID      ChEMBL ID HET ID  ChemSpider ID  BindingDB ID  \n",
       "0   59173.0  CHEMBL2103749    NaN     10482069.0    50248103.0  \n",
       "1    6427.0  CHEMBL1201199    NaN       571356.0    50369395.0  "
      ]
     },
     "execution_count": 7,
     "metadata": {},
     "output_type": "execute_result"
    }
   ],
   "source": [
    "drugbank_df = pd.read_csv(f\"{DATA_DIR}/drugbank_approved_structure_links.csv.zip\")\n",
    "drugbank_df = drugbank_df[drugbank_df[\"InChIKey\"].isin(surechembl_cpds)]\n",
    "drugbank_df.head(2)"
   ]
  },
  {
   "attachments": {},
   "cell_type": "markdown",
   "id": "ab320fbe",
   "metadata": {},
   "source": [
    "# Get unique compounds"
   ]
  },
  {
   "cell_type": "code",
   "execution_count": 8,
   "id": "64036024",
   "metadata": {},
   "outputs": [
    {
     "name": "stdout",
     "output_type": "stream",
     "text": [
      "PubChem: 10089885\n",
      "ChEMBL: 318139\n",
      "DrugBank: 2096\n"
     ]
    }
   ],
   "source": [
    "# Pubchem\n",
    "pubchem_cpds = set(pubchem_df[\"inchikey\"].tolist())\n",
    "chembl_cpds = set(chembl_df[\"inchikey\"].tolist())\n",
    "drugbank_cpds = set(drugbank_df[\"InChIKey\"].tolist())\n",
    "\n",
    "print(f\"PubChem: {len(pubchem_cpds)}\")\n",
    "print(f\"ChEMBL: {len(chembl_cpds)}\")\n",
    "print(f\"DrugBank: {len(drugbank_cpds)}\")"
   ]
  },
  {
   "attachments": {},
   "cell_type": "markdown",
   "id": "f6b8938d",
   "metadata": {},
   "source": [
    "# Visualisation"
   ]
  },
  {
   "cell_type": "code",
   "execution_count": 9,
   "id": "00c5ff0b",
   "metadata": {},
   "outputs": [],
   "source": [
    "set_names = [\"SureChEMBL\", \"ChEMBL\", \"PubChem\", \"DrugBank\"]\n",
    "all_elems = surechembl_cpds.union(chembl_cpds, pubchem_cpds, drugbank_cpds)\n",
    "df = pd.DataFrame(\n",
    "    [\n",
    "        [e in surechembl_cpds, e in chembl_cpds, e in pubchem_cpds, e in drugbank_cpds]\n",
    "        for e in all_elems\n",
    "    ],\n",
    "    columns=set_names,\n",
    ")\n",
    "df_up = df.groupby(set_names).size()"
   ]
  },
  {
   "cell_type": "code",
   "execution_count": 10,
   "id": "972af206",
   "metadata": {},
   "outputs": [
    {
     "data": {
      "image/png": "[encoded data removed]",
      "text/plain": [
       "<Figure size 1166.67x972.222 with 4 Axes>"
      ]
     },
     "metadata": {},
     "output_type": "display_data"
    }
   ],
   "source": [
    "fig = plt.figure(figsize=(10, 5))\n",
    "plot(\n",
    "    df_up,\n",
    "    orientation=\"horizontal\",\n",
    "    show_percentages=\"{:.2%}\",\n",
    "    element_size=70,\n",
    "    sort_by=\"cardinality\",\n",
    "    fig=fig,\n",
    ")\n",
    "plt.savefig(f\"{FIG_DIR}/figure_3a.png\", dpi=400)\n",
    "plt.show()"
   ]
  },
  {
   "attachments": {},
   "cell_type": "markdown",
   "id": "1333a41a",
   "metadata": {},
   "source": [
    "# Overview on the overlap"
   ]
  },
  {
   "cell_type": "code",
   "execution_count": 11,
   "id": "0eac9626",
   "metadata": {},
   "outputs": [
    {
     "name": "stdout",
     "output_type": "stream",
     "text": [
      "Total compounds: 10686744\n",
      "PubChem overlap: 10089885 (94.41%)\n",
      "ChEMBL overlap: 318139 (2.98%)\n",
      "DrugBank overlap: 2096 (0.02%)\n",
      "SureChEMBL only: 585104 (5.48%)\n"
     ]
    }
   ],
   "source": [
    "total_compounds = len(surechembl_cpds)\n",
    "print(f\"Total compounds: {total_compounds}\")\n",
    "\n",
    "pubchem_overlap = len(surechembl_cpds.intersection(pubchem_cpds))\n",
    "print(f\"PubChem overlap: {pubchem_overlap} ({pubchem_overlap/total_compounds:.2%})\")\n",
    "\n",
    "chembl_overlap = len(surechembl_cpds.intersection(chembl_cpds))\n",
    "print(f\"ChEMBL overlap: {chembl_overlap} ({chembl_overlap/total_compounds:.2%})\")\n",
    "\n",
    "drugbank_overlap = len(surechembl_cpds.intersection(drugbank_cpds))\n",
    "print(f\"DrugBank overlap: {drugbank_overlap} ({drugbank_overlap/total_compounds:.2%})\")\n",
    "\n",
    "surechembl_only = len(\n",
    "    surechembl_cpds.difference(pubchem_cpds.union(chembl_cpds).union(drugbank_cpds))\n",
    ")\n",
    "print(f\"SureChEMBL only: {surechembl_only} ({surechembl_only/total_compounds:.2%})\")"
   ]
  },
  {
   "cell_type": "markdown",
   "id": "3d26db20",
   "metadata": {},
   "source": [
    "### Inspection of SureChEMBL only compounds"
   ]
  },
  {
   "cell_type": "code",
   "execution_count": 12,
   "id": "ee3e2e95",
   "metadata": {},
   "outputs": [
    {
     "data": {
      "text/plain": [
       "585104"
      ]
     },
     "execution_count": 12,
     "metadata": {},
     "output_type": "execute_result"
    }
   ],
   "source": [
    "surechembl_only_cmpds = surechembl_cpds.difference(\n",
    "    pubchem_cpds.union(chembl_cpds).union(drugbank_cpds)\n",
    ")\n",
    "len(surechembl_only_cmpds)"
   ]
  },
  {
   "cell_type": "code",
   "execution_count": 13,
   "id": "df8bc7b1",
   "metadata": {},
   "outputs": [],
   "source": [
    "surechembl_only_df = surechem_df[surechem_df[\"InChIKey\"].isin(surechembl_only_cmpds)]\n",
    "surechembl_only_df.drop_duplicates(subset=[\"InChIKey\"], inplace=True)"
   ]
  },
  {
   "cell_type": "code",
   "execution_count": 14,
   "id": "10fb08c6",
   "metadata": {},
   "outputs": [],
   "source": [
    "surechembl_only_df[\"country\"] = surechembl_only_df[\"PATENT_ID\"].str.split(\"-\").str[0]\n",
    "surechembl_only_df[\"year\"] = (\n",
    "    surechembl_only_df[\"PUBLICATION_DATE\"].str.split(\"-\").str[0]\n",
    ")"
   ]
  },
  {
   "cell_type": "code",
   "execution_count": 15,
   "id": "0cc2de24",
   "metadata": {},
   "outputs": [
    {
     "data": {
      "text/plain": [
       "country\n",
       "US    0.501475\n",
       "WO    0.251933\n",
       "EP    0.246592\n",
       "Name: proportion, dtype: float64"
      ]
     },
     "execution_count": 15,
     "metadata": {},
     "output_type": "execute_result"
    }
   ],
   "source": [
    "# convert value counts to percentages\n",
    "surechembl_only_df[\"country\"].value_counts(normalize=True)"
   ]
  },
  {
   "cell_type": "code",
   "execution_count": 16,
   "id": "e5718d52",
   "metadata": {},
   "outputs": [
    {
     "data": {
      "image/png": "[encoded data removed]",
      "text/plain": [
       "<Figure size 1500x800 with 1 Axes>"
      ]
     },
     "metadata": {},
     "output_type": "display_data"
    }
   ],
   "source": [
    "plt.figure(figsize=(15, 8))\n",
    "sns.countplot(x=\"year\", data=surechembl_only_df, color=\"#ffbe7d\")\n",
    "plt.xlabel(\"Application year\", fontsize=18)\n",
    "plt.ylabel(\"Number of compounds\", fontsize=18)\n",
    "plt.xticks(\n",
    "    rotation=35,\n",
    ")\n",
    "plt.xticks(rotation=45, fontsize=15)\n",
    "plt.yticks(fontsize=15)\n",
    "plt.savefig(f\"{FIG_DIR}/figure_3b.png\", dpi=400)\n",
    "plt.show()"
   ]
  },
  {
   "cell_type": "code",
   "execution_count": null,
   "id": "13479b13",
   "metadata": {},
   "outputs": [],
   "source": []
  }
 ],
 "metadata": {
  "kernelspec": {
   "display_name": "patent",
   "language": "python",
   "name": "python3"
  },
  "language_info": {
   "codemirror_mode": {
    "name": "ipython",
    "version": 3
   },
   "file_extension": ".py",
   "mimetype": "text/x-python",
   "name": "python",
   "nbconvert_exporter": "python",
   "pygments_lexer": "ipython3",
   "version": "3.9.18"
  }
 },
 "nbformat": 4,
 "nbformat_minor": 5
}
