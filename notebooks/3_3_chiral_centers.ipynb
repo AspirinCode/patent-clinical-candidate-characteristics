{
 "cells": [
  {
   "cell_type": "markdown",
   "id": "14e658ac",
   "metadata": {},
   "source": [
    "# Overview on the chiral centers for compounds found in patents\n",
    "This notebook calculates the distribution of chiral centers for compounds found in patent documents."
   ]
  },
  {
   "cell_type": "markdown",
   "id": "cd18031f",
   "metadata": {},
   "source": [
    "# Import Modules"
   ]
  },
  {
   "cell_type": "code",
   "execution_count": 1,
   "id": "5e64548f",
   "metadata": {},
   "outputs": [],
   "source": [
    "import json\n",
    "import pandas as pd\n",
    "from tqdm import tqdm\n",
    "import seaborn as sns\n",
    "import matplotlib.pyplot as plt\n",
    "\n",
    "tqdm.pandas()"
   ]
  },
  {
   "cell_type": "markdown",
   "id": "41ad219b",
   "metadata": {},
   "source": [
    "# Add path constants"
   ]
  },
  {
   "cell_type": "code",
   "execution_count": 2,
   "id": "3140f909",
   "metadata": {},
   "outputs": [],
   "source": [
    "DATA_DIR = '../data'\n",
    "FIGURE_DIR = '../data/figures'"
   ]
  },
  {
   "cell_type": "markdown",
   "id": "657e1a9b",
   "metadata": {},
   "source": [
    "# Load properties data dump"
   ]
  },
  {
   "cell_type": "code",
   "execution_count": 3,
   "id": "6f29a815",
   "metadata": {},
   "outputs": [],
   "source": [
    "properties_dict = json.load(open(f'{DATA_DIR}/properties.json'))"
   ]
  },
  {
   "cell_type": "code",
   "execution_count": 4,
   "id": "adb0c015",
   "metadata": {},
   "outputs": [
    {
     "data": {
      "text/html": [
       "<div>\n",
       "<style scoped>\n",
       "    .dataframe tbody tr th:only-of-type {\n",
       "        vertical-align: middle;\n",
       "    }\n",
       "\n",
       "    .dataframe tbody tr th {\n",
       "        vertical-align: top;\n",
       "    }\n",
       "\n",
       "    .dataframe thead th {\n",
       "        text-align: right;\n",
       "    }\n",
       "</style>\n",
       "<table border=\"1\" class=\"dataframe\">\n",
       "  <thead>\n",
       "    <tr style=\"text-align: right;\">\n",
       "      <th></th>\n",
       "      <th>SMILES</th>\n",
       "    </tr>\n",
       "  </thead>\n",
       "  <tbody>\n",
       "    <tr>\n",
       "      <th>0</th>\n",
       "      <td>C[C@H](CS)C(=O)N1CCC[C@H]1C(O)=O</td>\n",
       "    </tr>\n",
       "    <tr>\n",
       "      <th>1</th>\n",
       "      <td>O=C(O)\\C=C/C(=O)O.CCOC(=O)[C@H](CCC1=CC=CC=C1)...</td>\n",
       "    </tr>\n",
       "  </tbody>\n",
       "</table>\n",
       "</div>"
      ],
      "text/plain": [
       "                                              SMILES\n",
       "0                   C[C@H](CS)C(=O)N1CCC[C@H]1C(O)=O\n",
       "1  O=C(O)\\C=C/C(=O)O.CCOC(=O)[C@H](CCC1=CC=CC=C1)..."
      ]
     },
     "execution_count": 4,
     "metadata": {},
     "output_type": "execute_result"
    }
   ],
   "source": [
    "properties_df = pd.DataFrame(properties_dict)\n",
    "properties_df = properties_df.T\n",
    "properties_df.reset_index(inplace=True)\n",
    "properties_df.rename(columns={'index': 'SMILES'}, inplace=True)\n",
    "properties_df = properties_df[['SMILES']]\n",
    "properties_df.head(2)"
   ]
  },
  {
   "cell_type": "code",
   "execution_count": 5,
   "id": "17d6d864",
   "metadata": {},
   "outputs": [
    {
     "data": {
      "text/plain": [
       "10695979"
      ]
     },
     "execution_count": 5,
     "metadata": {},
     "output_type": "execute_result"
    }
   ],
   "source": [
    "len(properties_df)"
   ]
  },
  {
   "cell_type": "markdown",
   "id": "6454301e",
   "metadata": {},
   "source": [
    "# Removal of salts from the compound list"
   ]
  },
  {
   "cell_type": "code",
   "execution_count": 6,
   "id": "f0a090d1",
   "metadata": {},
   "outputs": [
    {
     "name": "stderr",
     "output_type": "stream",
     "text": [
      "100%|██████████| 10695979/10695979 [00:04<00:00, 2366405.74it/s]\n"
     ]
    },
    {
     "data": {
      "text/plain": [
       "328882"
      ]
     },
     "execution_count": 6,
     "metadata": {},
     "output_type": "execute_result"
    }
   ],
   "source": [
    "compounds_with_salt = set()\n",
    "\n",
    "for smile in tqdm(properties_df['SMILES'].unique()):\n",
    "    if '.' in smile:\n",
    "        compounds_with_salt.add(smile)\n",
    "\n",
    "len(compounds_with_salt)"
   ]
  },
  {
   "cell_type": "code",
   "execution_count": 7,
   "id": "1bcb2f99",
   "metadata": {},
   "outputs": [
    {
     "data": {
      "text/plain": [
       "(10367097, 1)"
      ]
     },
     "execution_count": 7,
     "metadata": {},
     "output_type": "execute_result"
    }
   ],
   "source": [
    "final_compound_df = properties_df[~properties_df['SMILES'].isin(compounds_with_salt)]\n",
    "final_compound_df.shape"
   ]
  },
  {
   "cell_type": "markdown",
   "id": "c363a740",
   "metadata": {},
   "source": [
    "# Statistical distribution of chiral compounds"
   ]
  },
  {
   "cell_type": "code",
   "execution_count": 8,
   "id": "7700bf82",
   "metadata": {},
   "outputs": [
    {
     "name": "stderr",
     "output_type": "stream",
     "text": [
      "100%|██████████| 10367097/10367097 [00:09<00:00, 1085255.26it/s]\n"
     ]
    }
   ],
   "source": [
    "chiral_count_ditc = {\n",
    "    '0': 0,\n",
    "    '1': 0,\n",
    "    '2-5': 0,\n",
    "    '6-10': 0,\n",
    "    '>10': 0\n",
    "}\n",
    "\n",
    "for smile in tqdm(final_compound_df['SMILES'].unique()):\n",
    "    chiral_count = smile.count('@')\n",
    "    if chiral_count < 1:\n",
    "        chiral_count_ditc['0'] += 1\n",
    "    elif chiral_count == 1:\n",
    "        chiral_count_ditc['1'] += 1\n",
    "    elif chiral_count < 6:\n",
    "        chiral_count_ditc['2-5'] += 1\n",
    "    elif chiral_count < 11:\n",
    "        chiral_count_ditc['6-10'] += 1\n",
    "    else:\n",
    "        chiral_count_ditc['>10'] += 1"
   ]
  },
  {
   "cell_type": "code",
   "execution_count": 9,
   "id": "ccf5018b",
   "metadata": {},
   "outputs": [
    {
     "data": {
      "text/html": [
       "<div>\n",
       "<style scoped>\n",
       "    .dataframe tbody tr th:only-of-type {\n",
       "        vertical-align: middle;\n",
       "    }\n",
       "\n",
       "    .dataframe tbody tr th {\n",
       "        vertical-align: top;\n",
       "    }\n",
       "\n",
       "    .dataframe thead th {\n",
       "        text-align: right;\n",
       "    }\n",
       "</style>\n",
       "<table border=\"1\" class=\"dataframe\">\n",
       "  <thead>\n",
       "    <tr style=\"text-align: right;\">\n",
       "      <th></th>\n",
       "      <th>chiral_center_counts</th>\n",
       "      <th>counter</th>\n",
       "    </tr>\n",
       "  </thead>\n",
       "  <tbody>\n",
       "    <tr>\n",
       "      <th>0</th>\n",
       "      <td>0</td>\n",
       "      <td>7470375</td>\n",
       "    </tr>\n",
       "    <tr>\n",
       "      <th>1</th>\n",
       "      <td>1</td>\n",
       "      <td>581084</td>\n",
       "    </tr>\n",
       "    <tr>\n",
       "      <th>2</th>\n",
       "      <td>2-5</td>\n",
       "      <td>1741474</td>\n",
       "    </tr>\n",
       "    <tr>\n",
       "      <th>3</th>\n",
       "      <td>6-10</td>\n",
       "      <td>392517</td>\n",
       "    </tr>\n",
       "    <tr>\n",
       "      <th>4</th>\n",
       "      <td>&gt;10</td>\n",
       "      <td>181647</td>\n",
       "    </tr>\n",
       "  </tbody>\n",
       "</table>\n",
       "</div>"
      ],
      "text/plain": [
       "  chiral_center_counts  counter\n",
       "0                    0  7470375\n",
       "1                    1   581084\n",
       "2                  2-5  1741474\n",
       "3                 6-10   392517\n",
       "4                  >10   181647"
      ]
     },
     "execution_count": 9,
     "metadata": {},
     "output_type": "execute_result"
    }
   ],
   "source": [
    "data = pd.DataFrame(chiral_count_ditc.values(), index=chiral_count_ditc.keys(), columns=['counter']).reset_index()\n",
    "data = data.rename(columns={'index': 'chiral_center_counts'})\n",
    "data"
   ]
  },
  {
   "cell_type": "code",
   "execution_count": 10,
   "id": "a1a3998d",
   "metadata": {},
   "outputs": [
    {
     "data": {
      "image/png": "[encoded data removed]",
      "text/plain": [
       "<Figure size 640x480 with 1 Axes>"
      ]
     },
     "metadata": {},
     "output_type": "display_data"
    }
   ],
   "source": [
    "sns.barplot(data=data, x='chiral_center_counts', y='counter', color='#27b692')\n",
    "plt.xlabel('Number of chiral centers')\n",
    "plt.ylabel('Number of molecules')\n",
    "plt.title('Distribution of chiral centers')\n",
    "plt.savefig(f'{FIGURE_DIR}/supplementary_figure_2.png', dpi=400, bbox_inches='tight')\n",
    "plt.show()"
   ]
  },
  {
   "cell_type": "code",
   "execution_count": null,
   "id": "feeb8e04",
   "metadata": {},
   "outputs": [],
   "source": []
  }
 ],
 "metadata": {
  "kernelspec": {
   "display_name": "patent_kg",
   "language": "python",
   "name": "patent_kg"
  },
  "language_info": {
   "codemirror_mode": {
    "name": "ipython",
    "version": 3
   },
   "file_extension": ".py",
   "mimetype": "text/x-python",
   "name": "python",
   "nbconvert_exporter": "python",
   "pygments_lexer": "ipython3",
   "version": "3.9.16"
  }
 },
 "nbformat": 4,
 "nbformat_minor": 5
}
