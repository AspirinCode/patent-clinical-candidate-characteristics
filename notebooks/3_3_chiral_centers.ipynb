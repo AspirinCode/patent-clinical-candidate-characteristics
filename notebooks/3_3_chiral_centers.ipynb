{
 "cells": [
  {
   "cell_type": "markdown",
   "id": "14e658ac",
   "metadata": {},
   "source": [
    "# Overview on the chiral centers for compounds found in patents\n",
    "This notebook calculates the distribution of chiral centers for compounds found in patent documents."
   ]
  },
  {
   "cell_type": "markdown",
   "id": "cd18031f",
   "metadata": {},
   "source": [
    "# Import Modules"
   ]
  },
  {
   "cell_type": "code",
   "execution_count": 1,
   "id": "5e64548f",
   "metadata": {},
   "outputs": [],
   "source": [
    "import pandas as pd\n",
    "from tqdm import tqdm\n",
    "import seaborn as sns\n",
    "import matplotlib.pyplot as plt\n",
    "\n",
    "tqdm.pandas()"
   ]
  },
  {
   "cell_type": "markdown",
   "id": "41ad219b",
   "metadata": {},
   "source": [
    "# Add path constants"
   ]
  },
  {
   "cell_type": "code",
   "execution_count": 2,
   "id": "3140f909",
   "metadata": {},
   "outputs": [],
   "source": [
    "MAPPING_DIR = \"../data/mappings/\"\n",
    "FIGURE_DIR = \"../data/figures\""
   ]
  },
  {
   "cell_type": "markdown",
   "id": "657e1a9b",
   "metadata": {},
   "source": [
    "# Load properties data dump"
   ]
  },
  {
   "cell_type": "code",
   "execution_count": 3,
   "id": "582022b3",
   "metadata": {},
   "outputs": [
    {
     "data": {
      "text/html": [
       "<div>\n",
       "<style scoped>\n",
       "    .dataframe tbody tr th:only-of-type {\n",
       "        vertical-align: middle;\n",
       "    }\n",
       "\n",
       "    .dataframe tbody tr th {\n",
       "        vertical-align: top;\n",
       "    }\n",
       "\n",
       "    .dataframe thead th {\n",
       "        text-align: right;\n",
       "    }\n",
       "</style>\n",
       "<table border=\"1\" class=\"dataframe\">\n",
       "  <thead>\n",
       "    <tr style=\"text-align: right;\">\n",
       "      <th></th>\n",
       "      <th>SMILES</th>\n",
       "      <th>mw</th>\n",
       "      <th>logp</th>\n",
       "      <th>n_hba</th>\n",
       "      <th>n_hbd</th>\n",
       "      <th>tpsa</th>\n",
       "      <th>rot_bonds</th>\n",
       "      <th>fsp3</th>\n",
       "      <th>n_ring</th>\n",
       "      <th>n_heteroatoms</th>\n",
       "      <th>n_chiral</th>\n",
       "    </tr>\n",
       "  </thead>\n",
       "  <tbody>\n",
       "    <tr>\n",
       "      <th>0</th>\n",
       "      <td>C1=C2C(c3ccc(-c4cccc5ccccc45)cc3)=NC(n3c4ccccc...</td>\n",
       "      <td>604.226312</td>\n",
       "      <td>9.5483</td>\n",
       "      <td>5</td>\n",
       "      <td>0</td>\n",
       "      <td>43.81</td>\n",
       "      <td>3</td>\n",
       "      <td>0.047619</td>\n",
       "      <td>10</td>\n",
       "      <td>5</td>\n",
       "      <td>2</td>\n",
       "    </tr>\n",
       "    <tr>\n",
       "      <th>1</th>\n",
       "      <td>C=CCOC(=O)[C@@H]1C[C@]2(C(C)Cc3ccc(OC)c(C=O)c3...</td>\n",
       "      <td>400.152203</td>\n",
       "      <td>2.6315</td>\n",
       "      <td>7</td>\n",
       "      <td>0</td>\n",
       "      <td>88.13</td>\n",
       "      <td>8</td>\n",
       "      <td>0.409091</td>\n",
       "      <td>3</td>\n",
       "      <td>7</td>\n",
       "      <td>2</td>\n",
       "    </tr>\n",
       "  </tbody>\n",
       "</table>\n",
       "</div>"
      ],
      "text/plain": [
       "                                              SMILES          mw    logp  \\\n",
       "0  C1=C2C(c3ccc(-c4cccc5ccccc45)cc3)=NC(n3c4ccccc...  604.226312  9.5483   \n",
       "1  C=CCOC(=O)[C@@H]1C[C@]2(C(C)Cc3ccc(OC)c(C=O)c3...  400.152203  2.6315   \n",
       "\n",
       "   n_hba  n_hbd   tpsa  rot_bonds      fsp3  n_ring  n_heteroatoms n_chiral  \n",
       "0      5      0  43.81          3  0.047619      10              5        2  \n",
       "1      7      0  88.13          8  0.409091       3              7        2  "
      ]
     },
     "execution_count": 3,
     "metadata": {},
     "output_type": "execute_result"
    }
   ],
   "source": [
    "property_df = pd.read_csv(\n",
    "    f\"{MAPPING_DIR}/property_data.tsv\", sep=\"\\t\", low_memory=False\n",
    ")\n",
    "property_df.head(2)"
   ]
  },
  {
   "cell_type": "markdown",
   "id": "c363a740",
   "metadata": {},
   "source": [
    "# Statistical distribution of chiral compounds"
   ]
  },
  {
   "cell_type": "code",
   "execution_count": 4,
   "id": "7700bf82",
   "metadata": {},
   "outputs": [
    {
     "name": "stderr",
     "output_type": "stream",
     "text": [
      "100%|██████████| 10438113/10438113 [00:02<00:00, 3949507.20it/s]\n"
     ]
    }
   ],
   "source": [
    "chiral_count_ditc = {\"0\": 0, \"1\": 0, \"2-5\": 0, \"6-10\": 0, \">10\": 0}\n",
    "\n",
    "for smile in tqdm(property_df[\"SMILES\"].unique()):\n",
    "    chiral_count = smile.count(\"@\")\n",
    "    if chiral_count < 1:\n",
    "        chiral_count_ditc[\"0\"] += 1\n",
    "    elif chiral_count == 1:\n",
    "        chiral_count_ditc[\"1\"] += 1\n",
    "    elif chiral_count < 6:\n",
    "        chiral_count_ditc[\"2-5\"] += 1\n",
    "    elif chiral_count < 11:\n",
    "        chiral_count_ditc[\"6-10\"] += 1\n",
    "    else:\n",
    "        chiral_count_ditc[\">10\"] += 1"
   ]
  },
  {
   "cell_type": "code",
   "execution_count": 5,
   "id": "0c06df8b",
   "metadata": {},
   "outputs": [
    {
     "data": {
      "text/html": [
       "<div>\n",
       "<style scoped>\n",
       "    .dataframe tbody tr th:only-of-type {\n",
       "        vertical-align: middle;\n",
       "    }\n",
       "\n",
       "    .dataframe tbody tr th {\n",
       "        vertical-align: top;\n",
       "    }\n",
       "\n",
       "    .dataframe thead th {\n",
       "        text-align: right;\n",
       "    }\n",
       "</style>\n",
       "<table border=\"1\" class=\"dataframe\">\n",
       "  <thead>\n",
       "    <tr style=\"text-align: right;\">\n",
       "      <th></th>\n",
       "      <th>chiral_center_counts</th>\n",
       "      <th>counter</th>\n",
       "    </tr>\n",
       "  </thead>\n",
       "  <tbody>\n",
       "    <tr>\n",
       "      <th>0</th>\n",
       "      <td>0</td>\n",
       "      <td>7557811</td>\n",
       "    </tr>\n",
       "    <tr>\n",
       "      <th>1</th>\n",
       "      <td>1</td>\n",
       "      <td>568781</td>\n",
       "    </tr>\n",
       "    <tr>\n",
       "      <th>2</th>\n",
       "      <td>2-5</td>\n",
       "      <td>1735388</td>\n",
       "    </tr>\n",
       "    <tr>\n",
       "      <th>3</th>\n",
       "      <td>6-10</td>\n",
       "      <td>400452</td>\n",
       "    </tr>\n",
       "    <tr>\n",
       "      <th>4</th>\n",
       "      <td>&gt;10</td>\n",
       "      <td>175681</td>\n",
       "    </tr>\n",
       "  </tbody>\n",
       "</table>\n",
       "</div>"
      ],
      "text/plain": [
       "  chiral_center_counts  counter\n",
       "0                    0  7557811\n",
       "1                    1   568781\n",
       "2                  2-5  1735388\n",
       "3                 6-10   400452\n",
       "4                  >10   175681"
      ]
     },
     "execution_count": 5,
     "metadata": {},
     "output_type": "execute_result"
    }
   ],
   "source": [
    "data = pd.DataFrame(\n",
    "    chiral_count_ditc.values(), index=chiral_count_ditc.keys(), columns=[\"counter\"]\n",
    ").reset_index()\n",
    "data = data.rename(columns={\"index\": \"chiral_center_counts\"})\n",
    "data"
   ]
  },
  {
   "cell_type": "code",
   "execution_count": 6,
   "id": "a1a3998d",
   "metadata": {},
   "outputs": [
    {
     "data": {
      "image/png": "[encoded data removed]",
      "text/plain": [
       "<Figure size 1000x500 with 1 Axes>"
      ]
     },
     "metadata": {},
     "output_type": "display_data"
    }
   ],
   "source": [
    "sns.set_style(\"whitegrid\")\n",
    "\n",
    "plt.figure(figsize=(10, 5))\n",
    "sns.barplot(data=data, x=\"chiral_center_counts\", y=\"counter\", color=\"#ffbe7d\")\n",
    "plt.xlabel(\"Number of chiral centers\", fontsize=18)\n",
    "plt.ylabel(\"Number of compounds\", fontsize=18)\n",
    "plt.xticks(fontsize=16)\n",
    "plt.yticks(fontsize=16)\n",
    "plt.savefig(f\"{FIGURE_DIR}/supplementary_figure_3.png\", dpi=400, bbox_inches=\"tight\")\n",
    "plt.savefig(f\"{FIGURE_DIR}/supplementary_figure_3.pdf\", dpi=400, bbox_inches=\"tight\")\n",
    "plt.show()"
   ]
  },
  {
   "cell_type": "code",
   "execution_count": null,
   "id": "feeb8e04",
   "metadata": {},
   "outputs": [],
   "source": []
  }
 ],
 "metadata": {
  "kernelspec": {
   "display_name": "patent",
   "language": "python",
   "name": "python3"
  },
  "language_info": {
   "codemirror_mode": {
    "name": "ipython",
    "version": 3
   },
   "file_extension": ".py",
   "mimetype": "text/x-python",
   "name": "python",
   "nbconvert_exporter": "python",
   "pygments_lexer": "ipython3",
   "version": "3.9.18"
  }
 },
 "nbformat": 4,
 "nbformat_minor": 5
}
