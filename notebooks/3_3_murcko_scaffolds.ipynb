{
 "cells": [
  {
   "cell_type": "markdown",
   "id": "d682c637",
   "metadata": {},
   "source": [
    "# Overview on the murcko scaffolds found in patents\n",
    "This notebook shows the distribution of murcko scaffolds in patent docuemnts."
   ]
  },
  {
   "cell_type": "markdown",
   "id": "5517d5f0",
   "metadata": {},
   "source": [
    "# Import Module"
   ]
  },
  {
   "cell_type": "code",
   "execution_count": 1,
   "id": "618815d2",
   "metadata": {},
   "outputs": [],
   "source": [
    "from collections import defaultdict\n",
    "import pandas as pd\n",
    "from tqdm import tqdm\n",
    "import pubchempy\n",
    "\n",
    "from rdkit import RDLogger\n",
    "from rdkit.Chem import MolFromSmiles, Draw\n",
    "from rdkit.Chem.Scaffolds.MurckoScaffold import MurckoScaffoldSmiles\n",
    "\n",
    "tqdm.pandas()"
   ]
  },
  {
   "cell_type": "code",
   "execution_count": 2,
   "id": "9f8f3072",
   "metadata": {},
   "outputs": [],
   "source": [
    "RDLogger.DisableLog(\"rdApp.*\")"
   ]
  },
  {
   "cell_type": "markdown",
   "id": "ba60827b",
   "metadata": {},
   "source": [
    "# Add path constants"
   ]
  },
  {
   "cell_type": "code",
   "execution_count": 3,
   "id": "341869fe",
   "metadata": {},
   "outputs": [],
   "source": [
    "PROCESSED_DIR = \"../data/processed\"\n",
    "FIGURE_DIR = \"../data/figures\""
   ]
  },
  {
   "cell_type": "markdown",
   "id": "d73e3b13",
   "metadata": {},
   "source": [
    "# Load data"
   ]
  },
  {
   "cell_type": "raw",
   "id": "b7024771",
   "metadata": {},
   "source": [
    "# Generate generic Murcko scaffold \n",
    "\n",
    "DATA_DIR = \"../data/raw\"\n",
    "\n",
    "surechembl_df = pd.read_parquet(f\"{DATA_DIR}/surechembl_dump.pq\")\n",
    "desalted_patent_df = pd.read_parquet(f\"{PROCESSED_DIR}/patent_data_desalted.pq\")\n",
    "\n",
    "df = surechembl_df.merge(desalted_patent_df, on=\"SMILES\")\n",
    "\n",
    "unique_smiles = df.cleaned_smiles.unique()\n",
    "\n",
    "generic_murcko_dict = {}\n",
    "\n",
    "skipped = 0\n",
    "for smile in tqdm(unique_smiles):\n",
    "    if not smile:\n",
    "        continue\n",
    "    try:\n",
    "        generic_murcko_dict[smile] = MurckoScaffoldSmiles(smiles=smile)\n",
    "    except :\n",
    "        skipped += 1\n",
    "\n",
    "df[\"scaffold\"] = df[\"cleaned_smiles\"].map(generic_murcko_dict)\n",
    "df.to_parquet(f\"{PROCESSED_DATA_DIR}/surechembl_generic_mucko.pq\")  # Time consuimng to save"
   ]
  },
  {
   "cell_type": "code",
   "execution_count": 4,
   "id": "c41de180",
   "metadata": {},
   "outputs": [
    {
     "data": {
      "text/html": [
       "<div>\n",
       "<style scoped>\n",
       "    .dataframe tbody tr th:only-of-type {\n",
       "        vertical-align: middle;\n",
       "    }\n",
       "\n",
       "    .dataframe tbody tr th {\n",
       "        vertical-align: top;\n",
       "    }\n",
       "\n",
       "    .dataframe thead th {\n",
       "        text-align: right;\n",
       "    }\n",
       "</style>\n",
       "<table border=\"1\" class=\"dataframe\">\n",
       "  <thead>\n",
       "    <tr style=\"text-align: right;\">\n",
       "      <th></th>\n",
       "      <th>PATENT_ID</th>\n",
       "      <th>scaffold</th>\n",
       "    </tr>\n",
       "  </thead>\n",
       "  <tbody>\n",
       "    <tr>\n",
       "      <th>0</th>\n",
       "      <td>EP-2842582-A2</td>\n",
       "      <td>C1CCNC1</td>\n",
       "    </tr>\n",
       "    <tr>\n",
       "      <th>1</th>\n",
       "      <td>EP-2838373-A2</td>\n",
       "      <td>C1CCNC1</td>\n",
       "    </tr>\n",
       "  </tbody>\n",
       "</table>\n",
       "</div>"
      ],
      "text/plain": [
       "       PATENT_ID scaffold\n",
       "0  EP-2842582-A2  C1CCNC1\n",
       "1  EP-2838373-A2  C1CCNC1"
      ]
     },
     "execution_count": 4,
     "metadata": {},
     "output_type": "execute_result"
    }
   ],
   "source": [
    "murcko_scaffold_df = pd.read_parquet(\n",
    "    f\"{PROCESSED_DIR}/surechembl_generic_mucko.pq\", columns=[\"PATENT_ID\", \"scaffold\"]\n",
    ")\n",
    "murcko_scaffold_df.head(2)"
   ]
  },
  {
   "cell_type": "code",
   "execution_count": 5,
   "id": "94e98b7d",
   "metadata": {},
   "outputs": [
    {
     "data": {
      "text/plain": [
       "(133512452, 2)"
      ]
     },
     "execution_count": 5,
     "metadata": {},
     "output_type": "execute_result"
    }
   ],
   "source": [
    "murcko_scaffold_df.shape"
   ]
  },
  {
   "cell_type": "markdown",
   "id": "5ab4d0dc",
   "metadata": {},
   "source": [
    "# Get top 10 generic Murcko scaffold"
   ]
  },
  {
   "cell_type": "code",
   "execution_count": 6,
   "id": "dfdb28ce",
   "metadata": {},
   "outputs": [
    {
     "name": "stderr",
     "output_type": "stream",
     "text": [
      "100%|██████████| 133512452/133512452 [01:20<00:00, 1664175.74it/s]\n"
     ]
    }
   ],
   "source": [
    "scaffold_patent_dict = defaultdict(set)\n",
    "\n",
    "for patent_id, scaffold in tqdm(murcko_scaffold_df.values):\n",
    "    if scaffold is None or scaffold == \"\":\n",
    "        continue\n",
    "\n",
    "    scaffold_patent_dict[scaffold].add(patent_id)"
   ]
  },
  {
   "cell_type": "code",
   "execution_count": 7,
   "id": "6fd78c70",
   "metadata": {},
   "outputs": [
    {
     "data": {
      "text/plain": [
       "'Scaffold count: 2663538, Total patents: 40455241'"
      ]
     },
     "execution_count": 7,
     "metadata": {},
     "output_type": "execute_result"
    }
   ],
   "source": [
    "scaffold_patent_dict = {i: len(j) for i, j in scaffold_patent_dict.items()}\n",
    "total = sum(scaffold_patent_dict.values())\n",
    "f\"Scaffold count: {len(scaffold_patent_dict)}, Total patents: {total}\""
   ]
  },
  {
   "cell_type": "code",
   "execution_count": 8,
   "id": "ffb6045d",
   "metadata": {},
   "outputs": [
    {
     "data": {
      "text/html": [
       "<div>\n",
       "<style scoped>\n",
       "    .dataframe tbody tr th:only-of-type {\n",
       "        vertical-align: middle;\n",
       "    }\n",
       "\n",
       "    .dataframe tbody tr th {\n",
       "        vertical-align: top;\n",
       "    }\n",
       "\n",
       "    .dataframe thead th {\n",
       "        text-align: right;\n",
       "    }\n",
       "</style>\n",
       "<table border=\"1\" class=\"dataframe\">\n",
       "  <thead>\n",
       "    <tr style=\"text-align: right;\">\n",
       "      <th></th>\n",
       "      <th>scaffold</th>\n",
       "      <th>count</th>\n",
       "    </tr>\n",
       "  </thead>\n",
       "  <tbody>\n",
       "    <tr>\n",
       "      <th>3</th>\n",
       "      <td>c1ccccc1</td>\n",
       "      <td>1060538</td>\n",
       "    </tr>\n",
       "    <tr>\n",
       "      <th>15</th>\n",
       "      <td>C1CCCCC1</td>\n",
       "      <td>362369</td>\n",
       "    </tr>\n",
       "  </tbody>\n",
       "</table>\n",
       "</div>"
      ],
      "text/plain": [
       "    scaffold    count\n",
       "3   c1ccccc1  1060538\n",
       "15  C1CCCCC1   362369"
      ]
     },
     "execution_count": 8,
     "metadata": {},
     "output_type": "execute_result"
    }
   ],
   "source": [
    "total_scaffold_df = pd.DataFrame(\n",
    "    scaffold_patent_dict.items(), columns=[\"scaffold\", \"count\"]\n",
    ").sort_values(\"count\", ascending=False)\n",
    "total_scaffold_df.head(2)"
   ]
  },
  {
   "cell_type": "code",
   "execution_count": 9,
   "id": "c3777c34",
   "metadata": {},
   "outputs": [],
   "source": [
    "total_scaffold_df[\"percent\"] = (total_scaffold_df[\"count\"] / total) * 100"
   ]
  },
  {
   "cell_type": "code",
   "execution_count": 10,
   "id": "041d351b",
   "metadata": {},
   "outputs": [],
   "source": [
    "total_scaffold_df.sort_values(\"percent\", ascending=False, inplace=True)"
   ]
  },
  {
   "cell_type": "code",
   "execution_count": 11,
   "id": "ca3178a1",
   "metadata": {},
   "outputs": [
    {
     "data": {
      "text/html": [
       "<div>\n",
       "<style scoped>\n",
       "    .dataframe tbody tr th:only-of-type {\n",
       "        vertical-align: middle;\n",
       "    }\n",
       "\n",
       "    .dataframe tbody tr th {\n",
       "        vertical-align: top;\n",
       "    }\n",
       "\n",
       "    .dataframe thead th {\n",
       "        text-align: right;\n",
       "    }\n",
       "</style>\n",
       "<table border=\"1\" class=\"dataframe\">\n",
       "  <thead>\n",
       "    <tr style=\"text-align: right;\">\n",
       "      <th></th>\n",
       "      <th>scaffold</th>\n",
       "      <th>count</th>\n",
       "      <th>percent</th>\n",
       "    </tr>\n",
       "  </thead>\n",
       "  <tbody>\n",
       "    <tr>\n",
       "      <th>3</th>\n",
       "      <td>c1ccccc1</td>\n",
       "      <td>1060538</td>\n",
       "      <td>2.621510</td>\n",
       "    </tr>\n",
       "    <tr>\n",
       "      <th>15</th>\n",
       "      <td>C1CCCCC1</td>\n",
       "      <td>362369</td>\n",
       "      <td>0.895728</td>\n",
       "    </tr>\n",
       "    <tr>\n",
       "      <th>14</th>\n",
       "      <td>c1ccncc1</td>\n",
       "      <td>312132</td>\n",
       "      <td>0.771549</td>\n",
       "    </tr>\n",
       "    <tr>\n",
       "      <th>251</th>\n",
       "      <td>C1CCOCC1</td>\n",
       "      <td>298296</td>\n",
       "      <td>0.737348</td>\n",
       "    </tr>\n",
       "    <tr>\n",
       "      <th>27</th>\n",
       "      <td>c1ccc2ccccc2c1</td>\n",
       "      <td>267318</td>\n",
       "      <td>0.660775</td>\n",
       "    </tr>\n",
       "    <tr>\n",
       "      <th>53</th>\n",
       "      <td>c1ccc(Cc2ccccc2)cc1</td>\n",
       "      <td>253562</td>\n",
       "      <td>0.626772</td>\n",
       "    </tr>\n",
       "    <tr>\n",
       "      <th>19</th>\n",
       "      <td>c1c[nH]cn1</td>\n",
       "      <td>251592</td>\n",
       "      <td>0.621902</td>\n",
       "    </tr>\n",
       "    <tr>\n",
       "      <th>42</th>\n",
       "      <td>c1ccc2[nH]ccc2c1</td>\n",
       "      <td>247430</td>\n",
       "      <td>0.611614</td>\n",
       "    </tr>\n",
       "    <tr>\n",
       "      <th>97</th>\n",
       "      <td>C1CCOC1</td>\n",
       "      <td>238540</td>\n",
       "      <td>0.589639</td>\n",
       "    </tr>\n",
       "    <tr>\n",
       "      <th>44</th>\n",
       "      <td>c1ncc2ncn(C3CCCO3)c2n1</td>\n",
       "      <td>190491</td>\n",
       "      <td>0.470869</td>\n",
       "    </tr>\n",
       "  </tbody>\n",
       "</table>\n",
       "</div>"
      ],
      "text/plain": [
       "                   scaffold    count   percent\n",
       "3                  c1ccccc1  1060538  2.621510\n",
       "15                 C1CCCCC1   362369  0.895728\n",
       "14                 c1ccncc1   312132  0.771549\n",
       "251                C1CCOCC1   298296  0.737348\n",
       "27           c1ccc2ccccc2c1   267318  0.660775\n",
       "53      c1ccc(Cc2ccccc2)cc1   253562  0.626772\n",
       "19               c1c[nH]cn1   251592  0.621902\n",
       "42         c1ccc2[nH]ccc2c1   247430  0.611614\n",
       "97                  C1CCOC1   238540  0.589639\n",
       "44   c1ncc2ncn(C3CCCO3)c2n1   190491  0.470869"
      ]
     },
     "execution_count": 11,
     "metadata": {},
     "output_type": "execute_result"
    }
   ],
   "source": [
    "top_scaffolds = total_scaffold_df.head(10)\n",
    "top_scaffolds"
   ]
  },
  {
   "cell_type": "markdown",
   "id": "4642ddac",
   "metadata": {},
   "source": [
    "# Annotating structures with scaffolds"
   ]
  },
  {
   "cell_type": "code",
   "execution_count": 12,
   "id": "ecdf1e3b",
   "metadata": {},
   "outputs": [],
   "source": [
    "mols = [MolFromSmiles(smile) for smile in top_scaffolds[\"scaffold\"]]"
   ]
  },
  {
   "cell_type": "code",
   "execution_count": 13,
   "id": "66020b35",
   "metadata": {},
   "outputs": [
    {
     "name": "stdout",
     "output_type": "stream",
     "text": [
      "benzene\n",
      "CYCLOHEXANE\n",
      "PYRIDINE\n",
      "TETRAHYDROPYRAN\n",
      "naphthalene\n",
      "Diphenylmethane\n",
      "imidazole\n",
      "indole\n",
      "TETRAHYDROFURAN\n",
      "SCHEMBL2388906\n"
     ]
    }
   ],
   "source": [
    "for smile in top_scaffolds[\"scaffold\"]:\n",
    "    cmp = pubchempy.get_compounds(smile, namespace=\"smiles\")\n",
    "    print(cmp[0].synonyms[0])"
   ]
  },
  {
   "cell_type": "code",
   "execution_count": 14,
   "id": "90de9a67",
   "metadata": {},
   "outputs": [],
   "source": [
    "for idx, mol in enumerate(mols):\n",
    "    idx += 1\n",
    "    Draw.MolToFile(\n",
    "        mol, f\"{FIGURE_DIR}/murcko_generic_scaffold_{idx}.png\", size=(600, 600), dpi=400\n",
    "    )"
   ]
  }
 ],
 "metadata": {
  "kernelspec": {
   "display_name": "patent_kg",
   "language": "python",
   "name": "python3"
  },
  "language_info": {
   "codemirror_mode": {
    "name": "ipython",
    "version": 3
   },
   "file_extension": ".py",
   "mimetype": "text/x-python",
   "name": "python",
   "nbconvert_exporter": "python",
   "pygments_lexer": "ipython3",
   "version": "3.9.18"
  }
 },
 "nbformat": 4,
 "nbformat_minor": 5
}
