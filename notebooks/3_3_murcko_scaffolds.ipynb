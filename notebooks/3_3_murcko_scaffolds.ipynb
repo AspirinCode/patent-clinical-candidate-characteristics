{
 "cells": [
  {
   "cell_type": "markdown",
   "id": "d682c637",
   "metadata": {},
   "source": [
    "# Overview on the murcko scaffolds found in patents\n",
    "This notebook shows the distribution of murcko scaffolds in patent docuemnts."
   ]
  },
  {
   "cell_type": "markdown",
   "id": "5517d5f0",
   "metadata": {},
   "source": [
    "# Import Module"
   ]
  },
  {
   "cell_type": "code",
   "execution_count": 1,
   "id": "618815d2",
   "metadata": {},
   "outputs": [],
   "source": [
    "import pandas as pd\n",
    "from tqdm import tqdm\n",
    "import pubchempy\n",
    "\n",
    "from rdkit.Chem import MolFromSmiles, Draw\n",
    "\n",
    "tqdm.pandas()"
   ]
  },
  {
   "cell_type": "markdown",
   "id": "ba60827b",
   "metadata": {},
   "source": [
    "# Add path constants"
   ]
  },
  {
   "cell_type": "code",
   "execution_count": 2,
   "id": "341869fe",
   "metadata": {},
   "outputs": [],
   "source": [
    "DATA_DIR = '../data/raw'\n",
    "FIGURE_DIR = '../data/figures'\n",
    "MAPPINGS_DIR = '../data/mappings'"
   ]
  },
  {
   "cell_type": "markdown",
   "id": "d73e3b13",
   "metadata": {},
   "source": [
    "# Load data"
   ]
  },
  {
   "cell_type": "code",
   "execution_count": 3,
   "id": "617d622e",
   "metadata": {},
   "outputs": [
    {
     "data": {
      "text/html": [
       "<div>\n",
       "<style scoped>\n",
       "    .dataframe tbody tr th:only-of-type {\n",
       "        vertical-align: middle;\n",
       "    }\n",
       "\n",
       "    .dataframe tbody tr th {\n",
       "        vertical-align: top;\n",
       "    }\n",
       "\n",
       "    .dataframe thead th {\n",
       "        text-align: right;\n",
       "    }\n",
       "</style>\n",
       "<table border=\"1\" class=\"dataframe\">\n",
       "  <thead>\n",
       "    <tr style=\"text-align: right;\">\n",
       "      <th></th>\n",
       "      <th>scaffold</th>\n",
       "      <th>year</th>\n",
       "      <th>PATENT_ID</th>\n",
       "    </tr>\n",
       "  </thead>\n",
       "  <tbody>\n",
       "    <tr>\n",
       "      <th>0</th>\n",
       "      <td>CCC(C)C(C)C1CCCC1C(C)C</td>\n",
       "      <td>2015</td>\n",
       "      <td>EP-2842582-A2</td>\n",
       "    </tr>\n",
       "    <tr>\n",
       "      <th>1</th>\n",
       "      <td>CCC(C)C(C)C1CCCC1C(C)C</td>\n",
       "      <td>2015</td>\n",
       "      <td>EP-2838373-A2</td>\n",
       "    </tr>\n",
       "  </tbody>\n",
       "</table>\n",
       "</div>"
      ],
      "text/plain": [
       "                 scaffold  year      PATENT_ID\n",
       "0  CCC(C)C(C)C1CCCC1C(C)C  2015  EP-2842582-A2\n",
       "1  CCC(C)C(C)C1CCCC1C(C)C  2015  EP-2838373-A2"
      ]
     },
     "execution_count": 3,
     "metadata": {},
     "output_type": "execute_result"
    }
   ],
   "source": [
    "scaffold_df = pd.read_parquet(f'{MAPPINGS_DIR}/scaffold_mapped_patents.pq')\n",
    "scaffold_df.head(2)"
   ]
  },
  {
   "cell_type": "code",
   "execution_count": 4,
   "id": "d73f57e8",
   "metadata": {},
   "outputs": [
    {
     "data": {
      "text/plain": [
       "(133010775, 3)"
      ]
     },
     "execution_count": 4,
     "metadata": {},
     "output_type": "execute_result"
    }
   ],
   "source": [
    "scaffold_df.shape"
   ]
  },
  {
   "cell_type": "code",
   "execution_count": 5,
   "id": "7bbe4266",
   "metadata": {},
   "outputs": [],
   "source": [
    "scaffold_df.drop_duplicates(subset=['scaffold', 'PATENT_ID'], inplace=True)"
   ]
  },
  {
   "cell_type": "code",
   "execution_count": 6,
   "id": "4444e361",
   "metadata": {},
   "outputs": [
    {
     "data": {
      "text/plain": [
       "(85281799, 3)"
      ]
     },
     "execution_count": 6,
     "metadata": {},
     "output_type": "execute_result"
    }
   ],
   "source": [
    "scaffold_df.shape"
   ]
  },
  {
   "cell_type": "code",
   "execution_count": 7,
   "id": "ca3178a1",
   "metadata": {},
   "outputs": [],
   "source": [
    "top_scaffolds = scaffold_df['scaffold'].value_counts().reset_index()\n",
    "top_scaffolds['percent'] = (top_scaffolds['scaffold'] / top_scaffolds['scaffold'].sum()) * 100\n",
    "top_scaffolds.sort_values('percent', ascending=False, inplace=True)\n",
    "top_scaffolds = top_scaffolds.head(10)"
   ]
  },
  {
   "cell_type": "code",
   "execution_count": 8,
   "id": "4362391a",
   "metadata": {},
   "outputs": [
    {
     "data": {
      "text/html": [
       "<div>\n",
       "<style scoped>\n",
       "    .dataframe tbody tr th:only-of-type {\n",
       "        vertical-align: middle;\n",
       "    }\n",
       "\n",
       "    .dataframe tbody tr th {\n",
       "        vertical-align: top;\n",
       "    }\n",
       "\n",
       "    .dataframe thead th {\n",
       "        text-align: right;\n",
       "    }\n",
       "</style>\n",
       "<table border=\"1\" class=\"dataframe\">\n",
       "  <thead>\n",
       "    <tr style=\"text-align: right;\">\n",
       "      <th></th>\n",
       "      <th>index</th>\n",
       "      <th>scaffold</th>\n",
       "      <th>percent</th>\n",
       "    </tr>\n",
       "  </thead>\n",
       "  <tbody>\n",
       "    <tr>\n",
       "      <th>0</th>\n",
       "      <td>CCC(C)C(C)C(C)C(C)CC</td>\n",
       "      <td>439038</td>\n",
       "      <td>0.514809</td>\n",
       "    </tr>\n",
       "    <tr>\n",
       "      <th>1</th>\n",
       "      <td>CC(C)C1CCCCC1</td>\n",
       "      <td>355532</td>\n",
       "      <td>0.416891</td>\n",
       "    </tr>\n",
       "    <tr>\n",
       "      <th>2</th>\n",
       "      <td>CCC1CCCCC1</td>\n",
       "      <td>294393</td>\n",
       "      <td>0.345200</td>\n",
       "    </tr>\n",
       "    <tr>\n",
       "      <th>3</th>\n",
       "      <td>CCCCCC(C)C</td>\n",
       "      <td>214865</td>\n",
       "      <td>0.251947</td>\n",
       "    </tr>\n",
       "    <tr>\n",
       "      <th>4</th>\n",
       "      <td>CC(C)CCCCC(C)C(C)C</td>\n",
       "      <td>209402</td>\n",
       "      <td>0.245541</td>\n",
       "    </tr>\n",
       "    <tr>\n",
       "      <th>5</th>\n",
       "      <td>C.CCCCCCCCCCCCCCCCCC(C)C.CCCCCCCCCCCCCCCCCC(C)C</td>\n",
       "      <td>202378</td>\n",
       "      <td>0.237305</td>\n",
       "    </tr>\n",
       "    <tr>\n",
       "      <th>6</th>\n",
       "      <td>CC(C)C1CCCCC1C</td>\n",
       "      <td>196842</td>\n",
       "      <td>0.230814</td>\n",
       "    </tr>\n",
       "    <tr>\n",
       "      <th>7</th>\n",
       "      <td>CC1CCC(C(C)(C)C)CC1</td>\n",
       "      <td>194865</td>\n",
       "      <td>0.228495</td>\n",
       "    </tr>\n",
       "    <tr>\n",
       "      <th>8</th>\n",
       "      <td>CCCCCCCCCCCCCCCCCC(C)C.[CH2]</td>\n",
       "      <td>193933</td>\n",
       "      <td>0.227403</td>\n",
       "    </tr>\n",
       "    <tr>\n",
       "      <th>9</th>\n",
       "      <td>CCC(C)C1CC(C)C(C)C1C</td>\n",
       "      <td>189755</td>\n",
       "      <td>0.222504</td>\n",
       "    </tr>\n",
       "  </tbody>\n",
       "</table>\n",
       "</div>"
      ],
      "text/plain": [
       "                                             index  scaffold   percent\n",
       "0                             CCC(C)C(C)C(C)C(C)CC    439038  0.514809\n",
       "1                                    CC(C)C1CCCCC1    355532  0.416891\n",
       "2                                       CCC1CCCCC1    294393  0.345200\n",
       "3                                       CCCCCC(C)C    214865  0.251947\n",
       "4                               CC(C)CCCCC(C)C(C)C    209402  0.245541\n",
       "5  C.CCCCCCCCCCCCCCCCCC(C)C.CCCCCCCCCCCCCCCCCC(C)C    202378  0.237305\n",
       "6                                   CC(C)C1CCCCC1C    196842  0.230814\n",
       "7                              CC1CCC(C(C)(C)C)CC1    194865  0.228495\n",
       "8                     CCCCCCCCCCCCCCCCCC(C)C.[CH2]    193933  0.227403\n",
       "9                             CCC(C)C1CC(C)C(C)C1C    189755  0.222504"
      ]
     },
     "execution_count": 8,
     "metadata": {},
     "output_type": "execute_result"
    }
   ],
   "source": [
    "top_scaffolds"
   ]
  },
  {
   "cell_type": "markdown",
   "id": "4642ddac",
   "metadata": {},
   "source": [
    "# Annotating structures with scaffolds"
   ]
  },
  {
   "cell_type": "code",
   "execution_count": 9,
   "id": "ecdf1e3b",
   "metadata": {},
   "outputs": [],
   "source": [
    "mols = [\n",
    "    MolFromSmiles(smile)\n",
    "    for smile in top_scaffolds['index']\n",
    "]"
   ]
  },
  {
   "cell_type": "code",
   "execution_count": 10,
   "id": "66020b35",
   "metadata": {},
   "outputs": [
    {
     "name": "stdout",
     "output_type": "stream",
     "text": [
      "170.33\n",
      "['Octane, 3,4,5,6-tetramethyl-', '3,4,5,6-Tetramethyloctane', '62185-21-1', '3,4,5,6-Tetramethyloctane, c', '3,4,5,6-Tetramethyloctane #', '3,4,5,6-Tetramethyloctane, a', '3,4,5,6-Tetramethyloctane, b', '3,4,5,6-Tetramethyloctane, d', '3,4,5,6-Tetramethyloctane, e', '3,4,5,6-Tetramethyloctane, f', 'DTXSID20335689', 'NADJQGPTQSFIHB-UHFFFAOYSA-N'] /n\n",
      "126.24\n",
      "['ISOPROPYLCYCLOHEXANE', '696-29-7', 'Hexahydrocumene', 'propan-2-ylcyclohexane', 'Normanthane', 'Cyclohexane, (1-methylethyl)-', 'Cyclohexane, isopropyl-', '(1-Methylethyl)cyclohexane', 'Isopropyl-cyclohexane', '2-Cyclohexylpropane', 'Iso-propylcyclohexane', '1-methylethyl-cyclohexane', 'EINECS 211-792-4', 'NSC 73963', 'NSC-73963', 'EC 211-792-4', '(methylethyl)cyclohexane', 'isopropyl cyclohexane', 'IPX (CHRIS Code)', 'Isopropylcyclohexane, 99%', '(1-methylethyl)-Cyclohexane', 'Ciclohexano, (1-metiletil)-', 'WLN: L6TJ AY1&1', '5S52JAD8P7', 'Cyclohexane, isopropyl- (8CI)', 'DTXSID2061012', '(1-Methylethyl)cyclohexane, 9CI', 'CHEBI:187116', 'GWESVXSMPKAFAS-UHFFFAOYSA-N', 'NSC73963', 'LMFA11000629', 'MFCD00001480', 'AKOS015901591', 'I0161', 'E78225', 'A836573', 'Q63408583', 'InChI=1/C9H18/c1-8(2)9-6-4-3-5-7-9/h8-9H,3-7H2,1-2H'] /n\n",
      "112.21\n",
      "['ETHYLCYCLOHEXANE', '1678-91-7', 'Cyclohexane, ethyl-', 'Ethyl cyclohexane', 'cyclohexylethane', 'NSC 8880', 'EINECS 216-835-0', 'DTXSID1051779', 'UNII-567IJI1215', 'SWACLEAN ECH', 'AI3-15348', 'NSC-8880', '567IJI1215', 'DTXCID4030334', '1-ETHYL-CYCLOHEXANECARBALDEHYDE', 'ethyl-cyclohexane', 'ECY (CHRIS Code)', 'Ethylcyclohexane, >=99%', 'WLN: L6TJ A2', 'QSPL 100', 'CHEMBL1882821', 'NSC8880', 'CHEBI:137775', 'IIEWJVIFRVWJOD-UHFFFAOYSA-N', 'Tox21_303745', 'LMFA11000659', 'MFCD00001523', 'AKOS015906531', 'NCGC00166032-01', 'NCGC00357050-01', 'LS-56823', 'CAS-1678-91-7', 'E0073', 'FT-0626176', 'A810916', 'J-010406', 'J-521341', 'Q21024279', 'InChI=1/C8H16/c1-2-8-6-4-3-5-7-8/h8H,2-7H2,1H'] /n\n",
      "114.23\n",
      "['2-METHYLHEPTANE', '592-27-8', 'Heptane, 2-methyl-', '2-methyl-heptane', 'Methylheptane', 'Hexane, dimethyl-', 'DIMETHYLHEXANE', 'YU6SU8CCVB', 'EINECS 209-747-9', 'NSC 24844', 'NSC-24844', '28777-67-5', 'NSC24844', 'Methylheptane, 2-', 'MFCD00009518', 'UNII-YU6SU8CCVB', '2-Methylheptane, 98%', 'DTXSID2060460', 'CHEBI:88849', '(CH3)2CH(CH2)4CH3', 'EINECS 247-861-0', 'LMFA11000604', 'AKOS015841664', 'FT-0613048', 'M0519', 'D91346', 'Q2493733'] /n\n",
      "170.33\n",
      "['2,3,8-TRIMETHYLNONANE', '62184-60-5', 'Nonane, 2,3,8-trimethyl-', 'DTXSID20699975'] /n\n",
      "None\n",
      "None /n\n",
      "140.27\n",
      "['Cyclohexane, 1-methyl-2-(1-methylethyl)-', 'o-menthane', '16580-23-7', '1-isopropyl-2-methylcyclohexane', 'DTXSID80937128', '1-Methyl-2-(propan-2-yl)cyclohexane', '1-methyl-2-(1-methylethyl)cyclohexane'] /n\n",
      "154.29\n",
      "['1-tert-Butyl-4-methylcyclohexane', '75736-66-2', 'Cyclohexane, 1-(1,1-dimethylethyl)-4-methyl-', 'Cyclohexane, 1-(1,1-dimethylethyl)-4-methyl-, cis', 'Cyclohexane, 1-(1,1-dimethylethyl)-4-methyl-, trans', 'p-tert-butyltoluol', 'NSC29904', 'DTXSID90283128', 'YCLKWKCHQLIGTA-AOOOYVTPSA-N', 'YCLKWKCHQLIGTA-MGCOHNPYSA-N', 'YCLKWKCHQLIGTA-UHFFFAOYSA-N', '1-tert-Butyl-4-methylcyclohexane #', 'NSC-29904', 'AKOS006274100', '1alpha-Methyl-4beta-tert-butylcyclohexane', '1alpha-tert-Butyl-4alpha-methylcyclohexane', '1-(1,1-dimethylethyl)-4-methylcyclohexane'] /n\n",
      "None\n",
      "None /n\n",
      "168.32\n",
      "[] /n\n"
     ]
    }
   ],
   "source": [
    "for smile in top_scaffolds['index']:\n",
    "    cmp = pubchempy.get_compounds(smile, namespace='smiles')\n",
    "    print(cmp[0].molecular_weight)\n",
    "    print(cmp[0].synonyms, '/n')"
   ]
  },
  {
   "cell_type": "code",
   "execution_count": 11,
   "id": "90de9a67",
   "metadata": {},
   "outputs": [],
   "source": [
    "for idx, mol in enumerate(mols):\n",
    "    Draw.MolToFile(mol, f'{FIGURE_DIR}/scaffold_{idx}.png', size=(600, 600), dpi=400) "
   ]
  },
  {
   "cell_type": "code",
   "execution_count": null,
   "id": "30634edb",
   "metadata": {},
   "outputs": [],
   "source": []
  }
 ],
 "metadata": {
  "kernelspec": {
   "display_name": "patent_kg",
   "language": "python",
   "name": "patent_kg"
  },
  "language_info": {
   "codemirror_mode": {
    "name": "ipython",
    "version": 3
   },
   "file_extension": ".py",
   "mimetype": "text/x-python",
   "name": "python",
   "nbconvert_exporter": "python",
   "pygments_lexer": "ipython3",
   "version": "3.9.16"
  }
 },
 "nbformat": 4,
 "nbformat_minor": 5
}
