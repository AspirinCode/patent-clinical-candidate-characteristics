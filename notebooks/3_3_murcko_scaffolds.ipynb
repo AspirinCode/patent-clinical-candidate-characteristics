{
 "cells": [
  {
   "cell_type": "markdown",
   "id": "d682c637",
   "metadata": {},
   "source": [
    "# Overview on the murcko scaffolds found in patents\n",
    "This notebook shows the distribution of murcko scaffolds in patent docuemnts."
   ]
  },
  {
   "cell_type": "markdown",
   "id": "5517d5f0",
   "metadata": {},
   "source": [
    "# Import Module"
   ]
  },
  {
   "cell_type": "code",
   "execution_count": 1,
   "id": "618815d2",
   "metadata": {},
   "outputs": [],
   "source": [
    "import pandas as pd\n",
    "from tqdm import tqdm\n",
    "import pubchempy\n",
    "\n",
    "from rdkit.Chem import MolFromSmiles, Draw\n",
    "\n",
    "tqdm.pandas()"
   ]
  },
  {
   "cell_type": "markdown",
   "id": "ba60827b",
   "metadata": {},
   "source": [
    "# Add path constants"
   ]
  },
  {
   "cell_type": "code",
   "execution_count": 2,
   "id": "341869fe",
   "metadata": {},
   "outputs": [],
   "source": [
    "DATA_DIR = \"../data/raw\"\n",
    "FIGURE_DIR = \"../data/figures\"\n",
    "MAPPINGS_DIR = \"../data/mappings\""
   ]
  },
  {
   "cell_type": "markdown",
   "id": "d73e3b13",
   "metadata": {},
   "source": [
    "# Load data"
   ]
  },
  {
   "cell_type": "code",
   "execution_count": 3,
   "id": "617d622e",
   "metadata": {},
   "outputs": [
    {
     "data": {
      "text/html": [
       "<div>\n",
       "<style scoped>\n",
       "    .dataframe tbody tr th:only-of-type {\n",
       "        vertical-align: middle;\n",
       "    }\n",
       "\n",
       "    .dataframe tbody tr th {\n",
       "        vertical-align: top;\n",
       "    }\n",
       "\n",
       "    .dataframe thead th {\n",
       "        text-align: right;\n",
       "    }\n",
       "</style>\n",
       "<table border=\"1\" class=\"dataframe\">\n",
       "  <thead>\n",
       "    <tr style=\"text-align: right;\">\n",
       "      <th></th>\n",
       "      <th>SureChEMBL_ID</th>\n",
       "      <th>SMILES</th>\n",
       "      <th>InChIKey</th>\n",
       "      <th>PATENT_ID</th>\n",
       "      <th>PUBLICATION_DATE</th>\n",
       "      <th>Field</th>\n",
       "      <th>year</th>\n",
       "      <th>scaffold</th>\n",
       "      <th>scaffold_wt</th>\n",
       "    </tr>\n",
       "  </thead>\n",
       "  <tbody>\n",
       "    <tr>\n",
       "      <th>0</th>\n",
       "      <td>SCHEMBL4</td>\n",
       "      <td>C[C@H](CS)C(=O)N1CCC[C@H]1C(O)=O</td>\n",
       "      <td>FAKRSMQSSFJEIM-RQJHMYQMSA-N</td>\n",
       "      <td>EP-2842582-A2</td>\n",
       "      <td>2015-03-04</td>\n",
       "      <td>Description</td>\n",
       "      <td>2015</td>\n",
       "      <td>CCC(C)C(C)C1CCCC1C(C)C</td>\n",
       "      <td>217.290</td>\n",
       "    </tr>\n",
       "    <tr>\n",
       "      <th>1757</th>\n",
       "      <td>SCHEMBL9</td>\n",
       "      <td>O=C(O)\\C=C/C(=O)O.CCOC(=O)[C@H](CCC1=CC=CC=C1)...</td>\n",
       "      <td>OYFJQPXVCSSHAI-QFPUQLAESA-N</td>\n",
       "      <td>EP-2838373-A2</td>\n",
       "      <td>2015-02-25</td>\n",
       "      <td>Description</td>\n",
       "      <td>2015</td>\n",
       "      <td>CC(C)CCC(C)C.CCCC(C)C(CCC1CCCCC1)CC(C)C(C)C1CC...</td>\n",
       "      <td>492.525</td>\n",
       "    </tr>\n",
       "  </tbody>\n",
       "</table>\n",
       "</div>"
      ],
      "text/plain": [
       "     SureChEMBL_ID                                             SMILES  \\\n",
       "0         SCHEMBL4                   C[C@H](CS)C(=O)N1CCC[C@H]1C(O)=O   \n",
       "1757      SCHEMBL9  O=C(O)\\C=C/C(=O)O.CCOC(=O)[C@H](CCC1=CC=CC=C1)...   \n",
       "\n",
       "                         InChIKey      PATENT_ID PUBLICATION_DATE  \\\n",
       "0     FAKRSMQSSFJEIM-RQJHMYQMSA-N  EP-2842582-A2       2015-03-04   \n",
       "1757  OYFJQPXVCSSHAI-QFPUQLAESA-N  EP-2838373-A2       2015-02-25   \n",
       "\n",
       "            Field  year                                           scaffold  \\\n",
       "0     Description  2015                             CCC(C)C(C)C1CCCC1C(C)C   \n",
       "1757  Description  2015  CC(C)CCC(C)C.CCCC(C)C(CCC1CCCCC1)CC(C)C(C)C1CC...   \n",
       "\n",
       "      scaffold_wt  \n",
       "0         217.290  \n",
       "1757      492.525  "
      ]
     },
     "execution_count": 3,
     "metadata": {},
     "output_type": "execute_result"
    }
   ],
   "source": [
    "scaffold_df = pd.read_parquet(f\"{MAPPINGS_DIR}/unique_scaffold_mapped_patents.pq.gzip\")\n",
    "scaffold_df.head(2)"
   ]
  },
  {
   "cell_type": "code",
   "execution_count": 4,
   "id": "d73f57e8",
   "metadata": {},
   "outputs": [
    {
     "data": {
      "text/plain": [
       "(5163046, 9)"
      ]
     },
     "execution_count": 4,
     "metadata": {},
     "output_type": "execute_result"
    }
   ],
   "source": [
    "scaffold_df.shape"
   ]
  },
  {
   "cell_type": "code",
   "execution_count": 5,
   "id": "7bbe4266",
   "metadata": {},
   "outputs": [
    {
     "data": {
      "text/plain": [
       "(5163046, 9)"
      ]
     },
     "execution_count": 5,
     "metadata": {},
     "output_type": "execute_result"
    }
   ],
   "source": [
    "scaffold_df.drop_duplicates(subset=[\"scaffold\", \"PATENT_ID\"], inplace=True)\n",
    "scaffold_df.shape"
   ]
  },
  {
   "cell_type": "code",
   "execution_count": 6,
   "id": "ca3178a1",
   "metadata": {},
   "outputs": [],
   "source": [
    "top_scaffolds = scaffold_df[\"scaffold\"].value_counts().reset_index()\n",
    "top_scaffolds[\"percent\"] = (\n",
    "    top_scaffolds[\"scaffold\"] / top_scaffolds[\"scaffold\"].sum()\n",
    ") * 100\n",
    "top_scaffolds.sort_values(\"percent\", ascending=False, inplace=True)\n",
    "top_scaffolds = top_scaffolds.head(10)"
   ]
  },
  {
   "cell_type": "code",
   "execution_count": 7,
   "id": "4362391a",
   "metadata": {},
   "outputs": [
    {
     "data": {
      "text/html": [
       "<div>\n",
       "<style scoped>\n",
       "    .dataframe tbody tr th:only-of-type {\n",
       "        vertical-align: middle;\n",
       "    }\n",
       "\n",
       "    .dataframe tbody tr th {\n",
       "        vertical-align: top;\n",
       "    }\n",
       "\n",
       "    .dataframe thead th {\n",
       "        text-align: right;\n",
       "    }\n",
       "</style>\n",
       "<table border=\"1\" class=\"dataframe\">\n",
       "  <thead>\n",
       "    <tr style=\"text-align: right;\">\n",
       "      <th></th>\n",
       "      <th>index</th>\n",
       "      <th>scaffold</th>\n",
       "      <th>percent</th>\n",
       "    </tr>\n",
       "  </thead>\n",
       "  <tbody>\n",
       "    <tr>\n",
       "      <th>0</th>\n",
       "      <td>CCC(C)C(C)C1CCCC1C(C)C</td>\n",
       "      <td>1</td>\n",
       "      <td>0.000019</td>\n",
       "    </tr>\n",
       "    <tr>\n",
       "      <th>3442027</th>\n",
       "      <td>CCC(C)(C)CCC(C)(C)CC</td>\n",
       "      <td>1</td>\n",
       "      <td>0.000019</td>\n",
       "    </tr>\n",
       "    <tr>\n",
       "      <th>3442034</th>\n",
       "      <td>CC1CC(C)C2CCCCC12</td>\n",
       "      <td>1</td>\n",
       "      <td>0.000019</td>\n",
       "    </tr>\n",
       "    <tr>\n",
       "      <th>3442033</th>\n",
       "      <td>CC(C1CCCCC1)C(C)C1CCCCC1</td>\n",
       "      <td>1</td>\n",
       "      <td>0.000019</td>\n",
       "    </tr>\n",
       "    <tr>\n",
       "      <th>3442032</th>\n",
       "      <td>CCCC(C)(C1CCCCC1)C1CCCCC1</td>\n",
       "      <td>1</td>\n",
       "      <td>0.000019</td>\n",
       "    </tr>\n",
       "    <tr>\n",
       "      <th>3442031</th>\n",
       "      <td>CC1CCCCC1</td>\n",
       "      <td>1</td>\n",
       "      <td>0.000019</td>\n",
       "    </tr>\n",
       "    <tr>\n",
       "      <th>3442030</th>\n",
       "      <td>CC1CC(C)C2CC3CCCCC3CC12</td>\n",
       "      <td>1</td>\n",
       "      <td>0.000019</td>\n",
       "    </tr>\n",
       "    <tr>\n",
       "      <th>3442029</th>\n",
       "      <td>CC(C)C1CCCCC1CC1C(C)CCC(C)C1C</td>\n",
       "      <td>1</td>\n",
       "      <td>0.000019</td>\n",
       "    </tr>\n",
       "    <tr>\n",
       "      <th>3442028</th>\n",
       "      <td>CC1CCCCC1(C)CCC1CCCCC1</td>\n",
       "      <td>1</td>\n",
       "      <td>0.000019</td>\n",
       "    </tr>\n",
       "    <tr>\n",
       "      <th>3442026</th>\n",
       "      <td>CCC(C)CCCCC(C)CC</td>\n",
       "      <td>1</td>\n",
       "      <td>0.000019</td>\n",
       "    </tr>\n",
       "  </tbody>\n",
       "</table>\n",
       "</div>"
      ],
      "text/plain": [
       "                                 index  scaffold   percent\n",
       "0               CCC(C)C(C)C1CCCC1C(C)C         1  0.000019\n",
       "3442027           CCC(C)(C)CCC(C)(C)CC         1  0.000019\n",
       "3442034              CC1CC(C)C2CCCCC12         1  0.000019\n",
       "3442033       CC(C1CCCCC1)C(C)C1CCCCC1         1  0.000019\n",
       "3442032      CCCC(C)(C1CCCCC1)C1CCCCC1         1  0.000019\n",
       "3442031                      CC1CCCCC1         1  0.000019\n",
       "3442030        CC1CC(C)C2CC3CCCCC3CC12         1  0.000019\n",
       "3442029  CC(C)C1CCCCC1CC1C(C)CCC(C)C1C         1  0.000019\n",
       "3442028         CC1CCCCC1(C)CCC1CCCCC1         1  0.000019\n",
       "3442026               CCC(C)CCCCC(C)CC         1  0.000019"
      ]
     },
     "execution_count": 7,
     "metadata": {},
     "output_type": "execute_result"
    }
   ],
   "source": [
    "top_scaffolds"
   ]
  },
  {
   "cell_type": "markdown",
   "id": "4642ddac",
   "metadata": {},
   "source": [
    "# Annotating structures with scaffolds"
   ]
  },
  {
   "cell_type": "code",
   "execution_count": 8,
   "id": "ecdf1e3b",
   "metadata": {},
   "outputs": [],
   "source": [
    "mols = [MolFromSmiles(smile) for smile in top_scaffolds[\"index\"]]"
   ]
  },
  {
   "cell_type": "code",
   "execution_count": 9,
   "id": "66020b35",
   "metadata": {},
   "outputs": [
    {
     "name": "stdout",
     "output_type": "stream",
     "text": [
      "None\n",
      "None /n\n",
      "170.33\n",
      "['3,3,6,6-Tetramethyloctane', '62199-46-6', 'Octane, 3,3,6,6-tetramethyl-', 'DTXSID20211232'] /n\n",
      "152.28\n",
      "[] /n\n",
      "222.41\n",
      "[\"Cyclohexane, 1,1'-(1,2-dimethyl-1,2-ethanediyl)bis-\", '2,3-dicyclohexylbutane', 'Butane, 2,3-dicyclohexyl-', '74663-71-1', 'DTXSID50880733', 'CKYRHDXTXMYCMX-UHFFFAOYSA-N', '(A+/-)-2,3-dicyclohexyl-butane', '(2-Cyclohexyl-1-methylpropyl)cyclohexane #', \"Cyclohexane, 1,1'-(1,2-dimethyl-1,2-ethanediyl)bis-, (R*,R*)-(.+/-.)-\"] /n\n",
      "236.4\n",
      "[] /n\n",
      "98.19\n",
      "['METHYLCYCLOHEXANE', '108-87-2', 'Cyclohexane, methyl-', 'Hexahydrotoluene', 'Cyclohexylmethane', 'Toluene hexahydride', 'Hexahydroxytoluene', 'Sextone B', 'Toluene, hexahydro-', 'methyl cyclohexane', 'Metylocykloheksan', 'methyl-cyclohexane', 'HSDB 98', 'NSC 9391', 'UNII-H5WXT3SV31', 'EINECS 203-624-3', 'H5WXT3SV31', 'DTXSID0047749', 'AI3-18132', 'NSC-9391', 'DTXCID4027733', 'CHEBI:165745', 'EC 203-624-3', 'METHYLCYCLOHEXANE-D11 (RING-D11)', 'Metylocykloheksan [Polish]', 'METHYLCYCLOHEXANE (USP-RS)', 'METHYLCYCLOHEXANE [USP-RS]', 'UN2296', '352431-19-7', 'methycyclohexane', '1-methylcyclohexane', '2-methylcyclohexane', 'MFCD00001497', 'MCHX', 'Methylcyclohexane, 99%', 'TOLUENE, HEXAHYDRO', 'WLN: L6TJ A1', 'METHYLCYCLOHEXANE [MI]', 'METHYLCYCLOHEXANE [HSDB]', 'NSC9391', 'Tox21_303867', 'LMFA11000660', 'Methylcyclohexane, analytical standard', 'Methylcyclohexane, anhydrous, >=99%', 'AKOS015842776', 'UN 2296', 'Methylcyclohexane, ReagentPlus(R), 99%', 'NCGC00357267-01', 'CAS-108-87-2', 'FT-0628720', 'M0190', 'M0244', 'M0627', 'Methylcyclohexane 1000 microg/mL in Methanol', 'Methylcyclohexane [UN2296]  [Flammable liquid]', 'Methylcyclohexane 100 microg/mL in Acetonitrile', 'Methylcyclohexane, spectrophotometric grade, 99%', 'A801936', 'Q419330', 'J-522692', 'InChI=1/C7H14/c1-7-5-3-2-4-6-7/h7H,2-6H2,1H', 'Methylcyclohexane, purum, absolute, over molecular sieve (H2O <=0.005%), >=98.0% (GC)'] /n\n",
      "206.37\n",
      "[] /n\n",
      "None\n",
      "None /n\n",
      "None\n",
      "None /n\n",
      "170.33\n",
      "['3,8-Dimethyldecane', 'Decane, 3,8-dimethyl-', '17312-55-9', 'DECANE,3,8-DIMETHYL-', 'DTXSID30333999', 'KMAHIPNGGSOJSM-UHFFFAOYSA-N'] /n\n"
     ]
    }
   ],
   "source": [
    "for smile in top_scaffolds[\"index\"]:\n",
    "    cmp = pubchempy.get_compounds(smile, namespace=\"smiles\")\n",
    "    print(cmp[0].molecular_weight)\n",
    "    print(cmp[0].synonyms, \"/n\")"
   ]
  },
  {
   "cell_type": "code",
   "execution_count": 10,
   "id": "90de9a67",
   "metadata": {},
   "outputs": [],
   "source": [
    "for idx, mol in enumerate(mols):\n",
    "    Draw.MolToFile(mol, f\"{FIGURE_DIR}/scaffold_{idx}.png\", size=(600, 600), dpi=400)"
   ]
  }
 ],
 "metadata": {
  "kernelspec": {
   "display_name": "patent_kg",
   "language": "python",
   "name": "python3"
  },
  "language_info": {
   "codemirror_mode": {
    "name": "ipython",
    "version": 3
   },
   "file_extension": ".py",
   "mimetype": "text/x-python",
   "name": "python",
   "nbconvert_exporter": "python",
   "pygments_lexer": "ipython3",
   "version": "3.9.15"
  }
 },
 "nbformat": 4,
 "nbformat_minor": 5
}
