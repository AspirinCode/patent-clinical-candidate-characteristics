{
 "cells": [
  {
   "cell_type": "code",
   "execution_count": 1,
   "id": "a4f92715",
   "metadata": {},
   "outputs": [],
   "source": [
    "import pandas as pd\n",
    "import numpy as np\n",
    "import os\n",
    "import re\n",
    "import gzip\n",
    "import matplotlib.pyplot as plt\n",
    "from tqdm import tqdm\n",
    "import seaborn as sns\n",
    "import matplotlib as mpl\n",
    "from rdkit import Chem\n",
    "from rdkit.Chem import AllChem\n",
    "from sklearn.manifold import TSNE\n",
    "import matplotlib.pyplot as plt\n",
    "from rdkit.Chem import Descriptors, Draw, PandasTools, MolFromSmiles\n",
    "from rdkit.Chem import rdMolDescriptors"
   ]
  },
  {
   "cell_type": "code",
   "execution_count": 2,
   "id": "82724c40",
   "metadata": {},
   "outputs": [],
   "source": [
    "mpl.rcParams['figure.dpi'] = 400\n",
    "sns.set(context='paper', style='dark')"
   ]
  },
  {
   "cell_type": "raw",
   "id": "d3e6ef29",
   "metadata": {},
   "source": [
    "column = ['SureChEMBL_ID', 'SMILES', 'PATENT_ID', 'PUBLICATION_DATE', 'Field']"
   ]
  },
  {
   "cell_type": "raw",
   "id": "c2028d43",
   "metadata": {},
   "source": [
    "file = pd.read_csv('data/EDA_df.txt.gz', sep='\\t', compression='gzip', usecols = column)"
   ]
  },
  {
   "cell_type": "raw",
   "id": "00569a09",
   "metadata": {},
   "source": [
    "year_list = []\n",
    "for row in file['PUBLICATION_DATE']:\n",
    "    g = row.split('-')[0]\n",
    "    year_list.append(g) "
   ]
  },
  {
   "cell_type": "raw",
   "id": "546d8543",
   "metadata": {},
   "source": [
    "len(year_list)"
   ]
  },
  {
   "cell_type": "raw",
   "id": "cdae234c",
   "metadata": {},
   "source": [
    "k = pd.DataFrame(year_list)\n",
    "k.columns = ['Year']"
   ]
  },
  {
   "cell_type": "raw",
   "id": "6fb2098e",
   "metadata": {},
   "source": [
    "file['Year'] = k['Year']"
   ]
  },
  {
   "cell_type": "raw",
   "id": "fb522589",
   "metadata": {},
   "source": [
    "file"
   ]
  },
  {
   "cell_type": "raw",
   "id": "55023a28",
   "metadata": {},
   "source": [
    "unique_patent_id = file.drop_duplicates(subset=[\"SureChEMBL_ID\",\"Year\"], keep='first')\n",
    "unique_patent_id.reset_index(drop=True, inplace=True)\n",
    "len(unique_patent_id)"
   ]
  },
  {
   "cell_type": "raw",
   "id": "16d4499f",
   "metadata": {},
   "source": [
    "smiles_df = unique_patent_id[['SMILES']]"
   ]
  },
  {
   "cell_type": "raw",
   "id": "c460cc36",
   "metadata": {},
   "source": [
    "smiles_df['label'] = 'Patented drugs'"
   ]
  },
  {
   "cell_type": "raw",
   "id": "20e52a9c",
   "metadata": {},
   "source": [
    "df1 = pd.read_csv('data/drugbank_approved_structure_links.csv.zip')\n",
    "len(df1) #drugbank"
   ]
  },
  {
   "cell_type": "raw",
   "id": "9e7fba9a",
   "metadata": {},
   "source": [
    "df1.head(2)"
   ]
  },
  {
   "cell_type": "raw",
   "id": "bb022aa8",
   "metadata": {},
   "source": [
    "smiles_drugbank_df = df1[['SMILES']]"
   ]
  },
  {
   "cell_type": "raw",
   "id": "7dd51997",
   "metadata": {},
   "source": [
    "smiles_drugbank_df['label'] = 'Approved drugs'"
   ]
  },
  {
   "cell_type": "raw",
   "id": "a3f3ef2a",
   "metadata": {},
   "source": [
    "result = pd.concat([smiles_df, smiles_drugbank_df], ignore_index=True, sort=False)\n",
    "len(result)"
   ]
  },
  {
   "cell_type": "raw",
   "id": "279cb6b1",
   "metadata": {},
   "source": [
    "result"
   ]
  },
  {
   "cell_type": "raw",
   "id": "752e46e7",
   "metadata": {},
   "source": [
    "result = result.drop_duplicates(subset=[\"SMILES\", \"label\"], keep='first')\n",
    "result.reset_index(drop=True, inplace=True)\n",
    "len(result)"
   ]
  },
  {
   "cell_type": "raw",
   "id": "1407a65b",
   "metadata": {},
   "source": [
    "result.head(2)"
   ]
  },
  {
   "cell_type": "raw",
   "id": "0c1ef768",
   "metadata": {},
   "source": [
    "result.dropna(subset=['SMILES'], inplace=True)\n",
    "result.reset_index(drop=True, inplace=True)"
   ]
  },
  {
   "cell_type": "raw",
   "id": "6b61bd96",
   "metadata": {},
   "source": [
    "len(result)"
   ]
  },
  {
   "cell_type": "raw",
   "id": "59a060f8",
   "metadata": {},
   "source": [
    "df1 = pd.read_csv('fingerprints_1.csv')"
   ]
  },
  {
   "cell_type": "raw",
   "id": "c9d7190b",
   "metadata": {},
   "source": [
    "df2 = pd.read_csv('fingerprints_2.csv')"
   ]
  },
  {
   "cell_type": "raw",
   "id": "d487adfa",
   "metadata": {},
   "source": [
    "result_df = pd.concat([df1,df2])\n",
    "result_df"
   ]
  },
  {
   "cell_type": "raw",
   "id": "c21934c9",
   "metadata": {},
   "source": [
    "result_df.to_csv('fingerprints.csv', index=False)"
   ]
  },
  {
   "cell_type": "raw",
   "id": "457247d5",
   "metadata": {
    "scrolled": true
   },
   "source": [
    "skipped_smiles = 0\n",
    "fingerprint_dict = {}\n",
    "\n",
    "existing_data = pd.read_csv('fingerprints_1.csv') if os.path.exists('fingerprints_1.csv') else None\n",
    "\n",
    "processed_smiles = set(existing_data['Smiles']) if existing_data is not None else set()\n",
    "\n",
    "for smiles in tqdm(result.values):\n",
    "    smiles = smiles[0]\n",
    "    if smiles in processed_smiles:\n",
    "        continue\n",
    "    try:\n",
    "        molecule = MolFromSmiles(smiles)\n",
    "        if molecule is None:\n",
    "            skipped_smiles += 1\n",
    "            continue\n",
    "        \n",
    "        fgpr = rdMolDescriptors.GetMorganFingerprintAsBitVect(molecule, 4)\n",
    "        \n",
    "        fingerprint_dict[smiles] = {\n",
    "            'fgpr': fgpr\n",
    "        }\n",
    "        \n",
    "    except:\n",
    "        skipped_smiles += 1\n",
    "        continue"
   ]
  },
  {
   "cell_type": "raw",
   "id": "15251703",
   "metadata": {},
   "source": [
    "df = pd.DataFrame.from_dict(fingerprint_dict)\n",
    "df = df.T\n",
    "df.reset_index(inplace=True)\n",
    "df.columns = ['Smiles', 'Fingerprints']\n",
    "df.to_csv('fingerprints.csv', index=False)"
   ]
  },
  {
   "cell_type": "code",
   "execution_count": 3,
   "id": "e46cf2b0",
   "metadata": {},
   "outputs": [
    {
     "data": {
      "text/html": [
       "<div>\n",
       "<style scoped>\n",
       "    .dataframe tbody tr th:only-of-type {\n",
       "        vertical-align: middle;\n",
       "    }\n",
       "\n",
       "    .dataframe tbody tr th {\n",
       "        vertical-align: top;\n",
       "    }\n",
       "\n",
       "    .dataframe thead th {\n",
       "        text-align: right;\n",
       "    }\n",
       "</style>\n",
       "<table border=\"1\" class=\"dataframe\">\n",
       "  <thead>\n",
       "    <tr style=\"text-align: right;\">\n",
       "      <th></th>\n",
       "      <th>Smiles</th>\n",
       "      <th>Fingerprints</th>\n",
       "    </tr>\n",
       "  </thead>\n",
       "  <tbody>\n",
       "    <tr>\n",
       "      <th>0</th>\n",
       "      <td>C[C@H](CS)C(=O)N1CCC[C@H]1C(O)=O</td>\n",
       "      <td>&lt;rdkit.DataStructs.cDataStructs.ExplicitBitVec...</td>\n",
       "    </tr>\n",
       "    <tr>\n",
       "      <th>1</th>\n",
       "      <td>O=C(O)\\C=C/C(=O)O.CCOC(=O)[C@H](CCC1=CC=CC=C1)...</td>\n",
       "      <td>&lt;rdkit.DataStructs.cDataStructs.ExplicitBitVec...</td>\n",
       "    </tr>\n",
       "    <tr>\n",
       "      <th>2</th>\n",
       "      <td>OC(=O)C=CC(O)=O.CCOC(=O)[C@H](CCC1=CC=CC=C1)N[...</td>\n",
       "      <td>&lt;rdkit.DataStructs.cDataStructs.ExplicitBitVec...</td>\n",
       "    </tr>\n",
       "    <tr>\n",
       "      <th>3</th>\n",
       "      <td>CCOC(=O)[C@H](CCC1=CC=CC=C1)N[C@@H](C)C(=O)N1C...</td>\n",
       "      <td>&lt;rdkit.DataStructs.cDataStructs.ExplicitBitVec...</td>\n",
       "    </tr>\n",
       "    <tr>\n",
       "      <th>4</th>\n",
       "      <td>CNCC(=O)N[C@@H](CCCNC(N)=N)C(=O)N[C@@H](C(C)C)...</td>\n",
       "      <td>&lt;rdkit.DataStructs.cDataStructs.ExplicitBitVec...</td>\n",
       "    </tr>\n",
       "    <tr>\n",
       "      <th>5</th>\n",
       "      <td>CC1=CC=C(C=C1)S(O)(=O)=O</td>\n",
       "      <td>&lt;rdkit.DataStructs.cDataStructs.ExplicitBitVec...</td>\n",
       "    </tr>\n",
       "    <tr>\n",
       "      <th>6</th>\n",
       "      <td>CCCCC1=NC(Cl)=C(CO)N1CC1=CC=C(C=C1)C1=C(C=CC=C...</td>\n",
       "      <td>&lt;rdkit.DataStructs.cDataStructs.ExplicitBitVec...</td>\n",
       "    </tr>\n",
       "    <tr>\n",
       "      <th>7</th>\n",
       "      <td>O=C(OOC(=O)C1=CC=CC=C1)C1=CC=CC=C1</td>\n",
       "      <td>&lt;rdkit.DataStructs.cDataStructs.ExplicitBitVec...</td>\n",
       "    </tr>\n",
       "    <tr>\n",
       "      <th>8</th>\n",
       "      <td>O=C1NC(=O)C2=C1C=CC=C2</td>\n",
       "      <td>&lt;rdkit.DataStructs.cDataStructs.ExplicitBitVec...</td>\n",
       "    </tr>\n",
       "    <tr>\n",
       "      <th>9</th>\n",
       "      <td>O=C(C(=O)C1=CC=CC=C1)C1=CC=CC=C1</td>\n",
       "      <td>&lt;rdkit.DataStructs.cDataStructs.ExplicitBitVec...</td>\n",
       "    </tr>\n",
       "  </tbody>\n",
       "</table>\n",
       "</div>"
      ],
      "text/plain": [
       "                                              Smiles   \n",
       "0                   C[C@H](CS)C(=O)N1CCC[C@H]1C(O)=O  \\\n",
       "1  O=C(O)\\C=C/C(=O)O.CCOC(=O)[C@H](CCC1=CC=CC=C1)...   \n",
       "2  OC(=O)C=CC(O)=O.CCOC(=O)[C@H](CCC1=CC=CC=C1)N[...   \n",
       "3  CCOC(=O)[C@H](CCC1=CC=CC=C1)N[C@@H](C)C(=O)N1C...   \n",
       "4  CNCC(=O)N[C@@H](CCCNC(N)=N)C(=O)N[C@@H](C(C)C)...   \n",
       "5                           CC1=CC=C(C=C1)S(O)(=O)=O   \n",
       "6  CCCCC1=NC(Cl)=C(CO)N1CC1=CC=C(C=C1)C1=C(C=CC=C...   \n",
       "7                 O=C(OOC(=O)C1=CC=CC=C1)C1=CC=CC=C1   \n",
       "8                             O=C1NC(=O)C2=C1C=CC=C2   \n",
       "9                   O=C(C(=O)C1=CC=CC=C1)C1=CC=CC=C1   \n",
       "\n",
       "                                        Fingerprints  \n",
       "0  <rdkit.DataStructs.cDataStructs.ExplicitBitVec...  \n",
       "1  <rdkit.DataStructs.cDataStructs.ExplicitBitVec...  \n",
       "2  <rdkit.DataStructs.cDataStructs.ExplicitBitVec...  \n",
       "3  <rdkit.DataStructs.cDataStructs.ExplicitBitVec...  \n",
       "4  <rdkit.DataStructs.cDataStructs.ExplicitBitVec...  \n",
       "5  <rdkit.DataStructs.cDataStructs.ExplicitBitVec...  \n",
       "6  <rdkit.DataStructs.cDataStructs.ExplicitBitVec...  \n",
       "7  <rdkit.DataStructs.cDataStructs.ExplicitBitVec...  \n",
       "8  <rdkit.DataStructs.cDataStructs.ExplicitBitVec...  \n",
       "9  <rdkit.DataStructs.cDataStructs.ExplicitBitVec...  "
      ]
     },
     "execution_count": 3,
     "metadata": {},
     "output_type": "execute_result"
    }
   ],
   "source": [
    "df = pd.read_csv('fingerprints.csv')\n",
    "df.head(10)"
   ]
  },
  {
   "cell_type": "code",
   "execution_count": 5,
   "id": "14b415f2",
   "metadata": {},
   "outputs": [],
   "source": [
    "fingerprints = df['Fingerprints'].values.tolist()"
   ]
  },
  {
   "cell_type": "code",
   "execution_count": 6,
   "id": "2fa8edaf",
   "metadata": {},
   "outputs": [
    {
     "ename": "ValueError",
     "evalue": "could not convert string to float: '<rdkit.DataStructs.cDataStructs.ExplicitBitVect object at 0x000001F67401B6D0>'",
     "output_type": "error",
     "traceback": [
      "\u001b[1;31m---------------------------------------------------------------------------\u001b[0m",
      "\u001b[1;31mValueError\u001b[0m                                Traceback (most recent call last)",
      "\u001b[1;32m~\\AppData\\Local\\Temp\\ipykernel_16448\\1254674841.py\u001b[0m in \u001b[0;36m<module>\u001b[1;34m\u001b[0m\n\u001b[0;32m      1\u001b[0m \u001b[0mn_components\u001b[0m \u001b[1;33m=\u001b[0m \u001b[1;36m2\u001b[0m\u001b[1;33m\u001b[0m\u001b[1;33m\u001b[0m\u001b[0m\n\u001b[0;32m      2\u001b[0m \u001b[0mtsne\u001b[0m \u001b[1;33m=\u001b[0m \u001b[0mTSNE\u001b[0m\u001b[1;33m(\u001b[0m\u001b[0mn_components\u001b[0m\u001b[1;33m)\u001b[0m\u001b[1;33m\u001b[0m\u001b[1;33m\u001b[0m\u001b[0m\n\u001b[1;32m----> 3\u001b[1;33m \u001b[0mtsne_result\u001b[0m \u001b[1;33m=\u001b[0m \u001b[0mtsne\u001b[0m\u001b[1;33m.\u001b[0m\u001b[0mfit_transform\u001b[0m\u001b[1;33m(\u001b[0m\u001b[0mfingerprints\u001b[0m\u001b[1;33m)\u001b[0m\u001b[1;33m\u001b[0m\u001b[1;33m\u001b[0m\u001b[0m\n\u001b[0m\u001b[0;32m      4\u001b[0m \u001b[0mtsne_result_df\u001b[0m \u001b[1;33m=\u001b[0m \u001b[0mpd\u001b[0m\u001b[1;33m.\u001b[0m\u001b[0mDataFrame\u001b[0m\u001b[1;33m(\u001b[0m\u001b[1;33m{\u001b[0m\u001b[1;34m'tsne_1'\u001b[0m\u001b[1;33m:\u001b[0m \u001b[0mtsne_result\u001b[0m\u001b[1;33m[\u001b[0m\u001b[1;33m:\u001b[0m\u001b[1;33m,\u001b[0m\u001b[1;36m0\u001b[0m\u001b[1;33m]\u001b[0m\u001b[1;33m,\u001b[0m \u001b[1;34m'tsne_2'\u001b[0m\u001b[1;33m:\u001b[0m \u001b[0mtsne_result\u001b[0m\u001b[1;33m[\u001b[0m\u001b[1;33m:\u001b[0m\u001b[1;33m,\u001b[0m\u001b[1;36m1\u001b[0m\u001b[1;33m]\u001b[0m\u001b[1;33m}\u001b[0m \u001b[1;33m)\u001b[0m\u001b[1;33m\u001b[0m\u001b[1;33m\u001b[0m\u001b[0m\n\u001b[0;32m      5\u001b[0m \u001b[0mtsne_result_df\u001b[0m\u001b[1;33m.\u001b[0m\u001b[0mhead\u001b[0m\u001b[1;33m(\u001b[0m\u001b[1;36m2\u001b[0m\u001b[1;33m)\u001b[0m\u001b[1;33m\u001b[0m\u001b[1;33m\u001b[0m\u001b[0m\n",
      "\u001b[1;32m~\\.openjfx\\Conda\\lib\\site-packages\\sklearn\\manifold\\_t_sne.py\u001b[0m in \u001b[0;36mfit_transform\u001b[1;34m(self, X, y)\u001b[0m\n\u001b[0;32m    930\u001b[0m             \u001b[0mEmbedding\u001b[0m \u001b[0mof\u001b[0m \u001b[0mthe\u001b[0m \u001b[0mtraining\u001b[0m \u001b[0mdata\u001b[0m \u001b[1;32min\u001b[0m \u001b[0mlow\u001b[0m\u001b[1;33m-\u001b[0m\u001b[0mdimensional\u001b[0m \u001b[0mspace\u001b[0m\u001b[1;33m.\u001b[0m\u001b[1;33m\u001b[0m\u001b[1;33m\u001b[0m\u001b[0m\n\u001b[0;32m    931\u001b[0m         \"\"\"\n\u001b[1;32m--> 932\u001b[1;33m         \u001b[0membedding\u001b[0m \u001b[1;33m=\u001b[0m \u001b[0mself\u001b[0m\u001b[1;33m.\u001b[0m\u001b[0m_fit\u001b[0m\u001b[1;33m(\u001b[0m\u001b[0mX\u001b[0m\u001b[1;33m)\u001b[0m\u001b[1;33m\u001b[0m\u001b[1;33m\u001b[0m\u001b[0m\n\u001b[0m\u001b[0;32m    933\u001b[0m         \u001b[0mself\u001b[0m\u001b[1;33m.\u001b[0m\u001b[0membedding_\u001b[0m \u001b[1;33m=\u001b[0m \u001b[0membedding\u001b[0m\u001b[1;33m\u001b[0m\u001b[1;33m\u001b[0m\u001b[0m\n\u001b[0;32m    934\u001b[0m         \u001b[1;32mreturn\u001b[0m \u001b[0mself\u001b[0m\u001b[1;33m.\u001b[0m\u001b[0membedding_\u001b[0m\u001b[1;33m\u001b[0m\u001b[1;33m\u001b[0m\u001b[0m\n",
      "\u001b[1;32m~\\.openjfx\\Conda\\lib\\site-packages\\sklearn\\manifold\\_t_sne.py\u001b[0m in \u001b[0;36m_fit\u001b[1;34m(self, X, skip_num_points)\u001b[0m\n\u001b[0;32m    700\u001b[0m             )\n\u001b[0;32m    701\u001b[0m         \u001b[1;32mif\u001b[0m \u001b[0mself\u001b[0m\u001b[1;33m.\u001b[0m\u001b[0mmethod\u001b[0m \u001b[1;33m==\u001b[0m \u001b[1;34m'barnes_hut'\u001b[0m\u001b[1;33m:\u001b[0m\u001b[1;33m\u001b[0m\u001b[1;33m\u001b[0m\u001b[0m\n\u001b[1;32m--> 702\u001b[1;33m             X = self._validate_data(X, accept_sparse=['csr'],\n\u001b[0m\u001b[0;32m    703\u001b[0m                                     \u001b[0mensure_min_samples\u001b[0m\u001b[1;33m=\u001b[0m\u001b[1;36m2\u001b[0m\u001b[1;33m,\u001b[0m\u001b[1;33m\u001b[0m\u001b[1;33m\u001b[0m\u001b[0m\n\u001b[0;32m    704\u001b[0m                                     dtype=[np.float32, np.float64])\n",
      "\u001b[1;32m~\\.openjfx\\Conda\\lib\\site-packages\\sklearn\\base.py\u001b[0m in \u001b[0;36m_validate_data\u001b[1;34m(self, X, y, reset, validate_separately, **check_params)\u001b[0m\n\u001b[0;32m    419\u001b[0m             \u001b[0mout\u001b[0m \u001b[1;33m=\u001b[0m \u001b[0mX\u001b[0m\u001b[1;33m\u001b[0m\u001b[1;33m\u001b[0m\u001b[0m\n\u001b[0;32m    420\u001b[0m         \u001b[1;32melif\u001b[0m \u001b[0misinstance\u001b[0m\u001b[1;33m(\u001b[0m\u001b[0my\u001b[0m\u001b[1;33m,\u001b[0m \u001b[0mstr\u001b[0m\u001b[1;33m)\u001b[0m \u001b[1;32mand\u001b[0m \u001b[0my\u001b[0m \u001b[1;33m==\u001b[0m \u001b[1;34m'no_validation'\u001b[0m\u001b[1;33m:\u001b[0m\u001b[1;33m\u001b[0m\u001b[1;33m\u001b[0m\u001b[0m\n\u001b[1;32m--> 421\u001b[1;33m             \u001b[0mX\u001b[0m \u001b[1;33m=\u001b[0m \u001b[0mcheck_array\u001b[0m\u001b[1;33m(\u001b[0m\u001b[0mX\u001b[0m\u001b[1;33m,\u001b[0m \u001b[1;33m**\u001b[0m\u001b[0mcheck_params\u001b[0m\u001b[1;33m)\u001b[0m\u001b[1;33m\u001b[0m\u001b[1;33m\u001b[0m\u001b[0m\n\u001b[0m\u001b[0;32m    422\u001b[0m             \u001b[0mout\u001b[0m \u001b[1;33m=\u001b[0m \u001b[0mX\u001b[0m\u001b[1;33m\u001b[0m\u001b[1;33m\u001b[0m\u001b[0m\n\u001b[0;32m    423\u001b[0m         \u001b[1;32melse\u001b[0m\u001b[1;33m:\u001b[0m\u001b[1;33m\u001b[0m\u001b[1;33m\u001b[0m\u001b[0m\n",
      "\u001b[1;32m~\\.openjfx\\Conda\\lib\\site-packages\\sklearn\\utils\\validation.py\u001b[0m in \u001b[0;36minner_f\u001b[1;34m(*args, **kwargs)\u001b[0m\n\u001b[0;32m     61\u001b[0m             \u001b[0mextra_args\u001b[0m \u001b[1;33m=\u001b[0m \u001b[0mlen\u001b[0m\u001b[1;33m(\u001b[0m\u001b[0margs\u001b[0m\u001b[1;33m)\u001b[0m \u001b[1;33m-\u001b[0m \u001b[0mlen\u001b[0m\u001b[1;33m(\u001b[0m\u001b[0mall_args\u001b[0m\u001b[1;33m)\u001b[0m\u001b[1;33m\u001b[0m\u001b[1;33m\u001b[0m\u001b[0m\n\u001b[0;32m     62\u001b[0m             \u001b[1;32mif\u001b[0m \u001b[0mextra_args\u001b[0m \u001b[1;33m<=\u001b[0m \u001b[1;36m0\u001b[0m\u001b[1;33m:\u001b[0m\u001b[1;33m\u001b[0m\u001b[1;33m\u001b[0m\u001b[0m\n\u001b[1;32m---> 63\u001b[1;33m                 \u001b[1;32mreturn\u001b[0m \u001b[0mf\u001b[0m\u001b[1;33m(\u001b[0m\u001b[1;33m*\u001b[0m\u001b[0margs\u001b[0m\u001b[1;33m,\u001b[0m \u001b[1;33m**\u001b[0m\u001b[0mkwargs\u001b[0m\u001b[1;33m)\u001b[0m\u001b[1;33m\u001b[0m\u001b[1;33m\u001b[0m\u001b[0m\n\u001b[0m\u001b[0;32m     64\u001b[0m \u001b[1;33m\u001b[0m\u001b[0m\n\u001b[0;32m     65\u001b[0m             \u001b[1;31m# extra_args > 0\u001b[0m\u001b[1;33m\u001b[0m\u001b[1;33m\u001b[0m\u001b[0m\n",
      "\u001b[1;32m~\\.openjfx\\Conda\\lib\\site-packages\\sklearn\\utils\\validation.py\u001b[0m in \u001b[0;36mcheck_array\u001b[1;34m(array, accept_sparse, accept_large_sparse, dtype, order, copy, force_all_finite, ensure_2d, allow_nd, ensure_min_samples, ensure_min_features, estimator)\u001b[0m\n\u001b[0;32m    671\u001b[0m                     \u001b[0marray\u001b[0m \u001b[1;33m=\u001b[0m \u001b[0marray\u001b[0m\u001b[1;33m.\u001b[0m\u001b[0mastype\u001b[0m\u001b[1;33m(\u001b[0m\u001b[0mdtype\u001b[0m\u001b[1;33m,\u001b[0m \u001b[0mcasting\u001b[0m\u001b[1;33m=\u001b[0m\u001b[1;34m\"unsafe\"\u001b[0m\u001b[1;33m,\u001b[0m \u001b[0mcopy\u001b[0m\u001b[1;33m=\u001b[0m\u001b[1;32mFalse\u001b[0m\u001b[1;33m)\u001b[0m\u001b[1;33m\u001b[0m\u001b[1;33m\u001b[0m\u001b[0m\n\u001b[0;32m    672\u001b[0m                 \u001b[1;32melse\u001b[0m\u001b[1;33m:\u001b[0m\u001b[1;33m\u001b[0m\u001b[1;33m\u001b[0m\u001b[0m\n\u001b[1;32m--> 673\u001b[1;33m                     \u001b[0marray\u001b[0m \u001b[1;33m=\u001b[0m \u001b[0mnp\u001b[0m\u001b[1;33m.\u001b[0m\u001b[0masarray\u001b[0m\u001b[1;33m(\u001b[0m\u001b[0marray\u001b[0m\u001b[1;33m,\u001b[0m \u001b[0morder\u001b[0m\u001b[1;33m=\u001b[0m\u001b[0morder\u001b[0m\u001b[1;33m,\u001b[0m \u001b[0mdtype\u001b[0m\u001b[1;33m=\u001b[0m\u001b[0mdtype\u001b[0m\u001b[1;33m)\u001b[0m\u001b[1;33m\u001b[0m\u001b[1;33m\u001b[0m\u001b[0m\n\u001b[0m\u001b[0;32m    674\u001b[0m             \u001b[1;32mexcept\u001b[0m \u001b[0mComplexWarning\u001b[0m \u001b[1;32mas\u001b[0m \u001b[0mcomplex_warning\u001b[0m\u001b[1;33m:\u001b[0m\u001b[1;33m\u001b[0m\u001b[1;33m\u001b[0m\u001b[0m\n\u001b[0;32m    675\u001b[0m                 raise ValueError(\"Complex data not supported\\n\"\n",
      "\u001b[1;31mValueError\u001b[0m: could not convert string to float: '<rdkit.DataStructs.cDataStructs.ExplicitBitVect object at 0x000001F67401B6D0>'"
     ]
    }
   ],
   "source": [
    "n_components = 2\n",
    "tsne = TSNE(n_components)\n",
    "tsne_result = tsne.fit_transform(fingerprints)\n",
    "tsne_result_df = pd.DataFrame({'tsne_1': tsne_result[:,0], 'tsne_2': tsne_result[:,1]} )\n",
    "tsne_result_df.head(2)"
   ]
  },
  {
   "cell_type": "code",
   "execution_count": null,
   "id": "45302822",
   "metadata": {},
   "outputs": [],
   "source": [
    "tsne_result_df['smiles'] = result['SMILES']"
   ]
  },
  {
   "cell_type": "code",
   "execution_count": null,
   "id": "02bf9916",
   "metadata": {},
   "outputs": [],
   "source": [
    "tsne_result_df['label'] = result['label']"
   ]
  },
  {
   "cell_type": "code",
   "execution_count": null,
   "id": "55e53da5",
   "metadata": {},
   "outputs": [],
   "source": [
    "len(tsne_result_df)"
   ]
  },
  {
   "cell_type": "code",
   "execution_count": null,
   "id": "1d9ae961",
   "metadata": {},
   "outputs": [],
   "source": [
    "fig, ax = plt.subplots(1)\n",
    "sns.scatterplot(x=tsne_result_df.tsne_1, y=tsne_result_df.tsne_2,s=22, hue=tsne_result_df.label, linewidth=0.2,alpha=1)\n",
    "lim = (tsne_result.min()-5, tsne_result.max()+5)\n",
    "ax.set_xlim(lim)\n",
    "ax.set_ylim(lim)\n",
    "ax.set_aspect('equal')\n",
    "ax.legend(bbox_to_anchor=(1.05, 1), loc=2, borderaxespad=0.0)"
   ]
  }
 ],
 "metadata": {
  "kernelspec": {
   "display_name": "Python 3 (ipykernel)",
   "language": "python",
   "name": "python3"
  },
  "language_info": {
   "codemirror_mode": {
    "name": "ipython",
    "version": 3
   },
   "file_extension": ".py",
   "mimetype": "text/x-python",
   "name": "python",
   "nbconvert_exporter": "python",
   "pygments_lexer": "ipython3",
   "version": "3.9.13"
  }
 },
 "nbformat": 4,
 "nbformat_minor": 5
}
